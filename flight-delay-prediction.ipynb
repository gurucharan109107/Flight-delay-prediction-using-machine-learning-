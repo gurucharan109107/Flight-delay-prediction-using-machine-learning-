{
 "cells": [
  {
   "cell_type": "markdown",
   "metadata": {
    "id": "o7jJw0uYsG1O"
   },
   "source": [
    "# Flight Delay Prediction"
   ]
  },
  {
   "cell_type": "markdown",
   "metadata": {
    "id": "jksuAG-3t2-L"
   },
   "source": [
    "![](https://frontera.net/wp-content/uploads/2017/11/bigstock-Landscape-With-White-Passenger-192652528.jpg)"
   ]
  },
  {
   "cell_type": "markdown",
   "metadata": {
    "id": "rL9pyG_bt2-N"
   },
   "source": [
    "image source (https://frontera.net)"
   ]
  },
  {
   "cell_type": "markdown",
   "metadata": {
    "id": "TmTKj2B-t2-Q"
   },
   "source": [
    "Predicting flight delay can help passengers and other stakeholders in great a way to better utilize their time or make different plans. Here a Kaggle dataset is used for such flight delay prediction (https://www.kaggle.com/divyansh22/flight-delay-prediction). The data is month of January from the Bureau of Transportation Statistics, Govt. of the USA. This dataset contains all the flights in the month of January 2019 and January 2020."
   ]
  },
  {
   "cell_type": "markdown",
   "metadata": {
    "id": "kNmLwquTt2-S"
   },
   "source": [
    "The following steps are followed in this project:\n",
    "- Downloading a real-world dataset from a Kaggle competition\n",
    "- Formulate the problem, understand the dataset description, and describe the modeling objective.\n",
    "- Perform exploratory data analysis, gather insights, perform feature engineering, create a training, validation & test  split, and prepare the data for modeling.\n",
    "- Train & evaluate different machine learning models, tune hyperparameters to improve models.\n",
    "- Report the final performance of best model(s), show sample predictions, and save model weights. \n",
    "- Summary of the work, links to references, ideas for future work.\n"
   ]
  },
  {
   "cell_type": "markdown",
   "metadata": {
    "id": "JGxQOTlIt2-U"
   },
   "source": [
    "## Install Required Libraries"
   ]
  },
  {
   "cell_type": "code",
   "execution_count": 1,
   "metadata": {
    "executionInfo": {
     "elapsed": 3449,
     "status": "ok",
     "timestamp": 1627619965056,
     "user": {
      "displayName": "PREMCHAND R",
      "photoUrl": "",
      "userId": "03324294809057007804"
     },
     "user_tz": -330
    },
    "id": "iD_MNT3gsG1R"
   },
   "outputs": [],
   "source": [
    "!pip install numpy pandas matplotlib seaborn --quiet"
   ]
  },
  {
   "cell_type": "code",
   "execution_count": 2,
   "metadata": {
    "executionInfo": {
     "elapsed": 3516,
     "status": "ok",
     "timestamp": 1627619970794,
     "user": {
      "displayName": "PREMCHAND R",
      "photoUrl": "",
      "userId": "03324294809057007804"
     },
     "user_tz": -330
    },
    "id": "1scz-coJsG1S"
   },
   "outputs": [],
   "source": [
    "!pip install opendatasets xgboost graphviz lightgbm scikit-learn --upgrade --quiet"
   ]
  },
  {
   "cell_type": "code",
   "execution_count": 3,
   "metadata": {
    "executionInfo": {
     "elapsed": 718,
     "status": "ok",
     "timestamp": 1627619974701,
     "user": {
      "displayName": "PREMCHAND R",
      "photoUrl": "",
      "userId": "03324294809057007804"
     },
     "user_tz": -330
    },
    "id": "dXOFsAHhsG1S"
   },
   "outputs": [],
   "source": [
    "import numpy as np\n",
    "import pandas as pd\n",
    "import opendatasets as od\n",
    "import os\n",
    "pd.set_option(\"display.max_columns\", 120)\n",
    "pd.set_option(\"display.max_rows\", 120)"
   ]
  },
  {
   "cell_type": "code",
   "execution_count": 4,
   "metadata": {
    "executionInfo": {
     "elapsed": 10,
     "status": "ok",
     "timestamp": 1627619977060,
     "user": {
      "displayName": "PREMCHAND R",
      "photoUrl": "",
      "userId": "03324294809057007804"
     },
     "user_tz": -330
    },
    "id": "BU9hqQvHt2-i"
   },
   "outputs": [],
   "source": [
    "import matplotlib.pyplot as plt\n",
    "import seaborn as sns\n",
    "import matplotlib\n",
    "import os\n",
    "%matplotlib inline\n",
    "\n",
    "sns.set_style('darkgrid')\n",
    "matplotlib.rcParams['font.size'] = 14\n",
    "matplotlib.rcParams['figure.figsize'] = (10, 6)\n",
    "matplotlib.rcParams['figure.facecolor'] = '#00000000'"
   ]
  },
  {
   "cell_type": "markdown",
   "metadata": {
    "id": "zfuFAlzkt2-o"
   },
   "source": [
    "## Download Dataset"
   ]
  },
  {
   "cell_type": "markdown",
   "metadata": {
    "id": "JEmY8p3Ut2-o"
   },
   "source": [
    "The dataset can be downloaded from Kaggle directly within the Jupyter notebook using the opendatasets library. Kaggle credentials are to be provided for downloading."
   ]
  },
  {
   "cell_type": "code",
   "execution_count": 5,
   "metadata": {
    "colab": {
     "base_uri": "https://localhost:8080/"
    },
    "executionInfo": {
     "elapsed": 14146,
     "status": "ok",
     "timestamp": 1627611685626,
     "user": {
      "displayName": "PREMCHAND R",
      "photoUrl": "",
      "userId": "03324294809057007804"
     },
     "user_tz": -330
    },
    "id": "SPkyoA4psG1T",
    "outputId": "8a9b50a8-79a7-4069-8a11-94dc6754d2a1"
   },
   "outputs": [
    {
     "name": "stdout",
     "output_type": "stream",
     "text": [
      "Skipping, found downloaded files in \".\\flight-delay-prediction\" (use force=True to force download)\n"
     ]
    }
   ],
   "source": [
    "od.download('https://www.kaggle.com/divyansh22/flight-delay-prediction')"
   ]
  },
  {
   "cell_type": "code",
   "execution_count": 6,
   "metadata": {
    "colab": {
     "base_uri": "https://localhost:8080/"
    },
    "executionInfo": {
     "elapsed": 627,
     "status": "ok",
     "timestamp": 1627620020948,
     "user": {
      "displayName": "PREMCHAND R",
      "photoUrl": "",
      "userId": "03324294809057007804"
     },
     "user_tz": -330
    },
    "id": "0h-NJIIPsG1V",
    "outputId": "b0b2d02c-37c1-4c19-a75e-a8df3f0c03a6"
   },
   "outputs": [
    {
     "data": {
      "text/plain": [
       "['Jan_2019_ontime.csv', 'Jan_2020_ontime.csv']"
      ]
     },
     "execution_count": 6,
     "metadata": {},
     "output_type": "execute_result"
    }
   ],
   "source": [
    "os.listdir('flight-delay-prediction')"
   ]
  },
  {
   "cell_type": "markdown",
   "metadata": {
    "id": "4XwkiB7nt2-s"
   },
   "source": [
    "There are two 'csv' files for data from Jan 2019 and Jan 2020, now we can load the data into pandas dataframes."
   ]
  },
  {
   "cell_type": "code",
   "execution_count": 7,
   "metadata": {
    "executionInfo": {
     "elapsed": 3003,
     "status": "ok",
     "timestamp": 1627620082817,
     "user": {
      "displayName": "PREMCHAND R",
      "photoUrl": "",
      "userId": "03324294809057007804"
     },
     "user_tz": -330
    },
    "id": "w-HZR8pIsG1W"
   },
   "outputs": [],
   "source": [
    "jan_2019_df = pd.read_csv('./flight-delay-prediction/Jan_2019_ontime.csv')\n",
    "jan_2020_df = pd.read_csv('./flight-delay-prediction/Jan_2020_ontime.csv')"
   ]
  },
  {
   "cell_type": "code",
   "execution_count": 8,
   "metadata": {
    "colab": {
     "base_uri": "https://localhost:8080/",
     "height": 243
    },
    "executionInfo": {
     "elapsed": 593,
     "status": "ok",
     "timestamp": 1627620086282,
     "user": {
      "displayName": "PREMCHAND R",
      "photoUrl": "",
      "userId": "03324294809057007804"
     },
     "user_tz": -330
    },
    "id": "CLBkWmJGsG1X",
    "outputId": "9c03f6b9-1a58-4f90-9627-c61477e02e97"
   },
   "outputs": [
    {
     "data": {
      "text/html": [
       "<div>\n",
       "<style scoped>\n",
       "    .dataframe tbody tr th:only-of-type {\n",
       "        vertical-align: middle;\n",
       "    }\n",
       "\n",
       "    .dataframe tbody tr th {\n",
       "        vertical-align: top;\n",
       "    }\n",
       "\n",
       "    .dataframe thead th {\n",
       "        text-align: right;\n",
       "    }\n",
       "</style>\n",
       "<table border=\"1\" class=\"dataframe\">\n",
       "  <thead>\n",
       "    <tr style=\"text-align: right;\">\n",
       "      <th></th>\n",
       "      <th>DAY_OF_MONTH</th>\n",
       "      <th>DAY_OF_WEEK</th>\n",
       "      <th>OP_UNIQUE_CARRIER</th>\n",
       "      <th>OP_CARRIER_AIRLINE_ID</th>\n",
       "      <th>OP_CARRIER</th>\n",
       "      <th>TAIL_NUM</th>\n",
       "      <th>OP_CARRIER_FL_NUM</th>\n",
       "      <th>ORIGIN_AIRPORT_ID</th>\n",
       "      <th>ORIGIN_AIRPORT_SEQ_ID</th>\n",
       "      <th>ORIGIN</th>\n",
       "      <th>DEST_AIRPORT_ID</th>\n",
       "      <th>DEST_AIRPORT_SEQ_ID</th>\n",
       "      <th>DEST</th>\n",
       "      <th>DEP_TIME</th>\n",
       "      <th>DEP_DEL15</th>\n",
       "      <th>DEP_TIME_BLK</th>\n",
       "      <th>ARR_TIME</th>\n",
       "      <th>ARR_DEL15</th>\n",
       "      <th>CANCELLED</th>\n",
       "      <th>DIVERTED</th>\n",
       "      <th>DISTANCE</th>\n",
       "      <th>Unnamed: 21</th>\n",
       "    </tr>\n",
       "  </thead>\n",
       "  <tbody>\n",
       "    <tr>\n",
       "      <th>0</th>\n",
       "      <td>1</td>\n",
       "      <td>2</td>\n",
       "      <td>9E</td>\n",
       "      <td>20363</td>\n",
       "      <td>9E</td>\n",
       "      <td>N8688C</td>\n",
       "      <td>3280</td>\n",
       "      <td>11953</td>\n",
       "      <td>1195302</td>\n",
       "      <td>GNV</td>\n",
       "      <td>10397</td>\n",
       "      <td>1039707</td>\n",
       "      <td>ATL</td>\n",
       "      <td>601.0</td>\n",
       "      <td>0.0</td>\n",
       "      <td>0600-0659</td>\n",
       "      <td>722.0</td>\n",
       "      <td>0.0</td>\n",
       "      <td>0.0</td>\n",
       "      <td>0.0</td>\n",
       "      <td>300.0</td>\n",
       "      <td>NaN</td>\n",
       "    </tr>\n",
       "    <tr>\n",
       "      <th>1</th>\n",
       "      <td>1</td>\n",
       "      <td>2</td>\n",
       "      <td>9E</td>\n",
       "      <td>20363</td>\n",
       "      <td>9E</td>\n",
       "      <td>N348PQ</td>\n",
       "      <td>3281</td>\n",
       "      <td>13487</td>\n",
       "      <td>1348702</td>\n",
       "      <td>MSP</td>\n",
       "      <td>11193</td>\n",
       "      <td>1119302</td>\n",
       "      <td>CVG</td>\n",
       "      <td>1359.0</td>\n",
       "      <td>0.0</td>\n",
       "      <td>1400-1459</td>\n",
       "      <td>1633.0</td>\n",
       "      <td>0.0</td>\n",
       "      <td>0.0</td>\n",
       "      <td>0.0</td>\n",
       "      <td>596.0</td>\n",
       "      <td>NaN</td>\n",
       "    </tr>\n",
       "    <tr>\n",
       "      <th>2</th>\n",
       "      <td>1</td>\n",
       "      <td>2</td>\n",
       "      <td>9E</td>\n",
       "      <td>20363</td>\n",
       "      <td>9E</td>\n",
       "      <td>N8896A</td>\n",
       "      <td>3282</td>\n",
       "      <td>11433</td>\n",
       "      <td>1143302</td>\n",
       "      <td>DTW</td>\n",
       "      <td>11193</td>\n",
       "      <td>1119302</td>\n",
       "      <td>CVG</td>\n",
       "      <td>1215.0</td>\n",
       "      <td>0.0</td>\n",
       "      <td>1200-1259</td>\n",
       "      <td>1329.0</td>\n",
       "      <td>0.0</td>\n",
       "      <td>0.0</td>\n",
       "      <td>0.0</td>\n",
       "      <td>229.0</td>\n",
       "      <td>NaN</td>\n",
       "    </tr>\n",
       "    <tr>\n",
       "      <th>3</th>\n",
       "      <td>1</td>\n",
       "      <td>2</td>\n",
       "      <td>9E</td>\n",
       "      <td>20363</td>\n",
       "      <td>9E</td>\n",
       "      <td>N8886A</td>\n",
       "      <td>3283</td>\n",
       "      <td>15249</td>\n",
       "      <td>1524906</td>\n",
       "      <td>TLH</td>\n",
       "      <td>10397</td>\n",
       "      <td>1039707</td>\n",
       "      <td>ATL</td>\n",
       "      <td>1521.0</td>\n",
       "      <td>0.0</td>\n",
       "      <td>1500-1559</td>\n",
       "      <td>1625.0</td>\n",
       "      <td>0.0</td>\n",
       "      <td>0.0</td>\n",
       "      <td>0.0</td>\n",
       "      <td>223.0</td>\n",
       "      <td>NaN</td>\n",
       "    </tr>\n",
       "    <tr>\n",
       "      <th>4</th>\n",
       "      <td>1</td>\n",
       "      <td>2</td>\n",
       "      <td>9E</td>\n",
       "      <td>20363</td>\n",
       "      <td>9E</td>\n",
       "      <td>N8974C</td>\n",
       "      <td>3284</td>\n",
       "      <td>10397</td>\n",
       "      <td>1039707</td>\n",
       "      <td>ATL</td>\n",
       "      <td>11778</td>\n",
       "      <td>1177801</td>\n",
       "      <td>FSM</td>\n",
       "      <td>1847.0</td>\n",
       "      <td>0.0</td>\n",
       "      <td>1900-1959</td>\n",
       "      <td>1940.0</td>\n",
       "      <td>0.0</td>\n",
       "      <td>0.0</td>\n",
       "      <td>0.0</td>\n",
       "      <td>579.0</td>\n",
       "      <td>NaN</td>\n",
       "    </tr>\n",
       "  </tbody>\n",
       "</table>\n",
       "</div>"
      ],
      "text/plain": [
       "   DAY_OF_MONTH  DAY_OF_WEEK OP_UNIQUE_CARRIER  OP_CARRIER_AIRLINE_ID  \\\n",
       "0             1            2                9E                  20363   \n",
       "1             1            2                9E                  20363   \n",
       "2             1            2                9E                  20363   \n",
       "3             1            2                9E                  20363   \n",
       "4             1            2                9E                  20363   \n",
       "\n",
       "  OP_CARRIER TAIL_NUM  OP_CARRIER_FL_NUM  ORIGIN_AIRPORT_ID  \\\n",
       "0         9E   N8688C               3280              11953   \n",
       "1         9E   N348PQ               3281              13487   \n",
       "2         9E   N8896A               3282              11433   \n",
       "3         9E   N8886A               3283              15249   \n",
       "4         9E   N8974C               3284              10397   \n",
       "\n",
       "   ORIGIN_AIRPORT_SEQ_ID ORIGIN  DEST_AIRPORT_ID  DEST_AIRPORT_SEQ_ID DEST  \\\n",
       "0                1195302    GNV            10397              1039707  ATL   \n",
       "1                1348702    MSP            11193              1119302  CVG   \n",
       "2                1143302    DTW            11193              1119302  CVG   \n",
       "3                1524906    TLH            10397              1039707  ATL   \n",
       "4                1039707    ATL            11778              1177801  FSM   \n",
       "\n",
       "   DEP_TIME  DEP_DEL15 DEP_TIME_BLK  ARR_TIME  ARR_DEL15  CANCELLED  DIVERTED  \\\n",
       "0     601.0        0.0    0600-0659     722.0        0.0        0.0       0.0   \n",
       "1    1359.0        0.0    1400-1459    1633.0        0.0        0.0       0.0   \n",
       "2    1215.0        0.0    1200-1259    1329.0        0.0        0.0       0.0   \n",
       "3    1521.0        0.0    1500-1559    1625.0        0.0        0.0       0.0   \n",
       "4    1847.0        0.0    1900-1959    1940.0        0.0        0.0       0.0   \n",
       "\n",
       "   DISTANCE  Unnamed: 21  \n",
       "0     300.0          NaN  \n",
       "1     596.0          NaN  \n",
       "2     229.0          NaN  \n",
       "3     223.0          NaN  \n",
       "4     579.0          NaN  "
      ]
     },
     "execution_count": 8,
     "metadata": {},
     "output_type": "execute_result"
    }
   ],
   "source": [
    "jan_2019_df.head(5)"
   ]
  },
  {
   "cell_type": "code",
   "execution_count": 9,
   "metadata": {
    "colab": {
     "base_uri": "https://localhost:8080/",
     "height": 243
    },
    "executionInfo": {
     "elapsed": 493,
     "status": "ok",
     "timestamp": 1627620089319,
     "user": {
      "displayName": "PREMCHAND R",
      "photoUrl": "",
      "userId": "03324294809057007804"
     },
     "user_tz": -330
    },
    "id": "wKWdYpiCsG1Y",
    "outputId": "ad814797-f74c-4a03-83d7-d4212b41b268"
   },
   "outputs": [
    {
     "data": {
      "text/html": [
       "<div>\n",
       "<style scoped>\n",
       "    .dataframe tbody tr th:only-of-type {\n",
       "        vertical-align: middle;\n",
       "    }\n",
       "\n",
       "    .dataframe tbody tr th {\n",
       "        vertical-align: top;\n",
       "    }\n",
       "\n",
       "    .dataframe thead th {\n",
       "        text-align: right;\n",
       "    }\n",
       "</style>\n",
       "<table border=\"1\" class=\"dataframe\">\n",
       "  <thead>\n",
       "    <tr style=\"text-align: right;\">\n",
       "      <th></th>\n",
       "      <th>DAY_OF_MONTH</th>\n",
       "      <th>DAY_OF_WEEK</th>\n",
       "      <th>OP_UNIQUE_CARRIER</th>\n",
       "      <th>OP_CARRIER_AIRLINE_ID</th>\n",
       "      <th>OP_CARRIER</th>\n",
       "      <th>TAIL_NUM</th>\n",
       "      <th>OP_CARRIER_FL_NUM</th>\n",
       "      <th>ORIGIN_AIRPORT_ID</th>\n",
       "      <th>ORIGIN_AIRPORT_SEQ_ID</th>\n",
       "      <th>ORIGIN</th>\n",
       "      <th>DEST_AIRPORT_ID</th>\n",
       "      <th>DEST_AIRPORT_SEQ_ID</th>\n",
       "      <th>DEST</th>\n",
       "      <th>DEP_TIME</th>\n",
       "      <th>DEP_DEL15</th>\n",
       "      <th>DEP_TIME_BLK</th>\n",
       "      <th>ARR_TIME</th>\n",
       "      <th>ARR_DEL15</th>\n",
       "      <th>CANCELLED</th>\n",
       "      <th>DIVERTED</th>\n",
       "      <th>DISTANCE</th>\n",
       "      <th>Unnamed: 21</th>\n",
       "    </tr>\n",
       "  </thead>\n",
       "  <tbody>\n",
       "    <tr>\n",
       "      <th>0</th>\n",
       "      <td>1</td>\n",
       "      <td>3</td>\n",
       "      <td>EV</td>\n",
       "      <td>20366</td>\n",
       "      <td>EV</td>\n",
       "      <td>N48901</td>\n",
       "      <td>4397</td>\n",
       "      <td>13930</td>\n",
       "      <td>1393007</td>\n",
       "      <td>ORD</td>\n",
       "      <td>11977</td>\n",
       "      <td>1197705</td>\n",
       "      <td>GRB</td>\n",
       "      <td>1003.0</td>\n",
       "      <td>0.0</td>\n",
       "      <td>1000-1059</td>\n",
       "      <td>1117.0</td>\n",
       "      <td>0.0</td>\n",
       "      <td>0.0</td>\n",
       "      <td>0.0</td>\n",
       "      <td>174.0</td>\n",
       "      <td>NaN</td>\n",
       "    </tr>\n",
       "    <tr>\n",
       "      <th>1</th>\n",
       "      <td>1</td>\n",
       "      <td>3</td>\n",
       "      <td>EV</td>\n",
       "      <td>20366</td>\n",
       "      <td>EV</td>\n",
       "      <td>N16976</td>\n",
       "      <td>4401</td>\n",
       "      <td>15370</td>\n",
       "      <td>1537002</td>\n",
       "      <td>TUL</td>\n",
       "      <td>13930</td>\n",
       "      <td>1393007</td>\n",
       "      <td>ORD</td>\n",
       "      <td>1027.0</td>\n",
       "      <td>0.0</td>\n",
       "      <td>1000-1059</td>\n",
       "      <td>1216.0</td>\n",
       "      <td>0.0</td>\n",
       "      <td>0.0</td>\n",
       "      <td>0.0</td>\n",
       "      <td>585.0</td>\n",
       "      <td>NaN</td>\n",
       "    </tr>\n",
       "    <tr>\n",
       "      <th>2</th>\n",
       "      <td>1</td>\n",
       "      <td>3</td>\n",
       "      <td>EV</td>\n",
       "      <td>20366</td>\n",
       "      <td>EV</td>\n",
       "      <td>N12167</td>\n",
       "      <td>4404</td>\n",
       "      <td>11618</td>\n",
       "      <td>1161802</td>\n",
       "      <td>EWR</td>\n",
       "      <td>15412</td>\n",
       "      <td>1541205</td>\n",
       "      <td>TYS</td>\n",
       "      <td>1848.0</td>\n",
       "      <td>0.0</td>\n",
       "      <td>1800-1859</td>\n",
       "      <td>2120.0</td>\n",
       "      <td>0.0</td>\n",
       "      <td>0.0</td>\n",
       "      <td>0.0</td>\n",
       "      <td>631.0</td>\n",
       "      <td>NaN</td>\n",
       "    </tr>\n",
       "    <tr>\n",
       "      <th>3</th>\n",
       "      <td>1</td>\n",
       "      <td>3</td>\n",
       "      <td>EV</td>\n",
       "      <td>20366</td>\n",
       "      <td>EV</td>\n",
       "      <td>N14902</td>\n",
       "      <td>4405</td>\n",
       "      <td>10781</td>\n",
       "      <td>1078105</td>\n",
       "      <td>BTR</td>\n",
       "      <td>12266</td>\n",
       "      <td>1226603</td>\n",
       "      <td>IAH</td>\n",
       "      <td>1846.0</td>\n",
       "      <td>0.0</td>\n",
       "      <td>1800-1859</td>\n",
       "      <td>2004.0</td>\n",
       "      <td>0.0</td>\n",
       "      <td>0.0</td>\n",
       "      <td>0.0</td>\n",
       "      <td>253.0</td>\n",
       "      <td>NaN</td>\n",
       "    </tr>\n",
       "    <tr>\n",
       "      <th>4</th>\n",
       "      <td>1</td>\n",
       "      <td>3</td>\n",
       "      <td>EV</td>\n",
       "      <td>20366</td>\n",
       "      <td>EV</td>\n",
       "      <td>N606UX</td>\n",
       "      <td>4407</td>\n",
       "      <td>14524</td>\n",
       "      <td>1452401</td>\n",
       "      <td>RIC</td>\n",
       "      <td>12266</td>\n",
       "      <td>1226603</td>\n",
       "      <td>IAH</td>\n",
       "      <td>1038.0</td>\n",
       "      <td>0.0</td>\n",
       "      <td>1000-1059</td>\n",
       "      <td>1330.0</td>\n",
       "      <td>0.0</td>\n",
       "      <td>0.0</td>\n",
       "      <td>0.0</td>\n",
       "      <td>1157.0</td>\n",
       "      <td>NaN</td>\n",
       "    </tr>\n",
       "  </tbody>\n",
       "</table>\n",
       "</div>"
      ],
      "text/plain": [
       "   DAY_OF_MONTH  DAY_OF_WEEK OP_UNIQUE_CARRIER  OP_CARRIER_AIRLINE_ID  \\\n",
       "0             1            3                EV                  20366   \n",
       "1             1            3                EV                  20366   \n",
       "2             1            3                EV                  20366   \n",
       "3             1            3                EV                  20366   \n",
       "4             1            3                EV                  20366   \n",
       "\n",
       "  OP_CARRIER TAIL_NUM  OP_CARRIER_FL_NUM  ORIGIN_AIRPORT_ID  \\\n",
       "0         EV   N48901               4397              13930   \n",
       "1         EV   N16976               4401              15370   \n",
       "2         EV   N12167               4404              11618   \n",
       "3         EV   N14902               4405              10781   \n",
       "4         EV   N606UX               4407              14524   \n",
       "\n",
       "   ORIGIN_AIRPORT_SEQ_ID ORIGIN  DEST_AIRPORT_ID  DEST_AIRPORT_SEQ_ID DEST  \\\n",
       "0                1393007    ORD            11977              1197705  GRB   \n",
       "1                1537002    TUL            13930              1393007  ORD   \n",
       "2                1161802    EWR            15412              1541205  TYS   \n",
       "3                1078105    BTR            12266              1226603  IAH   \n",
       "4                1452401    RIC            12266              1226603  IAH   \n",
       "\n",
       "   DEP_TIME  DEP_DEL15 DEP_TIME_BLK  ARR_TIME  ARR_DEL15  CANCELLED  DIVERTED  \\\n",
       "0    1003.0        0.0    1000-1059    1117.0        0.0        0.0       0.0   \n",
       "1    1027.0        0.0    1000-1059    1216.0        0.0        0.0       0.0   \n",
       "2    1848.0        0.0    1800-1859    2120.0        0.0        0.0       0.0   \n",
       "3    1846.0        0.0    1800-1859    2004.0        0.0        0.0       0.0   \n",
       "4    1038.0        0.0    1000-1059    1330.0        0.0        0.0       0.0   \n",
       "\n",
       "   DISTANCE  Unnamed: 21  \n",
       "0     174.0          NaN  \n",
       "1     585.0          NaN  \n",
       "2     631.0          NaN  \n",
       "3     253.0          NaN  \n",
       "4    1157.0          NaN  "
      ]
     },
     "execution_count": 9,
     "metadata": {},
     "output_type": "execute_result"
    }
   ],
   "source": [
    "jan_2020_df.head(5)"
   ]
  },
  {
   "cell_type": "markdown",
   "metadata": {
    "id": "iKj1PDg3t2-x"
   },
   "source": [
    "Now we can combine the data from two dataframes into a new dataframe for further processing. Concatenation along row axis is done here."
   ]
  },
  {
   "cell_type": "code",
   "execution_count": 10,
   "metadata": {
    "colab": {
     "base_uri": "https://localhost:8080/",
     "height": 461
    },
    "executionInfo": {
     "elapsed": 1188,
     "status": "ok",
     "timestamp": 1627620094680,
     "user": {
      "displayName": "PREMCHAND R",
      "photoUrl": "",
      "userId": "03324294809057007804"
     },
     "user_tz": -330
    },
    "id": "TbOI6buct2-y",
    "outputId": "beb74aa9-ad2f-4203-fd6b-973972dc2d2a"
   },
   "outputs": [
    {
     "data": {
      "text/html": [
       "<div>\n",
       "<style scoped>\n",
       "    .dataframe tbody tr th:only-of-type {\n",
       "        vertical-align: middle;\n",
       "    }\n",
       "\n",
       "    .dataframe tbody tr th {\n",
       "        vertical-align: top;\n",
       "    }\n",
       "\n",
       "    .dataframe thead th {\n",
       "        text-align: right;\n",
       "    }\n",
       "</style>\n",
       "<table border=\"1\" class=\"dataframe\">\n",
       "  <thead>\n",
       "    <tr style=\"text-align: right;\">\n",
       "      <th></th>\n",
       "      <th>DAY_OF_MONTH</th>\n",
       "      <th>DAY_OF_WEEK</th>\n",
       "      <th>OP_UNIQUE_CARRIER</th>\n",
       "      <th>OP_CARRIER_AIRLINE_ID</th>\n",
       "      <th>OP_CARRIER</th>\n",
       "      <th>TAIL_NUM</th>\n",
       "      <th>OP_CARRIER_FL_NUM</th>\n",
       "      <th>ORIGIN_AIRPORT_ID</th>\n",
       "      <th>ORIGIN_AIRPORT_SEQ_ID</th>\n",
       "      <th>ORIGIN</th>\n",
       "      <th>DEST_AIRPORT_ID</th>\n",
       "      <th>DEST_AIRPORT_SEQ_ID</th>\n",
       "      <th>DEST</th>\n",
       "      <th>DEP_TIME</th>\n",
       "      <th>DEP_DEL15</th>\n",
       "      <th>DEP_TIME_BLK</th>\n",
       "      <th>ARR_TIME</th>\n",
       "      <th>ARR_DEL15</th>\n",
       "      <th>CANCELLED</th>\n",
       "      <th>DIVERTED</th>\n",
       "      <th>DISTANCE</th>\n",
       "      <th>Unnamed: 21</th>\n",
       "    </tr>\n",
       "  </thead>\n",
       "  <tbody>\n",
       "    <tr>\n",
       "      <th>0</th>\n",
       "      <td>1</td>\n",
       "      <td>2</td>\n",
       "      <td>9E</td>\n",
       "      <td>20363</td>\n",
       "      <td>9E</td>\n",
       "      <td>N8688C</td>\n",
       "      <td>3280</td>\n",
       "      <td>11953</td>\n",
       "      <td>1195302</td>\n",
       "      <td>GNV</td>\n",
       "      <td>10397</td>\n",
       "      <td>1039707</td>\n",
       "      <td>ATL</td>\n",
       "      <td>601.0</td>\n",
       "      <td>0.0</td>\n",
       "      <td>0600-0659</td>\n",
       "      <td>722.0</td>\n",
       "      <td>0.0</td>\n",
       "      <td>0.0</td>\n",
       "      <td>0.0</td>\n",
       "      <td>300.0</td>\n",
       "      <td>NaN</td>\n",
       "    </tr>\n",
       "    <tr>\n",
       "      <th>1</th>\n",
       "      <td>1</td>\n",
       "      <td>2</td>\n",
       "      <td>9E</td>\n",
       "      <td>20363</td>\n",
       "      <td>9E</td>\n",
       "      <td>N348PQ</td>\n",
       "      <td>3281</td>\n",
       "      <td>13487</td>\n",
       "      <td>1348702</td>\n",
       "      <td>MSP</td>\n",
       "      <td>11193</td>\n",
       "      <td>1119302</td>\n",
       "      <td>CVG</td>\n",
       "      <td>1359.0</td>\n",
       "      <td>0.0</td>\n",
       "      <td>1400-1459</td>\n",
       "      <td>1633.0</td>\n",
       "      <td>0.0</td>\n",
       "      <td>0.0</td>\n",
       "      <td>0.0</td>\n",
       "      <td>596.0</td>\n",
       "      <td>NaN</td>\n",
       "    </tr>\n",
       "    <tr>\n",
       "      <th>2</th>\n",
       "      <td>1</td>\n",
       "      <td>2</td>\n",
       "      <td>9E</td>\n",
       "      <td>20363</td>\n",
       "      <td>9E</td>\n",
       "      <td>N8896A</td>\n",
       "      <td>3282</td>\n",
       "      <td>11433</td>\n",
       "      <td>1143302</td>\n",
       "      <td>DTW</td>\n",
       "      <td>11193</td>\n",
       "      <td>1119302</td>\n",
       "      <td>CVG</td>\n",
       "      <td>1215.0</td>\n",
       "      <td>0.0</td>\n",
       "      <td>1200-1259</td>\n",
       "      <td>1329.0</td>\n",
       "      <td>0.0</td>\n",
       "      <td>0.0</td>\n",
       "      <td>0.0</td>\n",
       "      <td>229.0</td>\n",
       "      <td>NaN</td>\n",
       "    </tr>\n",
       "    <tr>\n",
       "      <th>3</th>\n",
       "      <td>1</td>\n",
       "      <td>2</td>\n",
       "      <td>9E</td>\n",
       "      <td>20363</td>\n",
       "      <td>9E</td>\n",
       "      <td>N8886A</td>\n",
       "      <td>3283</td>\n",
       "      <td>15249</td>\n",
       "      <td>1524906</td>\n",
       "      <td>TLH</td>\n",
       "      <td>10397</td>\n",
       "      <td>1039707</td>\n",
       "      <td>ATL</td>\n",
       "      <td>1521.0</td>\n",
       "      <td>0.0</td>\n",
       "      <td>1500-1559</td>\n",
       "      <td>1625.0</td>\n",
       "      <td>0.0</td>\n",
       "      <td>0.0</td>\n",
       "      <td>0.0</td>\n",
       "      <td>223.0</td>\n",
       "      <td>NaN</td>\n",
       "    </tr>\n",
       "    <tr>\n",
       "      <th>4</th>\n",
       "      <td>1</td>\n",
       "      <td>2</td>\n",
       "      <td>9E</td>\n",
       "      <td>20363</td>\n",
       "      <td>9E</td>\n",
       "      <td>N8974C</td>\n",
       "      <td>3284</td>\n",
       "      <td>10397</td>\n",
       "      <td>1039707</td>\n",
       "      <td>ATL</td>\n",
       "      <td>11778</td>\n",
       "      <td>1177801</td>\n",
       "      <td>FSM</td>\n",
       "      <td>1847.0</td>\n",
       "      <td>0.0</td>\n",
       "      <td>1900-1959</td>\n",
       "      <td>1940.0</td>\n",
       "      <td>0.0</td>\n",
       "      <td>0.0</td>\n",
       "      <td>0.0</td>\n",
       "      <td>579.0</td>\n",
       "      <td>NaN</td>\n",
       "    </tr>\n",
       "    <tr>\n",
       "      <th>...</th>\n",
       "      <td>...</td>\n",
       "      <td>...</td>\n",
       "      <td>...</td>\n",
       "      <td>...</td>\n",
       "      <td>...</td>\n",
       "      <td>...</td>\n",
       "      <td>...</td>\n",
       "      <td>...</td>\n",
       "      <td>...</td>\n",
       "      <td>...</td>\n",
       "      <td>...</td>\n",
       "      <td>...</td>\n",
       "      <td>...</td>\n",
       "      <td>...</td>\n",
       "      <td>...</td>\n",
       "      <td>...</td>\n",
       "      <td>...</td>\n",
       "      <td>...</td>\n",
       "      <td>...</td>\n",
       "      <td>...</td>\n",
       "      <td>...</td>\n",
       "      <td>...</td>\n",
       "    </tr>\n",
       "    <tr>\n",
       "      <th>1191326</th>\n",
       "      <td>31</td>\n",
       "      <td>5</td>\n",
       "      <td>9E</td>\n",
       "      <td>20363</td>\n",
       "      <td>9E</td>\n",
       "      <td>N331CA</td>\n",
       "      <td>4812</td>\n",
       "      <td>15412</td>\n",
       "      <td>1541205</td>\n",
       "      <td>TYS</td>\n",
       "      <td>11433</td>\n",
       "      <td>1143302</td>\n",
       "      <td>DTW</td>\n",
       "      <td>1002.0</td>\n",
       "      <td>1.0</td>\n",
       "      <td>0700-0759</td>\n",
       "      <td>1128.0</td>\n",
       "      <td>1.0</td>\n",
       "      <td>0.0</td>\n",
       "      <td>0.0</td>\n",
       "      <td>443.0</td>\n",
       "      <td>NaN</td>\n",
       "    </tr>\n",
       "    <tr>\n",
       "      <th>1191327</th>\n",
       "      <td>31</td>\n",
       "      <td>5</td>\n",
       "      <td>9E</td>\n",
       "      <td>20363</td>\n",
       "      <td>9E</td>\n",
       "      <td>N295PQ</td>\n",
       "      <td>4813</td>\n",
       "      <td>11433</td>\n",
       "      <td>1143302</td>\n",
       "      <td>DTW</td>\n",
       "      <td>12478</td>\n",
       "      <td>1247805</td>\n",
       "      <td>JFK</td>\n",
       "      <td>1747.0</td>\n",
       "      <td>0.0</td>\n",
       "      <td>1700-1759</td>\n",
       "      <td>1933.0</td>\n",
       "      <td>0.0</td>\n",
       "      <td>0.0</td>\n",
       "      <td>0.0</td>\n",
       "      <td>509.0</td>\n",
       "      <td>NaN</td>\n",
       "    </tr>\n",
       "    <tr>\n",
       "      <th>1191328</th>\n",
       "      <td>31</td>\n",
       "      <td>5</td>\n",
       "      <td>9E</td>\n",
       "      <td>20363</td>\n",
       "      <td>9E</td>\n",
       "      <td>N294PQ</td>\n",
       "      <td>4814</td>\n",
       "      <td>11996</td>\n",
       "      <td>1199603</td>\n",
       "      <td>GSP</td>\n",
       "      <td>12953</td>\n",
       "      <td>1295304</td>\n",
       "      <td>LGA</td>\n",
       "      <td>554.0</td>\n",
       "      <td>0.0</td>\n",
       "      <td>0600-0659</td>\n",
       "      <td>752.0</td>\n",
       "      <td>0.0</td>\n",
       "      <td>0.0</td>\n",
       "      <td>0.0</td>\n",
       "      <td>610.0</td>\n",
       "      <td>NaN</td>\n",
       "    </tr>\n",
       "    <tr>\n",
       "      <th>1191329</th>\n",
       "      <td>31</td>\n",
       "      <td>5</td>\n",
       "      <td>9E</td>\n",
       "      <td>20363</td>\n",
       "      <td>9E</td>\n",
       "      <td>N228PQ</td>\n",
       "      <td>4815</td>\n",
       "      <td>10397</td>\n",
       "      <td>1039707</td>\n",
       "      <td>ATL</td>\n",
       "      <td>15919</td>\n",
       "      <td>1591904</td>\n",
       "      <td>XNA</td>\n",
       "      <td>1714.0</td>\n",
       "      <td>0.0</td>\n",
       "      <td>1700-1759</td>\n",
       "      <td>1811.0</td>\n",
       "      <td>0.0</td>\n",
       "      <td>0.0</td>\n",
       "      <td>0.0</td>\n",
       "      <td>589.0</td>\n",
       "      <td>NaN</td>\n",
       "    </tr>\n",
       "    <tr>\n",
       "      <th>1191330</th>\n",
       "      <td>31</td>\n",
       "      <td>5</td>\n",
       "      <td>9E</td>\n",
       "      <td>20363</td>\n",
       "      <td>9E</td>\n",
       "      <td>N228PQ</td>\n",
       "      <td>4815</td>\n",
       "      <td>15919</td>\n",
       "      <td>1591904</td>\n",
       "      <td>XNA</td>\n",
       "      <td>10397</td>\n",
       "      <td>1039707</td>\n",
       "      <td>ATL</td>\n",
       "      <td>1841.0</td>\n",
       "      <td>0.0</td>\n",
       "      <td>1800-1859</td>\n",
       "      <td>2128.0</td>\n",
       "      <td>0.0</td>\n",
       "      <td>0.0</td>\n",
       "      <td>0.0</td>\n",
       "      <td>589.0</td>\n",
       "      <td>NaN</td>\n",
       "    </tr>\n",
       "  </tbody>\n",
       "</table>\n",
       "<p>1191331 rows × 22 columns</p>\n",
       "</div>"
      ],
      "text/plain": [
       "         DAY_OF_MONTH  DAY_OF_WEEK OP_UNIQUE_CARRIER  OP_CARRIER_AIRLINE_ID  \\\n",
       "0                   1            2                9E                  20363   \n",
       "1                   1            2                9E                  20363   \n",
       "2                   1            2                9E                  20363   \n",
       "3                   1            2                9E                  20363   \n",
       "4                   1            2                9E                  20363   \n",
       "...               ...          ...               ...                    ...   \n",
       "1191326            31            5                9E                  20363   \n",
       "1191327            31            5                9E                  20363   \n",
       "1191328            31            5                9E                  20363   \n",
       "1191329            31            5                9E                  20363   \n",
       "1191330            31            5                9E                  20363   \n",
       "\n",
       "        OP_CARRIER TAIL_NUM  OP_CARRIER_FL_NUM  ORIGIN_AIRPORT_ID  \\\n",
       "0               9E   N8688C               3280              11953   \n",
       "1               9E   N348PQ               3281              13487   \n",
       "2               9E   N8896A               3282              11433   \n",
       "3               9E   N8886A               3283              15249   \n",
       "4               9E   N8974C               3284              10397   \n",
       "...            ...      ...                ...                ...   \n",
       "1191326         9E   N331CA               4812              15412   \n",
       "1191327         9E   N295PQ               4813              11433   \n",
       "1191328         9E   N294PQ               4814              11996   \n",
       "1191329         9E   N228PQ               4815              10397   \n",
       "1191330         9E   N228PQ               4815              15919   \n",
       "\n",
       "         ORIGIN_AIRPORT_SEQ_ID ORIGIN  DEST_AIRPORT_ID  DEST_AIRPORT_SEQ_ID  \\\n",
       "0                      1195302    GNV            10397              1039707   \n",
       "1                      1348702    MSP            11193              1119302   \n",
       "2                      1143302    DTW            11193              1119302   \n",
       "3                      1524906    TLH            10397              1039707   \n",
       "4                      1039707    ATL            11778              1177801   \n",
       "...                        ...    ...              ...                  ...   \n",
       "1191326                1541205    TYS            11433              1143302   \n",
       "1191327                1143302    DTW            12478              1247805   \n",
       "1191328                1199603    GSP            12953              1295304   \n",
       "1191329                1039707    ATL            15919              1591904   \n",
       "1191330                1591904    XNA            10397              1039707   \n",
       "\n",
       "        DEST  DEP_TIME  DEP_DEL15 DEP_TIME_BLK  ARR_TIME  ARR_DEL15  \\\n",
       "0        ATL     601.0        0.0    0600-0659     722.0        0.0   \n",
       "1        CVG    1359.0        0.0    1400-1459    1633.0        0.0   \n",
       "2        CVG    1215.0        0.0    1200-1259    1329.0        0.0   \n",
       "3        ATL    1521.0        0.0    1500-1559    1625.0        0.0   \n",
       "4        FSM    1847.0        0.0    1900-1959    1940.0        0.0   \n",
       "...      ...       ...        ...          ...       ...        ...   \n",
       "1191326  DTW    1002.0        1.0    0700-0759    1128.0        1.0   \n",
       "1191327  JFK    1747.0        0.0    1700-1759    1933.0        0.0   \n",
       "1191328  LGA     554.0        0.0    0600-0659     752.0        0.0   \n",
       "1191329  XNA    1714.0        0.0    1700-1759    1811.0        0.0   \n",
       "1191330  ATL    1841.0        0.0    1800-1859    2128.0        0.0   \n",
       "\n",
       "         CANCELLED  DIVERTED  DISTANCE  Unnamed: 21  \n",
       "0              0.0       0.0     300.0          NaN  \n",
       "1              0.0       0.0     596.0          NaN  \n",
       "2              0.0       0.0     229.0          NaN  \n",
       "3              0.0       0.0     223.0          NaN  \n",
       "4              0.0       0.0     579.0          NaN  \n",
       "...            ...       ...       ...          ...  \n",
       "1191326        0.0       0.0     443.0          NaN  \n",
       "1191327        0.0       0.0     509.0          NaN  \n",
       "1191328        0.0       0.0     610.0          NaN  \n",
       "1191329        0.0       0.0     589.0          NaN  \n",
       "1191330        0.0       0.0     589.0          NaN  \n",
       "\n",
       "[1191331 rows x 22 columns]"
      ]
     },
     "execution_count": 10,
     "metadata": {},
     "output_type": "execute_result"
    }
   ],
   "source": [
    "raw_df = pd.concat(objs = [jan_2019_df, jan_2020_df], ignore_index = True)\n",
    "raw_df"
   ]
  },
  {
   "cell_type": "markdown",
   "metadata": {
    "id": "VzFp-mrNt2-z"
   },
   "source": [
    "## Problem Statement"
   ]
  },
  {
   "cell_type": "markdown",
   "metadata": {
    "id": "XQg_fcR9t2-0"
   },
   "source": [
    "Let's first check the columns of the dataset to get some quick idea and to decide on problem formulation."
   ]
  },
  {
   "cell_type": "markdown",
   "metadata": {
    "id": "W5EexP2Dt2-0"
   },
   "source": [
    "### Dataset"
   ]
  },
  {
   "cell_type": "markdown",
   "metadata": {
    "id": "FabMpIehsG1a"
   },
   "source": [
    "There are 22 columns for the dataset and corresponding column description are given below.  \n",
    "    \n",
    "1. Day of Month\n",
    "2. Day of Week starting from Monday\n",
    "3. Unique Carrier Code. \n",
    "4. An identification number assigned by US DOT to identify a unique airline (carrier). \n",
    "5. Code assigned by IATA and commonly used to identify a carrier. \n",
    "6. Tail Number\n",
    "7. Flight Number\n",
    "8. Origin Airport, Airport ID. An identification number assigned by US DOT to identify a unique airport.\n",
    "9. Origin Airport, Airport Sequence ID. \n",
    "10. Origin Airport\n",
    "11. Destination Airport, Airport ID. An identification number assigned by US DOT to identify a unique airport.\n",
    "12. Destination Airport, Airport Sequence ID. \n",
    "13. Destination Airport.\n",
    "14. Actual Departure Time (local time: hhmm)\n",
    "15. Departure Delay Indicator, 15 Minutes or More (1=Yes, 0=No)\n",
    "16. Departure Time Block, Hourly Intervals\n",
    "17. Actual Arrival Time (local time: hhmm)\n",
    "18. Arrival Delay Indicator, 15 Minutes or More (1=Yes, 0=No)\n",
    "19. Cancelled Flight Indicator (1=Yes, 0=No)\n",
    "20. Diverted Flight Indicator (1=Yes, 0=No)\n",
    "21. Distance between airports (miles)  \n",
    "22. Unnamed: 21 - no description available  "
   ]
  },
  {
   "cell_type": "markdown",
   "metadata": {
    "id": "WQZZiFOqt2-2"
   },
   "source": [
    "### Problem Statement and Objective"
   ]
  },
  {
   "cell_type": "markdown",
   "metadata": {
    "id": "Sek38Prct2-4"
   },
   "source": [
    "From the description of columns one can find scope for many interesting problems such as flight cancellation prediction, flight departure delay prediction, flight arrival delay prediction, diverted flight prediction etc. Let's choose a problem of predicting flight delay on arrival.\n"
   ]
  },
  {
   "cell_type": "markdown",
   "metadata": {
    "id": "k9gPu2_ct2-4"
   },
   "source": [
    "> Our objective is to predict a flight delay of 15 mins or more at arrival airport. "
   ]
  },
  {
   "cell_type": "markdown",
   "metadata": {
    "id": "FukqNhgBt2-6"
   },
   "source": [
    "## Exploratory Data Analysis, Data Preprocessing and Feature Engineering"
   ]
  },
  {
   "cell_type": "markdown",
   "metadata": {
    "id": "qxZMEUbXroKR"
   },
   "source": [
    "### Data Cleaning and Preprocessing"
   ]
  },
  {
   "cell_type": "markdown",
   "metadata": {
    "id": "WN3QJZNYt2-6"
   },
   "source": [
    "At first we will look at a sample of the data."
   ]
  },
  {
   "cell_type": "code",
   "execution_count": 11,
   "metadata": {
    "colab": {
     "base_uri": "https://localhost:8080/",
     "height": 557
    },
    "executionInfo": {
     "elapsed": 690,
     "status": "ok",
     "timestamp": 1627620302047,
     "user": {
      "displayName": "PREMCHAND R",
      "photoUrl": "",
      "userId": "03324294809057007804"
     },
     "user_tz": -330
    },
    "id": "7W7-XuVxt2-6",
    "outputId": "9134b1eb-2406-4450-8d59-0c0439beea55"
   },
   "outputs": [
    {
     "data": {
      "text/html": [
       "<div>\n",
       "<style scoped>\n",
       "    .dataframe tbody tr th:only-of-type {\n",
       "        vertical-align: middle;\n",
       "    }\n",
       "\n",
       "    .dataframe tbody tr th {\n",
       "        vertical-align: top;\n",
       "    }\n",
       "\n",
       "    .dataframe thead th {\n",
       "        text-align: right;\n",
       "    }\n",
       "</style>\n",
       "<table border=\"1\" class=\"dataframe\">\n",
       "  <thead>\n",
       "    <tr style=\"text-align: right;\">\n",
       "      <th></th>\n",
       "      <th>DAY_OF_MONTH</th>\n",
       "      <th>DAY_OF_WEEK</th>\n",
       "      <th>OP_UNIQUE_CARRIER</th>\n",
       "      <th>OP_CARRIER_AIRLINE_ID</th>\n",
       "      <th>OP_CARRIER</th>\n",
       "      <th>TAIL_NUM</th>\n",
       "      <th>OP_CARRIER_FL_NUM</th>\n",
       "      <th>ORIGIN_AIRPORT_ID</th>\n",
       "      <th>ORIGIN_AIRPORT_SEQ_ID</th>\n",
       "      <th>ORIGIN</th>\n",
       "      <th>DEST_AIRPORT_ID</th>\n",
       "      <th>DEST_AIRPORT_SEQ_ID</th>\n",
       "      <th>DEST</th>\n",
       "      <th>DEP_TIME</th>\n",
       "      <th>DEP_DEL15</th>\n",
       "      <th>DEP_TIME_BLK</th>\n",
       "      <th>ARR_TIME</th>\n",
       "      <th>ARR_DEL15</th>\n",
       "      <th>CANCELLED</th>\n",
       "      <th>DIVERTED</th>\n",
       "      <th>DISTANCE</th>\n",
       "      <th>Unnamed: 21</th>\n",
       "    </tr>\n",
       "  </thead>\n",
       "  <tbody>\n",
       "    <tr>\n",
       "      <th>819787</th>\n",
       "      <td>13</td>\n",
       "      <td>1</td>\n",
       "      <td>MQ</td>\n",
       "      <td>20398</td>\n",
       "      <td>MQ</td>\n",
       "      <td>N663AR</td>\n",
       "      <td>3579</td>\n",
       "      <td>13303</td>\n",
       "      <td>1330303</td>\n",
       "      <td>MIA</td>\n",
       "      <td>11953</td>\n",
       "      <td>1195302</td>\n",
       "      <td>GNV</td>\n",
       "      <td>644.0</td>\n",
       "      <td>0.0</td>\n",
       "      <td>0600-0659</td>\n",
       "      <td>757.0</td>\n",
       "      <td>0.0</td>\n",
       "      <td>0.0</td>\n",
       "      <td>0.0</td>\n",
       "      <td>294.0</td>\n",
       "      <td>NaN</td>\n",
       "    </tr>\n",
       "    <tr>\n",
       "      <th>350328</th>\n",
       "      <td>19</td>\n",
       "      <td>6</td>\n",
       "      <td>WN</td>\n",
       "      <td>19393</td>\n",
       "      <td>WN</td>\n",
       "      <td>N430WN</td>\n",
       "      <td>1423</td>\n",
       "      <td>13232</td>\n",
       "      <td>1323202</td>\n",
       "      <td>MDW</td>\n",
       "      <td>11697</td>\n",
       "      <td>1169706</td>\n",
       "      <td>FLL</td>\n",
       "      <td>549.0</td>\n",
       "      <td>0.0</td>\n",
       "      <td>0001-0559</td>\n",
       "      <td>1044.0</td>\n",
       "      <td>1.0</td>\n",
       "      <td>0.0</td>\n",
       "      <td>0.0</td>\n",
       "      <td>1167.0</td>\n",
       "      <td>NaN</td>\n",
       "    </tr>\n",
       "    <tr>\n",
       "      <th>865711</th>\n",
       "      <td>15</td>\n",
       "      <td>3</td>\n",
       "      <td>WN</td>\n",
       "      <td>19393</td>\n",
       "      <td>WN</td>\n",
       "      <td>N8517F</td>\n",
       "      <td>894</td>\n",
       "      <td>15304</td>\n",
       "      <td>1530402</td>\n",
       "      <td>TPA</td>\n",
       "      <td>14100</td>\n",
       "      <td>1410005</td>\n",
       "      <td>PHL</td>\n",
       "      <td>1404.0</td>\n",
       "      <td>0.0</td>\n",
       "      <td>1400-1459</td>\n",
       "      <td>1621.0</td>\n",
       "      <td>0.0</td>\n",
       "      <td>0.0</td>\n",
       "      <td>0.0</td>\n",
       "      <td>920.0</td>\n",
       "      <td>NaN</td>\n",
       "    </tr>\n",
       "    <tr>\n",
       "      <th>507610</th>\n",
       "      <td>28</td>\n",
       "      <td>1</td>\n",
       "      <td>OH</td>\n",
       "      <td>20397</td>\n",
       "      <td>OH</td>\n",
       "      <td>N247JS</td>\n",
       "      <td>5193</td>\n",
       "      <td>14108</td>\n",
       "      <td>1410803</td>\n",
       "      <td>PIA</td>\n",
       "      <td>11057</td>\n",
       "      <td>1105703</td>\n",
       "      <td>CLT</td>\n",
       "      <td>740.0</td>\n",
       "      <td>1.0</td>\n",
       "      <td>0600-0659</td>\n",
       "      <td>1041.0</td>\n",
       "      <td>1.0</td>\n",
       "      <td>0.0</td>\n",
       "      <td>0.0</td>\n",
       "      <td>607.0</td>\n",
       "      <td>NaN</td>\n",
       "    </tr>\n",
       "    <tr>\n",
       "      <th>1027720</th>\n",
       "      <td>23</td>\n",
       "      <td>4</td>\n",
       "      <td>WN</td>\n",
       "      <td>19393</td>\n",
       "      <td>WN</td>\n",
       "      <td>N905WN</td>\n",
       "      <td>1205</td>\n",
       "      <td>11292</td>\n",
       "      <td>1129202</td>\n",
       "      <td>DEN</td>\n",
       "      <td>14893</td>\n",
       "      <td>1489302</td>\n",
       "      <td>SMF</td>\n",
       "      <td>716.0</td>\n",
       "      <td>1.0</td>\n",
       "      <td>0600-0659</td>\n",
       "      <td>843.0</td>\n",
       "      <td>0.0</td>\n",
       "      <td>0.0</td>\n",
       "      <td>0.0</td>\n",
       "      <td>909.0</td>\n",
       "      <td>NaN</td>\n",
       "    </tr>\n",
       "    <tr>\n",
       "      <th>247516</th>\n",
       "      <td>14</td>\n",
       "      <td>1</td>\n",
       "      <td>OO</td>\n",
       "      <td>20304</td>\n",
       "      <td>OO</td>\n",
       "      <td>N961SW</td>\n",
       "      <td>5467</td>\n",
       "      <td>13930</td>\n",
       "      <td>1393007</td>\n",
       "      <td>ORD</td>\n",
       "      <td>10792</td>\n",
       "      <td>1079206</td>\n",
       "      <td>BUF</td>\n",
       "      <td>745.0</td>\n",
       "      <td>0.0</td>\n",
       "      <td>0700-0759</td>\n",
       "      <td>1033.0</td>\n",
       "      <td>0.0</td>\n",
       "      <td>0.0</td>\n",
       "      <td>0.0</td>\n",
       "      <td>473.0</td>\n",
       "      <td>NaN</td>\n",
       "    </tr>\n",
       "    <tr>\n",
       "      <th>1086192</th>\n",
       "      <td>26</td>\n",
       "      <td>7</td>\n",
       "      <td>AA</td>\n",
       "      <td>19805</td>\n",
       "      <td>AA</td>\n",
       "      <td>N101NN</td>\n",
       "      <td>3</td>\n",
       "      <td>12478</td>\n",
       "      <td>1247805</td>\n",
       "      <td>JFK</td>\n",
       "      <td>12892</td>\n",
       "      <td>1289208</td>\n",
       "      <td>LAX</td>\n",
       "      <td>1223.0</td>\n",
       "      <td>0.0</td>\n",
       "      <td>1200-1259</td>\n",
       "      <td>1542.0</td>\n",
       "      <td>0.0</td>\n",
       "      <td>0.0</td>\n",
       "      <td>0.0</td>\n",
       "      <td>2475.0</td>\n",
       "      <td>NaN</td>\n",
       "    </tr>\n",
       "    <tr>\n",
       "      <th>264178</th>\n",
       "      <td>14</td>\n",
       "      <td>1</td>\n",
       "      <td>DL</td>\n",
       "      <td>19790</td>\n",
       "      <td>DL</td>\n",
       "      <td>N950DN</td>\n",
       "      <td>2019</td>\n",
       "      <td>13342</td>\n",
       "      <td>1334207</td>\n",
       "      <td>MKE</td>\n",
       "      <td>10397</td>\n",
       "      <td>1039707</td>\n",
       "      <td>ATL</td>\n",
       "      <td>1714.0</td>\n",
       "      <td>0.0</td>\n",
       "      <td>1700-1759</td>\n",
       "      <td>2008.0</td>\n",
       "      <td>0.0</td>\n",
       "      <td>0.0</td>\n",
       "      <td>0.0</td>\n",
       "      <td>669.0</td>\n",
       "      <td>NaN</td>\n",
       "    </tr>\n",
       "    <tr>\n",
       "      <th>954166</th>\n",
       "      <td>20</td>\n",
       "      <td>1</td>\n",
       "      <td>MQ</td>\n",
       "      <td>20398</td>\n",
       "      <td>MQ</td>\n",
       "      <td>N806AE</td>\n",
       "      <td>3506</td>\n",
       "      <td>11057</td>\n",
       "      <td>1105703</td>\n",
       "      <td>CLT</td>\n",
       "      <td>14574</td>\n",
       "      <td>1457405</td>\n",
       "      <td>ROA</td>\n",
       "      <td>723.0</td>\n",
       "      <td>0.0</td>\n",
       "      <td>0700-0759</td>\n",
       "      <td>900.0</td>\n",
       "      <td>1.0</td>\n",
       "      <td>0.0</td>\n",
       "      <td>0.0</td>\n",
       "      <td>155.0</td>\n",
       "      <td>NaN</td>\n",
       "    </tr>\n",
       "    <tr>\n",
       "      <th>538471</th>\n",
       "      <td>29</td>\n",
       "      <td>2</td>\n",
       "      <td>AA</td>\n",
       "      <td>19805</td>\n",
       "      <td>AA</td>\n",
       "      <td>N929NN</td>\n",
       "      <td>1358</td>\n",
       "      <td>14683</td>\n",
       "      <td>1468305</td>\n",
       "      <td>SAT</td>\n",
       "      <td>11298</td>\n",
       "      <td>1129806</td>\n",
       "      <td>DFW</td>\n",
       "      <td>1102.0</td>\n",
       "      <td>0.0</td>\n",
       "      <td>1100-1159</td>\n",
       "      <td>1205.0</td>\n",
       "      <td>0.0</td>\n",
       "      <td>0.0</td>\n",
       "      <td>0.0</td>\n",
       "      <td>247.0</td>\n",
       "      <td>NaN</td>\n",
       "    </tr>\n",
       "    <tr>\n",
       "      <th>1009549</th>\n",
       "      <td>22</td>\n",
       "      <td>3</td>\n",
       "      <td>9E</td>\n",
       "      <td>20363</td>\n",
       "      <td>9E</td>\n",
       "      <td>N936XJ</td>\n",
       "      <td>5040</td>\n",
       "      <td>10397</td>\n",
       "      <td>1039707</td>\n",
       "      <td>ATL</td>\n",
       "      <td>10868</td>\n",
       "      <td>1086803</td>\n",
       "      <td>CAE</td>\n",
       "      <td>1030.0</td>\n",
       "      <td>0.0</td>\n",
       "      <td>1000-1059</td>\n",
       "      <td>1125.0</td>\n",
       "      <td>0.0</td>\n",
       "      <td>0.0</td>\n",
       "      <td>0.0</td>\n",
       "      <td>192.0</td>\n",
       "      <td>NaN</td>\n",
       "    </tr>\n",
       "    <tr>\n",
       "      <th>1146672</th>\n",
       "      <td>29</td>\n",
       "      <td>3</td>\n",
       "      <td>MQ</td>\n",
       "      <td>20398</td>\n",
       "      <td>MQ</td>\n",
       "      <td>N815AE</td>\n",
       "      <td>3330</td>\n",
       "      <td>11298</td>\n",
       "      <td>1129806</td>\n",
       "      <td>DFW</td>\n",
       "      <td>15323</td>\n",
       "      <td>1532305</td>\n",
       "      <td>TRI</td>\n",
       "      <td>2033.0</td>\n",
       "      <td>0.0</td>\n",
       "      <td>2000-2059</td>\n",
       "      <td>2339.0</td>\n",
       "      <td>0.0</td>\n",
       "      <td>0.0</td>\n",
       "      <td>0.0</td>\n",
       "      <td>868.0</td>\n",
       "      <td>NaN</td>\n",
       "    </tr>\n",
       "    <tr>\n",
       "      <th>217542</th>\n",
       "      <td>12</td>\n",
       "      <td>6</td>\n",
       "      <td>UA</td>\n",
       "      <td>19977</td>\n",
       "      <td>UA</td>\n",
       "      <td>N73445</td>\n",
       "      <td>639</td>\n",
       "      <td>14771</td>\n",
       "      <td>1477104</td>\n",
       "      <td>SFO</td>\n",
       "      <td>13930</td>\n",
       "      <td>1393007</td>\n",
       "      <td>ORD</td>\n",
       "      <td>906.0</td>\n",
       "      <td>1.0</td>\n",
       "      <td>0800-0859</td>\n",
       "      <td>1535.0</td>\n",
       "      <td>1.0</td>\n",
       "      <td>0.0</td>\n",
       "      <td>0.0</td>\n",
       "      <td>1846.0</td>\n",
       "      <td>NaN</td>\n",
       "    </tr>\n",
       "    <tr>\n",
       "      <th>626300</th>\n",
       "      <td>3</td>\n",
       "      <td>5</td>\n",
       "      <td>OH</td>\n",
       "      <td>20397</td>\n",
       "      <td>OH</td>\n",
       "      <td>N247JS</td>\n",
       "      <td>5480</td>\n",
       "      <td>12953</td>\n",
       "      <td>1295304</td>\n",
       "      <td>LGA</td>\n",
       "      <td>11267</td>\n",
       "      <td>1126702</td>\n",
       "      <td>DAY</td>\n",
       "      <td>1257.0</td>\n",
       "      <td>0.0</td>\n",
       "      <td>1300-1359</td>\n",
       "      <td>1512.0</td>\n",
       "      <td>0.0</td>\n",
       "      <td>0.0</td>\n",
       "      <td>0.0</td>\n",
       "      <td>549.0</td>\n",
       "      <td>NaN</td>\n",
       "    </tr>\n",
       "    <tr>\n",
       "      <th>852786</th>\n",
       "      <td>14</td>\n",
       "      <td>2</td>\n",
       "      <td>AA</td>\n",
       "      <td>19805</td>\n",
       "      <td>AA</td>\n",
       "      <td>N691AA</td>\n",
       "      <td>433</td>\n",
       "      <td>11298</td>\n",
       "      <td>1129806</td>\n",
       "      <td>DFW</td>\n",
       "      <td>12478</td>\n",
       "      <td>1247805</td>\n",
       "      <td>JFK</td>\n",
       "      <td>1623.0</td>\n",
       "      <td>0.0</td>\n",
       "      <td>1600-1659</td>\n",
       "      <td>2029.0</td>\n",
       "      <td>0.0</td>\n",
       "      <td>0.0</td>\n",
       "      <td>0.0</td>\n",
       "      <td>1391.0</td>\n",
       "      <td>NaN</td>\n",
       "    </tr>\n",
       "  </tbody>\n",
       "</table>\n",
       "</div>"
      ],
      "text/plain": [
       "         DAY_OF_MONTH  DAY_OF_WEEK OP_UNIQUE_CARRIER  OP_CARRIER_AIRLINE_ID  \\\n",
       "819787             13            1                MQ                  20398   \n",
       "350328             19            6                WN                  19393   \n",
       "865711             15            3                WN                  19393   \n",
       "507610             28            1                OH                  20397   \n",
       "1027720            23            4                WN                  19393   \n",
       "247516             14            1                OO                  20304   \n",
       "1086192            26            7                AA                  19805   \n",
       "264178             14            1                DL                  19790   \n",
       "954166             20            1                MQ                  20398   \n",
       "538471             29            2                AA                  19805   \n",
       "1009549            22            3                9E                  20363   \n",
       "1146672            29            3                MQ                  20398   \n",
       "217542             12            6                UA                  19977   \n",
       "626300              3            5                OH                  20397   \n",
       "852786             14            2                AA                  19805   \n",
       "\n",
       "        OP_CARRIER TAIL_NUM  OP_CARRIER_FL_NUM  ORIGIN_AIRPORT_ID  \\\n",
       "819787          MQ   N663AR               3579              13303   \n",
       "350328          WN   N430WN               1423              13232   \n",
       "865711          WN   N8517F                894              15304   \n",
       "507610          OH   N247JS               5193              14108   \n",
       "1027720         WN   N905WN               1205              11292   \n",
       "247516          OO   N961SW               5467              13930   \n",
       "1086192         AA   N101NN                  3              12478   \n",
       "264178          DL   N950DN               2019              13342   \n",
       "954166          MQ   N806AE               3506              11057   \n",
       "538471          AA   N929NN               1358              14683   \n",
       "1009549         9E   N936XJ               5040              10397   \n",
       "1146672         MQ   N815AE               3330              11298   \n",
       "217542          UA   N73445                639              14771   \n",
       "626300          OH   N247JS               5480              12953   \n",
       "852786          AA   N691AA                433              11298   \n",
       "\n",
       "         ORIGIN_AIRPORT_SEQ_ID ORIGIN  DEST_AIRPORT_ID  DEST_AIRPORT_SEQ_ID  \\\n",
       "819787                 1330303    MIA            11953              1195302   \n",
       "350328                 1323202    MDW            11697              1169706   \n",
       "865711                 1530402    TPA            14100              1410005   \n",
       "507610                 1410803    PIA            11057              1105703   \n",
       "1027720                1129202    DEN            14893              1489302   \n",
       "247516                 1393007    ORD            10792              1079206   \n",
       "1086192                1247805    JFK            12892              1289208   \n",
       "264178                 1334207    MKE            10397              1039707   \n",
       "954166                 1105703    CLT            14574              1457405   \n",
       "538471                 1468305    SAT            11298              1129806   \n",
       "1009549                1039707    ATL            10868              1086803   \n",
       "1146672                1129806    DFW            15323              1532305   \n",
       "217542                 1477104    SFO            13930              1393007   \n",
       "626300                 1295304    LGA            11267              1126702   \n",
       "852786                 1129806    DFW            12478              1247805   \n",
       "\n",
       "        DEST  DEP_TIME  DEP_DEL15 DEP_TIME_BLK  ARR_TIME  ARR_DEL15  \\\n",
       "819787   GNV     644.0        0.0    0600-0659     757.0        0.0   \n",
       "350328   FLL     549.0        0.0    0001-0559    1044.0        1.0   \n",
       "865711   PHL    1404.0        0.0    1400-1459    1621.0        0.0   \n",
       "507610   CLT     740.0        1.0    0600-0659    1041.0        1.0   \n",
       "1027720  SMF     716.0        1.0    0600-0659     843.0        0.0   \n",
       "247516   BUF     745.0        0.0    0700-0759    1033.0        0.0   \n",
       "1086192  LAX    1223.0        0.0    1200-1259    1542.0        0.0   \n",
       "264178   ATL    1714.0        0.0    1700-1759    2008.0        0.0   \n",
       "954166   ROA     723.0        0.0    0700-0759     900.0        1.0   \n",
       "538471   DFW    1102.0        0.0    1100-1159    1205.0        0.0   \n",
       "1009549  CAE    1030.0        0.0    1000-1059    1125.0        0.0   \n",
       "1146672  TRI    2033.0        0.0    2000-2059    2339.0        0.0   \n",
       "217542   ORD     906.0        1.0    0800-0859    1535.0        1.0   \n",
       "626300   DAY    1257.0        0.0    1300-1359    1512.0        0.0   \n",
       "852786   JFK    1623.0        0.0    1600-1659    2029.0        0.0   \n",
       "\n",
       "         CANCELLED  DIVERTED  DISTANCE  Unnamed: 21  \n",
       "819787         0.0       0.0     294.0          NaN  \n",
       "350328         0.0       0.0    1167.0          NaN  \n",
       "865711         0.0       0.0     920.0          NaN  \n",
       "507610         0.0       0.0     607.0          NaN  \n",
       "1027720        0.0       0.0     909.0          NaN  \n",
       "247516         0.0       0.0     473.0          NaN  \n",
       "1086192        0.0       0.0    2475.0          NaN  \n",
       "264178         0.0       0.0     669.0          NaN  \n",
       "954166         0.0       0.0     155.0          NaN  \n",
       "538471         0.0       0.0     247.0          NaN  \n",
       "1009549        0.0       0.0     192.0          NaN  \n",
       "1146672        0.0       0.0     868.0          NaN  \n",
       "217542         0.0       0.0    1846.0          NaN  \n",
       "626300         0.0       0.0     549.0          NaN  \n",
       "852786         0.0       0.0    1391.0          NaN  "
      ]
     },
     "execution_count": 11,
     "metadata": {},
     "output_type": "execute_result"
    }
   ],
   "source": [
    "raw_df.sample(15)"
   ]
  },
  {
   "cell_type": "markdown",
   "metadata": {
    "id": "9F8weiHMt2-7"
   },
   "source": [
    "From the data sample it can be observed that columns 'OP_UNIQUE_CARRIER', 'OP_CARRIER_AIRLINE_ID' and 'OP_CARRIER' have perfectly correlated values. Similarly for 'ORIGIN_AIRPORT_ID', 'ORIGIN_AIRPORT_SEQ_ID' and 'ORIGIN' values seems to be in correlation. The same is true for 'DEST_AIRPORT_ID', 'DEST_AIRPORT_SEQ_ID' and 'DEST'."
   ]
  },
  {
   "cell_type": "code",
   "execution_count": 12,
   "metadata": {
    "colab": {
     "base_uri": "https://localhost:8080/",
     "height": 545
    },
    "executionInfo": {
     "elapsed": 1714,
     "status": "ok",
     "timestamp": 1627620341239,
     "user": {
      "displayName": "PREMCHAND R",
      "photoUrl": "",
      "userId": "03324294809057007804"
     },
     "user_tz": -330
    },
    "id": "oEl_R9i_t2-8",
    "outputId": "eef2c799-fec0-4129-aed9-565687320f8f"
   },
   "outputs": [
    {
     "data": {
      "image/png": "[encoded data removed]",
      "text/plain": [
       "<Figure size 720x432 with 2 Axes>"
      ]
     },
     "metadata": {
      "needs_background": "light"
     },
     "output_type": "display_data"
    }
   ],
   "source": [
    "sns.heatmap(raw_df[['OP_CARRIER_AIRLINE_ID', 'OP_CARRIER_FL_NUM', 'ORIGIN_AIRPORT_ID', \n",
    "                    'ORIGIN_AIRPORT_SEQ_ID', 'DEST_AIRPORT_ID', 'DEST_AIRPORT_SEQ_ID']].corr(), annot = True );"
   ]
  },
  {
   "cell_type": "markdown",
   "metadata": {
    "id": "ljdUQwTOt2-9"
   },
   "source": [
    "The above heat map justifies our claim for 'ORIGIN_AIRPORT_ID' and 'ORIGIN_AIRPORT_SEQ_ID' to be perfectly correlated. The same is true for 'DEST_AIRPORT_ID' and 'DEST_AIRPORT_SEQ_ID'."
   ]
  },
  {
   "cell_type": "code",
   "execution_count": 13,
   "metadata": {
    "colab": {
     "base_uri": "https://localhost:8080/"
    },
    "executionInfo": {
     "elapsed": 376,
     "status": "ok",
     "timestamp": 1627620487434,
     "user": {
      "displayName": "PREMCHAND R",
      "photoUrl": "",
      "userId": "03324294809057007804"
     },
     "user_tz": -330
    },
    "id": "8huVuB4Ut2-9",
    "outputId": "300921ba-3c6b-42ae-e6ea-88e9a2eb2eca"
   },
   "outputs": [
    {
     "name": "stdout",
     "output_type": "stream",
     "text": [
      "10397    63345\n",
      "13930    51877\n",
      "11298    47402\n",
      "11057    39095\n",
      "11292    38905\n",
      "         ...  \n",
      "14222       20\n",
      "10165       18\n",
      "13983       18\n",
      "13829       17\n",
      "10562       13\n",
      "Name: ORIGIN_AIRPORT_ID, Length: 353, dtype: int64\n",
      "ATL    63345\n",
      "ORD    51877\n",
      "DFW    47402\n",
      "CLT    39095\n",
      "DEN    38905\n",
      "       ...  \n",
      "PPG       20\n",
      "ADK       18\n",
      "OWB       18\n",
      "OGD       17\n",
      "BFM       13\n",
      "Name: ORIGIN, Length: 353, dtype: int64\n"
     ]
    }
   ],
   "source": [
    "print(raw_df['ORIGIN_AIRPORT_ID'].value_counts())\n",
    "print(raw_df['ORIGIN'].value_counts())"
   ]
  },
  {
   "cell_type": "markdown",
   "metadata": {
    "id": "Wk3uIzoCt2-_"
   },
   "source": [
    "So out of 'ORIGIN_AIRPORT_ID', 'ORIGIN' and 'ORIGIN_AIRPORT_SEQ_ID' only one column is to be retained."
   ]
  },
  {
   "cell_type": "code",
   "execution_count": 14,
   "metadata": {
    "colab": {
     "base_uri": "https://localhost:8080/"
    },
    "executionInfo": {
     "elapsed": 622,
     "status": "ok",
     "timestamp": 1627620492396,
     "user": {
      "displayName": "PREMCHAND R",
      "photoUrl": "",
      "userId": "03324294809057007804"
     },
     "user_tz": -330
    },
    "id": "qNSVi3bCt2_A",
    "outputId": "96e08616-7f0d-4bc6-d415-2c5c72c278ef"
   },
   "outputs": [
    {
     "name": "stdout",
     "output_type": "stream",
     "text": [
      "10397    63338\n",
      "13930    51899\n",
      "11298    47432\n",
      "11057    39107\n",
      "11292    38903\n",
      "         ...  \n",
      "14222       20\n",
      "10165       18\n",
      "13983       18\n",
      "13829       17\n",
      "10562       13\n",
      "Name: DEST_AIRPORT_ID, Length: 353, dtype: int64\n",
      "ATL    63338\n",
      "ORD    51899\n",
      "DFW    47432\n",
      "CLT    39107\n",
      "DEN    38903\n",
      "       ...  \n",
      "PPG       20\n",
      "ADK       18\n",
      "OWB       18\n",
      "OGD       17\n",
      "BFM       13\n",
      "Name: DEST, Length: 353, dtype: int64\n"
     ]
    }
   ],
   "source": [
    "print(raw_df['DEST_AIRPORT_ID'].value_counts())\n",
    "print(raw_df['DEST'].value_counts())"
   ]
  },
  {
   "cell_type": "markdown",
   "metadata": {
    "id": "GBkRRj45t2_B"
   },
   "source": [
    "So out of the columns 'DEST_AIRPORT_ID', 'DEST_AIRPORT_SEQ_ID' and 'DEST' only one is to be retained."
   ]
  },
  {
   "cell_type": "code",
   "execution_count": 15,
   "metadata": {
    "colab": {
     "base_uri": "https://localhost:8080/"
    },
    "executionInfo": {
     "elapsed": 736,
     "status": "ok",
     "timestamp": 1627620505326,
     "user": {
      "displayName": "PREMCHAND R",
      "photoUrl": "",
      "userId": "03324294809057007804"
     },
     "user_tz": -330
    },
    "id": "gq4wvck3t2_C",
    "outputId": "9fa0cb1a-e1e4-41fe-da7a-6a3d17f84c00"
   },
   "outputs": [
    {
     "name": "stdout",
     "output_type": "stream",
     "text": [
      "WN    221082\n",
      "DL    153903\n",
      "AA    153293\n",
      "OO    136086\n",
      "UA     95316\n",
      "YX     54878\n",
      "MQ     51899\n",
      "B6     49152\n",
      "OH     47478\n",
      "9E     43266\n",
      "AS     41854\n",
      "YV     36182\n",
      "NK     32699\n",
      "EV     23759\n",
      "F9     22114\n",
      "G4     14537\n",
      "HA     13833\n",
      "Name: OP_CARRIER, dtype: int64\n",
      "WN    221082\n",
      "DL    153903\n",
      "AA    153293\n",
      "OO    136086\n",
      "UA     95316\n",
      "YX     54878\n",
      "MQ     51899\n",
      "B6     49152\n",
      "OH     47478\n",
      "9E     43266\n",
      "AS     41854\n",
      "YV     36182\n",
      "NK     32699\n",
      "EV     23759\n",
      "F9     22114\n",
      "G4     14537\n",
      "HA     13833\n",
      "Name: OP_UNIQUE_CARRIER, dtype: int64\n",
      "19393    221082\n",
      "19790    153903\n",
      "19805    153293\n",
      "20304    136086\n",
      "19977     95316\n",
      "20452     54878\n",
      "20398     51899\n",
      "20409     49152\n",
      "20397     47478\n",
      "20363     43266\n",
      "19930     41854\n",
      "20378     36182\n",
      "20416     32699\n",
      "20366     23759\n",
      "20436     22114\n",
      "20368     14537\n",
      "19690     13833\n",
      "Name: OP_CARRIER_AIRLINE_ID, dtype: int64\n"
     ]
    }
   ],
   "source": [
    "print(raw_df['OP_CARRIER'].value_counts())\n",
    "print(raw_df['OP_UNIQUE_CARRIER'].value_counts())\n",
    "print(raw_df['OP_CARRIER_AIRLINE_ID'].value_counts())"
   ]
  },
  {
   "cell_type": "markdown",
   "metadata": {
    "id": "uHGofcSrt2_D"
   },
   "source": [
    "So out of 'OP_UNIQUE_CARRIER', 'OP_CARRIER_AIRLINE_ID' and 'OP_CARRIER' only one column is to be retained"
   ]
  },
  {
   "cell_type": "code",
   "execution_count": 16,
   "metadata": {
    "colab": {
     "base_uri": "https://localhost:8080/"
    },
    "executionInfo": {
     "elapsed": 581,
     "status": "ok",
     "timestamp": 1627620551582,
     "user": {
      "displayName": "PREMCHAND R",
      "photoUrl": "",
      "userId": "03324294809057007804"
     },
     "user_tz": -330
    },
    "id": "YcbatRQwt2_F",
    "outputId": "2050745a-8ccb-4cff-8acc-10073323a463"
   },
   "outputs": [
    {
     "name": "stdout",
     "output_type": "stream",
     "text": [
      "<class 'pandas.core.frame.DataFrame'>\n",
      "RangeIndex: 1191331 entries, 0 to 1191330\n",
      "Data columns (total 22 columns):\n",
      " #   Column                 Non-Null Count    Dtype  \n",
      "---  ------                 --------------    -----  \n",
      " 0   DAY_OF_MONTH           1191331 non-null  int64  \n",
      " 1   DAY_OF_WEEK            1191331 non-null  int64  \n",
      " 2   OP_UNIQUE_CARRIER      1191331 non-null  object \n",
      " 3   OP_CARRIER_AIRLINE_ID  1191331 non-null  int64  \n",
      " 4   OP_CARRIER             1191331 non-null  object \n",
      " 5   TAIL_NUM               1188090 non-null  object \n",
      " 6   OP_CARRIER_FL_NUM      1191331 non-null  int64  \n",
      " 7   ORIGIN_AIRPORT_ID      1191331 non-null  int64  \n",
      " 8   ORIGIN_AIRPORT_SEQ_ID  1191331 non-null  int64  \n",
      " 9   ORIGIN                 1191331 non-null  object \n",
      " 10  DEST_AIRPORT_ID        1191331 non-null  int64  \n",
      " 11  DEST_AIRPORT_SEQ_ID    1191331 non-null  int64  \n",
      " 12  DEST                   1191331 non-null  object \n",
      " 13  DEP_TIME               1168315 non-null  float64\n",
      " 14  DEP_DEL15              1168277 non-null  float64\n",
      " 15  DEP_TIME_BLK           1191331 non-null  object \n",
      " 16  ARR_TIME               1167195 non-null  float64\n",
      " 17  ARR_DEL15              1165231 non-null  float64\n",
      " 18  CANCELLED              1191331 non-null  float64\n",
      " 19  DIVERTED               1191331 non-null  float64\n",
      " 20  DISTANCE               1191331 non-null  float64\n",
      " 21  Unnamed: 21            0 non-null        float64\n",
      "dtypes: float64(8), int64(8), object(6)\n",
      "memory usage: 200.0+ MB\n"
     ]
    }
   ],
   "source": [
    "raw_df.info()"
   ]
  },
  {
   "cell_type": "markdown",
   "metadata": {
    "id": "wYfpXgjjsG1d"
   },
   "source": [
    "There are 1191331 rows of data available. The column 'Unnamed: 21' has no entries and it is to be removed from data."
   ]
  },
  {
   "cell_type": "code",
   "execution_count": 17,
   "metadata": {
    "colab": {
     "base_uri": "https://localhost:8080/"
    },
    "executionInfo": {
     "elapsed": 498,
     "status": "ok",
     "timestamp": 1627620583708,
     "user": {
      "displayName": "PREMCHAND R",
      "photoUrl": "",
      "userId": "03324294809057007804"
     },
     "user_tz": -330
    },
    "id": "MN7bVfaZsG1l",
    "outputId": "3af5c2ea-5b3b-4de6-8955-5672fcc2f2d3"
   },
   "outputs": [
    {
     "data": {
      "text/plain": [
       "0.0    1167677\n",
       "1.0      23654\n",
       "Name: CANCELLED, dtype: int64"
      ]
     },
     "execution_count": 17,
     "metadata": {},
     "output_type": "execute_result"
    }
   ],
   "source": [
    "raw_df['CANCELLED'].value_counts()"
   ]
  },
  {
   "cell_type": "code",
   "execution_count": 18,
   "metadata": {
    "colab": {
     "base_uri": "https://localhost:8080/"
    },
    "executionInfo": {
     "elapsed": 521,
     "status": "ok",
     "timestamp": 1627620587009,
     "user": {
      "displayName": "PREMCHAND R",
      "photoUrl": "",
      "userId": "03324294809057007804"
     },
     "user_tz": -330
    },
    "id": "BYKQHcHEsG1l",
    "outputId": "4df42ba3-b7d5-4c56-c3d0-10c78e28d4f6"
   },
   "outputs": [
    {
     "data": {
      "text/plain": [
       "0.0    1188885\n",
       "1.0       2446\n",
       "Name: DIVERTED, dtype: int64"
      ]
     },
     "execution_count": 18,
     "metadata": {},
     "output_type": "execute_result"
    }
   ],
   "source": [
    "raw_df['DIVERTED'].value_counts()"
   ]
  },
  {
   "cell_type": "markdown",
   "metadata": {
    "id": "fp-e6BUTsG1m"
   },
   "source": [
    "Since our aim is to identify flight delay on arrival we can delete the cancelled and diverted flight rows. Also they are less in number in comparison with total data."
   ]
  },
  {
   "cell_type": "code",
   "execution_count": 19,
   "metadata": {
    "executionInfo": {
     "elapsed": 542,
     "status": "ok",
     "timestamp": 1627620616214,
     "user": {
      "displayName": "PREMCHAND R",
      "photoUrl": "",
      "userId": "03324294809057007804"
     },
     "user_tz": -330
    },
    "id": "cfK526Ctt2_M"
   },
   "outputs": [],
   "source": [
    "raw_df = raw_df[raw_df['CANCELLED' ]!= 1.0]"
   ]
  },
  {
   "cell_type": "code",
   "execution_count": 20,
   "metadata": {
    "executionInfo": {
     "elapsed": 687,
     "status": "ok",
     "timestamp": 1627620617601,
     "user": {
      "displayName": "PREMCHAND R",
      "photoUrl": "",
      "userId": "03324294809057007804"
     },
     "user_tz": -330
    },
    "id": "fQ6X4FNat2_N"
   },
   "outputs": [],
   "source": [
    "raw_df = raw_df[raw_df['DIVERTED' ]!= 1.0]"
   ]
  },
  {
   "cell_type": "code",
   "execution_count": 21,
   "metadata": {
    "colab": {
     "base_uri": "https://localhost:8080/"
    },
    "executionInfo": {
     "elapsed": 11,
     "status": "ok",
     "timestamp": 1627620619372,
     "user": {
      "displayName": "PREMCHAND R",
      "photoUrl": "",
      "userId": "03324294809057007804"
     },
     "user_tz": -330
    },
    "id": "1q706Ax4t2_N",
    "outputId": "f15fa0c5-4e77-4e2a-983c-ee4a0e77aa98"
   },
   "outputs": [
    {
     "data": {
      "text/plain": [
       "Index(['DAY_OF_MONTH', 'DAY_OF_WEEK', 'OP_UNIQUE_CARRIER',\n",
       "       'OP_CARRIER_AIRLINE_ID', 'OP_CARRIER', 'TAIL_NUM', 'OP_CARRIER_FL_NUM',\n",
       "       'ORIGIN_AIRPORT_ID', 'ORIGIN_AIRPORT_SEQ_ID', 'ORIGIN',\n",
       "       'DEST_AIRPORT_ID', 'DEST_AIRPORT_SEQ_ID', 'DEST', 'DEP_TIME',\n",
       "       'DEP_DEL15', 'DEP_TIME_BLK', 'ARR_TIME', 'ARR_DEL15', 'CANCELLED',\n",
       "       'DIVERTED', 'DISTANCE', 'Unnamed: 21'],\n",
       "      dtype='object')"
      ]
     },
     "execution_count": 21,
     "metadata": {},
     "output_type": "execute_result"
    }
   ],
   "source": [
    "raw_df.columns"
   ]
  },
  {
   "cell_type": "code",
   "execution_count": 22,
   "metadata": {
    "colab": {
     "base_uri": "https://localhost:8080/"
    },
    "executionInfo": {
     "elapsed": 1098,
     "status": "ok",
     "timestamp": 1627620623564,
     "user": {
      "displayName": "PREMCHAND R",
      "photoUrl": "",
      "userId": "03324294809057007804"
     },
     "user_tz": -330
    },
    "id": "hPkO1Xumt2_O",
    "outputId": "04539d59-3b7c-4f8f-c1d6-35420f3e94a1"
   },
   "outputs": [
    {
     "data": {
      "text/plain": [
       "DAY_OF_MONTH               31\n",
       "DAY_OF_WEEK                 7\n",
       "OP_UNIQUE_CARRIER          17\n",
       "OP_CARRIER_AIRLINE_ID      17\n",
       "OP_CARRIER                 17\n",
       "TAIL_NUM                 5854\n",
       "OP_CARRIER_FL_NUM        6997\n",
       "ORIGIN_AIRPORT_ID         353\n",
       "ORIGIN_AIRPORT_SEQ_ID     373\n",
       "ORIGIN                    353\n",
       "DEST_AIRPORT_ID           353\n",
       "DEST_AIRPORT_SEQ_ID       373\n",
       "DEST                      353\n",
       "DEP_TIME                 1440\n",
       "DEP_DEL15                   2\n",
       "DEP_TIME_BLK               19\n",
       "ARR_TIME                 1440\n",
       "ARR_DEL15                   2\n",
       "CANCELLED                   1\n",
       "DIVERTED                    1\n",
       "DISTANCE                 1511\n",
       "Unnamed: 21                 0\n",
       "dtype: int64"
      ]
     },
     "execution_count": 22,
     "metadata": {},
     "output_type": "execute_result"
    }
   ],
   "source": [
    "raw_df.nunique()"
   ]
  },
  {
   "cell_type": "markdown",
   "metadata": {
    "id": "XZm8B2y4t2_P"
   },
   "source": [
    "For our aim to predict flight delay on arrival, our target column is 'ARR_DEL15'. Avoiding highly correlated columns and columns with large number of categories and which we can assume less important such as 'TAIL_NUM' and 'OP_CARRIER_FL_NUM', we can select input columns. Also we cannot include actual arrival time as we are predicting arrival delay."
   ]
  },
  {
   "cell_type": "code",
   "execution_count": 23,
   "metadata": {
    "executionInfo": {
     "elapsed": 622,
     "status": "ok",
     "timestamp": 1627620728525,
     "user": {
      "displayName": "PREMCHAND R",
      "photoUrl": "",
      "userId": "03324294809057007804"
     },
     "user_tz": -330
    },
    "id": "ogdRDyxvt2_Q"
   },
   "outputs": [],
   "source": [
    "flight_df = raw_df[['DAY_OF_MONTH', 'DAY_OF_WEEK', 'OP_CARRIER', 'ORIGIN', 'DEST', \n",
    "                    'DEP_TIME', 'DEP_DEL15','DEP_TIME_BLK', 'DISTANCE', 'ARR_DEL15']].copy()"
   ]
  },
  {
   "cell_type": "code",
   "execution_count": 24,
   "metadata": {
    "colab": {
     "base_uri": "https://localhost:8080/",
     "height": 423
    },
    "executionInfo": {
     "elapsed": 483,
     "status": "ok",
     "timestamp": 1627620731399,
     "user": {
      "displayName": "PREMCHAND R",
      "photoUrl": "",
      "userId": "03324294809057007804"
     },
     "user_tz": -330
    },
    "id": "bPmKB9jpt2_Q",
    "outputId": "e5a9e45a-5300-43a2-998c-cfce486a6313"
   },
   "outputs": [
    {
     "data": {
      "text/html": [
       "<div>\n",
       "<style scoped>\n",
       "    .dataframe tbody tr th:only-of-type {\n",
       "        vertical-align: middle;\n",
       "    }\n",
       "\n",
       "    .dataframe tbody tr th {\n",
       "        vertical-align: top;\n",
       "    }\n",
       "\n",
       "    .dataframe thead th {\n",
       "        text-align: right;\n",
       "    }\n",
       "</style>\n",
       "<table border=\"1\" class=\"dataframe\">\n",
       "  <thead>\n",
       "    <tr style=\"text-align: right;\">\n",
       "      <th></th>\n",
       "      <th>DAY_OF_MONTH</th>\n",
       "      <th>DAY_OF_WEEK</th>\n",
       "      <th>OP_CARRIER</th>\n",
       "      <th>ORIGIN</th>\n",
       "      <th>DEST</th>\n",
       "      <th>DEP_TIME</th>\n",
       "      <th>DEP_DEL15</th>\n",
       "      <th>DEP_TIME_BLK</th>\n",
       "      <th>DISTANCE</th>\n",
       "      <th>ARR_DEL15</th>\n",
       "    </tr>\n",
       "  </thead>\n",
       "  <tbody>\n",
       "    <tr>\n",
       "      <th>0</th>\n",
       "      <td>1</td>\n",
       "      <td>2</td>\n",
       "      <td>9E</td>\n",
       "      <td>GNV</td>\n",
       "      <td>ATL</td>\n",
       "      <td>601.0</td>\n",
       "      <td>0.0</td>\n",
       "      <td>0600-0659</td>\n",
       "      <td>300.0</td>\n",
       "      <td>0.0</td>\n",
       "    </tr>\n",
       "    <tr>\n",
       "      <th>1</th>\n",
       "      <td>1</td>\n",
       "      <td>2</td>\n",
       "      <td>9E</td>\n",
       "      <td>MSP</td>\n",
       "      <td>CVG</td>\n",
       "      <td>1359.0</td>\n",
       "      <td>0.0</td>\n",
       "      <td>1400-1459</td>\n",
       "      <td>596.0</td>\n",
       "      <td>0.0</td>\n",
       "    </tr>\n",
       "    <tr>\n",
       "      <th>2</th>\n",
       "      <td>1</td>\n",
       "      <td>2</td>\n",
       "      <td>9E</td>\n",
       "      <td>DTW</td>\n",
       "      <td>CVG</td>\n",
       "      <td>1215.0</td>\n",
       "      <td>0.0</td>\n",
       "      <td>1200-1259</td>\n",
       "      <td>229.0</td>\n",
       "      <td>0.0</td>\n",
       "    </tr>\n",
       "    <tr>\n",
       "      <th>3</th>\n",
       "      <td>1</td>\n",
       "      <td>2</td>\n",
       "      <td>9E</td>\n",
       "      <td>TLH</td>\n",
       "      <td>ATL</td>\n",
       "      <td>1521.0</td>\n",
       "      <td>0.0</td>\n",
       "      <td>1500-1559</td>\n",
       "      <td>223.0</td>\n",
       "      <td>0.0</td>\n",
       "    </tr>\n",
       "    <tr>\n",
       "      <th>4</th>\n",
       "      <td>1</td>\n",
       "      <td>2</td>\n",
       "      <td>9E</td>\n",
       "      <td>ATL</td>\n",
       "      <td>FSM</td>\n",
       "      <td>1847.0</td>\n",
       "      <td>0.0</td>\n",
       "      <td>1900-1959</td>\n",
       "      <td>579.0</td>\n",
       "      <td>0.0</td>\n",
       "    </tr>\n",
       "    <tr>\n",
       "      <th>...</th>\n",
       "      <td>...</td>\n",
       "      <td>...</td>\n",
       "      <td>...</td>\n",
       "      <td>...</td>\n",
       "      <td>...</td>\n",
       "      <td>...</td>\n",
       "      <td>...</td>\n",
       "      <td>...</td>\n",
       "      <td>...</td>\n",
       "      <td>...</td>\n",
       "    </tr>\n",
       "    <tr>\n",
       "      <th>1191326</th>\n",
       "      <td>31</td>\n",
       "      <td>5</td>\n",
       "      <td>9E</td>\n",
       "      <td>TYS</td>\n",
       "      <td>DTW</td>\n",
       "      <td>1002.0</td>\n",
       "      <td>1.0</td>\n",
       "      <td>0700-0759</td>\n",
       "      <td>443.0</td>\n",
       "      <td>1.0</td>\n",
       "    </tr>\n",
       "    <tr>\n",
       "      <th>1191327</th>\n",
       "      <td>31</td>\n",
       "      <td>5</td>\n",
       "      <td>9E</td>\n",
       "      <td>DTW</td>\n",
       "      <td>JFK</td>\n",
       "      <td>1747.0</td>\n",
       "      <td>0.0</td>\n",
       "      <td>1700-1759</td>\n",
       "      <td>509.0</td>\n",
       "      <td>0.0</td>\n",
       "    </tr>\n",
       "    <tr>\n",
       "      <th>1191328</th>\n",
       "      <td>31</td>\n",
       "      <td>5</td>\n",
       "      <td>9E</td>\n",
       "      <td>GSP</td>\n",
       "      <td>LGA</td>\n",
       "      <td>554.0</td>\n",
       "      <td>0.0</td>\n",
       "      <td>0600-0659</td>\n",
       "      <td>610.0</td>\n",
       "      <td>0.0</td>\n",
       "    </tr>\n",
       "    <tr>\n",
       "      <th>1191329</th>\n",
       "      <td>31</td>\n",
       "      <td>5</td>\n",
       "      <td>9E</td>\n",
       "      <td>ATL</td>\n",
       "      <td>XNA</td>\n",
       "      <td>1714.0</td>\n",
       "      <td>0.0</td>\n",
       "      <td>1700-1759</td>\n",
       "      <td>589.0</td>\n",
       "      <td>0.0</td>\n",
       "    </tr>\n",
       "    <tr>\n",
       "      <th>1191330</th>\n",
       "      <td>31</td>\n",
       "      <td>5</td>\n",
       "      <td>9E</td>\n",
       "      <td>XNA</td>\n",
       "      <td>ATL</td>\n",
       "      <td>1841.0</td>\n",
       "      <td>0.0</td>\n",
       "      <td>1800-1859</td>\n",
       "      <td>589.0</td>\n",
       "      <td>0.0</td>\n",
       "    </tr>\n",
       "  </tbody>\n",
       "</table>\n",
       "<p>1165231 rows × 10 columns</p>\n",
       "</div>"
      ],
      "text/plain": [
       "         DAY_OF_MONTH  DAY_OF_WEEK OP_CARRIER ORIGIN DEST  DEP_TIME  \\\n",
       "0                   1            2         9E    GNV  ATL     601.0   \n",
       "1                   1            2         9E    MSP  CVG    1359.0   \n",
       "2                   1            2         9E    DTW  CVG    1215.0   \n",
       "3                   1            2         9E    TLH  ATL    1521.0   \n",
       "4                   1            2         9E    ATL  FSM    1847.0   \n",
       "...               ...          ...        ...    ...  ...       ...   \n",
       "1191326            31            5         9E    TYS  DTW    1002.0   \n",
       "1191327            31            5         9E    DTW  JFK    1747.0   \n",
       "1191328            31            5         9E    GSP  LGA     554.0   \n",
       "1191329            31            5         9E    ATL  XNA    1714.0   \n",
       "1191330            31            5         9E    XNA  ATL    1841.0   \n",
       "\n",
       "         DEP_DEL15 DEP_TIME_BLK  DISTANCE  ARR_DEL15  \n",
       "0              0.0    0600-0659     300.0        0.0  \n",
       "1              0.0    1400-1459     596.0        0.0  \n",
       "2              0.0    1200-1259     229.0        0.0  \n",
       "3              0.0    1500-1559     223.0        0.0  \n",
       "4              0.0    1900-1959     579.0        0.0  \n",
       "...            ...          ...       ...        ...  \n",
       "1191326        1.0    0700-0759     443.0        1.0  \n",
       "1191327        0.0    1700-1759     509.0        0.0  \n",
       "1191328        0.0    0600-0659     610.0        0.0  \n",
       "1191329        0.0    1700-1759     589.0        0.0  \n",
       "1191330        0.0    1800-1859     589.0        0.0  \n",
       "\n",
       "[1165231 rows x 10 columns]"
      ]
     },
     "execution_count": 24,
     "metadata": {},
     "output_type": "execute_result"
    }
   ],
   "source": [
    "flight_df"
   ]
  },
  {
   "cell_type": "code",
   "execution_count": 25,
   "metadata": {
    "colab": {
     "base_uri": "https://localhost:8080/"
    },
    "executionInfo": {
     "elapsed": 825,
     "status": "ok",
     "timestamp": 1627620735285,
     "user": {
      "displayName": "PREMCHAND R",
      "photoUrl": "",
      "userId": "03324294809057007804"
     },
     "user_tz": -330
    },
    "id": "64ncrZf5t2_R",
    "outputId": "be80a19b-58f9-4f43-e199-677acd5ddcf6"
   },
   "outputs": [
    {
     "name": "stdout",
     "output_type": "stream",
     "text": [
      "<class 'pandas.core.frame.DataFrame'>\n",
      "Int64Index: 1165231 entries, 0 to 1191330\n",
      "Data columns (total 10 columns):\n",
      " #   Column        Non-Null Count    Dtype  \n",
      "---  ------        --------------    -----  \n",
      " 0   DAY_OF_MONTH  1165231 non-null  int64  \n",
      " 1   DAY_OF_WEEK   1165231 non-null  int64  \n",
      " 2   OP_CARRIER    1165231 non-null  object \n",
      " 3   ORIGIN        1165231 non-null  object \n",
      " 4   DEST          1165231 non-null  object \n",
      " 5   DEP_TIME      1165231 non-null  float64\n",
      " 6   DEP_DEL15     1165231 non-null  float64\n",
      " 7   DEP_TIME_BLK  1165231 non-null  object \n",
      " 8   DISTANCE      1165231 non-null  float64\n",
      " 9   ARR_DEL15     1165231 non-null  float64\n",
      "dtypes: float64(4), int64(2), object(4)\n",
      "memory usage: 97.8+ MB\n"
     ]
    }
   ],
   "source": [
    "flight_df.info()"
   ]
  },
  {
   "cell_type": "code",
   "execution_count": 26,
   "metadata": {
    "colab": {
     "base_uri": "https://localhost:8080/"
    },
    "executionInfo": {
     "elapsed": 1045,
     "status": "ok",
     "timestamp": 1627620740791,
     "user": {
      "displayName": "PREMCHAND R",
      "photoUrl": "",
      "userId": "03324294809057007804"
     },
     "user_tz": -330
    },
    "id": "8t2qKrZHt2_S",
    "outputId": "84bef265-e17f-43de-eb6c-39c3aad7b281"
   },
   "outputs": [
    {
     "data": {
      "text/plain": [
       "DAY_OF_MONTH    0\n",
       "DAY_OF_WEEK     0\n",
       "OP_CARRIER      0\n",
       "ORIGIN          0\n",
       "DEST            0\n",
       "DEP_TIME        0\n",
       "DEP_DEL15       0\n",
       "DEP_TIME_BLK    0\n",
       "DISTANCE        0\n",
       "ARR_DEL15       0\n",
       "dtype: int64"
      ]
     },
     "execution_count": 26,
     "metadata": {},
     "output_type": "execute_result"
    }
   ],
   "source": [
    "flight_df.isna().sum()"
   ]
  },
  {
   "cell_type": "markdown",
   "metadata": {
    "id": "MKbdIBp_t2_S"
   },
   "source": [
    "Now our dataframe has no null values."
   ]
  },
  {
   "cell_type": "markdown",
   "metadata": {
    "id": "2Jzzr4DRr2ye"
   },
   "source": [
    "### Exploratory Data Analysis"
   ]
  },
  {
   "cell_type": "markdown",
   "metadata": {
    "id": "2NzZx0cxt2_U"
   },
   "source": [
    "Now let's check the numeric columns of our dataframe."
   ]
  },
  {
   "cell_type": "code",
   "execution_count": 27,
   "metadata": {
    "colab": {
     "base_uri": "https://localhost:8080/",
     "height": 300
    },
    "executionInfo": {
     "elapsed": 596,
     "status": "ok",
     "timestamp": 1627620784304,
     "user": {
      "displayName": "PREMCHAND R",
      "photoUrl": "",
      "userId": "03324294809057007804"
     },
     "user_tz": -330
    },
    "id": "p_bRQSACsG1v",
    "outputId": "67d777e6-bff8-4c36-ebee-b16babd7345b"
   },
   "outputs": [
    {
     "data": {
      "text/html": [
       "<div>\n",
       "<style scoped>\n",
       "    .dataframe tbody tr th:only-of-type {\n",
       "        vertical-align: middle;\n",
       "    }\n",
       "\n",
       "    .dataframe tbody tr th {\n",
       "        vertical-align: top;\n",
       "    }\n",
       "\n",
       "    .dataframe thead th {\n",
       "        text-align: right;\n",
       "    }\n",
       "</style>\n",
       "<table border=\"1\" class=\"dataframe\">\n",
       "  <thead>\n",
       "    <tr style=\"text-align: right;\">\n",
       "      <th></th>\n",
       "      <th>DAY_OF_MONTH</th>\n",
       "      <th>DAY_OF_WEEK</th>\n",
       "      <th>DEP_TIME</th>\n",
       "      <th>DEP_DEL15</th>\n",
       "      <th>DISTANCE</th>\n",
       "      <th>ARR_DEL15</th>\n",
       "    </tr>\n",
       "  </thead>\n",
       "  <tbody>\n",
       "    <tr>\n",
       "      <th>count</th>\n",
       "      <td>1.165231e+06</td>\n",
       "      <td>1.165231e+06</td>\n",
       "      <td>1.165231e+06</td>\n",
       "      <td>1.165231e+06</td>\n",
       "      <td>1.165231e+06</td>\n",
       "      <td>1.165231e+06</td>\n",
       "    </tr>\n",
       "    <tr>\n",
       "      <th>mean</th>\n",
       "      <td>1.590670e+01</td>\n",
       "      <td>3.894310e+00</td>\n",
       "      <td>1.331725e+03</td>\n",
       "      <td>1.542630e-01</td>\n",
       "      <td>8.010043e+02</td>\n",
       "      <td>1.609183e-01</td>\n",
       "    </tr>\n",
       "    <tr>\n",
       "      <th>std</th>\n",
       "      <td>8.989842e+00</td>\n",
       "      <td>1.916468e+00</td>\n",
       "      <td>4.962459e+02</td>\n",
       "      <td>3.612008e-01</td>\n",
       "      <td>5.902830e+02</td>\n",
       "      <td>3.674557e-01</td>\n",
       "    </tr>\n",
       "    <tr>\n",
       "      <th>min</th>\n",
       "      <td>1.000000e+00</td>\n",
       "      <td>1.000000e+00</td>\n",
       "      <td>1.000000e+00</td>\n",
       "      <td>0.000000e+00</td>\n",
       "      <td>3.100000e+01</td>\n",
       "      <td>0.000000e+00</td>\n",
       "    </tr>\n",
       "    <tr>\n",
       "      <th>25%</th>\n",
       "      <td>8.000000e+00</td>\n",
       "      <td>2.000000e+00</td>\n",
       "      <td>9.200000e+02</td>\n",
       "      <td>0.000000e+00</td>\n",
       "      <td>3.680000e+02</td>\n",
       "      <td>0.000000e+00</td>\n",
       "    </tr>\n",
       "    <tr>\n",
       "      <th>50%</th>\n",
       "      <td>1.600000e+01</td>\n",
       "      <td>4.000000e+00</td>\n",
       "      <td>1.327000e+03</td>\n",
       "      <td>0.000000e+00</td>\n",
       "      <td>6.410000e+02</td>\n",
       "      <td>0.000000e+00</td>\n",
       "    </tr>\n",
       "    <tr>\n",
       "      <th>75%</th>\n",
       "      <td>2.400000e+01</td>\n",
       "      <td>5.000000e+00</td>\n",
       "      <td>1.739000e+03</td>\n",
       "      <td>0.000000e+00</td>\n",
       "      <td>1.042000e+03</td>\n",
       "      <td>0.000000e+00</td>\n",
       "    </tr>\n",
       "    <tr>\n",
       "      <th>max</th>\n",
       "      <td>3.100000e+01</td>\n",
       "      <td>7.000000e+00</td>\n",
       "      <td>2.400000e+03</td>\n",
       "      <td>1.000000e+00</td>\n",
       "      <td>5.095000e+03</td>\n",
       "      <td>1.000000e+00</td>\n",
       "    </tr>\n",
       "  </tbody>\n",
       "</table>\n",
       "</div>"
      ],
      "text/plain": [
       "       DAY_OF_MONTH   DAY_OF_WEEK      DEP_TIME     DEP_DEL15      DISTANCE  \\\n",
       "count  1.165231e+06  1.165231e+06  1.165231e+06  1.165231e+06  1.165231e+06   \n",
       "mean   1.590670e+01  3.894310e+00  1.331725e+03  1.542630e-01  8.010043e+02   \n",
       "std    8.989842e+00  1.916468e+00  4.962459e+02  3.612008e-01  5.902830e+02   \n",
       "min    1.000000e+00  1.000000e+00  1.000000e+00  0.000000e+00  3.100000e+01   \n",
       "25%    8.000000e+00  2.000000e+00  9.200000e+02  0.000000e+00  3.680000e+02   \n",
       "50%    1.600000e+01  4.000000e+00  1.327000e+03  0.000000e+00  6.410000e+02   \n",
       "75%    2.400000e+01  5.000000e+00  1.739000e+03  0.000000e+00  1.042000e+03   \n",
       "max    3.100000e+01  7.000000e+00  2.400000e+03  1.000000e+00  5.095000e+03   \n",
       "\n",
       "          ARR_DEL15  \n",
       "count  1.165231e+06  \n",
       "mean   1.609183e-01  \n",
       "std    3.674557e-01  \n",
       "min    0.000000e+00  \n",
       "25%    0.000000e+00  \n",
       "50%    0.000000e+00  \n",
       "75%    0.000000e+00  \n",
       "max    1.000000e+00  "
      ]
     },
     "execution_count": 27,
     "metadata": {},
     "output_type": "execute_result"
    }
   ],
   "source": [
    "flight_df.describe()"
   ]
  },
  {
   "cell_type": "markdown",
   "metadata": {
    "id": "nGf_Yzcot2_V"
   },
   "source": [
    "There seems no unreal values or outliers. Now we can explore the data for some insights."
   ]
  },
  {
   "cell_type": "code",
   "execution_count": 28,
   "metadata": {
    "colab": {
     "base_uri": "https://localhost:8080/",
     "height": 396
    },
    "executionInfo": {
     "elapsed": 2887,
     "status": "ok",
     "timestamp": 1627620807536,
     "user": {
      "displayName": "PREMCHAND R",
      "photoUrl": "",
      "userId": "03324294809057007804"
     },
     "user_tz": -330
    },
    "id": "C8hEs92vsG1w",
    "outputId": "8c7ec813-9415-421b-96fc-e2d8ebb243b4"
   },
   "outputs": [
    {
     "data": {
      "image/png": "[encoded data removed]",
      "text/plain": [
       "<Figure size 720x432 with 1 Axes>"
      ]
     },
     "metadata": {
      "needs_background": "light"
     },
     "output_type": "display_data"
    }
   ],
   "source": [
    "sns.histplot(x = 'DEP_TIME', data = flight_df, hue = 'ARR_DEL15');"
   ]
  },
  {
   "cell_type": "code",
   "execution_count": 29,
   "metadata": {
    "colab": {
     "base_uri": "https://localhost:8080/",
     "height": 459
    },
    "executionInfo": {
     "elapsed": 2043,
     "status": "ok",
     "timestamp": 1627620813720,
     "user": {
      "displayName": "PREMCHAND R",
      "photoUrl": "",
      "userId": "03324294809057007804"
     },
     "user_tz": -330
    },
    "id": "O1WOr34it2_X",
    "outputId": "94d13215-bf4d-4b89-cc6c-3348d4d35270"
   },
   "outputs": [
    {
     "data": {
      "image/png": "[encoded data removed]",
      "text/plain": [
       "<Figure size 720x432 with 1 Axes>"
      ]
     },
     "metadata": {
      "needs_background": "light"
     },
     "output_type": "display_data"
    }
   ],
   "source": [
    "ax = sns.countplot(x = 'DEP_TIME_BLK', data = flight_df, hue = 'ARR_DEL15')\n",
    "ax.set_xticklabels(ax.get_xticklabels(), rotation = 80);"
   ]
  },
  {
   "cell_type": "markdown",
   "metadata": {
    "id": "xW5y2qD9t2_Y"
   },
   "source": [
    "The arrival delay seems to be very little inclined towards midnight hours."
   ]
  },
  {
   "cell_type": "code",
   "execution_count": 30,
   "metadata": {
    "colab": {
     "base_uri": "https://localhost:8080/",
     "height": 396
    },
    "executionInfo": {
     "elapsed": 490,
     "status": "ok",
     "timestamp": 1627620854549,
     "user": {
      "displayName": "PREMCHAND R",
      "photoUrl": "",
      "userId": "03324294809057007804"
     },
     "user_tz": -330
    },
    "id": "9WckOLSssG1x",
    "outputId": "3d8387cd-0f95-4116-ffec-cdc378988daa"
   },
   "outputs": [
    {
     "data": {
      "image/png": "[encoded data removed]",
      "text/plain": [
       "<Figure size 720x432 with 1 Axes>"
      ]
     },
     "metadata": {
      "needs_background": "light"
     },
     "output_type": "display_data"
    }
   ],
   "source": [
    "ax = sns.countplot(x = 'DAY_OF_WEEK', data = flight_df, hue = 'ARR_DEL15');"
   ]
  },
  {
   "cell_type": "markdown",
   "metadata": {
    "id": "LO2hSyQSt2_Z"
   },
   "source": [
    "Weekend days (6 and 7) have less trips in total and relatively more delays."
   ]
  },
  {
   "cell_type": "code",
   "execution_count": 31,
   "metadata": {
    "colab": {
     "base_uri": "https://localhost:8080/",
     "height": 396
    },
    "executionInfo": {
     "elapsed": 1437,
     "status": "ok",
     "timestamp": 1627620894627,
     "user": {
      "displayName": "PREMCHAND R",
      "photoUrl": "",
      "userId": "03324294809057007804"
     },
     "user_tz": -330
    },
    "id": "0n4rPcSJsG1x",
    "outputId": "aad327e5-b656-4f92-ace1-e4c1b68572f2"
   },
   "outputs": [
    {
     "data": {
      "image/png": "[encoded data removed]",
      "text/plain": [
       "<Figure size 720x432 with 1 Axes>"
      ]
     },
     "metadata": {
      "needs_background": "light"
     },
     "output_type": "display_data"
    }
   ],
   "source": [
    "sns.countplot(x = 'DAY_OF_MONTH', data = flight_df, hue = 'ARR_DEL15');"
   ]
  },
  {
   "cell_type": "markdown",
   "metadata": {
    "id": "InKEvBjGt2_b"
   },
   "source": [
    "We can see that the number of delayed flights does not vary in similar fashion to the total number of flights on a given day of the month."
   ]
  },
  {
   "cell_type": "code",
   "execution_count": 32,
   "metadata": {
    "colab": {
     "base_uri": "https://localhost:8080/",
     "height": 396
    },
    "executionInfo": {
     "elapsed": 2051,
     "status": "ok",
     "timestamp": 1627620930260,
     "user": {
      "displayName": "PREMCHAND R",
      "photoUrl": "",
      "userId": "03324294809057007804"
     },
     "user_tz": -330
    },
    "id": "aNU9qffCsG1y",
    "outputId": "4af28e5e-c2b3-42fb-825c-48967b8009f6"
   },
   "outputs": [
    {
     "data": {
      "image/png": "[encoded data removed]",
      "text/plain": [
       "<Figure size 720x432 with 1 Axes>"
      ]
     },
     "metadata": {
      "needs_background": "light"
     },
     "output_type": "display_data"
    }
   ],
   "source": [
    "sns.countplot(x = 'OP_CARRIER', data = flight_df, hue = 'ARR_DEL15');"
   ]
  },
  {
   "cell_type": "markdown",
   "metadata": {
    "id": "NX627D3jt2_c"
   },
   "source": [
    "There is some variation among carriers in terms of total trips and delayed ones."
   ]
  },
  {
   "cell_type": "code",
   "execution_count": 33,
   "metadata": {
    "colab": {
     "base_uri": "https://localhost:8080/",
     "height": 396
    },
    "executionInfo": {
     "elapsed": 3034,
     "status": "ok",
     "timestamp": 1627620988263,
     "user": {
      "displayName": "PREMCHAND R",
      "photoUrl": "",
      "userId": "03324294809057007804"
     },
     "user_tz": -330
    },
    "id": "OuWhF0vQsG1z",
    "outputId": "4fb6b0fb-16b5-44f7-eeb5-fd2b27b18c93"
   },
   "outputs": [
    {
     "data": {
      "image/png": "[encoded data removed]",
      "text/plain": [
       "<Figure size 720x432 with 1 Axes>"
      ]
     },
     "metadata": {
      "needs_background": "light"
     },
     "output_type": "display_data"
    }
   ],
   "source": [
    "sns.histplot(x = 'DISTANCE', hue = 'ARR_DEL15', data = flight_df);"
   ]
  },
  {
   "cell_type": "markdown",
   "metadata": {
    "id": "Gk7Or6D2t2_d"
   },
   "source": [
    "The above plot shows distance may also become an important feature for our problem."
   ]
  },
  {
   "cell_type": "code",
   "execution_count": 34,
   "metadata": {
    "colab": {
     "base_uri": "https://localhost:8080/",
     "height": 396
    },
    "executionInfo": {
     "elapsed": 739,
     "status": "ok",
     "timestamp": 1627621003993,
     "user": {
      "displayName": "PREMCHAND R",
      "photoUrl": "",
      "userId": "03324294809057007804"
     },
     "user_tz": -330
    },
    "id": "ps-6mpw_t2_e",
    "outputId": "06525ac0-934a-463f-9a0b-ce98cad5b03b"
   },
   "outputs": [
    {
     "data": {
      "image/png": "[encoded data removed]",
      "text/plain": [
       "<Figure size 720x432 with 1 Axes>"
      ]
     },
     "metadata": {
      "needs_background": "light"
     },
     "output_type": "display_data"
    }
   ],
   "source": [
    "sns.countplot(x = 'DEP_DEL15', hue = 'ARR_DEL15', data = flight_df);"
   ]
  },
  {
   "cell_type": "markdown",
   "metadata": {
    "id": "Lh7mhtvIt2_f"
   },
   "source": [
    "So the departure delay very much influence delay on arrival and the 'DEP_DEL15' will be a very important feature for our prediction problem."
   ]
  },
  {
   "cell_type": "code",
   "execution_count": 35,
   "metadata": {
    "colab": {
     "base_uri": "https://localhost:8080/",
     "height": 540
    },
    "executionInfo": {
     "elapsed": 677,
     "status": "ok",
     "timestamp": 1627621028404,
     "user": {
      "displayName": "PREMCHAND R",
      "photoUrl": "",
      "userId": "03324294809057007804"
     },
     "user_tz": -330
    },
    "id": "X_Dsv5WbsG1z",
    "outputId": "1adab97c-731e-4462-d1e6-d8db1bb299dd"
   },
   "outputs": [
    {
     "data": {
      "image/png": "[encoded data removed]",
      "text/plain": [
       "<Figure size 648x648 with 1 Axes>"
      ]
     },
     "metadata": {},
     "output_type": "display_data"
    }
   ],
   "source": [
    "plt.figure(figsize = (9,9))\n",
    "plt.title('Percentage of Flights Delayed on Arrival')\n",
    "flight_count = flight_df['ARR_DEL15'].value_counts()\n",
    "plt.pie(flight_count, labels = flight_count.index, autopct = '%1.2f%%');"
   ]
  },
  {
   "cell_type": "markdown",
   "metadata": {
    "id": "ZaT0kKkVxgx-"
   },
   "source": [
    "So approximately 16% of data represent one class(delay on arrival) and 84% the other (no delay)."
   ]
  },
  {
   "cell_type": "markdown",
   "metadata": {
    "id": "uswHTCw7r8JX"
   },
   "source": [
    "### Feature Engineering"
   ]
  },
  {
   "cell_type": "code",
   "execution_count": 36,
   "metadata": {
    "colab": {
     "base_uri": "https://localhost:8080/"
    },
    "executionInfo": {
     "elapsed": 398,
     "status": "ok",
     "timestamp": 1627621136364,
     "user": {
      "displayName": "PREMCHAND R",
      "photoUrl": "",
      "userId": "03324294809057007804"
     },
     "user_tz": -330
    },
    "id": "UM7gGMi1t2_i",
    "outputId": "985d5881-1b08-4e77-8c30-fd606b13026e"
   },
   "outputs": [
    {
     "data": {
      "text/plain": [
       "353"
      ]
     },
     "execution_count": 36,
     "metadata": {},
     "output_type": "execute_result"
    }
   ],
   "source": [
    "flight_df['ORIGIN'].nunique()"
   ]
  },
  {
   "cell_type": "code",
   "execution_count": 37,
   "metadata": {
    "colab": {
     "base_uri": "https://localhost:8080/"
    },
    "executionInfo": {
     "elapsed": 628,
     "status": "ok",
     "timestamp": 1627621139974,
     "user": {
      "displayName": "PREMCHAND R",
      "photoUrl": "",
      "userId": "03324294809057007804"
     },
     "user_tz": -330
    },
    "id": "VhYdTqnft2_i",
    "outputId": "0740c321-c106-4470-9abe-80f3f15c0ac8"
   },
   "outputs": [
    {
     "data": {
      "text/plain": [
       "353"
      ]
     },
     "execution_count": 37,
     "metadata": {},
     "output_type": "execute_result"
    }
   ],
   "source": [
    "flight_df['DEST'].nunique()"
   ]
  },
  {
   "cell_type": "markdown",
   "metadata": {
    "id": "I_rLQzOqt2_i"
   },
   "source": [
    "We have 353 airports in total. Instead of feeding categorical variables of 353 each, we can think of some feature engineering. Let's group origin and destination airports based on delay at departure and arrival and use those as categorical variables."
   ]
  },
  {
   "cell_type": "code",
   "execution_count": 38,
   "metadata": {
    "executionInfo": {
     "elapsed": 610,
     "status": "ok",
     "timestamp": 1627621176828,
     "user": {
      "displayName": "PREMCHAND R",
      "photoUrl": "",
      "userId": "03324294809057007804"
     },
     "user_tz": -330
    },
    "id": "7gjiSqect2_j"
   },
   "outputs": [],
   "source": [
    "percent_delay_origin = flight_df[flight_df['DEP_DEL15']== 1.0]['ORIGIN'].value_counts()/flight_df['ORIGIN'].value_counts()"
   ]
  },
  {
   "cell_type": "code",
   "execution_count": 39,
   "metadata": {
    "colab": {
     "base_uri": "https://localhost:8080/"
    },
    "executionInfo": {
     "elapsed": 875,
     "status": "ok",
     "timestamp": 1627621180107,
     "user": {
      "displayName": "PREMCHAND R",
      "photoUrl": "",
      "userId": "03324294809057007804"
     },
     "user_tz": -330
    },
    "id": "rWMpVTTHt2_k",
    "outputId": "05b77cb3-5968-4fa6-8270-21795c9bf37d"
   },
   "outputs": [
    {
     "data": {
      "text/plain": [
       "ABE    0.166176\n",
       "ABI    0.166163\n",
       "ABQ    0.106371\n",
       "ABR    0.183333\n",
       "ABY    0.089820\n",
       "         ...   \n",
       "WRG    0.168142\n",
       "XNA    0.145199\n",
       "XWA    0.238806\n",
       "YAK    0.183673\n",
       "YUM    0.109635\n",
       "Name: ORIGIN, Length: 353, dtype: float64"
      ]
     },
     "execution_count": 39,
     "metadata": {},
     "output_type": "execute_result"
    }
   ],
   "source": [
    "percent_delay_origin"
   ]
  },
  {
   "cell_type": "code",
   "execution_count": 40,
   "metadata": {
    "colab": {
     "base_uri": "https://localhost:8080/"
    },
    "executionInfo": {
     "elapsed": 834,
     "status": "ok",
     "timestamp": 1627621201207,
     "user": {
      "displayName": "PREMCHAND R",
      "photoUrl": "",
      "userId": "03324294809057007804"
     },
     "user_tz": -330
    },
    "id": "A29MBYmft2_l",
    "outputId": "9ff35c61-7e21-4729-d31e-24db0b460d4d"
   },
   "outputs": [
    {
     "data": {
      "text/plain": [
       "count    353.000000\n",
       "mean       0.159340\n",
       "std        0.055873\n",
       "min        0.034682\n",
       "25%        0.123067\n",
       "50%        0.152306\n",
       "75%        0.187320\n",
       "max        0.411765\n",
       "Name: ORIGIN, dtype: float64"
      ]
     },
     "execution_count": 40,
     "metadata": {},
     "output_type": "execute_result"
    }
   ],
   "source": [
    "percent_delay_origin.describe()"
   ]
  },
  {
   "cell_type": "code",
   "execution_count": 41,
   "metadata": {
    "executionInfo": {
     "elapsed": 625,
     "status": "ok",
     "timestamp": 1627621205298,
     "user": {
      "displayName": "PREMCHAND R",
      "photoUrl": "",
      "userId": "03324294809057007804"
     },
     "user_tz": -330
    },
    "id": "dHN84i3-t2_m"
   },
   "outputs": [],
   "source": [
    "flight_df.loc[:,'ORIGIN_CAT'] = 1"
   ]
  },
  {
   "cell_type": "code",
   "execution_count": 42,
   "metadata": {
    "executionInfo": {
     "elapsed": 617,
     "status": "ok",
     "timestamp": 1627621208572,
     "user": {
      "displayName": "PREMCHAND R",
      "photoUrl": "",
      "userId": "03324294809057007804"
     },
     "user_tz": -330
    },
    "id": "lQ69bYK0Oh57"
   },
   "outputs": [],
   "source": [
    "origin_cat_dict = {}  #Will be useful while making new input prediction"
   ]
  },
  {
   "cell_type": "code",
   "execution_count": 43,
   "metadata": {
    "code_folding": [],
    "executionInfo": {
     "elapsed": 27344,
     "status": "ok",
     "timestamp": 1627621238673,
     "user": {
      "displayName": "PREMCHAND R",
      "photoUrl": "",
      "userId": "03324294809057007804"
     },
     "user_tz": -330
    },
    "id": "BykEknaIt2_n"
   },
   "outputs": [],
   "source": [
    "# insert categories for 'ORIGIN' in 'ORIGIN_CAT' column\n",
    "for index, value in zip(percent_delay_origin.index, percent_delay_origin.values):\n",
    "    if value < 0.05:\n",
    "        origin_cat_dict[index] = 0\n",
    "        flight_df.loc[flight_df['ORIGIN'] == index, 'ORIGIN_CAT'] = 0\n",
    "    elif 0.05 <= value < 0.1:\n",
    "        origin_cat_dict[index] = 1\n",
    "        flight_df.loc[flight_df['ORIGIN'] == index, 'ORIGIN_CAT'] = 1\n",
    "    elif 0.1 <= value < 0.15:\n",
    "        origin_cat_dict[index] = 2\n",
    "        flight_df.loc[flight_df['ORIGIN'] == index, 'ORIGIN_CAT'] = 2\n",
    "    elif 0.15 <= value < 0.2:\n",
    "        origin_cat_dict[index] = 3\n",
    "        flight_df.loc[flight_df['ORIGIN'] == index, 'ORIGIN_CAT'] = 3\n",
    "    elif 0.2 <= value < 0.25:\n",
    "        origin_cat_dict[index] = 4\n",
    "        flight_df.loc[flight_df['ORIGIN'] == index, 'ORIGIN_CAT'] = 4\n",
    "    elif 0.25 <= value < 0.3:\n",
    "        origin_cat_dict[index] = 5\n",
    "        flight_df.loc[flight_df['ORIGIN'] == index, 'ORIGIN_CAT'] = 5\n",
    "    elif 0.3 <= value < 0.35:\n",
    "        origin_cat_dict[index] = 6\n",
    "        flight_df.loc[flight_df['ORIGIN'] == index, 'ORIGIN_CAT'] = 6\n",
    "    elif 0.35 <= value < 0.42:\n",
    "        origin_cat_dict[index] = 7\n",
    "        flight_df.loc[flight_df['ORIGIN'] == index, 'ORIGIN_CAT'] = 7\n"
   ]
  },
  {
   "cell_type": "code",
   "execution_count": 44,
   "metadata": {
    "colab": {
     "base_uri": "https://localhost:8080/"
    },
    "executionInfo": {
     "elapsed": 8,
     "status": "ok",
     "timestamp": 1627621241618,
     "user": {
      "displayName": "PREMCHAND R",
      "photoUrl": "",
      "userId": "03324294809057007804"
     },
     "user_tz": -330
    },
    "id": "m8BgX2GOt2_p",
    "outputId": "9e1e2744-1e36-4ee6-c3db-be08113164d8"
   },
   "outputs": [
    {
     "data": {
      "text/plain": [
       "ABE    0.174298\n",
       "ABI    0.181818\n",
       "ABQ    0.126912\n",
       "ABR    0.200000\n",
       "ABY    0.107784\n",
       "         ...   \n",
       "WRG    0.243243\n",
       "XNA    0.162856\n",
       "XWA    0.161290\n",
       "YAK    0.247525\n",
       "YUM    0.150000\n",
       "Name: DEST, Length: 353, dtype: float64"
      ]
     },
     "execution_count": 44,
     "metadata": {},
     "output_type": "execute_result"
    }
   ],
   "source": [
    "percent_delay_dest = flight_df[flight_df['ARR_DEL15']== 1.0]['DEST'].value_counts()/flight_df['DEST'].value_counts()\n",
    "percent_delay_dest"
   ]
  },
  {
   "cell_type": "code",
   "execution_count": 45,
   "metadata": {
    "colab": {
     "base_uri": "https://localhost:8080/"
    },
    "executionInfo": {
     "elapsed": 793,
     "status": "ok",
     "timestamp": 1627621253390,
     "user": {
      "displayName": "PREMCHAND R",
      "photoUrl": "",
      "userId": "03324294809057007804"
     },
     "user_tz": -330
    },
    "id": "PpUzCEe1t2_q",
    "outputId": "1bee6113-3e10-4ed3-9862-31051bbbf8fc"
   },
   "outputs": [
    {
     "data": {
      "text/plain": [
       "count    353.000000\n",
       "mean       0.175805\n",
       "std        0.054750\n",
       "min        0.047244\n",
       "25%        0.141176\n",
       "50%        0.167407\n",
       "75%        0.200535\n",
       "max        0.353535\n",
       "Name: DEST, dtype: float64"
      ]
     },
     "execution_count": 45,
     "metadata": {},
     "output_type": "execute_result"
    }
   ],
   "source": [
    "percent_delay_dest.describe()"
   ]
  },
  {
   "cell_type": "code",
   "execution_count": 46,
   "metadata": {
    "executionInfo": {
     "elapsed": 743,
     "status": "ok",
     "timestamp": 1627621257111,
     "user": {
      "displayName": "PREMCHAND R",
      "photoUrl": "",
      "userId": "03324294809057007804"
     },
     "user_tz": -330
    },
    "id": "WG-DVY2it2_q"
   },
   "outputs": [],
   "source": [
    "flight_df.loc[:, 'DEST_CAT'] = 1"
   ]
  },
  {
   "cell_type": "code",
   "execution_count": 47,
   "metadata": {
    "executionInfo": {
     "elapsed": 11,
     "status": "ok",
     "timestamp": 1627621259733,
     "user": {
      "displayName": "PREMCHAND R",
      "photoUrl": "",
      "userId": "03324294809057007804"
     },
     "user_tz": -330
    },
    "id": "ucQu3FpeNMHj"
   },
   "outputs": [],
   "source": [
    "dest_cat_dict = {} #Will be useful while making new input prediction"
   ]
  },
  {
   "cell_type": "code",
   "execution_count": 48,
   "metadata": {
    "executionInfo": {
     "elapsed": 27078,
     "status": "ok",
     "timestamp": 1627621289659,
     "user": {
      "displayName": "PREMCHAND R",
      "photoUrl": "",
      "userId": "03324294809057007804"
     },
     "user_tz": -330
    },
    "id": "pNuddM50t2_r"
   },
   "outputs": [],
   "source": [
    "# insert categories for 'DEST' in 'DEST_CAT' column\n",
    "for index, value in zip(percent_delay_dest.index, percent_delay_dest.values):\n",
    "    if value < 0.05:\n",
    "        dest_cat_dict[index] = 0\n",
    "        flight_df.loc[flight_df['DEST'] == index, 'DEST_CAT'] = 0\n",
    "    elif 0.05 <= value < 0.1:\n",
    "        dest_cat_dict[index] = 1\n",
    "        flight_df.loc[flight_df['DEST'] == index, 'DEST_CAT'] = 1\n",
    "    elif 0.1 <= value < 0.15:\n",
    "        dest_cat_dict[index] = 2\n",
    "        flight_df.loc[flight_df['DEST'] == index, 'DEST_CAT'] = 2\n",
    "    elif 0.15 <= value < 0.2:\n",
    "        dest_cat_dict[index] = 3 \n",
    "        flight_df.loc[flight_df['DEST'] == index, 'DEST_CAT'] = 3\n",
    "    elif 0.2 <= value < 0.25:\n",
    "        dest_cat_dict[index] = 4\n",
    "        flight_df.loc[flight_df['DEST'] == index, 'DEST_CAT'] = 4\n",
    "    elif 0.25 <= value < 0.3:\n",
    "        dest_cat_dict[index] = 5\n",
    "        flight_df.loc[flight_df['DEST'] == index, 'DEST_CAT'] = 5\n",
    "    elif 0.3 <= value < 0.35:\n",
    "        dest_cat_dict[index] = 6\n",
    "        flight_df.loc[flight_df['DEST'] == index, 'DEST_CAT'] = 6\n",
    "    elif 0.35 <= value < 0.40:\n",
    "        dest_cat_dict[index] = 7\n",
    "        flight_df.loc[flight_df['DEST'] == index, 'DEST_CAT'] = 7"
   ]
  },
  {
   "cell_type": "code",
   "execution_count": 49,
   "metadata": {
    "colab": {
     "base_uri": "https://localhost:8080/",
     "height": 423
    },
    "executionInfo": {
     "elapsed": 17,
     "status": "ok",
     "timestamp": 1627621294199,
     "user": {
      "displayName": "PREMCHAND R",
      "photoUrl": "",
      "userId": "03324294809057007804"
     },
     "user_tz": -330
    },
    "id": "D5ZDRRJct2_s",
    "outputId": "dc153106-9a8d-4fa1-9da0-93f64b0be2c9"
   },
   "outputs": [
    {
     "data": {
      "text/html": [
       "<div>\n",
       "<style scoped>\n",
       "    .dataframe tbody tr th:only-of-type {\n",
       "        vertical-align: middle;\n",
       "    }\n",
       "\n",
       "    .dataframe tbody tr th {\n",
       "        vertical-align: top;\n",
       "    }\n",
       "\n",
       "    .dataframe thead th {\n",
       "        text-align: right;\n",
       "    }\n",
       "</style>\n",
       "<table border=\"1\" class=\"dataframe\">\n",
       "  <thead>\n",
       "    <tr style=\"text-align: right;\">\n",
       "      <th></th>\n",
       "      <th>DAY_OF_MONTH</th>\n",
       "      <th>DAY_OF_WEEK</th>\n",
       "      <th>OP_CARRIER</th>\n",
       "      <th>ORIGIN</th>\n",
       "      <th>DEST</th>\n",
       "      <th>DEP_TIME</th>\n",
       "      <th>DEP_DEL15</th>\n",
       "      <th>DEP_TIME_BLK</th>\n",
       "      <th>DISTANCE</th>\n",
       "      <th>ARR_DEL15</th>\n",
       "      <th>ORIGIN_CAT</th>\n",
       "      <th>DEST_CAT</th>\n",
       "    </tr>\n",
       "  </thead>\n",
       "  <tbody>\n",
       "    <tr>\n",
       "      <th>0</th>\n",
       "      <td>1</td>\n",
       "      <td>2</td>\n",
       "      <td>9E</td>\n",
       "      <td>GNV</td>\n",
       "      <td>ATL</td>\n",
       "      <td>601.0</td>\n",
       "      <td>0.0</td>\n",
       "      <td>0600-0659</td>\n",
       "      <td>300.0</td>\n",
       "      <td>0.0</td>\n",
       "      <td>2</td>\n",
       "      <td>2</td>\n",
       "    </tr>\n",
       "    <tr>\n",
       "      <th>1</th>\n",
       "      <td>1</td>\n",
       "      <td>2</td>\n",
       "      <td>9E</td>\n",
       "      <td>MSP</td>\n",
       "      <td>CVG</td>\n",
       "      <td>1359.0</td>\n",
       "      <td>0.0</td>\n",
       "      <td>1400-1459</td>\n",
       "      <td>596.0</td>\n",
       "      <td>0.0</td>\n",
       "      <td>2</td>\n",
       "      <td>3</td>\n",
       "    </tr>\n",
       "    <tr>\n",
       "      <th>2</th>\n",
       "      <td>1</td>\n",
       "      <td>2</td>\n",
       "      <td>9E</td>\n",
       "      <td>DTW</td>\n",
       "      <td>CVG</td>\n",
       "      <td>1215.0</td>\n",
       "      <td>0.0</td>\n",
       "      <td>1200-1259</td>\n",
       "      <td>229.0</td>\n",
       "      <td>0.0</td>\n",
       "      <td>2</td>\n",
       "      <td>3</td>\n",
       "    </tr>\n",
       "    <tr>\n",
       "      <th>3</th>\n",
       "      <td>1</td>\n",
       "      <td>2</td>\n",
       "      <td>9E</td>\n",
       "      <td>TLH</td>\n",
       "      <td>ATL</td>\n",
       "      <td>1521.0</td>\n",
       "      <td>0.0</td>\n",
       "      <td>1500-1559</td>\n",
       "      <td>223.0</td>\n",
       "      <td>0.0</td>\n",
       "      <td>2</td>\n",
       "      <td>2</td>\n",
       "    </tr>\n",
       "    <tr>\n",
       "      <th>4</th>\n",
       "      <td>1</td>\n",
       "      <td>2</td>\n",
       "      <td>9E</td>\n",
       "      <td>ATL</td>\n",
       "      <td>FSM</td>\n",
       "      <td>1847.0</td>\n",
       "      <td>0.0</td>\n",
       "      <td>1900-1959</td>\n",
       "      <td>579.0</td>\n",
       "      <td>0.0</td>\n",
       "      <td>2</td>\n",
       "      <td>2</td>\n",
       "    </tr>\n",
       "    <tr>\n",
       "      <th>...</th>\n",
       "      <td>...</td>\n",
       "      <td>...</td>\n",
       "      <td>...</td>\n",
       "      <td>...</td>\n",
       "      <td>...</td>\n",
       "      <td>...</td>\n",
       "      <td>...</td>\n",
       "      <td>...</td>\n",
       "      <td>...</td>\n",
       "      <td>...</td>\n",
       "      <td>...</td>\n",
       "      <td>...</td>\n",
       "    </tr>\n",
       "    <tr>\n",
       "      <th>1191326</th>\n",
       "      <td>31</td>\n",
       "      <td>5</td>\n",
       "      <td>9E</td>\n",
       "      <td>TYS</td>\n",
       "      <td>DTW</td>\n",
       "      <td>1002.0</td>\n",
       "      <td>1.0</td>\n",
       "      <td>0700-0759</td>\n",
       "      <td>443.0</td>\n",
       "      <td>1.0</td>\n",
       "      <td>2</td>\n",
       "      <td>2</td>\n",
       "    </tr>\n",
       "    <tr>\n",
       "      <th>1191327</th>\n",
       "      <td>31</td>\n",
       "      <td>5</td>\n",
       "      <td>9E</td>\n",
       "      <td>DTW</td>\n",
       "      <td>JFK</td>\n",
       "      <td>1747.0</td>\n",
       "      <td>0.0</td>\n",
       "      <td>1700-1759</td>\n",
       "      <td>509.0</td>\n",
       "      <td>0.0</td>\n",
       "      <td>2</td>\n",
       "      <td>3</td>\n",
       "    </tr>\n",
       "    <tr>\n",
       "      <th>1191328</th>\n",
       "      <td>31</td>\n",
       "      <td>5</td>\n",
       "      <td>9E</td>\n",
       "      <td>GSP</td>\n",
       "      <td>LGA</td>\n",
       "      <td>554.0</td>\n",
       "      <td>0.0</td>\n",
       "      <td>0600-0659</td>\n",
       "      <td>610.0</td>\n",
       "      <td>0.0</td>\n",
       "      <td>2</td>\n",
       "      <td>5</td>\n",
       "    </tr>\n",
       "    <tr>\n",
       "      <th>1191329</th>\n",
       "      <td>31</td>\n",
       "      <td>5</td>\n",
       "      <td>9E</td>\n",
       "      <td>ATL</td>\n",
       "      <td>XNA</td>\n",
       "      <td>1714.0</td>\n",
       "      <td>0.0</td>\n",
       "      <td>1700-1759</td>\n",
       "      <td>589.0</td>\n",
       "      <td>0.0</td>\n",
       "      <td>2</td>\n",
       "      <td>3</td>\n",
       "    </tr>\n",
       "    <tr>\n",
       "      <th>1191330</th>\n",
       "      <td>31</td>\n",
       "      <td>5</td>\n",
       "      <td>9E</td>\n",
       "      <td>XNA</td>\n",
       "      <td>ATL</td>\n",
       "      <td>1841.0</td>\n",
       "      <td>0.0</td>\n",
       "      <td>1800-1859</td>\n",
       "      <td>589.0</td>\n",
       "      <td>0.0</td>\n",
       "      <td>2</td>\n",
       "      <td>2</td>\n",
       "    </tr>\n",
       "  </tbody>\n",
       "</table>\n",
       "<p>1165231 rows × 12 columns</p>\n",
       "</div>"
      ],
      "text/plain": [
       "         DAY_OF_MONTH  DAY_OF_WEEK OP_CARRIER ORIGIN DEST  DEP_TIME  \\\n",
       "0                   1            2         9E    GNV  ATL     601.0   \n",
       "1                   1            2         9E    MSP  CVG    1359.0   \n",
       "2                   1            2         9E    DTW  CVG    1215.0   \n",
       "3                   1            2         9E    TLH  ATL    1521.0   \n",
       "4                   1            2         9E    ATL  FSM    1847.0   \n",
       "...               ...          ...        ...    ...  ...       ...   \n",
       "1191326            31            5         9E    TYS  DTW    1002.0   \n",
       "1191327            31            5         9E    DTW  JFK    1747.0   \n",
       "1191328            31            5         9E    GSP  LGA     554.0   \n",
       "1191329            31            5         9E    ATL  XNA    1714.0   \n",
       "1191330            31            5         9E    XNA  ATL    1841.0   \n",
       "\n",
       "         DEP_DEL15 DEP_TIME_BLK  DISTANCE  ARR_DEL15  ORIGIN_CAT  DEST_CAT  \n",
       "0              0.0    0600-0659     300.0        0.0           2         2  \n",
       "1              0.0    1400-1459     596.0        0.0           2         3  \n",
       "2              0.0    1200-1259     229.0        0.0           2         3  \n",
       "3              0.0    1500-1559     223.0        0.0           2         2  \n",
       "4              0.0    1900-1959     579.0        0.0           2         2  \n",
       "...            ...          ...       ...        ...         ...       ...  \n",
       "1191326        1.0    0700-0759     443.0        1.0           2         2  \n",
       "1191327        0.0    1700-1759     509.0        0.0           2         3  \n",
       "1191328        0.0    0600-0659     610.0        0.0           2         5  \n",
       "1191329        0.0    1700-1759     589.0        0.0           2         3  \n",
       "1191330        0.0    1800-1859     589.0        0.0           2         2  \n",
       "\n",
       "[1165231 rows x 12 columns]"
      ]
     },
     "execution_count": 49,
     "metadata": {},
     "output_type": "execute_result"
    }
   ],
   "source": [
    "flight_df"
   ]
  },
  {
   "cell_type": "markdown",
   "metadata": {
    "id": "6Ybzx7dOsG11"
   },
   "source": [
    "### Split Data"
   ]
  },
  {
   "cell_type": "code",
   "execution_count": 50,
   "metadata": {
    "executionInfo": {
     "elapsed": 617,
     "status": "ok",
     "timestamp": 1627621317732,
     "user": {
      "displayName": "PREMCHAND R",
      "photoUrl": "",
      "userId": "03324294809057007804"
     },
     "user_tz": -330
    },
    "id": "moDQbRr9sG11"
   },
   "outputs": [],
   "source": [
    "from sklearn.model_selection import train_test_split"
   ]
  },
  {
   "cell_type": "code",
   "execution_count": 51,
   "metadata": {
    "executionInfo": {
     "elapsed": 447,
     "status": "ok",
     "timestamp": 1627621319894,
     "user": {
      "displayName": "PREMCHAND R",
      "photoUrl": "",
      "userId": "03324294809057007804"
     },
     "user_tz": -330
    },
    "id": "b8eQNPaxsG11"
   },
   "outputs": [],
   "source": [
    "train_val_df, test_df = train_test_split(flight_df, test_size = 0.2, shuffle = False)\n",
    "train_df, val_df = train_test_split(train_val_df, test_size = 0.25, shuffle = False)"
   ]
  },
  {
   "cell_type": "markdown",
   "metadata": {
    "id": "FT2C_VXUt2_w"
   },
   "source": [
    "The data is split into 60% training, 20% validation and remaining 20% for testing. Shuffle set to False so that latest data comes for testing."
   ]
  },
  {
   "cell_type": "code",
   "execution_count": 52,
   "metadata": {
    "colab": {
     "base_uri": "https://localhost:8080/"
    },
    "executionInfo": {
     "elapsed": 526,
     "status": "ok",
     "timestamp": 1627621337092,
     "user": {
      "displayName": "PREMCHAND R",
      "photoUrl": "",
      "userId": "03324294809057007804"
     },
     "user_tz": -330
    },
    "id": "7XpMSjMesG12",
    "outputId": "fc61a6e1-f3ce-48d9-aad6-884172f33af4"
   },
   "outputs": [
    {
     "name": "stdout",
     "output_type": "stream",
     "text": [
      "train_df size:  (699138, 12)\n",
      "val_df size:  (233046, 12)\n",
      "test_df size:  (233047, 12)\n"
     ]
    }
   ],
   "source": [
    "print('train_df size: ', train_df.shape)\n",
    "print('val_df size: ', val_df.shape)\n",
    "print('test_df size: ', test_df.shape)"
   ]
  },
  {
   "cell_type": "markdown",
   "metadata": {
    "id": "33SeiefpsG13"
   },
   "source": [
    "Let's now select input columns, target columns and then choose numerical and categorical columns for further processing of data."
   ]
  },
  {
   "cell_type": "code",
   "execution_count": 53,
   "metadata": {
    "colab": {
     "base_uri": "https://localhost:8080/"
    },
    "executionInfo": {
     "elapsed": 421,
     "status": "ok",
     "timestamp": 1627621367193,
     "user": {
      "displayName": "PREMCHAND R",
      "photoUrl": "",
      "userId": "03324294809057007804"
     },
     "user_tz": -330
    },
    "id": "ATbuZ1x0sG13",
    "outputId": "7fc9044b-e35a-4638-e03b-e6da281604c3"
   },
   "outputs": [
    {
     "data": {
      "text/plain": [
       "Index(['DAY_OF_MONTH', 'DAY_OF_WEEK', 'OP_CARRIER', 'ORIGIN', 'DEST',\n",
       "       'DEP_TIME', 'DEP_DEL15', 'DEP_TIME_BLK', 'DISTANCE', 'ARR_DEL15',\n",
       "       'ORIGIN_CAT', 'DEST_CAT'],\n",
       "      dtype='object')"
      ]
     },
     "execution_count": 53,
     "metadata": {},
     "output_type": "execute_result"
    }
   ],
   "source": [
    "flight_df.columns"
   ]
  },
  {
   "cell_type": "code",
   "execution_count": 54,
   "metadata": {
    "executionInfo": {
     "elapsed": 390,
     "status": "ok",
     "timestamp": 1627621369312,
     "user": {
      "displayName": "PREMCHAND R",
      "photoUrl": "",
      "userId": "03324294809057007804"
     },
     "user_tz": -330
    },
    "id": "qW9qeom2sG14"
   },
   "outputs": [],
   "source": [
    "input_cols =  ['DAY_OF_MONTH', 'DAY_OF_WEEK', 'OP_CARRIER', 'DEP_TIME', 'DEP_DEL15', \n",
    "               'DEP_TIME_BLK', 'DISTANCE', 'ORIGIN_CAT', 'DEST_CAT']\n",
    "target_col = 'ARR_DEL15'"
   ]
  },
  {
   "cell_type": "code",
   "execution_count": 55,
   "metadata": {
    "executionInfo": {
     "elapsed": 387,
     "status": "ok",
     "timestamp": 1627621372554,
     "user": {
      "displayName": "PREMCHAND R",
      "photoUrl": "",
      "userId": "03324294809057007804"
     },
     "user_tz": -330
    },
    "id": "cGIPFqHtsG14"
   },
   "outputs": [],
   "source": [
    "numeric_cols =  ['DAY_OF_MONTH','DEP_TIME', 'DISTANCE']\n",
    "categorical_cols =  ['DAY_OF_WEEK', 'OP_CARRIER', 'DEP_DEL15', 'DEP_TIME_BLK', 'ORIGIN_CAT', 'DEST_CAT']"
   ]
  },
  {
   "cell_type": "code",
   "execution_count": 56,
   "metadata": {
    "colab": {
     "base_uri": "https://localhost:8080/",
     "height": 300
    },
    "executionInfo": {
     "elapsed": 425,
     "status": "ok",
     "timestamp": 1627621374981,
     "user": {
      "displayName": "PREMCHAND R",
      "photoUrl": "",
      "userId": "03324294809057007804"
     },
     "user_tz": -330
    },
    "id": "WJAi8Vw6sG15",
    "outputId": "b837ce8c-1fc0-41cc-f90d-13ecf9fa1c35"
   },
   "outputs": [
    {
     "data": {
      "text/html": [
       "<div>\n",
       "<style scoped>\n",
       "    .dataframe tbody tr th:only-of-type {\n",
       "        vertical-align: middle;\n",
       "    }\n",
       "\n",
       "    .dataframe tbody tr th {\n",
       "        vertical-align: top;\n",
       "    }\n",
       "\n",
       "    .dataframe thead th {\n",
       "        text-align: right;\n",
       "    }\n",
       "</style>\n",
       "<table border=\"1\" class=\"dataframe\">\n",
       "  <thead>\n",
       "    <tr style=\"text-align: right;\">\n",
       "      <th></th>\n",
       "      <th>DAY_OF_MONTH</th>\n",
       "      <th>DEP_TIME</th>\n",
       "      <th>DISTANCE</th>\n",
       "    </tr>\n",
       "  </thead>\n",
       "  <tbody>\n",
       "    <tr>\n",
       "      <th>count</th>\n",
       "      <td>699138.000000</td>\n",
       "      <td>699138.000000</td>\n",
       "      <td>699138.000000</td>\n",
       "    </tr>\n",
       "    <tr>\n",
       "      <th>mean</th>\n",
       "      <td>13.525677</td>\n",
       "      <td>1333.096670</td>\n",
       "      <td>807.287787</td>\n",
       "    </tr>\n",
       "    <tr>\n",
       "      <th>std</th>\n",
       "      <td>9.346128</td>\n",
       "      <td>497.526748</td>\n",
       "      <td>594.301082</td>\n",
       "    </tr>\n",
       "    <tr>\n",
       "      <th>min</th>\n",
       "      <td>1.000000</td>\n",
       "      <td>1.000000</td>\n",
       "      <td>31.000000</td>\n",
       "    </tr>\n",
       "    <tr>\n",
       "      <th>25%</th>\n",
       "      <td>5.000000</td>\n",
       "      <td>921.000000</td>\n",
       "      <td>369.000000</td>\n",
       "    </tr>\n",
       "    <tr>\n",
       "      <th>50%</th>\n",
       "      <td>12.000000</td>\n",
       "      <td>1328.000000</td>\n",
       "      <td>646.000000</td>\n",
       "    </tr>\n",
       "    <tr>\n",
       "      <th>75%</th>\n",
       "      <td>22.000000</td>\n",
       "      <td>1740.000000</td>\n",
       "      <td>1049.000000</td>\n",
       "    </tr>\n",
       "    <tr>\n",
       "      <th>max</th>\n",
       "      <td>31.000000</td>\n",
       "      <td>2400.000000</td>\n",
       "      <td>5095.000000</td>\n",
       "    </tr>\n",
       "  </tbody>\n",
       "</table>\n",
       "</div>"
      ],
      "text/plain": [
       "        DAY_OF_MONTH       DEP_TIME       DISTANCE\n",
       "count  699138.000000  699138.000000  699138.000000\n",
       "mean       13.525677    1333.096670     807.287787\n",
       "std         9.346128     497.526748     594.301082\n",
       "min         1.000000       1.000000      31.000000\n",
       "25%         5.000000     921.000000     369.000000\n",
       "50%        12.000000    1328.000000     646.000000\n",
       "75%        22.000000    1740.000000    1049.000000\n",
       "max        31.000000    2400.000000    5095.000000"
      ]
     },
     "execution_count": 56,
     "metadata": {},
     "output_type": "execute_result"
    }
   ],
   "source": [
    "train_df[numeric_cols].describe()"
   ]
  },
  {
   "cell_type": "markdown",
   "metadata": {
    "id": "B7yyFJkct2_3"
   },
   "source": [
    "Choose inputs and targets for training, validation and testing."
   ]
  },
  {
   "cell_type": "code",
   "execution_count": 57,
   "metadata": {
    "executionInfo": {
     "elapsed": 494,
     "status": "ok",
     "timestamp": 1627621385727,
     "user": {
      "displayName": "PREMCHAND R",
      "photoUrl": "",
      "userId": "03324294809057007804"
     },
     "user_tz": -330
    },
    "id": "P8LJFfkBsG16"
   },
   "outputs": [],
   "source": [
    "train_inputs = train_df[input_cols].copy()\n",
    "val_inputs = val_df[input_cols].copy()\n",
    "test_inputs = test_df[input_cols].copy()"
   ]
  },
  {
   "cell_type": "code",
   "execution_count": 58,
   "metadata": {
    "executionInfo": {
     "elapsed": 657,
     "status": "ok",
     "timestamp": 1627621388844,
     "user": {
      "displayName": "PREMCHAND R",
      "photoUrl": "",
      "userId": "03324294809057007804"
     },
     "user_tz": -330
    },
    "id": "zX4kPjZasG16"
   },
   "outputs": [],
   "source": [
    "train_targets = train_df[target_col].copy()\n",
    "val_targets = val_df[target_col].copy()\n",
    "test_targets = test_df[target_col].copy()"
   ]
  },
  {
   "cell_type": "code",
   "execution_count": 59,
   "metadata": {
    "colab": {
     "base_uri": "https://localhost:8080/",
     "height": 423
    },
    "executionInfo": {
     "elapsed": 16,
     "status": "ok",
     "timestamp": 1627621392014,
     "user": {
      "displayName": "PREMCHAND R",
      "photoUrl": "",
      "userId": "03324294809057007804"
     },
     "user_tz": -330
    },
    "id": "MkBeB5XnsG17",
    "outputId": "dcd2f7bf-734f-4809-e66f-5d9915bedd6f"
   },
   "outputs": [
    {
     "data": {
      "text/html": [
       "<div>\n",
       "<style scoped>\n",
       "    .dataframe tbody tr th:only-of-type {\n",
       "        vertical-align: middle;\n",
       "    }\n",
       "\n",
       "    .dataframe tbody tr th {\n",
       "        vertical-align: top;\n",
       "    }\n",
       "\n",
       "    .dataframe thead th {\n",
       "        text-align: right;\n",
       "    }\n",
       "</style>\n",
       "<table border=\"1\" class=\"dataframe\">\n",
       "  <thead>\n",
       "    <tr style=\"text-align: right;\">\n",
       "      <th></th>\n",
       "      <th>DAY_OF_MONTH</th>\n",
       "      <th>DAY_OF_WEEK</th>\n",
       "      <th>OP_CARRIER</th>\n",
       "      <th>DEP_TIME</th>\n",
       "      <th>DEP_DEL15</th>\n",
       "      <th>DEP_TIME_BLK</th>\n",
       "      <th>DISTANCE</th>\n",
       "      <th>ORIGIN_CAT</th>\n",
       "      <th>DEST_CAT</th>\n",
       "    </tr>\n",
       "  </thead>\n",
       "  <tbody>\n",
       "    <tr>\n",
       "      <th>0</th>\n",
       "      <td>1</td>\n",
       "      <td>2</td>\n",
       "      <td>9E</td>\n",
       "      <td>601.0</td>\n",
       "      <td>0.0</td>\n",
       "      <td>0600-0659</td>\n",
       "      <td>300.0</td>\n",
       "      <td>2</td>\n",
       "      <td>2</td>\n",
       "    </tr>\n",
       "    <tr>\n",
       "      <th>1</th>\n",
       "      <td>1</td>\n",
       "      <td>2</td>\n",
       "      <td>9E</td>\n",
       "      <td>1359.0</td>\n",
       "      <td>0.0</td>\n",
       "      <td>1400-1459</td>\n",
       "      <td>596.0</td>\n",
       "      <td>2</td>\n",
       "      <td>3</td>\n",
       "    </tr>\n",
       "    <tr>\n",
       "      <th>2</th>\n",
       "      <td>1</td>\n",
       "      <td>2</td>\n",
       "      <td>9E</td>\n",
       "      <td>1215.0</td>\n",
       "      <td>0.0</td>\n",
       "      <td>1200-1259</td>\n",
       "      <td>229.0</td>\n",
       "      <td>2</td>\n",
       "      <td>3</td>\n",
       "    </tr>\n",
       "    <tr>\n",
       "      <th>3</th>\n",
       "      <td>1</td>\n",
       "      <td>2</td>\n",
       "      <td>9E</td>\n",
       "      <td>1521.0</td>\n",
       "      <td>0.0</td>\n",
       "      <td>1500-1559</td>\n",
       "      <td>223.0</td>\n",
       "      <td>2</td>\n",
       "      <td>2</td>\n",
       "    </tr>\n",
       "    <tr>\n",
       "      <th>4</th>\n",
       "      <td>1</td>\n",
       "      <td>2</td>\n",
       "      <td>9E</td>\n",
       "      <td>1847.0</td>\n",
       "      <td>0.0</td>\n",
       "      <td>1900-1959</td>\n",
       "      <td>579.0</td>\n",
       "      <td>2</td>\n",
       "      <td>2</td>\n",
       "    </tr>\n",
       "    <tr>\n",
       "      <th>...</th>\n",
       "      <td>...</td>\n",
       "      <td>...</td>\n",
       "      <td>...</td>\n",
       "      <td>...</td>\n",
       "      <td>...</td>\n",
       "      <td>...</td>\n",
       "      <td>...</td>\n",
       "      <td>...</td>\n",
       "      <td>...</td>\n",
       "    </tr>\n",
       "    <tr>\n",
       "      <th>717944</th>\n",
       "      <td>7</td>\n",
       "      <td>2</td>\n",
       "      <td>9E</td>\n",
       "      <td>1928.0</td>\n",
       "      <td>1.0</td>\n",
       "      <td>1700-1759</td>\n",
       "      <td>296.0</td>\n",
       "      <td>4</td>\n",
       "      <td>3</td>\n",
       "    </tr>\n",
       "    <tr>\n",
       "      <th>717945</th>\n",
       "      <td>7</td>\n",
       "      <td>2</td>\n",
       "      <td>9E</td>\n",
       "      <td>2101.0</td>\n",
       "      <td>1.0</td>\n",
       "      <td>1900-1959</td>\n",
       "      <td>296.0</td>\n",
       "      <td>3</td>\n",
       "      <td>5</td>\n",
       "    </tr>\n",
       "    <tr>\n",
       "      <th>717946</th>\n",
       "      <td>7</td>\n",
       "      <td>2</td>\n",
       "      <td>9E</td>\n",
       "      <td>1725.0</td>\n",
       "      <td>0.0</td>\n",
       "      <td>1700-1759</td>\n",
       "      <td>752.0</td>\n",
       "      <td>3</td>\n",
       "      <td>3</td>\n",
       "    </tr>\n",
       "    <tr>\n",
       "      <th>717947</th>\n",
       "      <td>7</td>\n",
       "      <td>2</td>\n",
       "      <td>9E</td>\n",
       "      <td>1225.0</td>\n",
       "      <td>1.0</td>\n",
       "      <td>1100-1159</td>\n",
       "      <td>305.0</td>\n",
       "      <td>3</td>\n",
       "      <td>5</td>\n",
       "    </tr>\n",
       "    <tr>\n",
       "      <th>717948</th>\n",
       "      <td>7</td>\n",
       "      <td>2</td>\n",
       "      <td>9E</td>\n",
       "      <td>2108.0</td>\n",
       "      <td>0.0</td>\n",
       "      <td>2100-2159</td>\n",
       "      <td>508.0</td>\n",
       "      <td>2</td>\n",
       "      <td>3</td>\n",
       "    </tr>\n",
       "  </tbody>\n",
       "</table>\n",
       "<p>699138 rows × 9 columns</p>\n",
       "</div>"
      ],
      "text/plain": [
       "        DAY_OF_MONTH  DAY_OF_WEEK OP_CARRIER  DEP_TIME  DEP_DEL15  \\\n",
       "0                  1            2         9E     601.0        0.0   \n",
       "1                  1            2         9E    1359.0        0.0   \n",
       "2                  1            2         9E    1215.0        0.0   \n",
       "3                  1            2         9E    1521.0        0.0   \n",
       "4                  1            2         9E    1847.0        0.0   \n",
       "...              ...          ...        ...       ...        ...   \n",
       "717944             7            2         9E    1928.0        1.0   \n",
       "717945             7            2         9E    2101.0        1.0   \n",
       "717946             7            2         9E    1725.0        0.0   \n",
       "717947             7            2         9E    1225.0        1.0   \n",
       "717948             7            2         9E    2108.0        0.0   \n",
       "\n",
       "       DEP_TIME_BLK  DISTANCE  ORIGIN_CAT  DEST_CAT  \n",
       "0         0600-0659     300.0           2         2  \n",
       "1         1400-1459     596.0           2         3  \n",
       "2         1200-1259     229.0           2         3  \n",
       "3         1500-1559     223.0           2         2  \n",
       "4         1900-1959     579.0           2         2  \n",
       "...             ...       ...         ...       ...  \n",
       "717944    1700-1759     296.0           4         3  \n",
       "717945    1900-1959     296.0           3         5  \n",
       "717946    1700-1759     752.0           3         3  \n",
       "717947    1100-1159     305.0           3         5  \n",
       "717948    2100-2159     508.0           2         3  \n",
       "\n",
       "[699138 rows x 9 columns]"
      ]
     },
     "execution_count": 59,
     "metadata": {},
     "output_type": "execute_result"
    }
   ],
   "source": [
    "train_inputs"
   ]
  },
  {
   "cell_type": "markdown",
   "metadata": {
    "id": "Wc9UXU3Tt2_6"
   },
   "source": [
    "### Imputation"
   ]
  },
  {
   "cell_type": "code",
   "execution_count": 60,
   "metadata": {
    "colab": {
     "base_uri": "https://localhost:8080/"
    },
    "executionInfo": {
     "elapsed": 626,
     "status": "ok",
     "timestamp": 1627621405594,
     "user": {
      "displayName": "PREMCHAND R",
      "photoUrl": "",
      "userId": "03324294809057007804"
     },
     "user_tz": -330
    },
    "id": "_DLEy9MTt2_7",
    "outputId": "80aee3f4-5b60-4824-8776-650d05223255"
   },
   "outputs": [
    {
     "data": {
      "text/plain": [
       "DAY_OF_MONTH    0\n",
       "DAY_OF_WEEK     0\n",
       "OP_CARRIER      0\n",
       "ORIGIN          0\n",
       "DEST            0\n",
       "DEP_TIME        0\n",
       "DEP_DEL15       0\n",
       "DEP_TIME_BLK    0\n",
       "DISTANCE        0\n",
       "ARR_DEL15       0\n",
       "ORIGIN_CAT      0\n",
       "DEST_CAT        0\n",
       "dtype: int64"
      ]
     },
     "execution_count": 60,
     "metadata": {},
     "output_type": "execute_result"
    }
   ],
   "source": [
    "flight_df.isna().sum()"
   ]
  },
  {
   "cell_type": "markdown",
   "metadata": {
    "id": "TYl-zuIvt2_8"
   },
   "source": [
    "Since there are no missing values, imputation is not required."
   ]
  },
  {
   "cell_type": "markdown",
   "metadata": {
    "id": "nFErcxrKt2_9"
   },
   "source": [
    "### Scaling Numeric Values"
   ]
  },
  {
   "cell_type": "markdown",
   "metadata": {
    "id": "W-vk28cvt2_-"
   },
   "source": [
    "Now let's scale numeric values to the 0 to 1 range."
   ]
  },
  {
   "cell_type": "code",
   "execution_count": 61,
   "metadata": {
    "executionInfo": {
     "elapsed": 494,
     "status": "ok",
     "timestamp": 1627621430368,
     "user": {
      "displayName": "PREMCHAND R",
      "photoUrl": "",
      "userId": "03324294809057007804"
     },
     "user_tz": -330
    },
    "id": "TZgs_7XXsG18"
   },
   "outputs": [],
   "source": [
    "from sklearn.preprocessing import MinMaxScaler"
   ]
  },
  {
   "cell_type": "code",
   "execution_count": 62,
   "metadata": {
    "executionInfo": {
     "elapsed": 7,
     "status": "ok",
     "timestamp": 1627621431884,
     "user": {
      "displayName": "PREMCHAND R",
      "photoUrl": "",
      "userId": "03324294809057007804"
     },
     "user_tz": -330
    },
    "id": "ojxTxxohsG18"
   },
   "outputs": [],
   "source": [
    "scaler = MinMaxScaler()"
   ]
  },
  {
   "cell_type": "code",
   "execution_count": 63,
   "metadata": {
    "colab": {
     "base_uri": "https://localhost:8080/"
    },
    "executionInfo": {
     "elapsed": 621,
     "status": "ok",
     "timestamp": 1627621434124,
     "user": {
      "displayName": "PREMCHAND R",
      "photoUrl": "",
      "userId": "03324294809057007804"
     },
     "user_tz": -330
    },
    "id": "Rl9EiV0JsG19",
    "outputId": "10ba0850-277e-4a04-db46-bb795cf6f7ac"
   },
   "outputs": [
    {
     "data": {
      "text/html": [
       "<style>#sk-container-id-1 {color: black;background-color: white;}#sk-container-id-1 pre{padding: 0;}#sk-container-id-1 div.sk-toggleable {background-color: white;}#sk-container-id-1 label.sk-toggleable__label {cursor: pointer;display: block;width: 100%;margin-bottom: 0;padding: 0.3em;box-sizing: border-box;text-align: center;}#sk-container-id-1 label.sk-toggleable__label-arrow:before {content: \"▸\";float: left;margin-right: 0.25em;color: #696969;}#sk-container-id-1 label.sk-toggleable__label-arrow:hover:before {color: black;}#sk-container-id-1 div.sk-estimator:hover label.sk-toggleable__label-arrow:before {color: black;}#sk-container-id-1 div.sk-toggleable__content {max-height: 0;max-width: 0;overflow: hidden;text-align: left;background-color: #f0f8ff;}#sk-container-id-1 div.sk-toggleable__content pre {margin: 0.2em;color: black;border-radius: 0.25em;background-color: #f0f8ff;}#sk-container-id-1 input.sk-toggleable__control:checked~div.sk-toggleable__content {max-height: 200px;max-width: 100%;overflow: auto;}#sk-container-id-1 input.sk-toggleable__control:checked~label.sk-toggleable__label-arrow:before {content: \"▾\";}#sk-container-id-1 div.sk-estimator input.sk-toggleable__control:checked~label.sk-toggleable__label {background-color: #d4ebff;}#sk-container-id-1 div.sk-label input.sk-toggleable__control:checked~label.sk-toggleable__label {background-color: #d4ebff;}#sk-container-id-1 input.sk-hidden--visually {border: 0;clip: rect(1px 1px 1px 1px);clip: rect(1px, 1px, 1px, 1px);height: 1px;margin: -1px;overflow: hidden;padding: 0;position: absolute;width: 1px;}#sk-container-id-1 div.sk-estimator {font-family: monospace;background-color: #f0f8ff;border: 1px dotted black;border-radius: 0.25em;box-sizing: border-box;margin-bottom: 0.5em;}#sk-container-id-1 div.sk-estimator:hover {background-color: #d4ebff;}#sk-container-id-1 div.sk-parallel-item::after {content: \"\";width: 100%;border-bottom: 1px solid gray;flex-grow: 1;}#sk-container-id-1 div.sk-label:hover label.sk-toggleable__label {background-color: #d4ebff;}#sk-container-id-1 div.sk-serial::before {content: \"\";position: absolute;border-left: 1px solid gray;box-sizing: border-box;top: 0;bottom: 0;left: 50%;z-index: 0;}#sk-container-id-1 div.sk-serial {display: flex;flex-direction: column;align-items: center;background-color: white;padding-right: 0.2em;padding-left: 0.2em;position: relative;}#sk-container-id-1 div.sk-item {position: relative;z-index: 1;}#sk-container-id-1 div.sk-parallel {display: flex;align-items: stretch;justify-content: center;background-color: white;position: relative;}#sk-container-id-1 div.sk-item::before, #sk-container-id-1 div.sk-parallel-item::before {content: \"\";position: absolute;border-left: 1px solid gray;box-sizing: border-box;top: 0;bottom: 0;left: 50%;z-index: -1;}#sk-container-id-1 div.sk-parallel-item {display: flex;flex-direction: column;z-index: 1;position: relative;background-color: white;}#sk-container-id-1 div.sk-parallel-item:first-child::after {align-self: flex-end;width: 50%;}#sk-container-id-1 div.sk-parallel-item:last-child::after {align-self: flex-start;width: 50%;}#sk-container-id-1 div.sk-parallel-item:only-child::after {width: 0;}#sk-container-id-1 div.sk-dashed-wrapped {border: 1px dashed gray;margin: 0 0.4em 0.5em 0.4em;box-sizing: border-box;padding-bottom: 0.4em;background-color: white;}#sk-container-id-1 div.sk-label label {font-family: monospace;font-weight: bold;display: inline-block;line-height: 1.2em;}#sk-container-id-1 div.sk-label-container {text-align: center;}#sk-container-id-1 div.sk-container {/* jupyter's `normalize.less` sets `[hidden] { display: none; }` but bootstrap.min.css set `[hidden] { display: none !important; }` so we also need the `!important` here to be able to override the default hidden behavior on the sphinx rendered scikit-learn.org. See: https://github.com/scikit-learn/scikit-learn/issues/21755 */display: inline-block !important;position: relative;}#sk-container-id-1 div.sk-text-repr-fallback {display: none;}</style><div id=\"sk-container-id-1\" class=\"sk-top-container\"><div class=\"sk-text-repr-fallback\"><pre>MinMaxScaler()</pre><b>In a Jupyter environment, please rerun this cell to show the HTML representation or trust the notebook. <br />On GitHub, the HTML representation is unable to render, please try loading this page with nbviewer.org.</b></div><div class=\"sk-container\" hidden><div class=\"sk-item\"><div class=\"sk-estimator sk-toggleable\"><input class=\"sk-toggleable__control sk-hidden--visually\" id=\"sk-estimator-id-1\" type=\"checkbox\" checked><label for=\"sk-estimator-id-1\" class=\"sk-toggleable__label sk-toggleable__label-arrow\">MinMaxScaler</label><div class=\"sk-toggleable__content\"><pre>MinMaxScaler()</pre></div></div></div></div></div>"
      ],
      "text/plain": [
       "MinMaxScaler()"
      ]
     },
     "execution_count": 63,
     "metadata": {},
     "output_type": "execute_result"
    }
   ],
   "source": [
    "scaler.fit(flight_df[numeric_cols])"
   ]
  },
  {
   "cell_type": "code",
   "execution_count": 64,
   "metadata": {
    "executionInfo": {
     "elapsed": 1253,
     "status": "ok",
     "timestamp": 1627621438990,
     "user": {
      "displayName": "PREMCHAND R",
      "photoUrl": "",
      "userId": "03324294809057007804"
     },
     "user_tz": -330
    },
    "id": "SxZ3FICtsG19"
   },
   "outputs": [],
   "source": [
    "train_inputs[numeric_cols] = scaler.transform(train_inputs[numeric_cols])\n",
    "val_inputs[numeric_cols] = scaler.transform(val_inputs[numeric_cols])\n",
    "test_inputs[numeric_cols] = scaler.transform(test_inputs[numeric_cols])"
   ]
  },
  {
   "cell_type": "code",
   "execution_count": 65,
   "metadata": {
    "colab": {
     "base_uri": "https://localhost:8080/",
     "height": 300
    },
    "executionInfo": {
     "elapsed": 630,
     "status": "ok",
     "timestamp": 1627621441233,
     "user": {
      "displayName": "PREMCHAND R",
      "photoUrl": "",
      "userId": "03324294809057007804"
     },
     "user_tz": -330
    },
    "id": "3L3oBsUMsG1-",
    "outputId": "b1b6e126-c4b8-4cd3-a6fd-016cb73fbcb0"
   },
   "outputs": [
    {
     "data": {
      "text/html": [
       "<div>\n",
       "<style scoped>\n",
       "    .dataframe tbody tr th:only-of-type {\n",
       "        vertical-align: middle;\n",
       "    }\n",
       "\n",
       "    .dataframe tbody tr th {\n",
       "        vertical-align: top;\n",
       "    }\n",
       "\n",
       "    .dataframe thead th {\n",
       "        text-align: right;\n",
       "    }\n",
       "</style>\n",
       "<table border=\"1\" class=\"dataframe\">\n",
       "  <thead>\n",
       "    <tr style=\"text-align: right;\">\n",
       "      <th></th>\n",
       "      <th>DAY_OF_MONTH</th>\n",
       "      <th>DEP_TIME</th>\n",
       "      <th>DISTANCE</th>\n",
       "    </tr>\n",
       "  </thead>\n",
       "  <tbody>\n",
       "    <tr>\n",
       "      <th>count</th>\n",
       "      <td>699138.000000</td>\n",
       "      <td>699138.000000</td>\n",
       "      <td>699138.000000</td>\n",
       "    </tr>\n",
       "    <tr>\n",
       "      <th>mean</th>\n",
       "      <td>0.417523</td>\n",
       "      <td>0.555272</td>\n",
       "      <td>0.153295</td>\n",
       "    </tr>\n",
       "    <tr>\n",
       "      <th>std</th>\n",
       "      <td>0.311538</td>\n",
       "      <td>0.207389</td>\n",
       "      <td>0.117358</td>\n",
       "    </tr>\n",
       "    <tr>\n",
       "      <th>min</th>\n",
       "      <td>0.000000</td>\n",
       "      <td>0.000000</td>\n",
       "      <td>0.000000</td>\n",
       "    </tr>\n",
       "    <tr>\n",
       "      <th>25%</th>\n",
       "      <td>0.133333</td>\n",
       "      <td>0.383493</td>\n",
       "      <td>0.066746</td>\n",
       "    </tr>\n",
       "    <tr>\n",
       "      <th>50%</th>\n",
       "      <td>0.366667</td>\n",
       "      <td>0.553147</td>\n",
       "      <td>0.121445</td>\n",
       "    </tr>\n",
       "    <tr>\n",
       "      <th>75%</th>\n",
       "      <td>0.700000</td>\n",
       "      <td>0.724885</td>\n",
       "      <td>0.201027</td>\n",
       "    </tr>\n",
       "    <tr>\n",
       "      <th>max</th>\n",
       "      <td>1.000000</td>\n",
       "      <td>1.000000</td>\n",
       "      <td>1.000000</td>\n",
       "    </tr>\n",
       "  </tbody>\n",
       "</table>\n",
       "</div>"
      ],
      "text/plain": [
       "        DAY_OF_MONTH       DEP_TIME       DISTANCE\n",
       "count  699138.000000  699138.000000  699138.000000\n",
       "mean        0.417523       0.555272       0.153295\n",
       "std         0.311538       0.207389       0.117358\n",
       "min         0.000000       0.000000       0.000000\n",
       "25%         0.133333       0.383493       0.066746\n",
       "50%         0.366667       0.553147       0.121445\n",
       "75%         0.700000       0.724885       0.201027\n",
       "max         1.000000       1.000000       1.000000"
      ]
     },
     "execution_count": 65,
     "metadata": {},
     "output_type": "execute_result"
    }
   ],
   "source": [
    "train_inputs[numeric_cols].describe()"
   ]
  },
  {
   "cell_type": "markdown",
   "metadata": {
    "id": "lMZBw7Det3AC"
   },
   "source": [
    "### Encoding Categorical Columns"
   ]
  },
  {
   "cell_type": "code",
   "execution_count": 66,
   "metadata": {
    "executionInfo": {
     "elapsed": 624,
     "status": "ok",
     "timestamp": 1627621451978,
     "user": {
      "displayName": "PREMCHAND R",
      "photoUrl": "",
      "userId": "03324294809057007804"
     },
     "user_tz": -330
    },
    "id": "YicnmE5nsG1-"
   },
   "outputs": [],
   "source": [
    "from sklearn.preprocessing import OneHotEncoder"
   ]
  },
  {
   "cell_type": "code",
   "execution_count": 67,
   "metadata": {
    "executionInfo": {
     "elapsed": 562,
     "status": "ok",
     "timestamp": 1627621456785,
     "user": {
      "displayName": "PREMCHAND R",
      "photoUrl": "",
      "userId": "03324294809057007804"
     },
     "user_tz": -330
    },
    "id": "SCvAYjh1sG1_"
   },
   "outputs": [
    {
     "name": "stderr",
     "output_type": "stream",
     "text": [
      "C:\\Users\\LTT-CPU-595\\anaconda3\\lib\\site-packages\\sklearn\\utils\\deprecation.py:87: FutureWarning: Function get_feature_names is deprecated; get_feature_names is deprecated in 1.0 and will be removed in 1.2. Please use get_feature_names_out instead.\n",
      "  warnings.warn(msg, category=FutureWarning)\n"
     ]
    }
   ],
   "source": [
    "encoder = OneHotEncoder(sparse = False, handle_unknown = 'ignore').fit(flight_df[categorical_cols])\n",
    "encoded_cols = list(encoder.get_feature_names(categorical_cols))"
   ]
  },
  {
   "cell_type": "code",
   "execution_count": 68,
   "metadata": {
    "colab": {
     "base_uri": "https://localhost:8080/"
    },
    "executionInfo": {
     "elapsed": 1681,
     "status": "ok",
     "timestamp": 1627621461904,
     "user": {
      "displayName": "PREMCHAND R",
      "photoUrl": "",
      "userId": "03324294809057007804"
     },
     "user_tz": -330
    },
    "id": "ZfmdSht2sG1_",
    "outputId": "2475cf08-7fb0-4c90-9045-ae03d2b187bc"
   },
   "outputs": [
    {
     "data": {
      "text/plain": [
       "61"
      ]
     },
     "execution_count": 68,
     "metadata": {},
     "output_type": "execute_result"
    }
   ],
   "source": [
    "len(encoded_cols)"
   ]
  },
  {
   "cell_type": "code",
   "execution_count": 69,
   "metadata": {
    "executionInfo": {
     "elapsed": 29464,
     "status": "ok",
     "timestamp": 1627621495151,
     "user": {
      "displayName": "PREMCHAND R",
      "photoUrl": "",
      "userId": "03324294809057007804"
     },
     "user_tz": -330
    },
    "id": "09elnSDgsG2A"
   },
   "outputs": [],
   "source": [
    "train_inputs[encoded_cols] = encoder.transform(train_inputs[categorical_cols])\n"
   ]
  },
  {
   "cell_type": "code",
   "execution_count": 70,
   "metadata": {
    "executionInfo": {
     "elapsed": 10258,
     "status": "ok",
     "timestamp": 1627621507823,
     "user": {
      "displayName": "PREMCHAND R",
      "photoUrl": "",
      "userId": "03324294809057007804"
     },
     "user_tz": -330
    },
    "id": "cYFqU9qksG2B"
   },
   "outputs": [],
   "source": [
    "val_inputs[encoded_cols] = encoder.transform(val_inputs[categorical_cols])"
   ]
  },
  {
   "cell_type": "code",
   "execution_count": 71,
   "metadata": {
    "executionInfo": {
     "elapsed": 8460,
     "status": "ok",
     "timestamp": 1627621516278,
     "user": {
      "displayName": "PREMCHAND R",
      "photoUrl": "",
      "userId": "03324294809057007804"
     },
     "user_tz": -330
    },
    "id": "3mzO-Nl8sG2C"
   },
   "outputs": [],
   "source": [
    "test_inputs[encoded_cols] = encoder.transform(test_inputs[categorical_cols])"
   ]
  },
  {
   "cell_type": "code",
   "execution_count": 72,
   "metadata": {
    "colab": {
     "base_uri": "https://localhost:8080/",
     "height": 443
    },
    "executionInfo": {
     "elapsed": 659,
     "status": "ok",
     "timestamp": 1627621518985,
     "user": {
      "displayName": "PREMCHAND R",
      "photoUrl": "",
      "userId": "03324294809057007804"
     },
     "user_tz": -330
    },
    "id": "-IGhkPe3sG2C",
    "outputId": "ea3412b8-1931-49e7-fb11-abe2433e9e47"
   },
   "outputs": [
    {
     "data": {
      "text/html": [
       "<div>\n",
       "<style scoped>\n",
       "    .dataframe tbody tr th:only-of-type {\n",
       "        vertical-align: middle;\n",
       "    }\n",
       "\n",
       "    .dataframe tbody tr th {\n",
       "        vertical-align: top;\n",
       "    }\n",
       "\n",
       "    .dataframe thead th {\n",
       "        text-align: right;\n",
       "    }\n",
       "</style>\n",
       "<table border=\"1\" class=\"dataframe\">\n",
       "  <thead>\n",
       "    <tr style=\"text-align: right;\">\n",
       "      <th></th>\n",
       "      <th>DAY_OF_MONTH</th>\n",
       "      <th>DAY_OF_WEEK</th>\n",
       "      <th>OP_CARRIER</th>\n",
       "      <th>DEP_TIME</th>\n",
       "      <th>DEP_DEL15</th>\n",
       "      <th>DEP_TIME_BLK</th>\n",
       "      <th>DISTANCE</th>\n",
       "      <th>ORIGIN_CAT</th>\n",
       "      <th>DEST_CAT</th>\n",
       "      <th>DAY_OF_WEEK_1</th>\n",
       "      <th>DAY_OF_WEEK_2</th>\n",
       "      <th>DAY_OF_WEEK_3</th>\n",
       "      <th>DAY_OF_WEEK_4</th>\n",
       "      <th>DAY_OF_WEEK_5</th>\n",
       "      <th>DAY_OF_WEEK_6</th>\n",
       "      <th>DAY_OF_WEEK_7</th>\n",
       "      <th>OP_CARRIER_9E</th>\n",
       "      <th>OP_CARRIER_AA</th>\n",
       "      <th>OP_CARRIER_AS</th>\n",
       "      <th>OP_CARRIER_B6</th>\n",
       "      <th>OP_CARRIER_DL</th>\n",
       "      <th>OP_CARRIER_EV</th>\n",
       "      <th>OP_CARRIER_F9</th>\n",
       "      <th>OP_CARRIER_G4</th>\n",
       "      <th>OP_CARRIER_HA</th>\n",
       "      <th>OP_CARRIER_MQ</th>\n",
       "      <th>OP_CARRIER_NK</th>\n",
       "      <th>OP_CARRIER_OH</th>\n",
       "      <th>OP_CARRIER_OO</th>\n",
       "      <th>OP_CARRIER_UA</th>\n",
       "      <th>OP_CARRIER_WN</th>\n",
       "      <th>OP_CARRIER_YV</th>\n",
       "      <th>OP_CARRIER_YX</th>\n",
       "      <th>DEP_DEL15_0.0</th>\n",
       "      <th>DEP_DEL15_1.0</th>\n",
       "      <th>DEP_TIME_BLK_0001-0559</th>\n",
       "      <th>DEP_TIME_BLK_0600-0659</th>\n",
       "      <th>DEP_TIME_BLK_0700-0759</th>\n",
       "      <th>DEP_TIME_BLK_0800-0859</th>\n",
       "      <th>DEP_TIME_BLK_0900-0959</th>\n",
       "      <th>DEP_TIME_BLK_1000-1059</th>\n",
       "      <th>DEP_TIME_BLK_1100-1159</th>\n",
       "      <th>DEP_TIME_BLK_1200-1259</th>\n",
       "      <th>DEP_TIME_BLK_1300-1359</th>\n",
       "      <th>DEP_TIME_BLK_1400-1459</th>\n",
       "      <th>DEP_TIME_BLK_1500-1559</th>\n",
       "      <th>DEP_TIME_BLK_1600-1659</th>\n",
       "      <th>DEP_TIME_BLK_1700-1759</th>\n",
       "      <th>DEP_TIME_BLK_1800-1859</th>\n",
       "      <th>DEP_TIME_BLK_1900-1959</th>\n",
       "      <th>DEP_TIME_BLK_2000-2059</th>\n",
       "      <th>DEP_TIME_BLK_2100-2159</th>\n",
       "      <th>DEP_TIME_BLK_2200-2259</th>\n",
       "      <th>DEP_TIME_BLK_2300-2359</th>\n",
       "      <th>ORIGIN_CAT_0</th>\n",
       "      <th>ORIGIN_CAT_1</th>\n",
       "      <th>ORIGIN_CAT_2</th>\n",
       "      <th>ORIGIN_CAT_3</th>\n",
       "      <th>ORIGIN_CAT_4</th>\n",
       "      <th>ORIGIN_CAT_5</th>\n",
       "      <th>ORIGIN_CAT_6</th>\n",
       "      <th>ORIGIN_CAT_7</th>\n",
       "      <th>DEST_CAT_0</th>\n",
       "      <th>DEST_CAT_1</th>\n",
       "      <th>DEST_CAT_2</th>\n",
       "      <th>DEST_CAT_3</th>\n",
       "      <th>DEST_CAT_4</th>\n",
       "      <th>DEST_CAT_5</th>\n",
       "      <th>DEST_CAT_6</th>\n",
       "      <th>DEST_CAT_7</th>\n",
       "    </tr>\n",
       "  </thead>\n",
       "  <tbody>\n",
       "    <tr>\n",
       "      <th>0</th>\n",
       "      <td>0.0</td>\n",
       "      <td>2</td>\n",
       "      <td>9E</td>\n",
       "      <td>0.250104</td>\n",
       "      <td>0.0</td>\n",
       "      <td>0600-0659</td>\n",
       "      <td>0.053120</td>\n",
       "      <td>2</td>\n",
       "      <td>2</td>\n",
       "      <td>0.0</td>\n",
       "      <td>1.0</td>\n",
       "      <td>0.0</td>\n",
       "      <td>0.0</td>\n",
       "      <td>0.0</td>\n",
       "      <td>0.0</td>\n",
       "      <td>0.0</td>\n",
       "      <td>1.0</td>\n",
       "      <td>0.0</td>\n",
       "      <td>0.0</td>\n",
       "      <td>0.0</td>\n",
       "      <td>0.0</td>\n",
       "      <td>0.0</td>\n",
       "      <td>0.0</td>\n",
       "      <td>0.0</td>\n",
       "      <td>0.0</td>\n",
       "      <td>0.0</td>\n",
       "      <td>0.0</td>\n",
       "      <td>0.0</td>\n",
       "      <td>0.0</td>\n",
       "      <td>0.0</td>\n",
       "      <td>0.0</td>\n",
       "      <td>0.0</td>\n",
       "      <td>0.0</td>\n",
       "      <td>1.0</td>\n",
       "      <td>0.0</td>\n",
       "      <td>0.0</td>\n",
       "      <td>1.0</td>\n",
       "      <td>0.0</td>\n",
       "      <td>0.0</td>\n",
       "      <td>0.0</td>\n",
       "      <td>0.0</td>\n",
       "      <td>0.0</td>\n",
       "      <td>0.0</td>\n",
       "      <td>0.0</td>\n",
       "      <td>0.0</td>\n",
       "      <td>0.0</td>\n",
       "      <td>0.0</td>\n",
       "      <td>0.0</td>\n",
       "      <td>0.0</td>\n",
       "      <td>0.0</td>\n",
       "      <td>0.0</td>\n",
       "      <td>0.0</td>\n",
       "      <td>0.0</td>\n",
       "      <td>0.0</td>\n",
       "      <td>0.0</td>\n",
       "      <td>0.0</td>\n",
       "      <td>1.0</td>\n",
       "      <td>0.0</td>\n",
       "      <td>0.0</td>\n",
       "      <td>0.0</td>\n",
       "      <td>0.0</td>\n",
       "      <td>0.0</td>\n",
       "      <td>0.0</td>\n",
       "      <td>0.0</td>\n",
       "      <td>1.0</td>\n",
       "      <td>0.0</td>\n",
       "      <td>0.0</td>\n",
       "      <td>0.0</td>\n",
       "      <td>0.0</td>\n",
       "      <td>0.0</td>\n",
       "    </tr>\n",
       "    <tr>\n",
       "      <th>1</th>\n",
       "      <td>0.0</td>\n",
       "      <td>2</td>\n",
       "      <td>9E</td>\n",
       "      <td>0.566069</td>\n",
       "      <td>0.0</td>\n",
       "      <td>1400-1459</td>\n",
       "      <td>0.111572</td>\n",
       "      <td>2</td>\n",
       "      <td>3</td>\n",
       "      <td>0.0</td>\n",
       "      <td>1.0</td>\n",
       "      <td>0.0</td>\n",
       "      <td>0.0</td>\n",
       "      <td>0.0</td>\n",
       "      <td>0.0</td>\n",
       "      <td>0.0</td>\n",
       "      <td>1.0</td>\n",
       "      <td>0.0</td>\n",
       "      <td>0.0</td>\n",
       "      <td>0.0</td>\n",
       "      <td>0.0</td>\n",
       "      <td>0.0</td>\n",
       "      <td>0.0</td>\n",
       "      <td>0.0</td>\n",
       "      <td>0.0</td>\n",
       "      <td>0.0</td>\n",
       "      <td>0.0</td>\n",
       "      <td>0.0</td>\n",
       "      <td>0.0</td>\n",
       "      <td>0.0</td>\n",
       "      <td>0.0</td>\n",
       "      <td>0.0</td>\n",
       "      <td>0.0</td>\n",
       "      <td>1.0</td>\n",
       "      <td>0.0</td>\n",
       "      <td>0.0</td>\n",
       "      <td>0.0</td>\n",
       "      <td>0.0</td>\n",
       "      <td>0.0</td>\n",
       "      <td>0.0</td>\n",
       "      <td>0.0</td>\n",
       "      <td>0.0</td>\n",
       "      <td>0.0</td>\n",
       "      <td>0.0</td>\n",
       "      <td>1.0</td>\n",
       "      <td>0.0</td>\n",
       "      <td>0.0</td>\n",
       "      <td>0.0</td>\n",
       "      <td>0.0</td>\n",
       "      <td>0.0</td>\n",
       "      <td>0.0</td>\n",
       "      <td>0.0</td>\n",
       "      <td>0.0</td>\n",
       "      <td>0.0</td>\n",
       "      <td>0.0</td>\n",
       "      <td>0.0</td>\n",
       "      <td>1.0</td>\n",
       "      <td>0.0</td>\n",
       "      <td>0.0</td>\n",
       "      <td>0.0</td>\n",
       "      <td>0.0</td>\n",
       "      <td>0.0</td>\n",
       "      <td>0.0</td>\n",
       "      <td>0.0</td>\n",
       "      <td>0.0</td>\n",
       "      <td>1.0</td>\n",
       "      <td>0.0</td>\n",
       "      <td>0.0</td>\n",
       "      <td>0.0</td>\n",
       "      <td>0.0</td>\n",
       "    </tr>\n",
       "    <tr>\n",
       "      <th>2</th>\n",
       "      <td>0.0</td>\n",
       "      <td>2</td>\n",
       "      <td>9E</td>\n",
       "      <td>0.506044</td>\n",
       "      <td>0.0</td>\n",
       "      <td>1200-1259</td>\n",
       "      <td>0.039100</td>\n",
       "      <td>2</td>\n",
       "      <td>3</td>\n",
       "      <td>0.0</td>\n",
       "      <td>1.0</td>\n",
       "      <td>0.0</td>\n",
       "      <td>0.0</td>\n",
       "      <td>0.0</td>\n",
       "      <td>0.0</td>\n",
       "      <td>0.0</td>\n",
       "      <td>1.0</td>\n",
       "      <td>0.0</td>\n",
       "      <td>0.0</td>\n",
       "      <td>0.0</td>\n",
       "      <td>0.0</td>\n",
       "      <td>0.0</td>\n",
       "      <td>0.0</td>\n",
       "      <td>0.0</td>\n",
       "      <td>0.0</td>\n",
       "      <td>0.0</td>\n",
       "      <td>0.0</td>\n",
       "      <td>0.0</td>\n",
       "      <td>0.0</td>\n",
       "      <td>0.0</td>\n",
       "      <td>0.0</td>\n",
       "      <td>0.0</td>\n",
       "      <td>0.0</td>\n",
       "      <td>1.0</td>\n",
       "      <td>0.0</td>\n",
       "      <td>0.0</td>\n",
       "      <td>0.0</td>\n",
       "      <td>0.0</td>\n",
       "      <td>0.0</td>\n",
       "      <td>0.0</td>\n",
       "      <td>0.0</td>\n",
       "      <td>0.0</td>\n",
       "      <td>1.0</td>\n",
       "      <td>0.0</td>\n",
       "      <td>0.0</td>\n",
       "      <td>0.0</td>\n",
       "      <td>0.0</td>\n",
       "      <td>0.0</td>\n",
       "      <td>0.0</td>\n",
       "      <td>0.0</td>\n",
       "      <td>0.0</td>\n",
       "      <td>0.0</td>\n",
       "      <td>0.0</td>\n",
       "      <td>0.0</td>\n",
       "      <td>0.0</td>\n",
       "      <td>0.0</td>\n",
       "      <td>1.0</td>\n",
       "      <td>0.0</td>\n",
       "      <td>0.0</td>\n",
       "      <td>0.0</td>\n",
       "      <td>0.0</td>\n",
       "      <td>0.0</td>\n",
       "      <td>0.0</td>\n",
       "      <td>0.0</td>\n",
       "      <td>0.0</td>\n",
       "      <td>1.0</td>\n",
       "      <td>0.0</td>\n",
       "      <td>0.0</td>\n",
       "      <td>0.0</td>\n",
       "      <td>0.0</td>\n",
       "    </tr>\n",
       "    <tr>\n",
       "      <th>3</th>\n",
       "      <td>0.0</td>\n",
       "      <td>2</td>\n",
       "      <td>9E</td>\n",
       "      <td>0.633597</td>\n",
       "      <td>0.0</td>\n",
       "      <td>1500-1559</td>\n",
       "      <td>0.037915</td>\n",
       "      <td>2</td>\n",
       "      <td>2</td>\n",
       "      <td>0.0</td>\n",
       "      <td>1.0</td>\n",
       "      <td>0.0</td>\n",
       "      <td>0.0</td>\n",
       "      <td>0.0</td>\n",
       "      <td>0.0</td>\n",
       "      <td>0.0</td>\n",
       "      <td>1.0</td>\n",
       "      <td>0.0</td>\n",
       "      <td>0.0</td>\n",
       "      <td>0.0</td>\n",
       "      <td>0.0</td>\n",
       "      <td>0.0</td>\n",
       "      <td>0.0</td>\n",
       "      <td>0.0</td>\n",
       "      <td>0.0</td>\n",
       "      <td>0.0</td>\n",
       "      <td>0.0</td>\n",
       "      <td>0.0</td>\n",
       "      <td>0.0</td>\n",
       "      <td>0.0</td>\n",
       "      <td>0.0</td>\n",
       "      <td>0.0</td>\n",
       "      <td>0.0</td>\n",
       "      <td>1.0</td>\n",
       "      <td>0.0</td>\n",
       "      <td>0.0</td>\n",
       "      <td>0.0</td>\n",
       "      <td>0.0</td>\n",
       "      <td>0.0</td>\n",
       "      <td>0.0</td>\n",
       "      <td>0.0</td>\n",
       "      <td>0.0</td>\n",
       "      <td>0.0</td>\n",
       "      <td>0.0</td>\n",
       "      <td>0.0</td>\n",
       "      <td>1.0</td>\n",
       "      <td>0.0</td>\n",
       "      <td>0.0</td>\n",
       "      <td>0.0</td>\n",
       "      <td>0.0</td>\n",
       "      <td>0.0</td>\n",
       "      <td>0.0</td>\n",
       "      <td>0.0</td>\n",
       "      <td>0.0</td>\n",
       "      <td>0.0</td>\n",
       "      <td>0.0</td>\n",
       "      <td>1.0</td>\n",
       "      <td>0.0</td>\n",
       "      <td>0.0</td>\n",
       "      <td>0.0</td>\n",
       "      <td>0.0</td>\n",
       "      <td>0.0</td>\n",
       "      <td>0.0</td>\n",
       "      <td>0.0</td>\n",
       "      <td>1.0</td>\n",
       "      <td>0.0</td>\n",
       "      <td>0.0</td>\n",
       "      <td>0.0</td>\n",
       "      <td>0.0</td>\n",
       "      <td>0.0</td>\n",
       "    </tr>\n",
       "    <tr>\n",
       "      <th>4</th>\n",
       "      <td>0.0</td>\n",
       "      <td>2</td>\n",
       "      <td>9E</td>\n",
       "      <td>0.769487</td>\n",
       "      <td>0.0</td>\n",
       "      <td>1900-1959</td>\n",
       "      <td>0.108215</td>\n",
       "      <td>2</td>\n",
       "      <td>2</td>\n",
       "      <td>0.0</td>\n",
       "      <td>1.0</td>\n",
       "      <td>0.0</td>\n",
       "      <td>0.0</td>\n",
       "      <td>0.0</td>\n",
       "      <td>0.0</td>\n",
       "      <td>0.0</td>\n",
       "      <td>1.0</td>\n",
       "      <td>0.0</td>\n",
       "      <td>0.0</td>\n",
       "      <td>0.0</td>\n",
       "      <td>0.0</td>\n",
       "      <td>0.0</td>\n",
       "      <td>0.0</td>\n",
       "      <td>0.0</td>\n",
       "      <td>0.0</td>\n",
       "      <td>0.0</td>\n",
       "      <td>0.0</td>\n",
       "      <td>0.0</td>\n",
       "      <td>0.0</td>\n",
       "      <td>0.0</td>\n",
       "      <td>0.0</td>\n",
       "      <td>0.0</td>\n",
       "      <td>0.0</td>\n",
       "      <td>1.0</td>\n",
       "      <td>0.0</td>\n",
       "      <td>0.0</td>\n",
       "      <td>0.0</td>\n",
       "      <td>0.0</td>\n",
       "      <td>0.0</td>\n",
       "      <td>0.0</td>\n",
       "      <td>0.0</td>\n",
       "      <td>0.0</td>\n",
       "      <td>0.0</td>\n",
       "      <td>0.0</td>\n",
       "      <td>0.0</td>\n",
       "      <td>0.0</td>\n",
       "      <td>0.0</td>\n",
       "      <td>0.0</td>\n",
       "      <td>0.0</td>\n",
       "      <td>1.0</td>\n",
       "      <td>0.0</td>\n",
       "      <td>0.0</td>\n",
       "      <td>0.0</td>\n",
       "      <td>0.0</td>\n",
       "      <td>0.0</td>\n",
       "      <td>0.0</td>\n",
       "      <td>1.0</td>\n",
       "      <td>0.0</td>\n",
       "      <td>0.0</td>\n",
       "      <td>0.0</td>\n",
       "      <td>0.0</td>\n",
       "      <td>0.0</td>\n",
       "      <td>0.0</td>\n",
       "      <td>0.0</td>\n",
       "      <td>1.0</td>\n",
       "      <td>0.0</td>\n",
       "      <td>0.0</td>\n",
       "      <td>0.0</td>\n",
       "      <td>0.0</td>\n",
       "      <td>0.0</td>\n",
       "    </tr>\n",
       "    <tr>\n",
       "      <th>...</th>\n",
       "      <td>...</td>\n",
       "      <td>...</td>\n",
       "      <td>...</td>\n",
       "      <td>...</td>\n",
       "      <td>...</td>\n",
       "      <td>...</td>\n",
       "      <td>...</td>\n",
       "      <td>...</td>\n",
       "      <td>...</td>\n",
       "      <td>...</td>\n",
       "      <td>...</td>\n",
       "      <td>...</td>\n",
       "      <td>...</td>\n",
       "      <td>...</td>\n",
       "      <td>...</td>\n",
       "      <td>...</td>\n",
       "      <td>...</td>\n",
       "      <td>...</td>\n",
       "      <td>...</td>\n",
       "      <td>...</td>\n",
       "      <td>...</td>\n",
       "      <td>...</td>\n",
       "      <td>...</td>\n",
       "      <td>...</td>\n",
       "      <td>...</td>\n",
       "      <td>...</td>\n",
       "      <td>...</td>\n",
       "      <td>...</td>\n",
       "      <td>...</td>\n",
       "      <td>...</td>\n",
       "      <td>...</td>\n",
       "      <td>...</td>\n",
       "      <td>...</td>\n",
       "      <td>...</td>\n",
       "      <td>...</td>\n",
       "      <td>...</td>\n",
       "      <td>...</td>\n",
       "      <td>...</td>\n",
       "      <td>...</td>\n",
       "      <td>...</td>\n",
       "      <td>...</td>\n",
       "      <td>...</td>\n",
       "      <td>...</td>\n",
       "      <td>...</td>\n",
       "      <td>...</td>\n",
       "      <td>...</td>\n",
       "      <td>...</td>\n",
       "      <td>...</td>\n",
       "      <td>...</td>\n",
       "      <td>...</td>\n",
       "      <td>...</td>\n",
       "      <td>...</td>\n",
       "      <td>...</td>\n",
       "      <td>...</td>\n",
       "      <td>...</td>\n",
       "      <td>...</td>\n",
       "      <td>...</td>\n",
       "      <td>...</td>\n",
       "      <td>...</td>\n",
       "      <td>...</td>\n",
       "      <td>...</td>\n",
       "      <td>...</td>\n",
       "      <td>...</td>\n",
       "      <td>...</td>\n",
       "      <td>...</td>\n",
       "      <td>...</td>\n",
       "      <td>...</td>\n",
       "      <td>...</td>\n",
       "      <td>...</td>\n",
       "      <td>...</td>\n",
       "    </tr>\n",
       "    <tr>\n",
       "      <th>717944</th>\n",
       "      <td>0.2</td>\n",
       "      <td>2</td>\n",
       "      <td>9E</td>\n",
       "      <td>0.803251</td>\n",
       "      <td>1.0</td>\n",
       "      <td>1700-1759</td>\n",
       "      <td>0.052330</td>\n",
       "      <td>4</td>\n",
       "      <td>3</td>\n",
       "      <td>0.0</td>\n",
       "      <td>1.0</td>\n",
       "      <td>0.0</td>\n",
       "      <td>0.0</td>\n",
       "      <td>0.0</td>\n",
       "      <td>0.0</td>\n",
       "      <td>0.0</td>\n",
       "      <td>1.0</td>\n",
       "      <td>0.0</td>\n",
       "      <td>0.0</td>\n",
       "      <td>0.0</td>\n",
       "      <td>0.0</td>\n",
       "      <td>0.0</td>\n",
       "      <td>0.0</td>\n",
       "      <td>0.0</td>\n",
       "      <td>0.0</td>\n",
       "      <td>0.0</td>\n",
       "      <td>0.0</td>\n",
       "      <td>0.0</td>\n",
       "      <td>0.0</td>\n",
       "      <td>0.0</td>\n",
       "      <td>0.0</td>\n",
       "      <td>0.0</td>\n",
       "      <td>0.0</td>\n",
       "      <td>0.0</td>\n",
       "      <td>1.0</td>\n",
       "      <td>0.0</td>\n",
       "      <td>0.0</td>\n",
       "      <td>0.0</td>\n",
       "      <td>0.0</td>\n",
       "      <td>0.0</td>\n",
       "      <td>0.0</td>\n",
       "      <td>0.0</td>\n",
       "      <td>0.0</td>\n",
       "      <td>0.0</td>\n",
       "      <td>0.0</td>\n",
       "      <td>0.0</td>\n",
       "      <td>0.0</td>\n",
       "      <td>1.0</td>\n",
       "      <td>0.0</td>\n",
       "      <td>0.0</td>\n",
       "      <td>0.0</td>\n",
       "      <td>0.0</td>\n",
       "      <td>0.0</td>\n",
       "      <td>0.0</td>\n",
       "      <td>0.0</td>\n",
       "      <td>0.0</td>\n",
       "      <td>0.0</td>\n",
       "      <td>0.0</td>\n",
       "      <td>1.0</td>\n",
       "      <td>0.0</td>\n",
       "      <td>0.0</td>\n",
       "      <td>0.0</td>\n",
       "      <td>0.0</td>\n",
       "      <td>0.0</td>\n",
       "      <td>0.0</td>\n",
       "      <td>1.0</td>\n",
       "      <td>0.0</td>\n",
       "      <td>0.0</td>\n",
       "      <td>0.0</td>\n",
       "      <td>0.0</td>\n",
       "    </tr>\n",
       "    <tr>\n",
       "      <th>717945</th>\n",
       "      <td>0.2</td>\n",
       "      <td>2</td>\n",
       "      <td>9E</td>\n",
       "      <td>0.875365</td>\n",
       "      <td>1.0</td>\n",
       "      <td>1900-1959</td>\n",
       "      <td>0.052330</td>\n",
       "      <td>3</td>\n",
       "      <td>5</td>\n",
       "      <td>0.0</td>\n",
       "      <td>1.0</td>\n",
       "      <td>0.0</td>\n",
       "      <td>0.0</td>\n",
       "      <td>0.0</td>\n",
       "      <td>0.0</td>\n",
       "      <td>0.0</td>\n",
       "      <td>1.0</td>\n",
       "      <td>0.0</td>\n",
       "      <td>0.0</td>\n",
       "      <td>0.0</td>\n",
       "      <td>0.0</td>\n",
       "      <td>0.0</td>\n",
       "      <td>0.0</td>\n",
       "      <td>0.0</td>\n",
       "      <td>0.0</td>\n",
       "      <td>0.0</td>\n",
       "      <td>0.0</td>\n",
       "      <td>0.0</td>\n",
       "      <td>0.0</td>\n",
       "      <td>0.0</td>\n",
       "      <td>0.0</td>\n",
       "      <td>0.0</td>\n",
       "      <td>0.0</td>\n",
       "      <td>0.0</td>\n",
       "      <td>1.0</td>\n",
       "      <td>0.0</td>\n",
       "      <td>0.0</td>\n",
       "      <td>0.0</td>\n",
       "      <td>0.0</td>\n",
       "      <td>0.0</td>\n",
       "      <td>0.0</td>\n",
       "      <td>0.0</td>\n",
       "      <td>0.0</td>\n",
       "      <td>0.0</td>\n",
       "      <td>0.0</td>\n",
       "      <td>0.0</td>\n",
       "      <td>0.0</td>\n",
       "      <td>0.0</td>\n",
       "      <td>0.0</td>\n",
       "      <td>1.0</td>\n",
       "      <td>0.0</td>\n",
       "      <td>0.0</td>\n",
       "      <td>0.0</td>\n",
       "      <td>0.0</td>\n",
       "      <td>0.0</td>\n",
       "      <td>0.0</td>\n",
       "      <td>0.0</td>\n",
       "      <td>1.0</td>\n",
       "      <td>0.0</td>\n",
       "      <td>0.0</td>\n",
       "      <td>0.0</td>\n",
       "      <td>0.0</td>\n",
       "      <td>0.0</td>\n",
       "      <td>0.0</td>\n",
       "      <td>0.0</td>\n",
       "      <td>0.0</td>\n",
       "      <td>0.0</td>\n",
       "      <td>1.0</td>\n",
       "      <td>0.0</td>\n",
       "      <td>0.0</td>\n",
       "    </tr>\n",
       "    <tr>\n",
       "      <th>717946</th>\n",
       "      <td>0.2</td>\n",
       "      <td>2</td>\n",
       "      <td>9E</td>\n",
       "      <td>0.718633</td>\n",
       "      <td>0.0</td>\n",
       "      <td>1700-1759</td>\n",
       "      <td>0.142378</td>\n",
       "      <td>3</td>\n",
       "      <td>3</td>\n",
       "      <td>0.0</td>\n",
       "      <td>1.0</td>\n",
       "      <td>0.0</td>\n",
       "      <td>0.0</td>\n",
       "      <td>0.0</td>\n",
       "      <td>0.0</td>\n",
       "      <td>0.0</td>\n",
       "      <td>1.0</td>\n",
       "      <td>0.0</td>\n",
       "      <td>0.0</td>\n",
       "      <td>0.0</td>\n",
       "      <td>0.0</td>\n",
       "      <td>0.0</td>\n",
       "      <td>0.0</td>\n",
       "      <td>0.0</td>\n",
       "      <td>0.0</td>\n",
       "      <td>0.0</td>\n",
       "      <td>0.0</td>\n",
       "      <td>0.0</td>\n",
       "      <td>0.0</td>\n",
       "      <td>0.0</td>\n",
       "      <td>0.0</td>\n",
       "      <td>0.0</td>\n",
       "      <td>0.0</td>\n",
       "      <td>1.0</td>\n",
       "      <td>0.0</td>\n",
       "      <td>0.0</td>\n",
       "      <td>0.0</td>\n",
       "      <td>0.0</td>\n",
       "      <td>0.0</td>\n",
       "      <td>0.0</td>\n",
       "      <td>0.0</td>\n",
       "      <td>0.0</td>\n",
       "      <td>0.0</td>\n",
       "      <td>0.0</td>\n",
       "      <td>0.0</td>\n",
       "      <td>0.0</td>\n",
       "      <td>0.0</td>\n",
       "      <td>1.0</td>\n",
       "      <td>0.0</td>\n",
       "      <td>0.0</td>\n",
       "      <td>0.0</td>\n",
       "      <td>0.0</td>\n",
       "      <td>0.0</td>\n",
       "      <td>0.0</td>\n",
       "      <td>0.0</td>\n",
       "      <td>0.0</td>\n",
       "      <td>0.0</td>\n",
       "      <td>1.0</td>\n",
       "      <td>0.0</td>\n",
       "      <td>0.0</td>\n",
       "      <td>0.0</td>\n",
       "      <td>0.0</td>\n",
       "      <td>0.0</td>\n",
       "      <td>0.0</td>\n",
       "      <td>0.0</td>\n",
       "      <td>1.0</td>\n",
       "      <td>0.0</td>\n",
       "      <td>0.0</td>\n",
       "      <td>0.0</td>\n",
       "      <td>0.0</td>\n",
       "    </tr>\n",
       "    <tr>\n",
       "      <th>717947</th>\n",
       "      <td>0.2</td>\n",
       "      <td>2</td>\n",
       "      <td>9E</td>\n",
       "      <td>0.510213</td>\n",
       "      <td>1.0</td>\n",
       "      <td>1100-1159</td>\n",
       "      <td>0.054107</td>\n",
       "      <td>3</td>\n",
       "      <td>5</td>\n",
       "      <td>0.0</td>\n",
       "      <td>1.0</td>\n",
       "      <td>0.0</td>\n",
       "      <td>0.0</td>\n",
       "      <td>0.0</td>\n",
       "      <td>0.0</td>\n",
       "      <td>0.0</td>\n",
       "      <td>1.0</td>\n",
       "      <td>0.0</td>\n",
       "      <td>0.0</td>\n",
       "      <td>0.0</td>\n",
       "      <td>0.0</td>\n",
       "      <td>0.0</td>\n",
       "      <td>0.0</td>\n",
       "      <td>0.0</td>\n",
       "      <td>0.0</td>\n",
       "      <td>0.0</td>\n",
       "      <td>0.0</td>\n",
       "      <td>0.0</td>\n",
       "      <td>0.0</td>\n",
       "      <td>0.0</td>\n",
       "      <td>0.0</td>\n",
       "      <td>0.0</td>\n",
       "      <td>0.0</td>\n",
       "      <td>0.0</td>\n",
       "      <td>1.0</td>\n",
       "      <td>0.0</td>\n",
       "      <td>0.0</td>\n",
       "      <td>0.0</td>\n",
       "      <td>0.0</td>\n",
       "      <td>0.0</td>\n",
       "      <td>0.0</td>\n",
       "      <td>1.0</td>\n",
       "      <td>0.0</td>\n",
       "      <td>0.0</td>\n",
       "      <td>0.0</td>\n",
       "      <td>0.0</td>\n",
       "      <td>0.0</td>\n",
       "      <td>0.0</td>\n",
       "      <td>0.0</td>\n",
       "      <td>0.0</td>\n",
       "      <td>0.0</td>\n",
       "      <td>0.0</td>\n",
       "      <td>0.0</td>\n",
       "      <td>0.0</td>\n",
       "      <td>0.0</td>\n",
       "      <td>0.0</td>\n",
       "      <td>0.0</td>\n",
       "      <td>1.0</td>\n",
       "      <td>0.0</td>\n",
       "      <td>0.0</td>\n",
       "      <td>0.0</td>\n",
       "      <td>0.0</td>\n",
       "      <td>0.0</td>\n",
       "      <td>0.0</td>\n",
       "      <td>0.0</td>\n",
       "      <td>0.0</td>\n",
       "      <td>0.0</td>\n",
       "      <td>1.0</td>\n",
       "      <td>0.0</td>\n",
       "      <td>0.0</td>\n",
       "    </tr>\n",
       "    <tr>\n",
       "      <th>717948</th>\n",
       "      <td>0.2</td>\n",
       "      <td>2</td>\n",
       "      <td>9E</td>\n",
       "      <td>0.878283</td>\n",
       "      <td>0.0</td>\n",
       "      <td>2100-2159</td>\n",
       "      <td>0.094194</td>\n",
       "      <td>2</td>\n",
       "      <td>3</td>\n",
       "      <td>0.0</td>\n",
       "      <td>1.0</td>\n",
       "      <td>0.0</td>\n",
       "      <td>0.0</td>\n",
       "      <td>0.0</td>\n",
       "      <td>0.0</td>\n",
       "      <td>0.0</td>\n",
       "      <td>1.0</td>\n",
       "      <td>0.0</td>\n",
       "      <td>0.0</td>\n",
       "      <td>0.0</td>\n",
       "      <td>0.0</td>\n",
       "      <td>0.0</td>\n",
       "      <td>0.0</td>\n",
       "      <td>0.0</td>\n",
       "      <td>0.0</td>\n",
       "      <td>0.0</td>\n",
       "      <td>0.0</td>\n",
       "      <td>0.0</td>\n",
       "      <td>0.0</td>\n",
       "      <td>0.0</td>\n",
       "      <td>0.0</td>\n",
       "      <td>0.0</td>\n",
       "      <td>0.0</td>\n",
       "      <td>1.0</td>\n",
       "      <td>0.0</td>\n",
       "      <td>0.0</td>\n",
       "      <td>0.0</td>\n",
       "      <td>0.0</td>\n",
       "      <td>0.0</td>\n",
       "      <td>0.0</td>\n",
       "      <td>0.0</td>\n",
       "      <td>0.0</td>\n",
       "      <td>0.0</td>\n",
       "      <td>0.0</td>\n",
       "      <td>0.0</td>\n",
       "      <td>0.0</td>\n",
       "      <td>0.0</td>\n",
       "      <td>0.0</td>\n",
       "      <td>0.0</td>\n",
       "      <td>0.0</td>\n",
       "      <td>0.0</td>\n",
       "      <td>1.0</td>\n",
       "      <td>0.0</td>\n",
       "      <td>0.0</td>\n",
       "      <td>0.0</td>\n",
       "      <td>0.0</td>\n",
       "      <td>1.0</td>\n",
       "      <td>0.0</td>\n",
       "      <td>0.0</td>\n",
       "      <td>0.0</td>\n",
       "      <td>0.0</td>\n",
       "      <td>0.0</td>\n",
       "      <td>0.0</td>\n",
       "      <td>0.0</td>\n",
       "      <td>0.0</td>\n",
       "      <td>1.0</td>\n",
       "      <td>0.0</td>\n",
       "      <td>0.0</td>\n",
       "      <td>0.0</td>\n",
       "      <td>0.0</td>\n",
       "    </tr>\n",
       "  </tbody>\n",
       "</table>\n",
       "<p>699138 rows × 70 columns</p>\n",
       "</div>"
      ],
      "text/plain": [
       "        DAY_OF_MONTH  DAY_OF_WEEK OP_CARRIER  DEP_TIME  DEP_DEL15  \\\n",
       "0                0.0            2         9E  0.250104        0.0   \n",
       "1                0.0            2         9E  0.566069        0.0   \n",
       "2                0.0            2         9E  0.506044        0.0   \n",
       "3                0.0            2         9E  0.633597        0.0   \n",
       "4                0.0            2         9E  0.769487        0.0   \n",
       "...              ...          ...        ...       ...        ...   \n",
       "717944           0.2            2         9E  0.803251        1.0   \n",
       "717945           0.2            2         9E  0.875365        1.0   \n",
       "717946           0.2            2         9E  0.718633        0.0   \n",
       "717947           0.2            2         9E  0.510213        1.0   \n",
       "717948           0.2            2         9E  0.878283        0.0   \n",
       "\n",
       "       DEP_TIME_BLK  DISTANCE  ORIGIN_CAT  DEST_CAT  DAY_OF_WEEK_1  \\\n",
       "0         0600-0659  0.053120           2         2            0.0   \n",
       "1         1400-1459  0.111572           2         3            0.0   \n",
       "2         1200-1259  0.039100           2         3            0.0   \n",
       "3         1500-1559  0.037915           2         2            0.0   \n",
       "4         1900-1959  0.108215           2         2            0.0   \n",
       "...             ...       ...         ...       ...            ...   \n",
       "717944    1700-1759  0.052330           4         3            0.0   \n",
       "717945    1900-1959  0.052330           3         5            0.0   \n",
       "717946    1700-1759  0.142378           3         3            0.0   \n",
       "717947    1100-1159  0.054107           3         5            0.0   \n",
       "717948    2100-2159  0.094194           2         3            0.0   \n",
       "\n",
       "        DAY_OF_WEEK_2  DAY_OF_WEEK_3  DAY_OF_WEEK_4  DAY_OF_WEEK_5  \\\n",
       "0                 1.0            0.0            0.0            0.0   \n",
       "1                 1.0            0.0            0.0            0.0   \n",
       "2                 1.0            0.0            0.0            0.0   \n",
       "3                 1.0            0.0            0.0            0.0   \n",
       "4                 1.0            0.0            0.0            0.0   \n",
       "...               ...            ...            ...            ...   \n",
       "717944            1.0            0.0            0.0            0.0   \n",
       "717945            1.0            0.0            0.0            0.0   \n",
       "717946            1.0            0.0            0.0            0.0   \n",
       "717947            1.0            0.0            0.0            0.0   \n",
       "717948            1.0            0.0            0.0            0.0   \n",
       "\n",
       "        DAY_OF_WEEK_6  DAY_OF_WEEK_7  OP_CARRIER_9E  OP_CARRIER_AA  \\\n",
       "0                 0.0            0.0            1.0            0.0   \n",
       "1                 0.0            0.0            1.0            0.0   \n",
       "2                 0.0            0.0            1.0            0.0   \n",
       "3                 0.0            0.0            1.0            0.0   \n",
       "4                 0.0            0.0            1.0            0.0   \n",
       "...               ...            ...            ...            ...   \n",
       "717944            0.0            0.0            1.0            0.0   \n",
       "717945            0.0            0.0            1.0            0.0   \n",
       "717946            0.0            0.0            1.0            0.0   \n",
       "717947            0.0            0.0            1.0            0.0   \n",
       "717948            0.0            0.0            1.0            0.0   \n",
       "\n",
       "        OP_CARRIER_AS  OP_CARRIER_B6  OP_CARRIER_DL  OP_CARRIER_EV  \\\n",
       "0                 0.0            0.0            0.0            0.0   \n",
       "1                 0.0            0.0            0.0            0.0   \n",
       "2                 0.0            0.0            0.0            0.0   \n",
       "3                 0.0            0.0            0.0            0.0   \n",
       "4                 0.0            0.0            0.0            0.0   \n",
       "...               ...            ...            ...            ...   \n",
       "717944            0.0            0.0            0.0            0.0   \n",
       "717945            0.0            0.0            0.0            0.0   \n",
       "717946            0.0            0.0            0.0            0.0   \n",
       "717947            0.0            0.0            0.0            0.0   \n",
       "717948            0.0            0.0            0.0            0.0   \n",
       "\n",
       "        OP_CARRIER_F9  OP_CARRIER_G4  OP_CARRIER_HA  OP_CARRIER_MQ  \\\n",
       "0                 0.0            0.0            0.0            0.0   \n",
       "1                 0.0            0.0            0.0            0.0   \n",
       "2                 0.0            0.0            0.0            0.0   \n",
       "3                 0.0            0.0            0.0            0.0   \n",
       "4                 0.0            0.0            0.0            0.0   \n",
       "...               ...            ...            ...            ...   \n",
       "717944            0.0            0.0            0.0            0.0   \n",
       "717945            0.0            0.0            0.0            0.0   \n",
       "717946            0.0            0.0            0.0            0.0   \n",
       "717947            0.0            0.0            0.0            0.0   \n",
       "717948            0.0            0.0            0.0            0.0   \n",
       "\n",
       "        OP_CARRIER_NK  OP_CARRIER_OH  OP_CARRIER_OO  OP_CARRIER_UA  \\\n",
       "0                 0.0            0.0            0.0            0.0   \n",
       "1                 0.0            0.0            0.0            0.0   \n",
       "2                 0.0            0.0            0.0            0.0   \n",
       "3                 0.0            0.0            0.0            0.0   \n",
       "4                 0.0            0.0            0.0            0.0   \n",
       "...               ...            ...            ...            ...   \n",
       "717944            0.0            0.0            0.0            0.0   \n",
       "717945            0.0            0.0            0.0            0.0   \n",
       "717946            0.0            0.0            0.0            0.0   \n",
       "717947            0.0            0.0            0.0            0.0   \n",
       "717948            0.0            0.0            0.0            0.0   \n",
       "\n",
       "        OP_CARRIER_WN  OP_CARRIER_YV  OP_CARRIER_YX  DEP_DEL15_0.0  \\\n",
       "0                 0.0            0.0            0.0            1.0   \n",
       "1                 0.0            0.0            0.0            1.0   \n",
       "2                 0.0            0.0            0.0            1.0   \n",
       "3                 0.0            0.0            0.0            1.0   \n",
       "4                 0.0            0.0            0.0            1.0   \n",
       "...               ...            ...            ...            ...   \n",
       "717944            0.0            0.0            0.0            0.0   \n",
       "717945            0.0            0.0            0.0            0.0   \n",
       "717946            0.0            0.0            0.0            1.0   \n",
       "717947            0.0            0.0            0.0            0.0   \n",
       "717948            0.0            0.0            0.0            1.0   \n",
       "\n",
       "        DEP_DEL15_1.0  DEP_TIME_BLK_0001-0559  DEP_TIME_BLK_0600-0659  \\\n",
       "0                 0.0                     0.0                     1.0   \n",
       "1                 0.0                     0.0                     0.0   \n",
       "2                 0.0                     0.0                     0.0   \n",
       "3                 0.0                     0.0                     0.0   \n",
       "4                 0.0                     0.0                     0.0   \n",
       "...               ...                     ...                     ...   \n",
       "717944            1.0                     0.0                     0.0   \n",
       "717945            1.0                     0.0                     0.0   \n",
       "717946            0.0                     0.0                     0.0   \n",
       "717947            1.0                     0.0                     0.0   \n",
       "717948            0.0                     0.0                     0.0   \n",
       "\n",
       "        DEP_TIME_BLK_0700-0759  DEP_TIME_BLK_0800-0859  \\\n",
       "0                          0.0                     0.0   \n",
       "1                          0.0                     0.0   \n",
       "2                          0.0                     0.0   \n",
       "3                          0.0                     0.0   \n",
       "4                          0.0                     0.0   \n",
       "...                        ...                     ...   \n",
       "717944                     0.0                     0.0   \n",
       "717945                     0.0                     0.0   \n",
       "717946                     0.0                     0.0   \n",
       "717947                     0.0                     0.0   \n",
       "717948                     0.0                     0.0   \n",
       "\n",
       "        DEP_TIME_BLK_0900-0959  DEP_TIME_BLK_1000-1059  \\\n",
       "0                          0.0                     0.0   \n",
       "1                          0.0                     0.0   \n",
       "2                          0.0                     0.0   \n",
       "3                          0.0                     0.0   \n",
       "4                          0.0                     0.0   \n",
       "...                        ...                     ...   \n",
       "717944                     0.0                     0.0   \n",
       "717945                     0.0                     0.0   \n",
       "717946                     0.0                     0.0   \n",
       "717947                     0.0                     0.0   \n",
       "717948                     0.0                     0.0   \n",
       "\n",
       "        DEP_TIME_BLK_1100-1159  DEP_TIME_BLK_1200-1259  \\\n",
       "0                          0.0                     0.0   \n",
       "1                          0.0                     0.0   \n",
       "2                          0.0                     1.0   \n",
       "3                          0.0                     0.0   \n",
       "4                          0.0                     0.0   \n",
       "...                        ...                     ...   \n",
       "717944                     0.0                     0.0   \n",
       "717945                     0.0                     0.0   \n",
       "717946                     0.0                     0.0   \n",
       "717947                     1.0                     0.0   \n",
       "717948                     0.0                     0.0   \n",
       "\n",
       "        DEP_TIME_BLK_1300-1359  DEP_TIME_BLK_1400-1459  \\\n",
       "0                          0.0                     0.0   \n",
       "1                          0.0                     1.0   \n",
       "2                          0.0                     0.0   \n",
       "3                          0.0                     0.0   \n",
       "4                          0.0                     0.0   \n",
       "...                        ...                     ...   \n",
       "717944                     0.0                     0.0   \n",
       "717945                     0.0                     0.0   \n",
       "717946                     0.0                     0.0   \n",
       "717947                     0.0                     0.0   \n",
       "717948                     0.0                     0.0   \n",
       "\n",
       "        DEP_TIME_BLK_1500-1559  DEP_TIME_BLK_1600-1659  \\\n",
       "0                          0.0                     0.0   \n",
       "1                          0.0                     0.0   \n",
       "2                          0.0                     0.0   \n",
       "3                          1.0                     0.0   \n",
       "4                          0.0                     0.0   \n",
       "...                        ...                     ...   \n",
       "717944                     0.0                     0.0   \n",
       "717945                     0.0                     0.0   \n",
       "717946                     0.0                     0.0   \n",
       "717947                     0.0                     0.0   \n",
       "717948                     0.0                     0.0   \n",
       "\n",
       "        DEP_TIME_BLK_1700-1759  DEP_TIME_BLK_1800-1859  \\\n",
       "0                          0.0                     0.0   \n",
       "1                          0.0                     0.0   \n",
       "2                          0.0                     0.0   \n",
       "3                          0.0                     0.0   \n",
       "4                          0.0                     0.0   \n",
       "...                        ...                     ...   \n",
       "717944                     1.0                     0.0   \n",
       "717945                     0.0                     0.0   \n",
       "717946                     1.0                     0.0   \n",
       "717947                     0.0                     0.0   \n",
       "717948                     0.0                     0.0   \n",
       "\n",
       "        DEP_TIME_BLK_1900-1959  DEP_TIME_BLK_2000-2059  \\\n",
       "0                          0.0                     0.0   \n",
       "1                          0.0                     0.0   \n",
       "2                          0.0                     0.0   \n",
       "3                          0.0                     0.0   \n",
       "4                          1.0                     0.0   \n",
       "...                        ...                     ...   \n",
       "717944                     0.0                     0.0   \n",
       "717945                     1.0                     0.0   \n",
       "717946                     0.0                     0.0   \n",
       "717947                     0.0                     0.0   \n",
       "717948                     0.0                     0.0   \n",
       "\n",
       "        DEP_TIME_BLK_2100-2159  DEP_TIME_BLK_2200-2259  \\\n",
       "0                          0.0                     0.0   \n",
       "1                          0.0                     0.0   \n",
       "2                          0.0                     0.0   \n",
       "3                          0.0                     0.0   \n",
       "4                          0.0                     0.0   \n",
       "...                        ...                     ...   \n",
       "717944                     0.0                     0.0   \n",
       "717945                     0.0                     0.0   \n",
       "717946                     0.0                     0.0   \n",
       "717947                     0.0                     0.0   \n",
       "717948                     1.0                     0.0   \n",
       "\n",
       "        DEP_TIME_BLK_2300-2359  ORIGIN_CAT_0  ORIGIN_CAT_1  ORIGIN_CAT_2  \\\n",
       "0                          0.0           0.0           0.0           1.0   \n",
       "1                          0.0           0.0           0.0           1.0   \n",
       "2                          0.0           0.0           0.0           1.0   \n",
       "3                          0.0           0.0           0.0           1.0   \n",
       "4                          0.0           0.0           0.0           1.0   \n",
       "...                        ...           ...           ...           ...   \n",
       "717944                     0.0           0.0           0.0           0.0   \n",
       "717945                     0.0           0.0           0.0           0.0   \n",
       "717946                     0.0           0.0           0.0           0.0   \n",
       "717947                     0.0           0.0           0.0           0.0   \n",
       "717948                     0.0           0.0           0.0           1.0   \n",
       "\n",
       "        ORIGIN_CAT_3  ORIGIN_CAT_4  ORIGIN_CAT_5  ORIGIN_CAT_6  ORIGIN_CAT_7  \\\n",
       "0                0.0           0.0           0.0           0.0           0.0   \n",
       "1                0.0           0.0           0.0           0.0           0.0   \n",
       "2                0.0           0.0           0.0           0.0           0.0   \n",
       "3                0.0           0.0           0.0           0.0           0.0   \n",
       "4                0.0           0.0           0.0           0.0           0.0   \n",
       "...              ...           ...           ...           ...           ...   \n",
       "717944           0.0           1.0           0.0           0.0           0.0   \n",
       "717945           1.0           0.0           0.0           0.0           0.0   \n",
       "717946           1.0           0.0           0.0           0.0           0.0   \n",
       "717947           1.0           0.0           0.0           0.0           0.0   \n",
       "717948           0.0           0.0           0.0           0.0           0.0   \n",
       "\n",
       "        DEST_CAT_0  DEST_CAT_1  DEST_CAT_2  DEST_CAT_3  DEST_CAT_4  \\\n",
       "0              0.0         0.0         1.0         0.0         0.0   \n",
       "1              0.0         0.0         0.0         1.0         0.0   \n",
       "2              0.0         0.0         0.0         1.0         0.0   \n",
       "3              0.0         0.0         1.0         0.0         0.0   \n",
       "4              0.0         0.0         1.0         0.0         0.0   \n",
       "...            ...         ...         ...         ...         ...   \n",
       "717944         0.0         0.0         0.0         1.0         0.0   \n",
       "717945         0.0         0.0         0.0         0.0         0.0   \n",
       "717946         0.0         0.0         0.0         1.0         0.0   \n",
       "717947         0.0         0.0         0.0         0.0         0.0   \n",
       "717948         0.0         0.0         0.0         1.0         0.0   \n",
       "\n",
       "        DEST_CAT_5  DEST_CAT_6  DEST_CAT_7  \n",
       "0              0.0         0.0         0.0  \n",
       "1              0.0         0.0         0.0  \n",
       "2              0.0         0.0         0.0  \n",
       "3              0.0         0.0         0.0  \n",
       "4              0.0         0.0         0.0  \n",
       "...            ...         ...         ...  \n",
       "717944         0.0         0.0         0.0  \n",
       "717945         1.0         0.0         0.0  \n",
       "717946         0.0         0.0         0.0  \n",
       "717947         1.0         0.0         0.0  \n",
       "717948         0.0         0.0         0.0  \n",
       "\n",
       "[699138 rows x 70 columns]"
      ]
     },
     "execution_count": 72,
     "metadata": {},
     "output_type": "execute_result"
    }
   ],
   "source": [
    "train_inputs"
   ]
  },
  {
   "cell_type": "code",
   "execution_count": 73,
   "metadata": {
    "executionInfo": {
     "elapsed": 558,
     "status": "ok",
     "timestamp": 1627621535636,
     "user": {
      "displayName": "PREMCHAND R",
      "photoUrl": "",
      "userId": "03324294809057007804"
     },
     "user_tz": -330
    },
    "id": "ua-QqGQ4umpo"
   },
   "outputs": [],
   "source": [
    "X_train = train_inputs[numeric_cols + encoded_cols]\n",
    "X_val = val_inputs[numeric_cols + encoded_cols]\n",
    "X_test = test_inputs[numeric_cols + encoded_cols]"
   ]
  },
  {
   "cell_type": "code",
   "execution_count": 74,
   "metadata": {
    "colab": {
     "base_uri": "https://localhost:8080/",
     "height": 443
    },
    "executionInfo": {
     "elapsed": 841,
     "status": "ok",
     "timestamp": 1627621539132,
     "user": {
      "displayName": "PREMCHAND R",
      "photoUrl": "",
      "userId": "03324294809057007804"
     },
     "user_tz": -330
    },
    "id": "-PGlcmlBun1A",
    "outputId": "8d4b8e10-333d-45f6-fc83-d490d5f8c91e"
   },
   "outputs": [
    {
     "data": {
      "text/html": [
       "<div>\n",
       "<style scoped>\n",
       "    .dataframe tbody tr th:only-of-type {\n",
       "        vertical-align: middle;\n",
       "    }\n",
       "\n",
       "    .dataframe tbody tr th {\n",
       "        vertical-align: top;\n",
       "    }\n",
       "\n",
       "    .dataframe thead th {\n",
       "        text-align: right;\n",
       "    }\n",
       "</style>\n",
       "<table border=\"1\" class=\"dataframe\">\n",
       "  <thead>\n",
       "    <tr style=\"text-align: right;\">\n",
       "      <th></th>\n",
       "      <th>DAY_OF_MONTH</th>\n",
       "      <th>DEP_TIME</th>\n",
       "      <th>DISTANCE</th>\n",
       "      <th>DAY_OF_WEEK_1</th>\n",
       "      <th>DAY_OF_WEEK_2</th>\n",
       "      <th>DAY_OF_WEEK_3</th>\n",
       "      <th>DAY_OF_WEEK_4</th>\n",
       "      <th>DAY_OF_WEEK_5</th>\n",
       "      <th>DAY_OF_WEEK_6</th>\n",
       "      <th>DAY_OF_WEEK_7</th>\n",
       "      <th>OP_CARRIER_9E</th>\n",
       "      <th>OP_CARRIER_AA</th>\n",
       "      <th>OP_CARRIER_AS</th>\n",
       "      <th>OP_CARRIER_B6</th>\n",
       "      <th>OP_CARRIER_DL</th>\n",
       "      <th>OP_CARRIER_EV</th>\n",
       "      <th>OP_CARRIER_F9</th>\n",
       "      <th>OP_CARRIER_G4</th>\n",
       "      <th>OP_CARRIER_HA</th>\n",
       "      <th>OP_CARRIER_MQ</th>\n",
       "      <th>OP_CARRIER_NK</th>\n",
       "      <th>OP_CARRIER_OH</th>\n",
       "      <th>OP_CARRIER_OO</th>\n",
       "      <th>OP_CARRIER_UA</th>\n",
       "      <th>OP_CARRIER_WN</th>\n",
       "      <th>OP_CARRIER_YV</th>\n",
       "      <th>OP_CARRIER_YX</th>\n",
       "      <th>DEP_DEL15_0.0</th>\n",
       "      <th>DEP_DEL15_1.0</th>\n",
       "      <th>DEP_TIME_BLK_0001-0559</th>\n",
       "      <th>DEP_TIME_BLK_0600-0659</th>\n",
       "      <th>DEP_TIME_BLK_0700-0759</th>\n",
       "      <th>DEP_TIME_BLK_0800-0859</th>\n",
       "      <th>DEP_TIME_BLK_0900-0959</th>\n",
       "      <th>DEP_TIME_BLK_1000-1059</th>\n",
       "      <th>DEP_TIME_BLK_1100-1159</th>\n",
       "      <th>DEP_TIME_BLK_1200-1259</th>\n",
       "      <th>DEP_TIME_BLK_1300-1359</th>\n",
       "      <th>DEP_TIME_BLK_1400-1459</th>\n",
       "      <th>DEP_TIME_BLK_1500-1559</th>\n",
       "      <th>DEP_TIME_BLK_1600-1659</th>\n",
       "      <th>DEP_TIME_BLK_1700-1759</th>\n",
       "      <th>DEP_TIME_BLK_1800-1859</th>\n",
       "      <th>DEP_TIME_BLK_1900-1959</th>\n",
       "      <th>DEP_TIME_BLK_2000-2059</th>\n",
       "      <th>DEP_TIME_BLK_2100-2159</th>\n",
       "      <th>DEP_TIME_BLK_2200-2259</th>\n",
       "      <th>DEP_TIME_BLK_2300-2359</th>\n",
       "      <th>ORIGIN_CAT_0</th>\n",
       "      <th>ORIGIN_CAT_1</th>\n",
       "      <th>ORIGIN_CAT_2</th>\n",
       "      <th>ORIGIN_CAT_3</th>\n",
       "      <th>ORIGIN_CAT_4</th>\n",
       "      <th>ORIGIN_CAT_5</th>\n",
       "      <th>ORIGIN_CAT_6</th>\n",
       "      <th>ORIGIN_CAT_7</th>\n",
       "      <th>DEST_CAT_0</th>\n",
       "      <th>DEST_CAT_1</th>\n",
       "      <th>DEST_CAT_2</th>\n",
       "      <th>DEST_CAT_3</th>\n",
       "      <th>DEST_CAT_4</th>\n",
       "      <th>DEST_CAT_5</th>\n",
       "      <th>DEST_CAT_6</th>\n",
       "      <th>DEST_CAT_7</th>\n",
       "    </tr>\n",
       "  </thead>\n",
       "  <tbody>\n",
       "    <tr>\n",
       "      <th>0</th>\n",
       "      <td>0.0</td>\n",
       "      <td>0.250104</td>\n",
       "      <td>0.053120</td>\n",
       "      <td>0.0</td>\n",
       "      <td>1.0</td>\n",
       "      <td>0.0</td>\n",
       "      <td>0.0</td>\n",
       "      <td>0.0</td>\n",
       "      <td>0.0</td>\n",
       "      <td>0.0</td>\n",
       "      <td>1.0</td>\n",
       "      <td>0.0</td>\n",
       "      <td>0.0</td>\n",
       "      <td>0.0</td>\n",
       "      <td>0.0</td>\n",
       "      <td>0.0</td>\n",
       "      <td>0.0</td>\n",
       "      <td>0.0</td>\n",
       "      <td>0.0</td>\n",
       "      <td>0.0</td>\n",
       "      <td>0.0</td>\n",
       "      <td>0.0</td>\n",
       "      <td>0.0</td>\n",
       "      <td>0.0</td>\n",
       "      <td>0.0</td>\n",
       "      <td>0.0</td>\n",
       "      <td>0.0</td>\n",
       "      <td>1.0</td>\n",
       "      <td>0.0</td>\n",
       "      <td>0.0</td>\n",
       "      <td>1.0</td>\n",
       "      <td>0.0</td>\n",
       "      <td>0.0</td>\n",
       "      <td>0.0</td>\n",
       "      <td>0.0</td>\n",
       "      <td>0.0</td>\n",
       "      <td>0.0</td>\n",
       "      <td>0.0</td>\n",
       "      <td>0.0</td>\n",
       "      <td>0.0</td>\n",
       "      <td>0.0</td>\n",
       "      <td>0.0</td>\n",
       "      <td>0.0</td>\n",
       "      <td>0.0</td>\n",
       "      <td>0.0</td>\n",
       "      <td>0.0</td>\n",
       "      <td>0.0</td>\n",
       "      <td>0.0</td>\n",
       "      <td>0.0</td>\n",
       "      <td>0.0</td>\n",
       "      <td>1.0</td>\n",
       "      <td>0.0</td>\n",
       "      <td>0.0</td>\n",
       "      <td>0.0</td>\n",
       "      <td>0.0</td>\n",
       "      <td>0.0</td>\n",
       "      <td>0.0</td>\n",
       "      <td>0.0</td>\n",
       "      <td>1.0</td>\n",
       "      <td>0.0</td>\n",
       "      <td>0.0</td>\n",
       "      <td>0.0</td>\n",
       "      <td>0.0</td>\n",
       "      <td>0.0</td>\n",
       "    </tr>\n",
       "    <tr>\n",
       "      <th>1</th>\n",
       "      <td>0.0</td>\n",
       "      <td>0.566069</td>\n",
       "      <td>0.111572</td>\n",
       "      <td>0.0</td>\n",
       "      <td>1.0</td>\n",
       "      <td>0.0</td>\n",
       "      <td>0.0</td>\n",
       "      <td>0.0</td>\n",
       "      <td>0.0</td>\n",
       "      <td>0.0</td>\n",
       "      <td>1.0</td>\n",
       "      <td>0.0</td>\n",
       "      <td>0.0</td>\n",
       "      <td>0.0</td>\n",
       "      <td>0.0</td>\n",
       "      <td>0.0</td>\n",
       "      <td>0.0</td>\n",
       "      <td>0.0</td>\n",
       "      <td>0.0</td>\n",
       "      <td>0.0</td>\n",
       "      <td>0.0</td>\n",
       "      <td>0.0</td>\n",
       "      <td>0.0</td>\n",
       "      <td>0.0</td>\n",
       "      <td>0.0</td>\n",
       "      <td>0.0</td>\n",
       "      <td>0.0</td>\n",
       "      <td>1.0</td>\n",
       "      <td>0.0</td>\n",
       "      <td>0.0</td>\n",
       "      <td>0.0</td>\n",
       "      <td>0.0</td>\n",
       "      <td>0.0</td>\n",
       "      <td>0.0</td>\n",
       "      <td>0.0</td>\n",
       "      <td>0.0</td>\n",
       "      <td>0.0</td>\n",
       "      <td>0.0</td>\n",
       "      <td>1.0</td>\n",
       "      <td>0.0</td>\n",
       "      <td>0.0</td>\n",
       "      <td>0.0</td>\n",
       "      <td>0.0</td>\n",
       "      <td>0.0</td>\n",
       "      <td>0.0</td>\n",
       "      <td>0.0</td>\n",
       "      <td>0.0</td>\n",
       "      <td>0.0</td>\n",
       "      <td>0.0</td>\n",
       "      <td>0.0</td>\n",
       "      <td>1.0</td>\n",
       "      <td>0.0</td>\n",
       "      <td>0.0</td>\n",
       "      <td>0.0</td>\n",
       "      <td>0.0</td>\n",
       "      <td>0.0</td>\n",
       "      <td>0.0</td>\n",
       "      <td>0.0</td>\n",
       "      <td>0.0</td>\n",
       "      <td>1.0</td>\n",
       "      <td>0.0</td>\n",
       "      <td>0.0</td>\n",
       "      <td>0.0</td>\n",
       "      <td>0.0</td>\n",
       "    </tr>\n",
       "    <tr>\n",
       "      <th>2</th>\n",
       "      <td>0.0</td>\n",
       "      <td>0.506044</td>\n",
       "      <td>0.039100</td>\n",
       "      <td>0.0</td>\n",
       "      <td>1.0</td>\n",
       "      <td>0.0</td>\n",
       "      <td>0.0</td>\n",
       "      <td>0.0</td>\n",
       "      <td>0.0</td>\n",
       "      <td>0.0</td>\n",
       "      <td>1.0</td>\n",
       "      <td>0.0</td>\n",
       "      <td>0.0</td>\n",
       "      <td>0.0</td>\n",
       "      <td>0.0</td>\n",
       "      <td>0.0</td>\n",
       "      <td>0.0</td>\n",
       "      <td>0.0</td>\n",
       "      <td>0.0</td>\n",
       "      <td>0.0</td>\n",
       "      <td>0.0</td>\n",
       "      <td>0.0</td>\n",
       "      <td>0.0</td>\n",
       "      <td>0.0</td>\n",
       "      <td>0.0</td>\n",
       "      <td>0.0</td>\n",
       "      <td>0.0</td>\n",
       "      <td>1.0</td>\n",
       "      <td>0.0</td>\n",
       "      <td>0.0</td>\n",
       "      <td>0.0</td>\n",
       "      <td>0.0</td>\n",
       "      <td>0.0</td>\n",
       "      <td>0.0</td>\n",
       "      <td>0.0</td>\n",
       "      <td>0.0</td>\n",
       "      <td>1.0</td>\n",
       "      <td>0.0</td>\n",
       "      <td>0.0</td>\n",
       "      <td>0.0</td>\n",
       "      <td>0.0</td>\n",
       "      <td>0.0</td>\n",
       "      <td>0.0</td>\n",
       "      <td>0.0</td>\n",
       "      <td>0.0</td>\n",
       "      <td>0.0</td>\n",
       "      <td>0.0</td>\n",
       "      <td>0.0</td>\n",
       "      <td>0.0</td>\n",
       "      <td>0.0</td>\n",
       "      <td>1.0</td>\n",
       "      <td>0.0</td>\n",
       "      <td>0.0</td>\n",
       "      <td>0.0</td>\n",
       "      <td>0.0</td>\n",
       "      <td>0.0</td>\n",
       "      <td>0.0</td>\n",
       "      <td>0.0</td>\n",
       "      <td>0.0</td>\n",
       "      <td>1.0</td>\n",
       "      <td>0.0</td>\n",
       "      <td>0.0</td>\n",
       "      <td>0.0</td>\n",
       "      <td>0.0</td>\n",
       "    </tr>\n",
       "    <tr>\n",
       "      <th>3</th>\n",
       "      <td>0.0</td>\n",
       "      <td>0.633597</td>\n",
       "      <td>0.037915</td>\n",
       "      <td>0.0</td>\n",
       "      <td>1.0</td>\n",
       "      <td>0.0</td>\n",
       "      <td>0.0</td>\n",
       "      <td>0.0</td>\n",
       "      <td>0.0</td>\n",
       "      <td>0.0</td>\n",
       "      <td>1.0</td>\n",
       "      <td>0.0</td>\n",
       "      <td>0.0</td>\n",
       "      <td>0.0</td>\n",
       "      <td>0.0</td>\n",
       "      <td>0.0</td>\n",
       "      <td>0.0</td>\n",
       "      <td>0.0</td>\n",
       "      <td>0.0</td>\n",
       "      <td>0.0</td>\n",
       "      <td>0.0</td>\n",
       "      <td>0.0</td>\n",
       "      <td>0.0</td>\n",
       "      <td>0.0</td>\n",
       "      <td>0.0</td>\n",
       "      <td>0.0</td>\n",
       "      <td>0.0</td>\n",
       "      <td>1.0</td>\n",
       "      <td>0.0</td>\n",
       "      <td>0.0</td>\n",
       "      <td>0.0</td>\n",
       "      <td>0.0</td>\n",
       "      <td>0.0</td>\n",
       "      <td>0.0</td>\n",
       "      <td>0.0</td>\n",
       "      <td>0.0</td>\n",
       "      <td>0.0</td>\n",
       "      <td>0.0</td>\n",
       "      <td>0.0</td>\n",
       "      <td>1.0</td>\n",
       "      <td>0.0</td>\n",
       "      <td>0.0</td>\n",
       "      <td>0.0</td>\n",
       "      <td>0.0</td>\n",
       "      <td>0.0</td>\n",
       "      <td>0.0</td>\n",
       "      <td>0.0</td>\n",
       "      <td>0.0</td>\n",
       "      <td>0.0</td>\n",
       "      <td>0.0</td>\n",
       "      <td>1.0</td>\n",
       "      <td>0.0</td>\n",
       "      <td>0.0</td>\n",
       "      <td>0.0</td>\n",
       "      <td>0.0</td>\n",
       "      <td>0.0</td>\n",
       "      <td>0.0</td>\n",
       "      <td>0.0</td>\n",
       "      <td>1.0</td>\n",
       "      <td>0.0</td>\n",
       "      <td>0.0</td>\n",
       "      <td>0.0</td>\n",
       "      <td>0.0</td>\n",
       "      <td>0.0</td>\n",
       "    </tr>\n",
       "    <tr>\n",
       "      <th>4</th>\n",
       "      <td>0.0</td>\n",
       "      <td>0.769487</td>\n",
       "      <td>0.108215</td>\n",
       "      <td>0.0</td>\n",
       "      <td>1.0</td>\n",
       "      <td>0.0</td>\n",
       "      <td>0.0</td>\n",
       "      <td>0.0</td>\n",
       "      <td>0.0</td>\n",
       "      <td>0.0</td>\n",
       "      <td>1.0</td>\n",
       "      <td>0.0</td>\n",
       "      <td>0.0</td>\n",
       "      <td>0.0</td>\n",
       "      <td>0.0</td>\n",
       "      <td>0.0</td>\n",
       "      <td>0.0</td>\n",
       "      <td>0.0</td>\n",
       "      <td>0.0</td>\n",
       "      <td>0.0</td>\n",
       "      <td>0.0</td>\n",
       "      <td>0.0</td>\n",
       "      <td>0.0</td>\n",
       "      <td>0.0</td>\n",
       "      <td>0.0</td>\n",
       "      <td>0.0</td>\n",
       "      <td>0.0</td>\n",
       "      <td>1.0</td>\n",
       "      <td>0.0</td>\n",
       "      <td>0.0</td>\n",
       "      <td>0.0</td>\n",
       "      <td>0.0</td>\n",
       "      <td>0.0</td>\n",
       "      <td>0.0</td>\n",
       "      <td>0.0</td>\n",
       "      <td>0.0</td>\n",
       "      <td>0.0</td>\n",
       "      <td>0.0</td>\n",
       "      <td>0.0</td>\n",
       "      <td>0.0</td>\n",
       "      <td>0.0</td>\n",
       "      <td>0.0</td>\n",
       "      <td>0.0</td>\n",
       "      <td>1.0</td>\n",
       "      <td>0.0</td>\n",
       "      <td>0.0</td>\n",
       "      <td>0.0</td>\n",
       "      <td>0.0</td>\n",
       "      <td>0.0</td>\n",
       "      <td>0.0</td>\n",
       "      <td>1.0</td>\n",
       "      <td>0.0</td>\n",
       "      <td>0.0</td>\n",
       "      <td>0.0</td>\n",
       "      <td>0.0</td>\n",
       "      <td>0.0</td>\n",
       "      <td>0.0</td>\n",
       "      <td>0.0</td>\n",
       "      <td>1.0</td>\n",
       "      <td>0.0</td>\n",
       "      <td>0.0</td>\n",
       "      <td>0.0</td>\n",
       "      <td>0.0</td>\n",
       "      <td>0.0</td>\n",
       "    </tr>\n",
       "    <tr>\n",
       "      <th>...</th>\n",
       "      <td>...</td>\n",
       "      <td>...</td>\n",
       "      <td>...</td>\n",
       "      <td>...</td>\n",
       "      <td>...</td>\n",
       "      <td>...</td>\n",
       "      <td>...</td>\n",
       "      <td>...</td>\n",
       "      <td>...</td>\n",
       "      <td>...</td>\n",
       "      <td>...</td>\n",
       "      <td>...</td>\n",
       "      <td>...</td>\n",
       "      <td>...</td>\n",
       "      <td>...</td>\n",
       "      <td>...</td>\n",
       "      <td>...</td>\n",
       "      <td>...</td>\n",
       "      <td>...</td>\n",
       "      <td>...</td>\n",
       "      <td>...</td>\n",
       "      <td>...</td>\n",
       "      <td>...</td>\n",
       "      <td>...</td>\n",
       "      <td>...</td>\n",
       "      <td>...</td>\n",
       "      <td>...</td>\n",
       "      <td>...</td>\n",
       "      <td>...</td>\n",
       "      <td>...</td>\n",
       "      <td>...</td>\n",
       "      <td>...</td>\n",
       "      <td>...</td>\n",
       "      <td>...</td>\n",
       "      <td>...</td>\n",
       "      <td>...</td>\n",
       "      <td>...</td>\n",
       "      <td>...</td>\n",
       "      <td>...</td>\n",
       "      <td>...</td>\n",
       "      <td>...</td>\n",
       "      <td>...</td>\n",
       "      <td>...</td>\n",
       "      <td>...</td>\n",
       "      <td>...</td>\n",
       "      <td>...</td>\n",
       "      <td>...</td>\n",
       "      <td>...</td>\n",
       "      <td>...</td>\n",
       "      <td>...</td>\n",
       "      <td>...</td>\n",
       "      <td>...</td>\n",
       "      <td>...</td>\n",
       "      <td>...</td>\n",
       "      <td>...</td>\n",
       "      <td>...</td>\n",
       "      <td>...</td>\n",
       "      <td>...</td>\n",
       "      <td>...</td>\n",
       "      <td>...</td>\n",
       "      <td>...</td>\n",
       "      <td>...</td>\n",
       "      <td>...</td>\n",
       "      <td>...</td>\n",
       "    </tr>\n",
       "    <tr>\n",
       "      <th>717944</th>\n",
       "      <td>0.2</td>\n",
       "      <td>0.803251</td>\n",
       "      <td>0.052330</td>\n",
       "      <td>0.0</td>\n",
       "      <td>1.0</td>\n",
       "      <td>0.0</td>\n",
       "      <td>0.0</td>\n",
       "      <td>0.0</td>\n",
       "      <td>0.0</td>\n",
       "      <td>0.0</td>\n",
       "      <td>1.0</td>\n",
       "      <td>0.0</td>\n",
       "      <td>0.0</td>\n",
       "      <td>0.0</td>\n",
       "      <td>0.0</td>\n",
       "      <td>0.0</td>\n",
       "      <td>0.0</td>\n",
       "      <td>0.0</td>\n",
       "      <td>0.0</td>\n",
       "      <td>0.0</td>\n",
       "      <td>0.0</td>\n",
       "      <td>0.0</td>\n",
       "      <td>0.0</td>\n",
       "      <td>0.0</td>\n",
       "      <td>0.0</td>\n",
       "      <td>0.0</td>\n",
       "      <td>0.0</td>\n",
       "      <td>0.0</td>\n",
       "      <td>1.0</td>\n",
       "      <td>0.0</td>\n",
       "      <td>0.0</td>\n",
       "      <td>0.0</td>\n",
       "      <td>0.0</td>\n",
       "      <td>0.0</td>\n",
       "      <td>0.0</td>\n",
       "      <td>0.0</td>\n",
       "      <td>0.0</td>\n",
       "      <td>0.0</td>\n",
       "      <td>0.0</td>\n",
       "      <td>0.0</td>\n",
       "      <td>0.0</td>\n",
       "      <td>1.0</td>\n",
       "      <td>0.0</td>\n",
       "      <td>0.0</td>\n",
       "      <td>0.0</td>\n",
       "      <td>0.0</td>\n",
       "      <td>0.0</td>\n",
       "      <td>0.0</td>\n",
       "      <td>0.0</td>\n",
       "      <td>0.0</td>\n",
       "      <td>0.0</td>\n",
       "      <td>0.0</td>\n",
       "      <td>1.0</td>\n",
       "      <td>0.0</td>\n",
       "      <td>0.0</td>\n",
       "      <td>0.0</td>\n",
       "      <td>0.0</td>\n",
       "      <td>0.0</td>\n",
       "      <td>0.0</td>\n",
       "      <td>1.0</td>\n",
       "      <td>0.0</td>\n",
       "      <td>0.0</td>\n",
       "      <td>0.0</td>\n",
       "      <td>0.0</td>\n",
       "    </tr>\n",
       "    <tr>\n",
       "      <th>717945</th>\n",
       "      <td>0.2</td>\n",
       "      <td>0.875365</td>\n",
       "      <td>0.052330</td>\n",
       "      <td>0.0</td>\n",
       "      <td>1.0</td>\n",
       "      <td>0.0</td>\n",
       "      <td>0.0</td>\n",
       "      <td>0.0</td>\n",
       "      <td>0.0</td>\n",
       "      <td>0.0</td>\n",
       "      <td>1.0</td>\n",
       "      <td>0.0</td>\n",
       "      <td>0.0</td>\n",
       "      <td>0.0</td>\n",
       "      <td>0.0</td>\n",
       "      <td>0.0</td>\n",
       "      <td>0.0</td>\n",
       "      <td>0.0</td>\n",
       "      <td>0.0</td>\n",
       "      <td>0.0</td>\n",
       "      <td>0.0</td>\n",
       "      <td>0.0</td>\n",
       "      <td>0.0</td>\n",
       "      <td>0.0</td>\n",
       "      <td>0.0</td>\n",
       "      <td>0.0</td>\n",
       "      <td>0.0</td>\n",
       "      <td>0.0</td>\n",
       "      <td>1.0</td>\n",
       "      <td>0.0</td>\n",
       "      <td>0.0</td>\n",
       "      <td>0.0</td>\n",
       "      <td>0.0</td>\n",
       "      <td>0.0</td>\n",
       "      <td>0.0</td>\n",
       "      <td>0.0</td>\n",
       "      <td>0.0</td>\n",
       "      <td>0.0</td>\n",
       "      <td>0.0</td>\n",
       "      <td>0.0</td>\n",
       "      <td>0.0</td>\n",
       "      <td>0.0</td>\n",
       "      <td>0.0</td>\n",
       "      <td>1.0</td>\n",
       "      <td>0.0</td>\n",
       "      <td>0.0</td>\n",
       "      <td>0.0</td>\n",
       "      <td>0.0</td>\n",
       "      <td>0.0</td>\n",
       "      <td>0.0</td>\n",
       "      <td>0.0</td>\n",
       "      <td>1.0</td>\n",
       "      <td>0.0</td>\n",
       "      <td>0.0</td>\n",
       "      <td>0.0</td>\n",
       "      <td>0.0</td>\n",
       "      <td>0.0</td>\n",
       "      <td>0.0</td>\n",
       "      <td>0.0</td>\n",
       "      <td>0.0</td>\n",
       "      <td>0.0</td>\n",
       "      <td>1.0</td>\n",
       "      <td>0.0</td>\n",
       "      <td>0.0</td>\n",
       "    </tr>\n",
       "    <tr>\n",
       "      <th>717946</th>\n",
       "      <td>0.2</td>\n",
       "      <td>0.718633</td>\n",
       "      <td>0.142378</td>\n",
       "      <td>0.0</td>\n",
       "      <td>1.0</td>\n",
       "      <td>0.0</td>\n",
       "      <td>0.0</td>\n",
       "      <td>0.0</td>\n",
       "      <td>0.0</td>\n",
       "      <td>0.0</td>\n",
       "      <td>1.0</td>\n",
       "      <td>0.0</td>\n",
       "      <td>0.0</td>\n",
       "      <td>0.0</td>\n",
       "      <td>0.0</td>\n",
       "      <td>0.0</td>\n",
       "      <td>0.0</td>\n",
       "      <td>0.0</td>\n",
       "      <td>0.0</td>\n",
       "      <td>0.0</td>\n",
       "      <td>0.0</td>\n",
       "      <td>0.0</td>\n",
       "      <td>0.0</td>\n",
       "      <td>0.0</td>\n",
       "      <td>0.0</td>\n",
       "      <td>0.0</td>\n",
       "      <td>0.0</td>\n",
       "      <td>1.0</td>\n",
       "      <td>0.0</td>\n",
       "      <td>0.0</td>\n",
       "      <td>0.0</td>\n",
       "      <td>0.0</td>\n",
       "      <td>0.0</td>\n",
       "      <td>0.0</td>\n",
       "      <td>0.0</td>\n",
       "      <td>0.0</td>\n",
       "      <td>0.0</td>\n",
       "      <td>0.0</td>\n",
       "      <td>0.0</td>\n",
       "      <td>0.0</td>\n",
       "      <td>0.0</td>\n",
       "      <td>1.0</td>\n",
       "      <td>0.0</td>\n",
       "      <td>0.0</td>\n",
       "      <td>0.0</td>\n",
       "      <td>0.0</td>\n",
       "      <td>0.0</td>\n",
       "      <td>0.0</td>\n",
       "      <td>0.0</td>\n",
       "      <td>0.0</td>\n",
       "      <td>0.0</td>\n",
       "      <td>1.0</td>\n",
       "      <td>0.0</td>\n",
       "      <td>0.0</td>\n",
       "      <td>0.0</td>\n",
       "      <td>0.0</td>\n",
       "      <td>0.0</td>\n",
       "      <td>0.0</td>\n",
       "      <td>0.0</td>\n",
       "      <td>1.0</td>\n",
       "      <td>0.0</td>\n",
       "      <td>0.0</td>\n",
       "      <td>0.0</td>\n",
       "      <td>0.0</td>\n",
       "    </tr>\n",
       "    <tr>\n",
       "      <th>717947</th>\n",
       "      <td>0.2</td>\n",
       "      <td>0.510213</td>\n",
       "      <td>0.054107</td>\n",
       "      <td>0.0</td>\n",
       "      <td>1.0</td>\n",
       "      <td>0.0</td>\n",
       "      <td>0.0</td>\n",
       "      <td>0.0</td>\n",
       "      <td>0.0</td>\n",
       "      <td>0.0</td>\n",
       "      <td>1.0</td>\n",
       "      <td>0.0</td>\n",
       "      <td>0.0</td>\n",
       "      <td>0.0</td>\n",
       "      <td>0.0</td>\n",
       "      <td>0.0</td>\n",
       "      <td>0.0</td>\n",
       "      <td>0.0</td>\n",
       "      <td>0.0</td>\n",
       "      <td>0.0</td>\n",
       "      <td>0.0</td>\n",
       "      <td>0.0</td>\n",
       "      <td>0.0</td>\n",
       "      <td>0.0</td>\n",
       "      <td>0.0</td>\n",
       "      <td>0.0</td>\n",
       "      <td>0.0</td>\n",
       "      <td>0.0</td>\n",
       "      <td>1.0</td>\n",
       "      <td>0.0</td>\n",
       "      <td>0.0</td>\n",
       "      <td>0.0</td>\n",
       "      <td>0.0</td>\n",
       "      <td>0.0</td>\n",
       "      <td>0.0</td>\n",
       "      <td>1.0</td>\n",
       "      <td>0.0</td>\n",
       "      <td>0.0</td>\n",
       "      <td>0.0</td>\n",
       "      <td>0.0</td>\n",
       "      <td>0.0</td>\n",
       "      <td>0.0</td>\n",
       "      <td>0.0</td>\n",
       "      <td>0.0</td>\n",
       "      <td>0.0</td>\n",
       "      <td>0.0</td>\n",
       "      <td>0.0</td>\n",
       "      <td>0.0</td>\n",
       "      <td>0.0</td>\n",
       "      <td>0.0</td>\n",
       "      <td>0.0</td>\n",
       "      <td>1.0</td>\n",
       "      <td>0.0</td>\n",
       "      <td>0.0</td>\n",
       "      <td>0.0</td>\n",
       "      <td>0.0</td>\n",
       "      <td>0.0</td>\n",
       "      <td>0.0</td>\n",
       "      <td>0.0</td>\n",
       "      <td>0.0</td>\n",
       "      <td>0.0</td>\n",
       "      <td>1.0</td>\n",
       "      <td>0.0</td>\n",
       "      <td>0.0</td>\n",
       "    </tr>\n",
       "    <tr>\n",
       "      <th>717948</th>\n",
       "      <td>0.2</td>\n",
       "      <td>0.878283</td>\n",
       "      <td>0.094194</td>\n",
       "      <td>0.0</td>\n",
       "      <td>1.0</td>\n",
       "      <td>0.0</td>\n",
       "      <td>0.0</td>\n",
       "      <td>0.0</td>\n",
       "      <td>0.0</td>\n",
       "      <td>0.0</td>\n",
       "      <td>1.0</td>\n",
       "      <td>0.0</td>\n",
       "      <td>0.0</td>\n",
       "      <td>0.0</td>\n",
       "      <td>0.0</td>\n",
       "      <td>0.0</td>\n",
       "      <td>0.0</td>\n",
       "      <td>0.0</td>\n",
       "      <td>0.0</td>\n",
       "      <td>0.0</td>\n",
       "      <td>0.0</td>\n",
       "      <td>0.0</td>\n",
       "      <td>0.0</td>\n",
       "      <td>0.0</td>\n",
       "      <td>0.0</td>\n",
       "      <td>0.0</td>\n",
       "      <td>0.0</td>\n",
       "      <td>1.0</td>\n",
       "      <td>0.0</td>\n",
       "      <td>0.0</td>\n",
       "      <td>0.0</td>\n",
       "      <td>0.0</td>\n",
       "      <td>0.0</td>\n",
       "      <td>0.0</td>\n",
       "      <td>0.0</td>\n",
       "      <td>0.0</td>\n",
       "      <td>0.0</td>\n",
       "      <td>0.0</td>\n",
       "      <td>0.0</td>\n",
       "      <td>0.0</td>\n",
       "      <td>0.0</td>\n",
       "      <td>0.0</td>\n",
       "      <td>0.0</td>\n",
       "      <td>0.0</td>\n",
       "      <td>0.0</td>\n",
       "      <td>1.0</td>\n",
       "      <td>0.0</td>\n",
       "      <td>0.0</td>\n",
       "      <td>0.0</td>\n",
       "      <td>0.0</td>\n",
       "      <td>1.0</td>\n",
       "      <td>0.0</td>\n",
       "      <td>0.0</td>\n",
       "      <td>0.0</td>\n",
       "      <td>0.0</td>\n",
       "      <td>0.0</td>\n",
       "      <td>0.0</td>\n",
       "      <td>0.0</td>\n",
       "      <td>0.0</td>\n",
       "      <td>1.0</td>\n",
       "      <td>0.0</td>\n",
       "      <td>0.0</td>\n",
       "      <td>0.0</td>\n",
       "      <td>0.0</td>\n",
       "    </tr>\n",
       "  </tbody>\n",
       "</table>\n",
       "<p>699138 rows × 64 columns</p>\n",
       "</div>"
      ],
      "text/plain": [
       "        DAY_OF_MONTH  DEP_TIME  DISTANCE  DAY_OF_WEEK_1  DAY_OF_WEEK_2  \\\n",
       "0                0.0  0.250104  0.053120            0.0            1.0   \n",
       "1                0.0  0.566069  0.111572            0.0            1.0   \n",
       "2                0.0  0.506044  0.039100            0.0            1.0   \n",
       "3                0.0  0.633597  0.037915            0.0            1.0   \n",
       "4                0.0  0.769487  0.108215            0.0            1.0   \n",
       "...              ...       ...       ...            ...            ...   \n",
       "717944           0.2  0.803251  0.052330            0.0            1.0   \n",
       "717945           0.2  0.875365  0.052330            0.0            1.0   \n",
       "717946           0.2  0.718633  0.142378            0.0            1.0   \n",
       "717947           0.2  0.510213  0.054107            0.0            1.0   \n",
       "717948           0.2  0.878283  0.094194            0.0            1.0   \n",
       "\n",
       "        DAY_OF_WEEK_3  DAY_OF_WEEK_4  DAY_OF_WEEK_5  DAY_OF_WEEK_6  \\\n",
       "0                 0.0            0.0            0.0            0.0   \n",
       "1                 0.0            0.0            0.0            0.0   \n",
       "2                 0.0            0.0            0.0            0.0   \n",
       "3                 0.0            0.0            0.0            0.0   \n",
       "4                 0.0            0.0            0.0            0.0   \n",
       "...               ...            ...            ...            ...   \n",
       "717944            0.0            0.0            0.0            0.0   \n",
       "717945            0.0            0.0            0.0            0.0   \n",
       "717946            0.0            0.0            0.0            0.0   \n",
       "717947            0.0            0.0            0.0            0.0   \n",
       "717948            0.0            0.0            0.0            0.0   \n",
       "\n",
       "        DAY_OF_WEEK_7  OP_CARRIER_9E  OP_CARRIER_AA  OP_CARRIER_AS  \\\n",
       "0                 0.0            1.0            0.0            0.0   \n",
       "1                 0.0            1.0            0.0            0.0   \n",
       "2                 0.0            1.0            0.0            0.0   \n",
       "3                 0.0            1.0            0.0            0.0   \n",
       "4                 0.0            1.0            0.0            0.0   \n",
       "...               ...            ...            ...            ...   \n",
       "717944            0.0            1.0            0.0            0.0   \n",
       "717945            0.0            1.0            0.0            0.0   \n",
       "717946            0.0            1.0            0.0            0.0   \n",
       "717947            0.0            1.0            0.0            0.0   \n",
       "717948            0.0            1.0            0.0            0.0   \n",
       "\n",
       "        OP_CARRIER_B6  OP_CARRIER_DL  OP_CARRIER_EV  OP_CARRIER_F9  \\\n",
       "0                 0.0            0.0            0.0            0.0   \n",
       "1                 0.0            0.0            0.0            0.0   \n",
       "2                 0.0            0.0            0.0            0.0   \n",
       "3                 0.0            0.0            0.0            0.0   \n",
       "4                 0.0            0.0            0.0            0.0   \n",
       "...               ...            ...            ...            ...   \n",
       "717944            0.0            0.0            0.0            0.0   \n",
       "717945            0.0            0.0            0.0            0.0   \n",
       "717946            0.0            0.0            0.0            0.0   \n",
       "717947            0.0            0.0            0.0            0.0   \n",
       "717948            0.0            0.0            0.0            0.0   \n",
       "\n",
       "        OP_CARRIER_G4  OP_CARRIER_HA  OP_CARRIER_MQ  OP_CARRIER_NK  \\\n",
       "0                 0.0            0.0            0.0            0.0   \n",
       "1                 0.0            0.0            0.0            0.0   \n",
       "2                 0.0            0.0            0.0            0.0   \n",
       "3                 0.0            0.0            0.0            0.0   \n",
       "4                 0.0            0.0            0.0            0.0   \n",
       "...               ...            ...            ...            ...   \n",
       "717944            0.0            0.0            0.0            0.0   \n",
       "717945            0.0            0.0            0.0            0.0   \n",
       "717946            0.0            0.0            0.0            0.0   \n",
       "717947            0.0            0.0            0.0            0.0   \n",
       "717948            0.0            0.0            0.0            0.0   \n",
       "\n",
       "        OP_CARRIER_OH  OP_CARRIER_OO  OP_CARRIER_UA  OP_CARRIER_WN  \\\n",
       "0                 0.0            0.0            0.0            0.0   \n",
       "1                 0.0            0.0            0.0            0.0   \n",
       "2                 0.0            0.0            0.0            0.0   \n",
       "3                 0.0            0.0            0.0            0.0   \n",
       "4                 0.0            0.0            0.0            0.0   \n",
       "...               ...            ...            ...            ...   \n",
       "717944            0.0            0.0            0.0            0.0   \n",
       "717945            0.0            0.0            0.0            0.0   \n",
       "717946            0.0            0.0            0.0            0.0   \n",
       "717947            0.0            0.0            0.0            0.0   \n",
       "717948            0.0            0.0            0.0            0.0   \n",
       "\n",
       "        OP_CARRIER_YV  OP_CARRIER_YX  DEP_DEL15_0.0  DEP_DEL15_1.0  \\\n",
       "0                 0.0            0.0            1.0            0.0   \n",
       "1                 0.0            0.0            1.0            0.0   \n",
       "2                 0.0            0.0            1.0            0.0   \n",
       "3                 0.0            0.0            1.0            0.0   \n",
       "4                 0.0            0.0            1.0            0.0   \n",
       "...               ...            ...            ...            ...   \n",
       "717944            0.0            0.0            0.0            1.0   \n",
       "717945            0.0            0.0            0.0            1.0   \n",
       "717946            0.0            0.0            1.0            0.0   \n",
       "717947            0.0            0.0            0.0            1.0   \n",
       "717948            0.0            0.0            1.0            0.0   \n",
       "\n",
       "        DEP_TIME_BLK_0001-0559  DEP_TIME_BLK_0600-0659  \\\n",
       "0                          0.0                     1.0   \n",
       "1                          0.0                     0.0   \n",
       "2                          0.0                     0.0   \n",
       "3                          0.0                     0.0   \n",
       "4                          0.0                     0.0   \n",
       "...                        ...                     ...   \n",
       "717944                     0.0                     0.0   \n",
       "717945                     0.0                     0.0   \n",
       "717946                     0.0                     0.0   \n",
       "717947                     0.0                     0.0   \n",
       "717948                     0.0                     0.0   \n",
       "\n",
       "        DEP_TIME_BLK_0700-0759  DEP_TIME_BLK_0800-0859  \\\n",
       "0                          0.0                     0.0   \n",
       "1                          0.0                     0.0   \n",
       "2                          0.0                     0.0   \n",
       "3                          0.0                     0.0   \n",
       "4                          0.0                     0.0   \n",
       "...                        ...                     ...   \n",
       "717944                     0.0                     0.0   \n",
       "717945                     0.0                     0.0   \n",
       "717946                     0.0                     0.0   \n",
       "717947                     0.0                     0.0   \n",
       "717948                     0.0                     0.0   \n",
       "\n",
       "        DEP_TIME_BLK_0900-0959  DEP_TIME_BLK_1000-1059  \\\n",
       "0                          0.0                     0.0   \n",
       "1                          0.0                     0.0   \n",
       "2                          0.0                     0.0   \n",
       "3                          0.0                     0.0   \n",
       "4                          0.0                     0.0   \n",
       "...                        ...                     ...   \n",
       "717944                     0.0                     0.0   \n",
       "717945                     0.0                     0.0   \n",
       "717946                     0.0                     0.0   \n",
       "717947                     0.0                     0.0   \n",
       "717948                     0.0                     0.0   \n",
       "\n",
       "        DEP_TIME_BLK_1100-1159  DEP_TIME_BLK_1200-1259  \\\n",
       "0                          0.0                     0.0   \n",
       "1                          0.0                     0.0   \n",
       "2                          0.0                     1.0   \n",
       "3                          0.0                     0.0   \n",
       "4                          0.0                     0.0   \n",
       "...                        ...                     ...   \n",
       "717944                     0.0                     0.0   \n",
       "717945                     0.0                     0.0   \n",
       "717946                     0.0                     0.0   \n",
       "717947                     1.0                     0.0   \n",
       "717948                     0.0                     0.0   \n",
       "\n",
       "        DEP_TIME_BLK_1300-1359  DEP_TIME_BLK_1400-1459  \\\n",
       "0                          0.0                     0.0   \n",
       "1                          0.0                     1.0   \n",
       "2                          0.0                     0.0   \n",
       "3                          0.0                     0.0   \n",
       "4                          0.0                     0.0   \n",
       "...                        ...                     ...   \n",
       "717944                     0.0                     0.0   \n",
       "717945                     0.0                     0.0   \n",
       "717946                     0.0                     0.0   \n",
       "717947                     0.0                     0.0   \n",
       "717948                     0.0                     0.0   \n",
       "\n",
       "        DEP_TIME_BLK_1500-1559  DEP_TIME_BLK_1600-1659  \\\n",
       "0                          0.0                     0.0   \n",
       "1                          0.0                     0.0   \n",
       "2                          0.0                     0.0   \n",
       "3                          1.0                     0.0   \n",
       "4                          0.0                     0.0   \n",
       "...                        ...                     ...   \n",
       "717944                     0.0                     0.0   \n",
       "717945                     0.0                     0.0   \n",
       "717946                     0.0                     0.0   \n",
       "717947                     0.0                     0.0   \n",
       "717948                     0.0                     0.0   \n",
       "\n",
       "        DEP_TIME_BLK_1700-1759  DEP_TIME_BLK_1800-1859  \\\n",
       "0                          0.0                     0.0   \n",
       "1                          0.0                     0.0   \n",
       "2                          0.0                     0.0   \n",
       "3                          0.0                     0.0   \n",
       "4                          0.0                     0.0   \n",
       "...                        ...                     ...   \n",
       "717944                     1.0                     0.0   \n",
       "717945                     0.0                     0.0   \n",
       "717946                     1.0                     0.0   \n",
       "717947                     0.0                     0.0   \n",
       "717948                     0.0                     0.0   \n",
       "\n",
       "        DEP_TIME_BLK_1900-1959  DEP_TIME_BLK_2000-2059  \\\n",
       "0                          0.0                     0.0   \n",
       "1                          0.0                     0.0   \n",
       "2                          0.0                     0.0   \n",
       "3                          0.0                     0.0   \n",
       "4                          1.0                     0.0   \n",
       "...                        ...                     ...   \n",
       "717944                     0.0                     0.0   \n",
       "717945                     1.0                     0.0   \n",
       "717946                     0.0                     0.0   \n",
       "717947                     0.0                     0.0   \n",
       "717948                     0.0                     0.0   \n",
       "\n",
       "        DEP_TIME_BLK_2100-2159  DEP_TIME_BLK_2200-2259  \\\n",
       "0                          0.0                     0.0   \n",
       "1                          0.0                     0.0   \n",
       "2                          0.0                     0.0   \n",
       "3                          0.0                     0.0   \n",
       "4                          0.0                     0.0   \n",
       "...                        ...                     ...   \n",
       "717944                     0.0                     0.0   \n",
       "717945                     0.0                     0.0   \n",
       "717946                     0.0                     0.0   \n",
       "717947                     0.0                     0.0   \n",
       "717948                     1.0                     0.0   \n",
       "\n",
       "        DEP_TIME_BLK_2300-2359  ORIGIN_CAT_0  ORIGIN_CAT_1  ORIGIN_CAT_2  \\\n",
       "0                          0.0           0.0           0.0           1.0   \n",
       "1                          0.0           0.0           0.0           1.0   \n",
       "2                          0.0           0.0           0.0           1.0   \n",
       "3                          0.0           0.0           0.0           1.0   \n",
       "4                          0.0           0.0           0.0           1.0   \n",
       "...                        ...           ...           ...           ...   \n",
       "717944                     0.0           0.0           0.0           0.0   \n",
       "717945                     0.0           0.0           0.0           0.0   \n",
       "717946                     0.0           0.0           0.0           0.0   \n",
       "717947                     0.0           0.0           0.0           0.0   \n",
       "717948                     0.0           0.0           0.0           1.0   \n",
       "\n",
       "        ORIGIN_CAT_3  ORIGIN_CAT_4  ORIGIN_CAT_5  ORIGIN_CAT_6  ORIGIN_CAT_7  \\\n",
       "0                0.0           0.0           0.0           0.0           0.0   \n",
       "1                0.0           0.0           0.0           0.0           0.0   \n",
       "2                0.0           0.0           0.0           0.0           0.0   \n",
       "3                0.0           0.0           0.0           0.0           0.0   \n",
       "4                0.0           0.0           0.0           0.0           0.0   \n",
       "...              ...           ...           ...           ...           ...   \n",
       "717944           0.0           1.0           0.0           0.0           0.0   \n",
       "717945           1.0           0.0           0.0           0.0           0.0   \n",
       "717946           1.0           0.0           0.0           0.0           0.0   \n",
       "717947           1.0           0.0           0.0           0.0           0.0   \n",
       "717948           0.0           0.0           0.0           0.0           0.0   \n",
       "\n",
       "        DEST_CAT_0  DEST_CAT_1  DEST_CAT_2  DEST_CAT_3  DEST_CAT_4  \\\n",
       "0              0.0         0.0         1.0         0.0         0.0   \n",
       "1              0.0         0.0         0.0         1.0         0.0   \n",
       "2              0.0         0.0         0.0         1.0         0.0   \n",
       "3              0.0         0.0         1.0         0.0         0.0   \n",
       "4              0.0         0.0         1.0         0.0         0.0   \n",
       "...            ...         ...         ...         ...         ...   \n",
       "717944         0.0         0.0         0.0         1.0         0.0   \n",
       "717945         0.0         0.0         0.0         0.0         0.0   \n",
       "717946         0.0         0.0         0.0         1.0         0.0   \n",
       "717947         0.0         0.0         0.0         0.0         0.0   \n",
       "717948         0.0         0.0         0.0         1.0         0.0   \n",
       "\n",
       "        DEST_CAT_5  DEST_CAT_6  DEST_CAT_7  \n",
       "0              0.0         0.0         0.0  \n",
       "1              0.0         0.0         0.0  \n",
       "2              0.0         0.0         0.0  \n",
       "3              0.0         0.0         0.0  \n",
       "4              0.0         0.0         0.0  \n",
       "...            ...         ...         ...  \n",
       "717944         0.0         0.0         0.0  \n",
       "717945         1.0         0.0         0.0  \n",
       "717946         0.0         0.0         0.0  \n",
       "717947         1.0         0.0         0.0  \n",
       "717948         0.0         0.0         0.0  \n",
       "\n",
       "[699138 rows x 64 columns]"
      ]
     },
     "execution_count": 74,
     "metadata": {},
     "output_type": "execute_result"
    }
   ],
   "source": [
    "X_train"
   ]
  },
  {
   "cell_type": "markdown",
   "metadata": {
    "id": "KeTvmmWjwU3r"
   },
   "source": [
    "## Models for Prediction"
   ]
  },
  {
   "cell_type": "code",
   "execution_count": 75,
   "metadata": {
    "executionInfo": {
     "elapsed": 722,
     "status": "ok",
     "timestamp": 1627621553456,
     "user": {
      "displayName": "PREMCHAND R",
      "photoUrl": "",
      "userId": "03324294809057007804"
     },
     "user_tz": -330
    },
    "id": "921aTgzlww7g"
   },
   "outputs": [],
   "source": [
    "from sklearn.metrics import accuracy_score, classification_report, confusion_matrix, roc_auc_score"
   ]
  },
  {
   "cell_type": "markdown",
   "metadata": {
    "id": "O7KZjfickBxW"
   },
   "source": [
    "Here we will asses performance of models by accuracy_score (how accurate is the model in predicting classes correctly against its labels) and roc_auc_score (which is the are under Receiver Operating Characteristic Curve (ROC AUC) from prediction scores). This roc_auc_score measures separability of classes, that is how well the model is distinguishing classes. A maximum value for this score of 1 indicates model is perfectly distinguishing classes and a min 0 indicates model is worst. For datasets like the current one with different proportion of positive and negative classes, this metric is a very good estimate of models. our aim will be to maximize both accuracy_score and roc_auc_score."
   ]
  },
  {
   "cell_type": "code",
   "execution_count": 76,
   "metadata": {
    "executionInfo": {
     "elapsed": 418,
     "status": "ok",
     "timestamp": 1627621738694,
     "user": {
      "displayName": "PREMCHAND R",
      "photoUrl": "",
      "userId": "03324294809057007804"
     },
     "user_tz": -330
    },
    "id": "sJ9JZSeOw37f"
   },
   "outputs": [],
   "source": [
    "# function to check performance of a model\n",
    "def model_performance(model, X_train, y_train, X_val, y_val):\n",
    "  model.fit(X_train, y_train)\n",
    "  train_preds = model.predict(X_train)\n",
    "  val_preds = model.predict(X_val)\n",
    "  train_accuracy = accuracy_score(y_train, train_preds)\n",
    "  val_accuracy = accuracy_score(y_val, val_preds)\n",
    "  print('Train set accuracy: {:.2f}%'.format(train_accuracy*100))\n",
    "  print('Validation set Accuracy: {:.2f}%'.format(val_accuracy* 100))\n",
    "  print('Validation Classification report: \\n', classification_report(y_val, val_preds))\n",
    "  print('roc auc score: {:.2f}'.format(roc_auc_score(y_val, val_preds)))  \n",
    "  conf_matrix =  confusion_matrix(y_val, val_preds, normalize = 'true')\n",
    "  plt.figure()\n",
    "  plt.title('Validation Confusion Matrix')\n",
    "  sns.heatmap(conf_matrix, annot = True)"
   ]
  },
  {
   "cell_type": "markdown",
   "metadata": {
    "id": "i0TbzpHjwfS1"
   },
   "source": [
    "### Logistic Regression"
   ]
  },
  {
   "cell_type": "code",
   "execution_count": 77,
   "metadata": {
    "executionInfo": {
     "elapsed": 568,
     "status": "ok",
     "timestamp": 1627621748012,
     "user": {
      "displayName": "PREMCHAND R",
      "photoUrl": "",
      "userId": "03324294809057007804"
     },
     "user_tz": -330
    },
    "id": "TdGPkalgsG2C"
   },
   "outputs": [],
   "source": [
    "from sklearn.linear_model import LogisticRegression"
   ]
  },
  {
   "cell_type": "code",
   "execution_count": 78,
   "metadata": {
    "executionInfo": {
     "elapsed": 568,
     "status": "ok",
     "timestamp": 1627621750900,
     "user": {
      "displayName": "PREMCHAND R",
      "photoUrl": "",
      "userId": "03324294809057007804"
     },
     "user_tz": -330
    },
    "id": "KjDcVq8zuP7y"
   },
   "outputs": [],
   "source": [
    "model_lr = LogisticRegression(solver = 'liblinear', random_state = 42)"
   ]
  },
  {
   "cell_type": "code",
   "execution_count": 79,
   "metadata": {
    "colab": {
     "base_uri": "https://localhost:8080/",
     "height": 641
    },
    "executionInfo": {
     "elapsed": 8127,
     "status": "ok",
     "timestamp": 1627621761133,
     "user": {
      "displayName": "PREMCHAND R",
      "photoUrl": "",
      "userId": "03324294809057007804"
     },
     "user_tz": -330
    },
    "id": "Irw1BIRnxaLD",
    "outputId": "7863f064-3e01-4ddb-c6ab-033921d159b7"
   },
   "outputs": [
    {
     "name": "stdout",
     "output_type": "stream",
     "text": [
      "Train set accuracy: 91.66%\n",
      "Validation set Accuracy: 92.78%\n",
      "Validation Classification report: \n",
      "               precision    recall  f1-score   support\n",
      "\n",
      "         0.0       0.95      0.96      0.96    196493\n",
      "         1.0       0.78      0.75      0.76     36553\n",
      "\n",
      "    accuracy                           0.93    233046\n",
      "   macro avg       0.87      0.85      0.86    233046\n",
      "weighted avg       0.93      0.93      0.93    233046\n",
      "\n",
      "roc auc score: 0.85\n"
     ]
    },
    {
     "data": {
      "image/png": "[encoded data removed]",
      "text/plain": [
       "<Figure size 720x432 with 2 Axes>"
      ]
     },
     "metadata": {
      "needs_background": "light"
     },
     "output_type": "display_data"
    }
   ],
   "source": [
    "model_performance(model_lr, X_train, train_targets, X_val, val_targets)"
   ]
  },
  {
   "cell_type": "markdown",
   "metadata": {
    "id": "Cf41F-AryD8P"
   },
   "source": [
    "The basic logistic regression model is able to give an accuracy of 92.78% on validation set. Let's compare this performance with a dump model."
   ]
  },
  {
   "cell_type": "code",
   "execution_count": 80,
   "metadata": {
    "executionInfo": {
     "elapsed": 614,
     "status": "ok",
     "timestamp": 1627621791637,
     "user": {
      "displayName": "PREMCHAND R",
      "photoUrl": "",
      "userId": "03324294809057007804"
     },
     "user_tz": -330
    },
    "id": "6axPACecyZ4j"
   },
   "outputs": [],
   "source": [
    "# dump model\n",
    "def all_ok_model(inputs):\n",
    "  return np.full(len(inputs), 0)"
   ]
  },
  {
   "cell_type": "code",
   "execution_count": 81,
   "metadata": {
    "colab": {
     "base_uri": "https://localhost:8080/"
    },
    "executionInfo": {
     "elapsed": 567,
     "status": "ok",
     "timestamp": 1627621794550,
     "user": {
      "displayName": "PREMCHAND R",
      "photoUrl": "",
      "userId": "03324294809057007804"
     },
     "user_tz": -330
    },
    "id": "TCgz2BMJyoIW",
    "outputId": "5ed9a24c-a6b6-467f-e2bb-3306cfa643b0"
   },
   "outputs": [
    {
     "name": "stdout",
     "output_type": "stream",
     "text": [
      "Dump model Validation Accuracy: 84.32%\n"
     ]
    }
   ],
   "source": [
    "print('Dump model Validation Accuracy: {:.2f}%'.format(accuracy_score(all_ok_model(val_targets), val_targets)*100))"
   ]
  },
  {
   "cell_type": "markdown",
   "metadata": {
    "id": "e0PSZa46zMRE"
   },
   "source": [
    "Logistic Regression's validation accuracy is much better thatn dump model's validation accuracy of 84.32%."
   ]
  },
  {
   "cell_type": "markdown",
   "metadata": {
    "id": "CSC19zQx0V2w"
   },
   "source": [
    "#### Hyperparameter tuning for Logistic Regression"
   ]
  },
  {
   "cell_type": "code",
   "execution_count": 82,
   "metadata": {
    "executionInfo": {
     "elapsed": 409,
     "status": "ok",
     "timestamp": 1627621811905,
     "user": {
      "displayName": "PREMCHAND R",
      "photoUrl": "",
      "userId": "03324294809057007804"
     },
     "user_tz": -330
    },
    "id": "tGL-tNM10Wrd"
   },
   "outputs": [],
   "source": [
    "# function to quickly evaluate effect of different hyperparameters\n",
    "def test_params_lr(**params):\n",
    "    model = LogisticRegression(random_state=42, **params).fit(X_train, train_targets)\n",
    "    train_accuracy = model.score(X_train, train_targets)\n",
    "    val_accuracy = model.score(X_val, val_targets)\n",
    "    roc_auc_score_lr = roc_auc_score(val_targets, model.predict(X_val))\n",
    "    print('Train set accuracy: {:.2f}%'.format(train_accuracy*100))\n",
    "    print('Validation set Accuracy: {:.2f}%'.format(val_accuracy* 100))\n",
    "    print('roc auc score: {:.2f}'.format(roc_auc_score_lr)) "
   ]
  },
  {
   "cell_type": "markdown",
   "metadata": {
    "id": "oQKYHU_I3-hN"
   },
   "source": [
    "Let's try different solvers."
   ]
  },
  {
   "cell_type": "code",
   "execution_count": 83,
   "metadata": {
    "colab": {
     "base_uri": "https://localhost:8080/"
    },
    "executionInfo": {
     "elapsed": 28899,
     "status": "ok",
     "timestamp": 1627621847973,
     "user": {
      "displayName": "PREMCHAND R",
      "photoUrl": "",
      "userId": "03324294809057007804"
     },
     "user_tz": -330
    },
    "id": "j6bkx_XI4TmT",
    "outputId": "1f49aa51-261d-4ac2-9e61-5808fe9638c0"
   },
   "outputs": [
    {
     "name": "stdout",
     "output_type": "stream",
     "text": [
      "Train set accuracy: 91.66%\n",
      "Validation set Accuracy: 92.78%\n",
      "roc auc score: 0.85\n"
     ]
    }
   ],
   "source": [
    "test_params_lr(solver = 'sag')"
   ]
  },
  {
   "cell_type": "code",
   "execution_count": 84,
   "metadata": {
    "colab": {
     "base_uri": "https://localhost:8080/"
    },
    "executionInfo": {
     "elapsed": 27046,
     "status": "ok",
     "timestamp": 1627621917592,
     "user": {
      "displayName": "PREMCHAND R",
      "photoUrl": "",
      "userId": "03324294809057007804"
     },
     "user_tz": -330
    },
    "id": "nMkGWe-w0XAK",
    "outputId": "029500f1-0e75-4a23-bdc0-45c774a89e09"
   },
   "outputs": [
    {
     "name": "stdout",
     "output_type": "stream",
     "text": [
      "Train set accuracy: 91.66%\n",
      "Validation set Accuracy: 92.78%\n",
      "roc auc score: 0.85\n"
     ]
    }
   ],
   "source": [
    "test_params_lr(max_iter = 500, solver = 'lbfgs') #not coverged in 100 iterations"
   ]
  },
  {
   "cell_type": "markdown",
   "metadata": {
    "id": "ydST70mO42Kk"
   },
   "source": [
    "Now we trying changing number of iterations from default of 100, we use 'liblinear' solver."
   ]
  },
  {
   "cell_type": "code",
   "execution_count": 85,
   "metadata": {
    "colab": {
     "base_uri": "https://localhost:8080/"
    },
    "executionInfo": {
     "elapsed": 6155,
     "status": "ok",
     "timestamp": 1627621923737,
     "user": {
      "displayName": "PREMCHAND R",
      "photoUrl": "",
      "userId": "03324294809057007804"
     },
     "user_tz": -330
    },
    "id": "mreZOMEY0XhS",
    "outputId": "401aa34a-815c-40e2-d992-e4c451849e10"
   },
   "outputs": [
    {
     "name": "stdout",
     "output_type": "stream",
     "text": [
      "Train set accuracy: 91.66%\n",
      "Validation set Accuracy: 92.78%\n",
      "roc auc score: 0.85\n"
     ]
    }
   ],
   "source": [
    "test_params_lr(max_iter = 250, solver = 'liblinear')"
   ]
  },
  {
   "cell_type": "code",
   "execution_count": 86,
   "metadata": {
    "colab": {
     "base_uri": "https://localhost:8080/"
    },
    "executionInfo": {
     "elapsed": 6659,
     "status": "ok",
     "timestamp": 1627621930388,
     "user": {
      "displayName": "PREMCHAND R",
      "photoUrl": "",
      "userId": "03324294809057007804"
     },
     "user_tz": -330
    },
    "id": "1VNTJc1l0YAN",
    "outputId": "d13b95a9-57e2-409f-8973-0ad3e852419d"
   },
   "outputs": [
    {
     "name": "stdout",
     "output_type": "stream",
     "text": [
      "Train set accuracy: 91.66%\n",
      "Validation set Accuracy: 92.78%\n",
      "roc auc score: 0.85\n"
     ]
    }
   ],
   "source": [
    "test_params_lr(max_iter = 500, solver = 'liblinear')"
   ]
  },
  {
   "cell_type": "code",
   "execution_count": 87,
   "metadata": {
    "colab": {
     "base_uri": "https://localhost:8080/"
    },
    "executionInfo": {
     "elapsed": 6478,
     "status": "ok",
     "timestamp": 1627621936856,
     "user": {
      "displayName": "PREMCHAND R",
      "photoUrl": "",
      "userId": "03324294809057007804"
     },
     "user_tz": -330
    },
    "id": "7HLFdZ7G5Ogg",
    "outputId": "d95effc8-ee39-4bd1-b3ef-c47b42d85364"
   },
   "outputs": [
    {
     "name": "stdout",
     "output_type": "stream",
     "text": [
      "Train set accuracy: 91.66%\n",
      "Validation set Accuracy: 92.78%\n",
      "roc auc score: 0.85\n"
     ]
    }
   ],
   "source": [
    "test_params_lr(max_iter = 1000, solver = 'liblinear')"
   ]
  },
  {
   "cell_type": "markdown",
   "metadata": {
    "id": "M6wnB5As5W8C"
   },
   "source": [
    "No improvement is seen with changing these hyperparameters, let's keep the default model as best and explore other algorithms."
   ]
  },
  {
   "cell_type": "markdown",
   "metadata": {
    "id": "m2LjfSUB5y97"
   },
   "source": [
    "### Decision Tree Classifier"
   ]
  },
  {
   "cell_type": "code",
   "execution_count": 88,
   "metadata": {
    "executionInfo": {
     "elapsed": 497,
     "status": "ok",
     "timestamp": 1627621957220,
     "user": {
      "displayName": "PREMCHAND R",
      "photoUrl": "",
      "userId": "03324294809057007804"
     },
     "user_tz": -330
    },
    "id": "uUyTfq-D5h0M"
   },
   "outputs": [],
   "source": [
    "from sklearn.tree import DecisionTreeClassifier"
   ]
  },
  {
   "cell_type": "code",
   "execution_count": 89,
   "metadata": {
    "executionInfo": {
     "elapsed": 9,
     "status": "ok",
     "timestamp": 1627621958598,
     "user": {
      "displayName": "PREMCHAND R",
      "photoUrl": "",
      "userId": "03324294809057007804"
     },
     "user_tz": -330
    },
    "id": "a6zWIsLTXASp"
   },
   "outputs": [],
   "source": [
    "model_dtc = DecisionTreeClassifier(random_state = 42)"
   ]
  },
  {
   "cell_type": "code",
   "execution_count": 90,
   "metadata": {
    "colab": {
     "base_uri": "https://localhost:8080/",
     "height": 641
    },
    "executionInfo": {
     "elapsed": 10731,
     "status": "ok",
     "timestamp": 1627621974187,
     "user": {
      "displayName": "PREMCHAND R",
      "photoUrl": "",
      "userId": "03324294809057007804"
     },
     "user_tz": -330
    },
    "id": "OrolDxT36HOP",
    "outputId": "63b2029a-02dd-4008-92f7-2e69674c5719"
   },
   "outputs": [
    {
     "name": "stdout",
     "output_type": "stream",
     "text": [
      "Train set accuracy: 100.00%\n",
      "Validation set Accuracy: 87.32%\n",
      "Validation Classification report: \n",
      "               precision    recall  f1-score   support\n",
      "\n",
      "         0.0       0.93      0.92      0.92    196493\n",
      "         1.0       0.59      0.64      0.61     36553\n",
      "\n",
      "    accuracy                           0.87    233046\n",
      "   macro avg       0.76      0.78      0.77    233046\n",
      "weighted avg       0.88      0.87      0.88    233046\n",
      "\n",
      "roc auc score: 0.78\n"
     ]
    },
    {
     "data": {
      "image/png": "[encoded data removed]",
      "text/plain": [
       "<Figure size 720x432 with 2 Axes>"
      ]
     },
     "metadata": {
      "needs_background": "light"
     },
     "output_type": "display_data"
    }
   ],
   "source": [
    "model_performance(model_dtc, X_train, train_targets, X_val, val_targets)"
   ]
  },
  {
   "cell_type": "markdown",
   "metadata": {
    "id": "nXkcit2q8jvR"
   },
   "source": [
    "The basic Decision Tree Classifier is clearly overfitting the training data(train accuracy is 100%) and validation accuracy is less than that of Logistic Regression model we have seen earlier."
   ]
  },
  {
   "cell_type": "markdown",
   "metadata": {
    "id": "RUaXAnqa7I1G"
   },
   "source": [
    "#### Hyperparameter tuning for Decision Tree Classifier"
   ]
  },
  {
   "cell_type": "code",
   "execution_count": 91,
   "metadata": {
    "executionInfo": {
     "elapsed": 11,
     "status": "ok",
     "timestamp": 1627622041970,
     "user": {
      "displayName": "PREMCHAND R",
      "photoUrl": "",
      "userId": "03324294809057007804"
     },
     "user_tz": -330
    },
    "id": "2qVMN0QZ6SI4"
   },
   "outputs": [],
   "source": [
    "# function to quickly evaluate effect of different hyperparameters\n",
    "def test_params_dtc(**params):\n",
    "    model = DecisionTreeClassifier(random_state=42, **params).fit(X_train, train_targets)\n",
    "    train_accuracy = model.score(X_train, train_targets)\n",
    "    val_accuracy = model.score(X_val, val_targets)\n",
    "    roc_auc_score_lr = roc_auc_score(val_targets, model.predict(X_val))\n",
    "    print('Train set accuracy: {:.2f}%'.format(train_accuracy*100))\n",
    "    print('Validation set Accuracy: {:.2f}%'.format(val_accuracy* 100))\n",
    "    print('roc auc score: {:.2f}'.format(roc_auc_score_lr))"
   ]
  },
  {
   "cell_type": "markdown",
   "metadata": {
    "id": "VCa8EyqW8Vi5"
   },
   "source": [
    "We can first look at different max_depth values."
   ]
  },
  {
   "cell_type": "code",
   "execution_count": 92,
   "metadata": {
    "colab": {
     "base_uri": "https://localhost:8080/"
    },
    "executionInfo": {
     "elapsed": 3368,
     "status": "ok",
     "timestamp": 1627622048408,
     "user": {
      "displayName": "PREMCHAND R",
      "photoUrl": "",
      "userId": "03324294809057007804"
     },
     "user_tz": -330
    },
    "id": "1Rd5QCnE6SMP",
    "outputId": "457dfc9d-0971-4a4d-ca3f-de0df97b9944"
   },
   "outputs": [
    {
     "name": "stdout",
     "output_type": "stream",
     "text": [
      "Train set accuracy: 91.75%\n",
      "Validation set Accuracy: 92.85%\n",
      "roc auc score: 0.86\n"
     ]
    }
   ],
   "source": [
    "test_params_dtc(max_depth = 5)"
   ]
  },
  {
   "cell_type": "code",
   "execution_count": 93,
   "metadata": {
    "colab": {
     "base_uri": "https://localhost:8080/"
    },
    "executionInfo": {
     "elapsed": 2292,
     "status": "ok",
     "timestamp": 1627622053599,
     "user": {
      "displayName": "PREMCHAND R",
      "photoUrl": "",
      "userId": "03324294809057007804"
     },
     "user_tz": -330
    },
    "id": "r3VOU3wE6SPW",
    "outputId": "28b1557d-27dc-48f5-ead0-338bf3f9fe0d"
   },
   "outputs": [
    {
     "name": "stdout",
     "output_type": "stream",
     "text": [
      "Train set accuracy: 91.78%\n",
      "Validation set Accuracy: 92.86%\n",
      "roc auc score: 0.86\n"
     ]
    }
   ],
   "source": [
    "test_params_dtc(max_depth = 7)"
   ]
  },
  {
   "cell_type": "code",
   "execution_count": 94,
   "metadata": {
    "colab": {
     "base_uri": "https://localhost:8080/"
    },
    "executionInfo": {
     "elapsed": 6351,
     "status": "ok",
     "timestamp": 1627622066682,
     "user": {
      "displayName": "PREMCHAND R",
      "photoUrl": "",
      "userId": "03324294809057007804"
     },
     "user_tz": -330
    },
    "id": "Z-7y808c6SR7",
    "outputId": "8c140ef6-56ce-4528-fa1f-a05b05078ee1"
   },
   "outputs": [
    {
     "name": "stdout",
     "output_type": "stream",
     "text": [
      "Train set accuracy: 91.82%\n",
      "Validation set Accuracy: 92.80%\n",
      "roc auc score: 0.85\n"
     ]
    }
   ],
   "source": [
    "test_params_dtc(max_depth = 8)"
   ]
  },
  {
   "cell_type": "code",
   "execution_count": 95,
   "metadata": {
    "colab": {
     "base_uri": "https://localhost:8080/"
    },
    "executionInfo": {
     "elapsed": 5841,
     "status": "ok",
     "timestamp": 1627622072516,
     "user": {
      "displayName": "PREMCHAND R",
      "photoUrl": "",
      "userId": "03324294809057007804"
     },
     "user_tz": -330
    },
    "id": "ONRkbork-IiK",
    "outputId": "8debc67b-237e-4bfb-dd1f-7d998b7db728"
   },
   "outputs": [
    {
     "name": "stdout",
     "output_type": "stream",
     "text": [
      "Train set accuracy: 92.19%\n",
      "Validation set Accuracy: 92.53%\n",
      "roc auc score: 0.84\n"
     ]
    }
   ],
   "source": [
    "test_params_dtc(max_depth = 12)"
   ]
  },
  {
   "cell_type": "markdown",
   "metadata": {
    "id": "TTRS7oNo-fLG"
   },
   "source": [
    "The max_depth = 7 seems to be the best value and model is not overfitting."
   ]
  },
  {
   "cell_type": "markdown",
   "metadata": {
    "id": "JSLiqcPe-oBW"
   },
   "source": [
    "Now we can look at max_leaf_nodes."
   ]
  },
  {
   "cell_type": "code",
   "execution_count": 96,
   "metadata": {
    "colab": {
     "base_uri": "https://localhost:8080/"
    },
    "executionInfo": {
     "elapsed": 5166,
     "status": "ok",
     "timestamp": 1627622079026,
     "user": {
      "displayName": "PREMCHAND R",
      "photoUrl": "",
      "userId": "03324294809057007804"
     },
     "user_tz": -330
    },
    "id": "ARMTRdhi-x6d",
    "outputId": "abdfae6a-8ada-4a3c-a8b8-dbd2868501fa"
   },
   "outputs": [
    {
     "name": "stdout",
     "output_type": "stream",
     "text": [
      "Train set accuracy: 91.76%\n",
      "Validation set Accuracy: 92.86%\n",
      "roc auc score: 0.86\n"
     ]
    }
   ],
   "source": [
    "test_params_dtc(max_leaf_nodes = 32)"
   ]
  },
  {
   "cell_type": "code",
   "execution_count": 97,
   "metadata": {
    "colab": {
     "base_uri": "https://localhost:8080/"
    },
    "executionInfo": {
     "elapsed": 2776,
     "status": "ok",
     "timestamp": 1627622081796,
     "user": {
      "displayName": "PREMCHAND R",
      "photoUrl": "",
      "userId": "03324294809057007804"
     },
     "user_tz": -330
    },
    "id": "IIAv2Ohk-x9S",
    "outputId": "1f882dc3-d738-4d29-ace1-48e3beeb56a8"
   },
   "outputs": [
    {
     "name": "stdout",
     "output_type": "stream",
     "text": [
      "Train set accuracy: 91.78%\n",
      "Validation set Accuracy: 92.89%\n",
      "roc auc score: 0.86\n"
     ]
    }
   ],
   "source": [
    "test_params_dtc(max_leaf_nodes = 64)"
   ]
  },
  {
   "cell_type": "code",
   "execution_count": 98,
   "metadata": {
    "colab": {
     "base_uri": "https://localhost:8080/"
    },
    "executionInfo": {
     "elapsed": 5559,
     "status": "ok",
     "timestamp": 1627622087348,
     "user": {
      "displayName": "PREMCHAND R",
      "photoUrl": "",
      "userId": "03324294809057007804"
     },
     "user_tz": -330
    },
    "id": "BbxTlWIe-yAE",
    "outputId": "42c3162a-b74d-4a63-a2e6-0fbaf58ece3c"
   },
   "outputs": [
    {
     "name": "stdout",
     "output_type": "stream",
     "text": [
      "Train set accuracy: 91.81%\n",
      "Validation set Accuracy: 92.91%\n",
      "roc auc score: 0.85\n"
     ]
    }
   ],
   "source": [
    "test_params_dtc(max_leaf_nodes = 128)"
   ]
  },
  {
   "cell_type": "code",
   "execution_count": 99,
   "metadata": {
    "colab": {
     "base_uri": "https://localhost:8080/"
    },
    "executionInfo": {
     "elapsed": 5534,
     "status": "ok",
     "timestamp": 1627622094432,
     "user": {
      "displayName": "PREMCHAND R",
      "photoUrl": "",
      "userId": "03324294809057007804"
     },
     "user_tz": -330
    },
    "id": "vx7jfdxe-yCa",
    "outputId": "edce44f0-6a38-4491-a2a4-e571cba387f2"
   },
   "outputs": [
    {
     "name": "stdout",
     "output_type": "stream",
     "text": [
      "Train set accuracy: 91.86%\n",
      "Validation set Accuracy: 92.67%\n",
      "roc auc score: 0.85\n"
     ]
    }
   ],
   "source": [
    "test_params_dtc(max_leaf_nodes = 256)"
   ]
  },
  {
   "cell_type": "markdown",
   "metadata": {
    "id": "7UlfObXO_clM"
   },
   "source": [
    "128 number of leaf nodes is found as best number and more importantly the model is not overfitting."
   ]
  },
  {
   "cell_type": "markdown",
   "metadata": {
    "id": "jBALJqpb_-9Z"
   },
   "source": [
    "We can also check for some values for min_samples_split and min_samples_leaf."
   ]
  },
  {
   "cell_type": "code",
   "execution_count": 100,
   "metadata": {
    "colab": {
     "base_uri": "https://localhost:8080/"
    },
    "executionInfo": {
     "elapsed": 4320,
     "status": "ok",
     "timestamp": 1627622113357,
     "user": {
      "displayName": "PREMCHAND R",
      "photoUrl": "",
      "userId": "03324294809057007804"
     },
     "user_tz": -330
    },
    "id": "EtFm2blW-yH2",
    "outputId": "d91c3cae-f191-46aa-cc2c-4bcb29d99329"
   },
   "outputs": [
    {
     "name": "stdout",
     "output_type": "stream",
     "text": [
      "Train set accuracy: 91.78%\n",
      "Validation set Accuracy: 92.86%\n",
      "roc auc score: 0.86\n"
     ]
    }
   ],
   "source": [
    "test_params_dtc(max_depth = 7, min_samples_split = 4)"
   ]
  },
  {
   "cell_type": "code",
   "execution_count": 101,
   "metadata": {
    "colab": {
     "base_uri": "https://localhost:8080/"
    },
    "executionInfo": {
     "elapsed": 4865,
     "status": "ok",
     "timestamp": 1627622122327,
     "user": {
      "displayName": "PREMCHAND R",
      "photoUrl": "",
      "userId": "03324294809057007804"
     },
     "user_tz": -330
    },
    "id": "8appVN6PAIa9",
    "outputId": "e5721ecd-1a91-47a6-8172-956fa19b83da"
   },
   "outputs": [
    {
     "name": "stdout",
     "output_type": "stream",
     "text": [
      "Train set accuracy: 91.78%\n",
      "Validation set Accuracy: 92.86%\n",
      "roc auc score: 0.86\n"
     ]
    }
   ],
   "source": [
    "test_params_dtc(max_depth = 7, min_samples_split = 6)"
   ]
  },
  {
   "cell_type": "code",
   "execution_count": 102,
   "metadata": {
    "colab": {
     "base_uri": "https://localhost:8080/"
    },
    "executionInfo": {
     "elapsed": 3612,
     "status": "ok",
     "timestamp": 1627622125930,
     "user": {
      "displayName": "PREMCHAND R",
      "photoUrl": "",
      "userId": "03324294809057007804"
     },
     "user_tz": -330
    },
    "id": "p6FLKx7nAIgI",
    "outputId": "f2a4ec3f-4d1e-4acb-ec0d-de76e51fc12f"
   },
   "outputs": [
    {
     "name": "stdout",
     "output_type": "stream",
     "text": [
      "Train set accuracy: 91.78%\n",
      "Validation set Accuracy: 92.86%\n",
      "roc auc score: 0.86\n"
     ]
    }
   ],
   "source": [
    "test_params_dtc(max_depth = 7, min_samples_split = 20)"
   ]
  },
  {
   "cell_type": "code",
   "execution_count": 103,
   "metadata": {
    "colab": {
     "base_uri": "https://localhost:8080/"
    },
    "executionInfo": {
     "elapsed": 4210,
     "status": "ok",
     "timestamp": 1627622137439,
     "user": {
      "displayName": "PREMCHAND R",
      "photoUrl": "",
      "userId": "03324294809057007804"
     },
     "user_tz": -330
    },
    "id": "0XFtWbJjAIjG",
    "outputId": "7d3a7dbd-cac1-4b4e-e25c-e471b888ec17"
   },
   "outputs": [
    {
     "name": "stdout",
     "output_type": "stream",
     "text": [
      "Train set accuracy: 91.78%\n",
      "Validation set Accuracy: 92.86%\n",
      "roc auc score: 0.86\n"
     ]
    }
   ],
   "source": [
    "test_params_dtc(max_depth = 7, min_samples_leaf = 2)"
   ]
  },
  {
   "cell_type": "code",
   "execution_count": 104,
   "metadata": {
    "colab": {
     "base_uri": "https://localhost:8080/"
    },
    "executionInfo": {
     "elapsed": 4463,
     "status": "ok",
     "timestamp": 1627622141894,
     "user": {
      "displayName": "PREMCHAND R",
      "photoUrl": "",
      "userId": "03324294809057007804"
     },
     "user_tz": -330
    },
    "id": "v4VJcsacAwxk",
    "outputId": "bd0a335c-4c33-4fa9-80a4-830b0100c627"
   },
   "outputs": [
    {
     "name": "stdout",
     "output_type": "stream",
     "text": [
      "Train set accuracy: 91.78%\n",
      "Validation set Accuracy: 92.87%\n",
      "roc auc score: 0.86\n"
     ]
    }
   ],
   "source": [
    "test_params_dtc(max_depth = 7, min_samples_leaf = 5)"
   ]
  },
  {
   "cell_type": "code",
   "execution_count": 105,
   "metadata": {
    "colab": {
     "base_uri": "https://localhost:8080/"
    },
    "executionInfo": {
     "elapsed": 3740,
     "status": "ok",
     "timestamp": 1627622145623,
     "user": {
      "displayName": "PREMCHAND R",
      "photoUrl": "",
      "userId": "03324294809057007804"
     },
     "user_tz": -330
    },
    "id": "0gjecv2jAw0p",
    "outputId": "c8390009-1a9f-4ce1-9d06-d65e69ea8946"
   },
   "outputs": [
    {
     "name": "stdout",
     "output_type": "stream",
     "text": [
      "Train set accuracy: 91.78%\n",
      "Validation set Accuracy: 92.87%\n",
      "roc auc score: 0.86\n"
     ]
    }
   ],
   "source": [
    "test_params_dtc(max_depth = 7, min_samples_leaf = 8)"
   ]
  },
  {
   "cell_type": "code",
   "execution_count": 106,
   "metadata": {
    "colab": {
     "base_uri": "https://localhost:8080/"
    },
    "executionInfo": {
     "elapsed": 4224,
     "status": "ok",
     "timestamp": 1627622149836,
     "user": {
      "displayName": "PREMCHAND R",
      "photoUrl": "",
      "userId": "03324294809057007804"
     },
     "user_tz": -330
    },
    "id": "Yy57IhAkBK-T",
    "outputId": "d28ebc17-6aac-4533-a50a-5993e81eb445"
   },
   "outputs": [
    {
     "name": "stdout",
     "output_type": "stream",
     "text": [
      "Train set accuracy: 91.78%\n",
      "Validation set Accuracy: 92.86%\n",
      "roc auc score: 0.86\n"
     ]
    }
   ],
   "source": [
    "test_params_dtc(max_depth = 7, min_samples_leaf = 20)"
   ]
  },
  {
   "cell_type": "markdown",
   "metadata": {
    "id": "Q37EcNIPBiej"
   },
   "source": [
    "Since these two does not seems to have much impact with a good max_depth value, we can now try to get best model by tuning these hyperparameters."
   ]
  },
  {
   "cell_type": "code",
   "execution_count": 107,
   "metadata": {
    "colab": {
     "base_uri": "https://localhost:8080/"
    },
    "executionInfo": {
     "elapsed": 4818,
     "status": "ok",
     "timestamp": 1627622168776,
     "user": {
      "displayName": "PREMCHAND R",
      "photoUrl": "",
      "userId": "03324294809057007804"
     },
     "user_tz": -330
    },
    "id": "6miQeykvAw3f",
    "outputId": "573467f6-8dad-45ac-cc90-e894df88b15c"
   },
   "outputs": [
    {
     "name": "stdout",
     "output_type": "stream",
     "text": [
      "Train set accuracy: 91.76%\n",
      "Validation set Accuracy: 92.86%\n",
      "roc auc score: 0.86\n"
     ]
    }
   ],
   "source": [
    "test_params_dtc(max_depth = 7, max_leaf_nodes = 64)"
   ]
  },
  {
   "cell_type": "code",
   "execution_count": 108,
   "metadata": {
    "colab": {
     "base_uri": "https://localhost:8080/"
    },
    "executionInfo": {
     "elapsed": 4161,
     "status": "ok",
     "timestamp": 1627622172928,
     "user": {
      "displayName": "PREMCHAND R",
      "photoUrl": "",
      "userId": "03324294809057007804"
     },
     "user_tz": -330
    },
    "id": "Bnzq-hfRC6qY",
    "outputId": "b03084c3-fffc-477f-9126-bb47a542361f"
   },
   "outputs": [
    {
     "name": "stdout",
     "output_type": "stream",
     "text": [
      "Train set accuracy: 91.78%\n",
      "Validation set Accuracy: 92.86%\n",
      "roc auc score: 0.86\n"
     ]
    }
   ],
   "source": [
    "test_params_dtc(max_depth = 7, max_leaf_nodes = 128)"
   ]
  },
  {
   "cell_type": "code",
   "execution_count": 109,
   "metadata": {
    "colab": {
     "base_uri": "https://localhost:8080/"
    },
    "executionInfo": {
     "elapsed": 4354,
     "status": "ok",
     "timestamp": 1627622177273,
     "user": {
      "displayName": "PREMCHAND R",
      "photoUrl": "",
      "userId": "03324294809057007804"
     },
     "user_tz": -330
    },
    "id": "utiVWf8-C6tz",
    "outputId": "8813fa32-3288-4942-df80-4fdd8e06073a"
   },
   "outputs": [
    {
     "name": "stdout",
     "output_type": "stream",
     "text": [
      "Train set accuracy: 91.78%\n",
      "Validation set Accuracy: 92.86%\n",
      "roc auc score: 0.86\n"
     ]
    }
   ],
   "source": [
    "test_params_dtc(max_depth = 7, max_leaf_nodes = 256)"
   ]
  },
  {
   "cell_type": "code",
   "execution_count": 110,
   "metadata": {
    "colab": {
     "base_uri": "https://localhost:8080/"
    },
    "executionInfo": {
     "elapsed": 4430,
     "status": "ok",
     "timestamp": 1627622181693,
     "user": {
      "displayName": "PREMCHAND R",
      "photoUrl": "",
      "userId": "03324294809057007804"
     },
     "user_tz": -330
    },
    "id": "nyJP5qHODRec",
    "outputId": "15f8cc3d-11f8-46ca-d523-691987cca652"
   },
   "outputs": [
    {
     "name": "stdout",
     "output_type": "stream",
     "text": [
      "Train set accuracy: 91.76%\n",
      "Validation set Accuracy: 92.86%\n",
      "roc auc score: 0.86\n"
     ]
    }
   ],
   "source": [
    "test_params_dtc(max_depth = 8, max_leaf_nodes = 64)"
   ]
  },
  {
   "cell_type": "code",
   "execution_count": 111,
   "metadata": {
    "colab": {
     "base_uri": "https://localhost:8080/"
    },
    "executionInfo": {
     "elapsed": 4041,
     "status": "ok",
     "timestamp": 1627622185725,
     "user": {
      "displayName": "PREMCHAND R",
      "photoUrl": "",
      "userId": "03324294809057007804"
     },
     "user_tz": -330
    },
    "id": "LYRCTkJVDRbb",
    "outputId": "88926a76-3231-4833-b163-803f51cdd68c"
   },
   "outputs": [
    {
     "name": "stdout",
     "output_type": "stream",
     "text": [
      "Train set accuracy: 91.79%\n",
      "Validation set Accuracy: 92.85%\n",
      "roc auc score: 0.86\n"
     ]
    }
   ],
   "source": [
    "test_params_dtc(max_depth = 8, max_leaf_nodes = 128)"
   ]
  },
  {
   "cell_type": "code",
   "execution_count": 112,
   "metadata": {
    "colab": {
     "base_uri": "https://localhost:8080/"
    },
    "executionInfo": {
     "elapsed": 4666,
     "status": "ok",
     "timestamp": 1627622190383,
     "user": {
      "displayName": "PREMCHAND R",
      "photoUrl": "",
      "userId": "03324294809057007804"
     },
     "user_tz": -330
    },
    "id": "-2oOTg34C62V",
    "outputId": "570f18c9-262b-430c-c662-932f30b7e48b"
   },
   "outputs": [
    {
     "name": "stdout",
     "output_type": "stream",
     "text": [
      "Train set accuracy: 91.78%\n",
      "Validation set Accuracy: 92.86%\n",
      "roc auc score: 0.86\n"
     ]
    }
   ],
   "source": [
    "test_params_dtc(max_depth = 7, max_leaf_nodes = 128, min_samples_leaf = 4)"
   ]
  },
  {
   "cell_type": "code",
   "execution_count": 113,
   "metadata": {
    "colab": {
     "base_uri": "https://localhost:8080/"
    },
    "executionInfo": {
     "elapsed": 3941,
     "status": "ok",
     "timestamp": 1627622194317,
     "user": {
      "displayName": "PREMCHAND R",
      "photoUrl": "",
      "userId": "03324294809057007804"
     },
     "user_tz": -330
    },
    "id": "eR_wm-GbDyTp",
    "outputId": "26cd4239-b412-47fa-ec56-fabc556a3c6c"
   },
   "outputs": [
    {
     "name": "stdout",
     "output_type": "stream",
     "text": [
      "Train set accuracy: 91.78%\n",
      "Validation set Accuracy: 92.87%\n",
      "roc auc score: 0.86\n"
     ]
    }
   ],
   "source": [
    "test_params_dtc(max_depth = 7, max_leaf_nodes = 128, min_samples_leaf = 5)"
   ]
  },
  {
   "cell_type": "markdown",
   "metadata": {
    "id": "58XcBSv0EPML"
   },
   "source": [
    "So we now select our best decision tree classifier model as follows."
   ]
  },
  {
   "cell_type": "code",
   "execution_count": 114,
   "metadata": {
    "executionInfo": {
     "elapsed": 386,
     "status": "ok",
     "timestamp": 1627622202747,
     "user": {
      "displayName": "PREMCHAND R",
      "photoUrl": "",
      "userId": "03324294809057007804"
     },
     "user_tz": -330
    },
    "id": "9yEZly61EZ9X"
   },
   "outputs": [],
   "source": [
    "model_dtc_best = DecisionTreeClassifier(max_depth = 7, max_leaf_nodes = 128, min_samples_leaf = 5, random_state=42)"
   ]
  },
  {
   "cell_type": "code",
   "execution_count": 115,
   "metadata": {
    "colab": {
     "base_uri": "https://localhost:8080/",
     "height": 641
    },
    "executionInfo": {
     "elapsed": 4896,
     "status": "ok",
     "timestamp": 1627622208558,
     "user": {
      "displayName": "PREMCHAND R",
      "photoUrl": "",
      "userId": "03324294809057007804"
     },
     "user_tz": -330
    },
    "id": "rwzK3EWxEq30",
    "outputId": "26b32da2-6530-4703-acd2-18f9cf90ced7"
   },
   "outputs": [
    {
     "name": "stdout",
     "output_type": "stream",
     "text": [
      "Train set accuracy: 91.78%\n",
      "Validation set Accuracy: 92.87%\n",
      "Validation Classification report: \n",
      "               precision    recall  f1-score   support\n",
      "\n",
      "         0.0       0.95      0.96      0.96    196493\n",
      "         1.0       0.78      0.75      0.77     36553\n",
      "\n",
      "    accuracy                           0.93    233046\n",
      "   macro avg       0.87      0.86      0.86    233046\n",
      "weighted avg       0.93      0.93      0.93    233046\n",
      "\n",
      "roc auc score: 0.86\n"
     ]
    },
    {
     "data": {
      "image/png": "[encoded data removed]",
      "text/plain": [
       "<Figure size 720x432 with 2 Axes>"
      ]
     },
     "metadata": {
      "needs_background": "light"
     },
     "output_type": "display_data"
    }
   ],
   "source": [
    "model_performance(model_dtc_best, X_train, train_targets, X_val, val_targets)"
   ]
  },
  {
   "cell_type": "markdown",
   "metadata": {
    "id": "XoUku-hcFS_V"
   },
   "source": [
    "From Logistic Regression our validation has increased slightly and we got a minor increase in roc_auc_score as well. Now we may have a look at feature importance of Decision Tree Classifier."
   ]
  },
  {
   "cell_type": "code",
   "execution_count": 116,
   "metadata": {
    "colab": {
     "base_uri": "https://localhost:8080/",
     "height": 396
    },
    "executionInfo": {
     "elapsed": 604,
     "status": "ok",
     "timestamp": 1627622217191,
     "user": {
      "displayName": "PREMCHAND R",
      "photoUrl": "",
      "userId": "03324294809057007804"
     },
     "user_tz": -330
    },
    "id": "lzcPGlC-FzW-",
    "outputId": "9d29ba56-8998-47e1-ac42-2c8c48b7f401"
   },
   "outputs": [
    {
     "data": {
      "image/png": "[encoded data removed]",
      "text/plain": [
       "<Figure size 720x432 with 1 Axes>"
      ]
     },
     "metadata": {
      "needs_background": "light"
     },
     "output_type": "display_data"
    }
   ],
   "source": [
    "importance_df = pd.DataFrame({\n",
    "    'feature': X_train.columns,\n",
    "    'importance': model_dtc_best.feature_importances_\n",
    "})\n",
    "sns.barplot(x = 'importance', y = 'feature', data = importance_df.sort_values('importance', ascending = False).head(10));"
   ]
  },
  {
   "cell_type": "markdown",
   "metadata": {
    "id": "3KbP_jKQmfRo"
   },
   "source": [
    "Since we can observe a very high influence of 'DEP_DEL15' on prediction, we will look at the performance of another baseline model which predicts delay at arrival same as delay at departure column. "
   ]
  },
  {
   "cell_type": "code",
   "execution_count": 117,
   "metadata": {
    "colab": {
     "base_uri": "https://localhost:8080/"
    },
    "executionInfo": {
     "elapsed": 727,
     "status": "ok",
     "timestamp": 1627622250797,
     "user": {
      "displayName": "PREMCHAND R",
      "photoUrl": "",
      "userId": "03324294809057007804"
     },
     "user_tz": -330
    },
    "id": "WJRuVgRQkd02",
    "outputId": "dcfc6cd9-16b4-46e0-f08d-b6722cd17eab"
   },
   "outputs": [
    {
     "data": {
      "text/plain": [
       "717949    0.0\n",
       "717950    0.0\n",
       "717951    0.0\n",
       "717952    0.0\n",
       "717953    0.0\n",
       "         ... \n",
       "956581    0.0\n",
       "956582    0.0\n",
       "956583    0.0\n",
       "956584    0.0\n",
       "956585    0.0\n",
       "Name: DEP_DEL15, Length: 233046, dtype: float64"
      ]
     },
     "execution_count": 117,
     "metadata": {},
     "output_type": "execute_result"
    }
   ],
   "source": [
    "arr_preds_based_on_dep_delay = val_df['DEP_DEL15']\n",
    "arr_preds_based_on_dep_delay"
   ]
  },
  {
   "cell_type": "code",
   "execution_count": 118,
   "metadata": {
    "colab": {
     "base_uri": "https://localhost:8080/"
    },
    "executionInfo": {
     "elapsed": 447,
     "status": "ok",
     "timestamp": 1627622255205,
     "user": {
      "displayName": "PREMCHAND R",
      "photoUrl": "",
      "userId": "03324294809057007804"
     },
     "user_tz": -330
    },
    "id": "DcYx1QyAke0e",
    "outputId": "1a85bef2-9458-4438-cebe-1aa8e19d286b"
   },
   "outputs": [
    {
     "data": {
      "text/plain": [
       "0.9285548775778173"
      ]
     },
     "execution_count": 118,
     "metadata": {},
     "output_type": "execute_result"
    }
   ],
   "source": [
    "accuracy_score(val_targets, arr_preds_based_on_dep_delay)"
   ]
  },
  {
   "cell_type": "code",
   "execution_count": 119,
   "metadata": {
    "colab": {
     "base_uri": "https://localhost:8080/"
    },
    "executionInfo": {
     "elapsed": 8,
     "status": "ok",
     "timestamp": 1627622256119,
     "user": {
      "displayName": "PREMCHAND R",
      "photoUrl": "",
      "userId": "03324294809057007804"
     },
     "user_tz": -330
    },
    "id": "1glcN3Q1lLNs",
    "outputId": "476e501c-d0c1-4b27-8c98-e0cb2320dec2"
   },
   "outputs": [
    {
     "data": {
      "text/plain": [
       "0.857224332675879"
      ]
     },
     "execution_count": 119,
     "metadata": {},
     "output_type": "execute_result"
    }
   ],
   "source": [
    "roc_auc_score(val_targets, arr_preds_based_on_dep_delay)"
   ]
  },
  {
   "cell_type": "code",
   "execution_count": 120,
   "metadata": {
    "colab": {
     "base_uri": "https://localhost:8080/",
     "height": 398
    },
    "executionInfo": {
     "elapsed": 18,
     "status": "ok",
     "timestamp": 1627622257470,
     "user": {
      "displayName": "PREMCHAND R",
      "photoUrl": "",
      "userId": "03324294809057007804"
     },
     "user_tz": -330
    },
    "id": "RPvhM9uBlqod",
    "outputId": "50ff5050-dc10-4001-8792-83dea5353a8b"
   },
   "outputs": [
    {
     "data": {
      "image/png": "[encoded data removed]",
      "text/plain": [
       "<Figure size 720x432 with 2 Axes>"
      ]
     },
     "metadata": {
      "needs_background": "light"
     },
     "output_type": "display_data"
    }
   ],
   "source": [
    " conf_matrix_arr_based_on_dep_delay =  confusion_matrix(val_targets, arr_preds_based_on_dep_delay, normalize = 'true')\n",
    " plt.figure()\n",
    " plt.title('Validation Confusion Matrix for Arrival delay prediction based on Departure delay')\n",
    " sns.heatmap(conf_matrix_arr_based_on_dep_delay, annot = True);"
   ]
  },
  {
   "cell_type": "markdown",
   "metadata": {
    "id": "4Kwj6vjknH2w"
   },
   "source": [
    "As above results suggests our Decision Tree Classifier gives almost same performance to the model that just copying the departure delay column. We need to check more algorithms to outperform this baseline model."
   ]
  },
  {
   "cell_type": "markdown",
   "metadata": {
    "id": "K5z7K2pUn5ai"
   },
   "source": [
    "### Random Forest Classifeir"
   ]
  },
  {
   "cell_type": "code",
   "execution_count": 121,
   "metadata": {
    "executionInfo": {
     "elapsed": 647,
     "status": "ok",
     "timestamp": 1627622384811,
     "user": {
      "displayName": "PREMCHAND R",
      "photoUrl": "",
      "userId": "03324294809057007804"
     },
     "user_tz": -330
    },
    "id": "nxWIqOs2acxP"
   },
   "outputs": [],
   "source": [
    "from sklearn.ensemble import RandomForestClassifier"
   ]
  },
  {
   "cell_type": "code",
   "execution_count": 122,
   "metadata": {
    "executionInfo": {
     "elapsed": 16,
     "status": "ok",
     "timestamp": 1627622385564,
     "user": {
      "displayName": "PREMCHAND R",
      "photoUrl": "",
      "userId": "03324294809057007804"
     },
     "user_tz": -330
    },
    "id": "SeY53vBghm96"
   },
   "outputs": [],
   "source": [
    "model = RandomForestClassifier(n_jobs = -1, random_state = 42)"
   ]
  },
  {
   "cell_type": "code",
   "execution_count": 123,
   "metadata": {
    "colab": {
     "base_uri": "https://localhost:8080/",
     "height": 641
    },
    "executionInfo": {
     "elapsed": 142967,
     "status": "ok",
     "timestamp": 1627622528521,
     "user": {
      "displayName": "PREMCHAND R",
      "photoUrl": "",
      "userId": "03324294809057007804"
     },
     "user_tz": -330
    },
    "id": "DEQuJZjUhtwE",
    "outputId": "9f236c4c-660b-482c-bb96-39d65c4c0b68"
   },
   "outputs": [
    {
     "name": "stdout",
     "output_type": "stream",
     "text": [
      "Train set accuracy: 99.99%\n",
      "Validation set Accuracy: 92.42%\n",
      "Validation Classification report: \n",
      "               precision    recall  f1-score   support\n",
      "\n",
      "         0.0       0.95      0.96      0.96    196493\n",
      "         1.0       0.78      0.72      0.75     36553\n",
      "\n",
      "    accuracy                           0.92    233046\n",
      "   macro avg       0.86      0.84      0.85    233046\n",
      "weighted avg       0.92      0.92      0.92    233046\n",
      "\n",
      "roc auc score: 0.84\n"
     ]
    },
    {
     "data": {
      "image/png": "[encoded data removed]",
      "text/plain": [
       "<Figure size 720x432 with 2 Axes>"
      ]
     },
     "metadata": {
      "needs_background": "light"
     },
     "output_type": "display_data"
    }
   ],
   "source": [
    "model_performance(model, X_train, train_targets, X_val, val_targets)"
   ]
  },
  {
   "cell_type": "markdown",
   "metadata": {
    "id": "UvQ-6Goxo05N"
   },
   "source": [
    "The default configuration of Random Forest is not good compared to our best Decision Tree model, and we need to search for optimum hyperparameters."
   ]
  },
  {
   "cell_type": "markdown",
   "metadata": {
    "id": "fBSEWjQmpO-6"
   },
   "source": [
    "#### Hyperparameter Tuinng for Random Forest Classifier"
   ]
  },
  {
   "cell_type": "code",
   "execution_count": 124,
   "metadata": {
    "executionInfo": {
     "elapsed": 9,
     "status": "ok",
     "timestamp": 1627622541793,
     "user": {
      "displayName": "PREMCHAND R",
      "photoUrl": "",
      "userId": "03324294809057007804"
     },
     "user_tz": -330
    },
    "id": "wDf8nCqXpXoD"
   },
   "outputs": [],
   "source": [
    "# function to quickly evaluate effect of different hyperparameters\n",
    "def test_params_rfc(**params):\n",
    "    model = RandomForestClassifier(n_jobs = -1, random_state = 42, **params).fit(X_train, train_targets)\n",
    "    train_accuracy = model.score(X_train, train_targets)\n",
    "    val_accuracy = model.score(X_val, val_targets)\n",
    "    roc_auc_score_lr = roc_auc_score(val_targets, model.predict(X_val))\n",
    "    print('Train set accuracy: {:.2f}%'.format(train_accuracy*100))\n",
    "    print('Validation set Accuracy: {:.2f}%'.format(val_accuracy* 100))\n",
    "    print('roc auc score: {:.2f}'.format(roc_auc_score_lr))"
   ]
  },
  {
   "cell_type": "markdown",
   "metadata": {
    "id": "5bMaeSKivBcJ"
   },
   "source": [
    "Let's look at influence of number of estimators."
   ]
  },
  {
   "cell_type": "code",
   "execution_count": 125,
   "metadata": {
    "colab": {
     "base_uri": "https://localhost:8080/"
    },
    "executionInfo": {
     "elapsed": 9489,
     "status": "ok",
     "timestamp": 1627622555424,
     "user": {
      "displayName": "PREMCHAND R",
      "photoUrl": "",
      "userId": "03324294809057007804"
     },
     "user_tz": -330
    },
    "id": "sknNQa6mpXrD",
    "outputId": "78e85ef7-f229-4fa5-d285-7ead28a0d6fb"
   },
   "outputs": [
    {
     "name": "stdout",
     "output_type": "stream",
     "text": [
      "Train set accuracy: 98.54%\n",
      "Validation set Accuracy: 91.35%\n",
      "roc auc score: 0.82\n"
     ]
    }
   ],
   "source": [
    "test_params_rfc(n_estimators = 5)"
   ]
  },
  {
   "cell_type": "code",
   "execution_count": 126,
   "metadata": {
    "colab": {
     "base_uri": "https://localhost:8080/"
    },
    "executionInfo": {
     "elapsed": 29466,
     "status": "ok",
     "timestamp": 1627622585824,
     "user": {
      "displayName": "PREMCHAND R",
      "photoUrl": "",
      "userId": "03324294809057007804"
     },
     "user_tz": -330
    },
    "id": "4YaeUjxHpXtd",
    "outputId": "3f4b644d-a546-434f-c33f-ca40fd2a42d9"
   },
   "outputs": [
    {
     "name": "stdout",
     "output_type": "stream",
     "text": [
      "Train set accuracy: 99.54%\n",
      "Validation set Accuracy: 92.26%\n",
      "roc auc score: 0.83\n"
     ]
    }
   ],
   "source": [
    "test_params_rfc(n_estimators = 20)"
   ]
  },
  {
   "cell_type": "code",
   "execution_count": 127,
   "metadata": {
    "colab": {
     "base_uri": "https://localhost:8080/"
    },
    "executionInfo": {
     "elapsed": 51894,
     "status": "ok",
     "timestamp": 1627622639507,
     "user": {
      "displayName": "PREMCHAND R",
      "photoUrl": "",
      "userId": "03324294809057007804"
     },
     "user_tz": -330
    },
    "id": "2u_ZhmIKpX1j",
    "outputId": "3ce70955-a1e5-4fab-d0fc-f8389aac3f8c"
   },
   "outputs": [
    {
     "name": "stdout",
     "output_type": "stream",
     "text": [
      "Train set accuracy: 99.87%\n",
      "Validation set Accuracy: 92.31%\n",
      "roc auc score: 0.84\n"
     ]
    }
   ],
   "source": [
    "test_params_rfc(n_estimators = 35)"
   ]
  },
  {
   "cell_type": "code",
   "execution_count": 128,
   "metadata": {
    "colab": {
     "base_uri": "https://localhost:8080/"
    },
    "executionInfo": {
     "elapsed": 73966,
     "status": "ok",
     "timestamp": 1627622713462,
     "user": {
      "displayName": "PREMCHAND R",
      "photoUrl": "",
      "userId": "03324294809057007804"
     },
     "user_tz": -330
    },
    "id": "1CBy4XAIpX4g",
    "outputId": "3d71724a-5ac4-4441-a50d-c476c371598b"
   },
   "outputs": [
    {
     "name": "stdout",
     "output_type": "stream",
     "text": [
      "Train set accuracy: 99.92%\n",
      "Validation set Accuracy: 92.38%\n",
      "roc auc score: 0.84\n"
     ]
    }
   ],
   "source": [
    "test_params_rfc(n_estimators = 50)"
   ]
  },
  {
   "cell_type": "markdown",
   "metadata": {
    "id": "uHfPMjX0vJsR"
   },
   "source": [
    "Now we can check what effect max_depth can make. "
   ]
  },
  {
   "cell_type": "code",
   "execution_count": 129,
   "metadata": {
    "colab": {
     "base_uri": "https://localhost:8080/"
    },
    "executionInfo": {
     "elapsed": 9222,
     "status": "ok",
     "timestamp": 1627622723345,
     "user": {
      "displayName": "PREMCHAND R",
      "photoUrl": "",
      "userId": "03324294809057007804"
     },
     "user_tz": -330
    },
    "id": "_ZCYHmOLpX7m",
    "outputId": "008b6a77-78e7-4fc0-9f9b-5d8f6205ff3f"
   },
   "outputs": [
    {
     "name": "stdout",
     "output_type": "stream",
     "text": [
      "Train set accuracy: 91.73%\n",
      "Validation set Accuracy: 92.83%\n",
      "roc auc score: 0.86\n"
     ]
    }
   ],
   "source": [
    "test_params_rfc(n_estimators = 20, max_depth = 5)"
   ]
  },
  {
   "cell_type": "code",
   "execution_count": 130,
   "metadata": {
    "colab": {
     "base_uri": "https://localhost:8080/"
    },
    "executionInfo": {
     "elapsed": 11405,
     "status": "ok",
     "timestamp": 1627622734740,
     "user": {
      "displayName": "PREMCHAND R",
      "photoUrl": "",
      "userId": "03324294809057007804"
     },
     "user_tz": -330
    },
    "id": "zj9qB2WMrZ-L",
    "outputId": "735c08ab-a205-4099-8762-f2c38434defc"
   },
   "outputs": [
    {
     "name": "stdout",
     "output_type": "stream",
     "text": [
      "Train set accuracy: 91.75%\n",
      "Validation set Accuracy: 92.86%\n",
      "roc auc score: 0.86\n"
     ]
    }
   ],
   "source": [
    "test_params_rfc(n_estimators = 20, max_depth = 7)"
   ]
  },
  {
   "cell_type": "code",
   "execution_count": 131,
   "metadata": {
    "colab": {
     "base_uri": "https://localhost:8080/"
    },
    "executionInfo": {
     "elapsed": 12710,
     "status": "ok",
     "timestamp": 1627622747442,
     "user": {
      "displayName": "PREMCHAND R",
      "photoUrl": "",
      "userId": "03324294809057007804"
     },
     "user_tz": -330
    },
    "id": "qVoj3ibmraCF",
    "outputId": "e4f2b9d8-bdb9-42e5-e401-a4d9a522a3f3"
   },
   "outputs": [
    {
     "name": "stdout",
     "output_type": "stream",
     "text": [
      "Train set accuracy: 91.75%\n",
      "Validation set Accuracy: 92.85%\n",
      "roc auc score: 0.86\n"
     ]
    }
   ],
   "source": [
    "test_params_rfc(n_estimators = 20, max_depth = 8)"
   ]
  },
  {
   "cell_type": "markdown",
   "metadata": {
    "id": "qY5brIT6vRFR"
   },
   "source": [
    "Let's also check effect of max_leaf_nodes."
   ]
  },
  {
   "cell_type": "code",
   "execution_count": 132,
   "metadata": {
    "colab": {
     "base_uri": "https://localhost:8080/"
    },
    "executionInfo": {
     "elapsed": 11226,
     "status": "ok",
     "timestamp": 1627622761168,
     "user": {
      "displayName": "PREMCHAND R",
      "photoUrl": "",
      "userId": "03324294809057007804"
     },
     "user_tz": -330
    },
    "id": "ATnGBPuKraE9",
    "outputId": "f261eba2-8858-42b7-f24c-3d655c69d453"
   },
   "outputs": [
    {
     "name": "stdout",
     "output_type": "stream",
     "text": [
      "Train set accuracy: 91.74%\n",
      "Validation set Accuracy: 92.84%\n",
      "roc auc score: 0.86\n"
     ]
    }
   ],
   "source": [
    "test_params_rfc(n_estimators = 20, max_leaf_nodes = 32)"
   ]
  },
  {
   "cell_type": "code",
   "execution_count": 133,
   "metadata": {
    "colab": {
     "base_uri": "https://localhost:8080/"
    },
    "executionInfo": {
     "elapsed": 13113,
     "status": "ok",
     "timestamp": 1627622774263,
     "user": {
      "displayName": "PREMCHAND R",
      "photoUrl": "",
      "userId": "03324294809057007804"
     },
     "user_tz": -330
    },
    "id": "n9tjlKRNraH4",
    "outputId": "45725742-b833-4141-ed8e-860ef31d558d"
   },
   "outputs": [
    {
     "name": "stdout",
     "output_type": "stream",
     "text": [
      "Train set accuracy: 91.75%\n",
      "Validation set Accuracy: 92.86%\n",
      "roc auc score: 0.86\n"
     ]
    }
   ],
   "source": [
    "test_params_rfc(n_estimators = 20, max_leaf_nodes = 64)"
   ]
  },
  {
   "cell_type": "code",
   "execution_count": 134,
   "metadata": {
    "colab": {
     "base_uri": "https://localhost:8080/"
    },
    "executionInfo": {
     "elapsed": 27249,
     "status": "ok",
     "timestamp": 1627622801502,
     "user": {
      "displayName": "PREMCHAND R",
      "photoUrl": "",
      "userId": "03324294809057007804"
     },
     "user_tz": -330
    },
    "id": "AyiIn2cpraKa",
    "outputId": "af52977a-09cf-48c5-d4ea-f720958865de"
   },
   "outputs": [
    {
     "name": "stdout",
     "output_type": "stream",
     "text": [
      "Train set accuracy: 91.75%\n",
      "Validation set Accuracy: 92.86%\n",
      "roc auc score: 0.86\n"
     ]
    }
   ],
   "source": [
    "test_params_rfc(n_estimators = 40, max_leaf_nodes = 128)"
   ]
  },
  {
   "cell_type": "code",
   "execution_count": 135,
   "metadata": {
    "colab": {
     "base_uri": "https://localhost:8080/"
    },
    "executionInfo": {
     "elapsed": 15583,
     "status": "ok",
     "timestamp": 1627622817074,
     "user": {
      "displayName": "PREMCHAND R",
      "photoUrl": "",
      "userId": "03324294809057007804"
     },
     "user_tz": -330
    },
    "id": "pfxpqihNraNA",
    "outputId": "e8181527-343a-4cf4-b76f-675ec661f087"
   },
   "outputs": [
    {
     "name": "stdout",
     "output_type": "stream",
     "text": [
      "Train set accuracy: 91.75%\n",
      "Validation set Accuracy: 92.86%\n",
      "roc auc score: 0.86\n"
     ]
    }
   ],
   "source": [
    "test_params_rfc(n_estimators = 20, max_leaf_nodes = 256)"
   ]
  },
  {
   "cell_type": "markdown",
   "metadata": {
    "id": "fgsyyMyEvbH4"
   },
   "source": [
    "Now we will check min_samples_leaf and its effect."
   ]
  },
  {
   "cell_type": "code",
   "execution_count": 136,
   "metadata": {
    "colab": {
     "base_uri": "https://localhost:8080/"
    },
    "executionInfo": {
     "elapsed": 34591,
     "status": "ok",
     "timestamp": 1627622854310,
     "user": {
      "displayName": "PREMCHAND R",
      "photoUrl": "",
      "userId": "03324294809057007804"
     },
     "user_tz": -330
    },
    "id": "VwRi1uGQsbvx",
    "outputId": "927ffef7-ce08-4cd9-c7c2-7e046182de6e"
   },
   "outputs": [
    {
     "name": "stdout",
     "output_type": "stream",
     "text": [
      "Train set accuracy: 93.90%\n",
      "Validation set Accuracy: 92.84%\n",
      "roc auc score: 0.85\n"
     ]
    }
   ],
   "source": [
    "test_params_rfc(n_estimators = 20, min_samples_leaf = 2)"
   ]
  },
  {
   "cell_type": "code",
   "execution_count": 137,
   "metadata": {
    "colab": {
     "base_uri": "https://localhost:8080/"
    },
    "executionInfo": {
     "elapsed": 23391,
     "status": "ok",
     "timestamp": 1627622877688,
     "user": {
      "displayName": "PREMCHAND R",
      "photoUrl": "",
      "userId": "03324294809057007804"
     },
     "user_tz": -330
    },
    "id": "VWK1ZDJ9sbtL",
    "outputId": "2ec35d68-eed3-4be8-f7f4-4aa31b63c4ca"
   },
   "outputs": [
    {
     "name": "stdout",
     "output_type": "stream",
     "text": [
      "Train set accuracy: 92.39%\n",
      "Validation set Accuracy: 92.87%\n",
      "roc auc score: 0.85\n"
     ]
    }
   ],
   "source": [
    "test_params_rfc(n_estimators = 20, min_samples_leaf = 4)"
   ]
  },
  {
   "cell_type": "code",
   "execution_count": 138,
   "metadata": {
    "colab": {
     "base_uri": "https://localhost:8080/"
    },
    "executionInfo": {
     "elapsed": 27962,
     "status": "ok",
     "timestamp": 1627622905639,
     "user": {
      "displayName": "PREMCHAND R",
      "photoUrl": "",
      "userId": "03324294809057007804"
     },
     "user_tz": -330
    },
    "id": "BEgepRmfsbp5",
    "outputId": "6922603c-78fe-4056-e1dc-93428f7238b3"
   },
   "outputs": [
    {
     "name": "stdout",
     "output_type": "stream",
     "text": [
      "Train set accuracy: 91.94%\n",
      "Validation set Accuracy: 92.88%\n",
      "roc auc score: 0.86\n"
     ]
    }
   ],
   "source": [
    "test_params_rfc(n_estimators = 20, min_samples_leaf = 8)"
   ]
  },
  {
   "cell_type": "markdown",
   "metadata": {
    "id": "Ny39yY_Jvmvp"
   },
   "source": [
    "It would be helpful if we check effect of hyperparameter min_samples_split."
   ]
  },
  {
   "cell_type": "code",
   "execution_count": 139,
   "metadata": {
    "colab": {
     "base_uri": "https://localhost:8080/"
    },
    "executionInfo": {
     "elapsed": 30035,
     "status": "ok",
     "timestamp": 1627622944269,
     "user": {
      "displayName": "PREMCHAND R",
      "photoUrl": "",
      "userId": "03324294809057007804"
     },
     "user_tz": -330
    },
    "id": "CrlGWa6NsbZG",
    "outputId": "97e7794a-0405-469b-dfe4-6908ee88645f"
   },
   "outputs": [
    {
     "name": "stdout",
     "output_type": "stream",
     "text": [
      "Train set accuracy: 94.12%\n",
      "Validation set Accuracy: 92.79%\n",
      "roc auc score: 0.85\n"
     ]
    }
   ],
   "source": [
    "test_params_rfc(n_estimators = 20, min_samples_split = 8)"
   ]
  },
  {
   "cell_type": "code",
   "execution_count": 140,
   "metadata": {
    "colab": {
     "base_uri": "https://localhost:8080/"
    },
    "executionInfo": {
     "elapsed": 27949,
     "status": "ok",
     "timestamp": 1627622972206,
     "user": {
      "displayName": "PREMCHAND R",
      "photoUrl": "",
      "userId": "03324294809057007804"
     },
     "user_tz": -330
    },
    "id": "-1yZcrnYsbJh",
    "outputId": "1be221df-8a9b-466b-c756-3d119e071db4"
   },
   "outputs": [
    {
     "name": "stdout",
     "output_type": "stream",
     "text": [
      "Train set accuracy: 91.99%\n",
      "Validation set Accuracy: 92.87%\n",
      "roc auc score: 0.86\n"
     ]
    }
   ],
   "source": [
    "test_params_rfc(n_estimators = 20, min_samples_split = 50)"
   ]
  },
  {
   "cell_type": "code",
   "execution_count": 141,
   "metadata": {
    "colab": {
     "base_uri": "https://localhost:8080/"
    },
    "executionInfo": {
     "elapsed": 28892,
     "status": "ok",
     "timestamp": 1627623001085,
     "user": {
      "displayName": "PREMCHAND R",
      "photoUrl": "",
      "userId": "03324294809057007804"
     },
     "user_tz": -330
    },
    "id": "3L2ECt3muaka",
    "outputId": "b6c1a07a-4a61-4e12-cf2c-b80fe7a98571"
   },
   "outputs": [
    {
     "name": "stdout",
     "output_type": "stream",
     "text": [
      "Train set accuracy: 92.37%\n",
      "Validation set Accuracy: 92.87%\n",
      "roc auc score: 0.85\n"
     ]
    }
   ],
   "source": [
    "test_params_rfc(n_estimators = 20, min_samples_split = 25)"
   ]
  },
  {
   "cell_type": "code",
   "execution_count": 142,
   "metadata": {
    "executionInfo": {
     "elapsed": 19,
     "status": "ok",
     "timestamp": 1627623001088,
     "user": {
      "displayName": "PREMCHAND R",
      "photoUrl": "",
      "userId": "03324294809057007804"
     },
     "user_tz": -330
    },
    "id": "Ggkzpc0bu9DY"
   },
   "outputs": [],
   "source": [
    "model_rfc_best = RandomForestClassifier(n_jobs = -1, random_state = 42, n_estimators = 20, min_samples_leaf = 8)"
   ]
  },
  {
   "cell_type": "code",
   "execution_count": 143,
   "metadata": {
    "colab": {
     "base_uri": "https://localhost:8080/",
     "height": 641
    },
    "executionInfo": {
     "elapsed": 28258,
     "status": "ok",
     "timestamp": 1627623029332,
     "user": {
      "displayName": "PREMCHAND R",
      "photoUrl": "",
      "userId": "03324294809057007804"
     },
     "user_tz": -330
    },
    "id": "xVKJpGa1u9M9",
    "outputId": "293db3dd-03bc-416c-967f-c156426057d7"
   },
   "outputs": [
    {
     "name": "stdout",
     "output_type": "stream",
     "text": [
      "Train set accuracy: 91.94%\n",
      "Validation set Accuracy: 92.88%\n",
      "Validation Classification report: \n",
      "               precision    recall  f1-score   support\n",
      "\n",
      "         0.0       0.95      0.96      0.96    196493\n",
      "         1.0       0.79      0.75      0.77     36553\n",
      "\n",
      "    accuracy                           0.93    233046\n",
      "   macro avg       0.87      0.86      0.86    233046\n",
      "weighted avg       0.93      0.93      0.93    233046\n",
      "\n",
      "roc auc score: 0.86\n"
     ]
    },
    {
     "data": {
      "image/png": "[encoded data removed]",
      "text/plain": [
       "<Figure size 720x432 with 2 Axes>"
      ]
     },
     "metadata": {
      "needs_background": "light"
     },
     "output_type": "display_data"
    }
   ],
   "source": [
    "model_performance(model_rfc_best, X_train, train_targets, X_val, val_targets)"
   ]
  },
  {
   "cell_type": "markdown",
   "metadata": {
    "id": "auGlhjME00ob"
   },
   "source": [
    "We could only able to achieve a marginal increase in performance compared to model that copies departure delays."
   ]
  },
  {
   "cell_type": "code",
   "execution_count": 144,
   "metadata": {
    "colab": {
     "base_uri": "https://localhost:8080/",
     "height": 396
    },
    "executionInfo": {
     "elapsed": 1557,
     "status": "ok",
     "timestamp": 1627623084135,
     "user": {
      "displayName": "PREMCHAND R",
      "photoUrl": "",
      "userId": "03324294809057007804"
     },
     "user_tz": -330
    },
    "id": "GyXNJ-R31XTc",
    "outputId": "c38f8c37-b2cf-423e-c330-5cf8d49be3c8"
   },
   "outputs": [
    {
     "data": {
      "image/png": "[encoded data removed]",
      "text/plain": [
       "<Figure size 720x432 with 1 Axes>"
      ]
     },
     "metadata": {
      "needs_background": "light"
     },
     "output_type": "display_data"
    }
   ],
   "source": [
    "importance_df = pd.DataFrame({\n",
    "    'feature': X_train.columns,\n",
    "    'importance': model_rfc_best.feature_importances_\n",
    "})\n",
    "sns.barplot(x = 'importance', y = 'feature', data = importance_df.sort_values('importance', ascending = False).head(10));"
   ]
  },
  {
   "cell_type": "markdown",
   "metadata": {
    "id": "W-jRWz4t12a6"
   },
   "source": [
    "By examining the feature importance we can understand that the Random Forest model is best as it depends on many features for prediction unlike Decision Tree model which mostly depends on one feature. we can hope our Random Forest will perform better to unknown data."
   ]
  },
  {
   "cell_type": "markdown",
   "metadata": {
    "id": "ZCPPmNfj1Ji2"
   },
   "source": [
    "### XGBoost Classifier"
   ]
  },
  {
   "cell_type": "code",
   "execution_count": 145,
   "metadata": {
    "executionInfo": {
     "elapsed": 509,
     "status": "ok",
     "timestamp": 1627623128768,
     "user": {
      "displayName": "PREMCHAND R",
      "photoUrl": "",
      "userId": "03324294809057007804"
     },
     "user_tz": -330
    },
    "id": "ezBfK9uOfgwZ"
   },
   "outputs": [],
   "source": [
    "from xgboost import XGBClassifier"
   ]
  },
  {
   "cell_type": "code",
   "execution_count": 146,
   "metadata": {
    "executionInfo": {
     "elapsed": 8,
     "status": "ok",
     "timestamp": 1627623129378,
     "user": {
      "displayName": "PREMCHAND R",
      "photoUrl": "",
      "userId": "03324294809057007804"
     },
     "user_tz": -330
    },
    "id": "h61A2wFDGFBl"
   },
   "outputs": [],
   "source": [
    "model = XGBClassifier(random_state=42, n_jobs = -1,use_label_encoder=False, eval_metric = 'logloss')\n"
   ]
  },
  {
   "cell_type": "code",
   "execution_count": 147,
   "metadata": {
    "colab": {
     "base_uri": "https://localhost:8080/",
     "height": 641
    },
    "executionInfo": {
     "elapsed": 172220,
     "status": "ok",
     "timestamp": 1627623304750,
     "user": {
      "displayName": "PREMCHAND R",
      "photoUrl": "",
      "userId": "03324294809057007804"
     },
     "user_tz": -330
    },
    "id": "8rp-eUthfgzl",
    "outputId": "4d27ca4d-a885-410e-87a2-8af1ce4a9de8"
   },
   "outputs": [
    {
     "name": "stdout",
     "output_type": "stream",
     "text": [
      "Train set accuracy: 92.26%\n",
      "Validation set Accuracy: 92.96%\n",
      "Validation Classification report: \n",
      "               precision    recall  f1-score   support\n",
      "\n",
      "         0.0       0.95      0.97      0.96    196493\n",
      "         1.0       0.81      0.72      0.76     36553\n",
      "\n",
      "    accuracy                           0.93    233046\n",
      "   macro avg       0.88      0.84      0.86    233046\n",
      "weighted avg       0.93      0.93      0.93    233046\n",
      "\n",
      "roc auc score: 0.84\n"
     ]
    },
    {
     "data": {
      "image/png": "[encoded data removed]",
      "text/plain": [
       "<Figure size 720x432 with 2 Axes>"
      ]
     },
     "metadata": {
      "needs_background": "light"
     },
     "output_type": "display_data"
    }
   ],
   "source": [
    "model_performance(model, X_train, train_targets, X_val, val_targets)"
   ]
  },
  {
   "cell_type": "markdown",
   "metadata": {
    "id": "LDurTAW83O4M"
   },
   "source": [
    "From the above performance data we can see that clearly performance on validation set is increased but the roc_auc_score is decreased."
   ]
  },
  {
   "cell_type": "markdown",
   "metadata": {
    "id": "1GBb7DOl3dam"
   },
   "source": [
    "#### Hyperparameter Tuning for XGBClassifier"
   ]
  },
  {
   "cell_type": "code",
   "execution_count": 148,
   "metadata": {
    "executionInfo": {
     "elapsed": 24,
     "status": "ok",
     "timestamp": 1627623315054,
     "user": {
      "displayName": "PREMCHAND R",
      "photoUrl": "",
      "userId": "03324294809057007804"
     },
     "user_tz": -330
    },
    "id": "DBMD4tdV3qQm"
   },
   "outputs": [],
   "source": [
    "# function to quickly evaluate effect of different hyperparameters\n",
    "def test_params_xgbc(**params):\n",
    "    model = XGBClassifier(random_state=42, n_jobs = -1,use_label_encoder=False, eval_metric = 'logloss', **params).fit(X_train, train_targets)\n",
    "    train_accuracy = model.score(X_train, train_targets)\n",
    "    val_accuracy = model.score(X_val, val_targets)\n",
    "    roc_auc_score_lr = roc_auc_score(val_targets, model.predict(X_val))\n",
    "    print('Train set accuracy: {:.2f}%'.format(train_accuracy*100))\n",
    "    print('Validation set Accuracy: {:.2f}%'.format(val_accuracy* 100))\n",
    "    print('roc auc score: {:.2f}'.format(roc_auc_score_lr))"
   ]
  },
  {
   "cell_type": "markdown",
   "metadata": {
    "id": "AbeUoobx_Rb2"
   },
   "source": [
    "Let's check effect of number of estimators."
   ]
  },
  {
   "cell_type": "code",
   "execution_count": 149,
   "metadata": {
    "colab": {
     "base_uri": "https://localhost:8080/"
    },
    "executionInfo": {
     "elapsed": 21475,
     "status": "ok",
     "timestamp": 1627623340641,
     "user": {
      "displayName": "PREMCHAND R",
      "photoUrl": "",
      "userId": "03324294809057007804"
     },
     "user_tz": -330
    },
    "id": "OqU_yw6mfg9z",
    "outputId": "1d05507e-23d5-4ca0-a2ca-472bb24ae8c1"
   },
   "outputs": [
    {
     "name": "stdout",
     "output_type": "stream",
     "text": [
      "Train set accuracy: 91.78%\n",
      "Validation set Accuracy: 92.87%\n",
      "roc auc score: 0.86\n"
     ]
    }
   ],
   "source": [
    "test_params_xgbc(n_estimators = 10)"
   ]
  },
  {
   "cell_type": "code",
   "execution_count": 150,
   "metadata": {
    "colab": {
     "base_uri": "https://localhost:8080/"
    },
    "executionInfo": {
     "elapsed": 37798,
     "status": "ok",
     "timestamp": 1627623378428,
     "user": {
      "displayName": "PREMCHAND R",
      "photoUrl": "",
      "userId": "03324294809057007804"
     },
     "user_tz": -330
    },
    "id": "IH38lYwpfhAw",
    "outputId": "d70537c0-9292-4655-c899-e9c83fde6122"
   },
   "outputs": [
    {
     "name": "stdout",
     "output_type": "stream",
     "text": [
      "Train set accuracy: 91.87%\n",
      "Validation set Accuracy: 92.89%\n",
      "roc auc score: 0.85\n"
     ]
    }
   ],
   "source": [
    "test_params_xgbc(n_estimators = 20)"
   ]
  },
  {
   "cell_type": "code",
   "execution_count": 151,
   "metadata": {
    "colab": {
     "base_uri": "https://localhost:8080/"
    },
    "executionInfo": {
     "elapsed": 54479,
     "status": "ok",
     "timestamp": 1627623432895,
     "user": {
      "displayName": "PREMCHAND R",
      "photoUrl": "",
      "userId": "03324294809057007804"
     },
     "user_tz": -330
    },
    "id": "VUj0SyJefhIW",
    "outputId": "9e0cb044-ab61-4bdc-b47a-2b48d4bc141e"
   },
   "outputs": [
    {
     "name": "stdout",
     "output_type": "stream",
     "text": [
      "Train set accuracy: 91.94%\n",
      "Validation set Accuracy: 92.91%\n",
      "roc auc score: 0.85\n"
     ]
    }
   ],
   "source": [
    "test_params_xgbc(n_estimators = 30)"
   ]
  },
  {
   "cell_type": "code",
   "execution_count": 152,
   "metadata": {
    "colab": {
     "base_uri": "https://localhost:8080/"
    },
    "executionInfo": {
     "elapsed": 87887,
     "status": "ok",
     "timestamp": 1627623520773,
     "user": {
      "displayName": "PREMCHAND R",
      "photoUrl": "",
      "userId": "03324294809057007804"
     },
     "user_tz": -330
    },
    "id": "08yPabtm2wHc",
    "outputId": "3ac8179d-57cc-429e-9f95-26012b7778ea"
   },
   "outputs": [
    {
     "name": "stdout",
     "output_type": "stream",
     "text": [
      "Train set accuracy: 92.09%\n",
      "Validation set Accuracy: 92.96%\n",
      "roc auc score: 0.85\n"
     ]
    }
   ],
   "source": [
    "test_params_xgbc(n_estimators = 50)"
   ]
  },
  {
   "cell_type": "markdown",
   "metadata": {
    "id": "NKPHxxE9_Xsp"
   },
   "source": [
    "Now let's check max_depth."
   ]
  },
  {
   "cell_type": "code",
   "execution_count": 153,
   "metadata": {
    "colab": {
     "base_uri": "https://localhost:8080/"
    },
    "executionInfo": {
     "elapsed": 18594,
     "status": "ok",
     "timestamp": 1627623544716,
     "user": {
      "displayName": "PREMCHAND R",
      "photoUrl": "",
      "userId": "03324294809057007804"
     },
     "user_tz": -330
    },
    "id": "UvUqpDyX2wE1",
    "outputId": "3c9999ea-b272-4cca-f693-b9fc05a7e164"
   },
   "outputs": [
    {
     "name": "stdout",
     "output_type": "stream",
     "text": [
      "Train set accuracy: 91.77%\n",
      "Validation set Accuracy: 92.86%\n",
      "roc auc score: 0.86\n"
     ]
    }
   ],
   "source": [
    "test_params_xgbc(n_estimators = 10, max_depth = 5)"
   ]
  },
  {
   "cell_type": "code",
   "execution_count": 154,
   "metadata": {
    "colab": {
     "base_uri": "https://localhost:8080/"
    },
    "executionInfo": {
     "elapsed": 34694,
     "status": "ok",
     "timestamp": 1627623579401,
     "user": {
      "displayName": "PREMCHAND R",
      "photoUrl": "",
      "userId": "03324294809057007804"
     },
     "user_tz": -330
    },
    "id": "cHEjAX_22wBk",
    "outputId": "19a32aff-dc66-4296-f6e1-ad25d0b51bf2"
   },
   "outputs": [
    {
     "name": "stdout",
     "output_type": "stream",
     "text": [
      "Train set accuracy: 92.13%\n",
      "Validation set Accuracy: 92.91%\n",
      "roc auc score: 0.85\n"
     ]
    }
   ],
   "source": [
    "test_params_xgbc(n_estimators = 10, max_depth = 10)"
   ]
  },
  {
   "cell_type": "code",
   "execution_count": 155,
   "metadata": {
    "colab": {
     "base_uri": "https://localhost:8080/"
    },
    "executionInfo": {
     "elapsed": 79406,
     "status": "ok",
     "timestamp": 1627623658798,
     "user": {
      "displayName": "PREMCHAND R",
      "photoUrl": "",
      "userId": "03324294809057007804"
     },
     "user_tz": -330
    },
    "id": "DUXTQ-Yo3t-8",
    "outputId": "997b7f02-7de2-4f77-8bd1-a46c4edc1037"
   },
   "outputs": [
    {
     "name": "stdout",
     "output_type": "stream",
     "text": [
      "Train set accuracy: 94.63%\n",
      "Validation set Accuracy: 92.54%\n",
      "roc auc score: 0.84\n"
     ]
    }
   ],
   "source": [
    "test_params_xgbc(n_estimators = 10, max_depth = 20)"
   ]
  },
  {
   "cell_type": "markdown",
   "metadata": {
    "id": "nyNCBxBQ_elh"
   },
   "source": [
    "We can also explore learning_rate's effect on predictions."
   ]
  },
  {
   "cell_type": "code",
   "execution_count": 156,
   "metadata": {
    "colab": {
     "base_uri": "https://localhost:8080/"
    },
    "executionInfo": {
     "elapsed": 21326,
     "status": "ok",
     "timestamp": 1627623683368,
     "user": {
      "displayName": "PREMCHAND R",
      "photoUrl": "",
      "userId": "03324294809057007804"
     },
     "user_tz": -330
    },
    "id": "o4haR6tg5uG_",
    "outputId": "d3c9a396-4a0e-4501-83e8-447fa3e17877"
   },
   "outputs": [
    {
     "name": "stdout",
     "output_type": "stream",
     "text": [
      "Train set accuracy: 91.76%\n",
      "Validation set Accuracy: 92.86%\n",
      "roc auc score: 0.86\n"
     ]
    }
   ],
   "source": [
    "test_params_xgbc(n_estimators = 10, learning_rate = 0.2)"
   ]
  },
  {
   "cell_type": "code",
   "execution_count": 157,
   "metadata": {
    "colab": {
     "base_uri": "https://localhost:8080/"
    },
    "executionInfo": {
     "elapsed": 20263,
     "status": "ok",
     "timestamp": 1627623703621,
     "user": {
      "displayName": "PREMCHAND R",
      "photoUrl": "",
      "userId": "03324294809057007804"
     },
     "user_tz": -330
    },
    "id": "wTDskzFv6LBi",
    "outputId": "9d96e9d3-dcb5-476a-af08-19a4cc378412"
   },
   "outputs": [
    {
     "name": "stdout",
     "output_type": "stream",
     "text": [
      "Train set accuracy: 91.78%\n",
      "Validation set Accuracy: 92.87%\n",
      "roc auc score: 0.86\n"
     ]
    }
   ],
   "source": [
    "test_params_xgbc(n_estimators = 10, learning_rate = 0.3)"
   ]
  },
  {
   "cell_type": "code",
   "execution_count": 158,
   "metadata": {
    "colab": {
     "base_uri": "https://localhost:8080/"
    },
    "executionInfo": {
     "elapsed": 20720,
     "status": "ok",
     "timestamp": 1627623724333,
     "user": {
      "displayName": "PREMCHAND R",
      "photoUrl": "",
      "userId": "03324294809057007804"
     },
     "user_tz": -330
    },
    "id": "rliI5aUw6LEq",
    "outputId": "52c806a3-4715-49d1-d7ef-cf37558b2aa7"
   },
   "outputs": [
    {
     "name": "stdout",
     "output_type": "stream",
     "text": [
      "Train set accuracy: 91.85%\n",
      "Validation set Accuracy: 92.90%\n",
      "roc auc score: 0.86\n"
     ]
    }
   ],
   "source": [
    "test_params_xgbc(n_estimators = 10, learning_rate = 0.4)"
   ]
  },
  {
   "cell_type": "code",
   "execution_count": 159,
   "metadata": {
    "colab": {
     "base_uri": "https://localhost:8080/"
    },
    "executionInfo": {
     "elapsed": 20189,
     "status": "ok",
     "timestamp": 1627623744505,
     "user": {
      "displayName": "PREMCHAND R",
      "photoUrl": "",
      "userId": "03324294809057007804"
     },
     "user_tz": -330
    },
    "id": "QnXWEoSl6LG4",
    "outputId": "0e9a60d1-ba82-4fe0-cc7c-89ba15ef6366"
   },
   "outputs": [
    {
     "name": "stdout",
     "output_type": "stream",
     "text": [
      "Train set accuracy: 91.89%\n",
      "Validation set Accuracy: 92.92%\n",
      "roc auc score: 0.85\n"
     ]
    }
   ],
   "source": [
    "test_params_xgbc(n_estimators = 10, learning_rate = 0.5)"
   ]
  },
  {
   "cell_type": "code",
   "execution_count": 160,
   "metadata": {
    "colab": {
     "base_uri": "https://localhost:8080/"
    },
    "executionInfo": {
     "elapsed": 82349,
     "status": "ok",
     "timestamp": 1627623830012,
     "user": {
      "displayName": "PREMCHAND R",
      "photoUrl": "",
      "userId": "03324294809057007804"
     },
     "user_tz": -330
    },
    "id": "ec45bp9SAUW-",
    "outputId": "e6d74fc9-1dab-4b47-e43c-9146afcea67e"
   },
   "outputs": [
    {
     "name": "stdout",
     "output_type": "stream",
     "text": [
      "Train set accuracy: 92.13%\n",
      "Validation set Accuracy: 92.95%\n",
      "roc auc score: 0.85\n"
     ]
    }
   ],
   "source": [
    "test_params_xgbc(n_estimators = 40, max_depth = 7, learning_rate = 0.3)"
   ]
  },
  {
   "cell_type": "code",
   "execution_count": 161,
   "metadata": {
    "colab": {
     "base_uri": "https://localhost:8080/"
    },
    "executionInfo": {
     "elapsed": 100547,
     "status": "ok",
     "timestamp": 1627623930547,
     "user": {
      "displayName": "PREMCHAND R",
      "photoUrl": "",
      "userId": "03324294809057007804"
     },
     "user_tz": -330
    },
    "id": "1c7ZU8rMAUZ7",
    "outputId": "72500c15-849d-4a33-a5f7-9086cb56463b"
   },
   "outputs": [
    {
     "name": "stdout",
     "output_type": "stream",
     "text": [
      "Train set accuracy: 92.20%\n",
      "Validation set Accuracy: 92.96%\n",
      "roc auc score: 0.85\n"
     ]
    }
   ],
   "source": [
    "test_params_xgbc(n_estimators = 50, max_depth = 7, learning_rate = 0.3)"
   ]
  },
  {
   "cell_type": "code",
   "execution_count": 162,
   "metadata": {
    "executionInfo": {
     "elapsed": 631,
     "status": "ok",
     "timestamp": 1627623936739,
     "user": {
      "displayName": "PREMCHAND R",
      "photoUrl": "",
      "userId": "03324294809057007804"
     },
     "user_tz": -330
    },
    "id": "gsIJkVW8AUe4"
   },
   "outputs": [],
   "source": [
    "model_xgbc_best = XGBClassifier(n_estimators = 50, max_depth = 7, learning_rate = 0.3, random_state=42, n_jobs = -1,use_label_encoder=False, eval_metric = 'logloss')"
   ]
  },
  {
   "cell_type": "code",
   "execution_count": 163,
   "metadata": {
    "colab": {
     "base_uri": "https://localhost:8080/",
     "height": 641
    },
    "executionInfo": {
     "elapsed": 101293,
     "status": "ok",
     "timestamp": 1627624038702,
     "user": {
      "displayName": "PREMCHAND R",
      "photoUrl": "",
      "userId": "03324294809057007804"
     },
     "user_tz": -330
    },
    "id": "ZSexlLATG7C-",
    "outputId": "fc1d1c60-1689-48e3-d577-0d19d1c734cf"
   },
   "outputs": [
    {
     "name": "stdout",
     "output_type": "stream",
     "text": [
      "Train set accuracy: 92.20%\n",
      "Validation set Accuracy: 92.96%\n",
      "Validation Classification report: \n",
      "               precision    recall  f1-score   support\n",
      "\n",
      "         0.0       0.95      0.97      0.96    196493\n",
      "         1.0       0.81      0.73      0.76     36553\n",
      "\n",
      "    accuracy                           0.93    233046\n",
      "   macro avg       0.88      0.85      0.86    233046\n",
      "weighted avg       0.93      0.93      0.93    233046\n",
      "\n",
      "roc auc score: 0.85\n"
     ]
    },
    {
     "data": {
      "image/png": "[encoded data removed]",
      "text/plain": [
       "<Figure size 720x432 with 2 Axes>"
      ]
     },
     "metadata": {
      "needs_background": "light"
     },
     "output_type": "display_data"
    }
   ],
   "source": [
    "model_performance(model_xgbc_best, X_train, train_targets, X_val, val_targets)"
   ]
  },
  {
   "cell_type": "markdown",
   "metadata": {
    "id": "KQoXO9VTIEb2"
   },
   "source": [
    "With gradient boosting algorithm of XGBoost we could achieve better accuracy on validation set, but for the highest of accuracy model, roc_auc_score is less compared to earlier models. For this reason we will select one more best model from XGBoost classifier to checck performance on test data."
   ]
  },
  {
   "cell_type": "code",
   "execution_count": 164,
   "metadata": {
    "executionInfo": {
     "elapsed": 421,
     "status": "ok",
     "timestamp": 1627624066139,
     "user": {
      "displayName": "PREMCHAND R",
      "photoUrl": "",
      "userId": "03324294809057007804"
     },
     "user_tz": -330
    },
    "id": "R6rb7RKzItJe"
   },
   "outputs": [],
   "source": [
    "model_xgbc_best2 = XGBClassifier(n_estimators = 10, learning_rate = 0.4, random_state=42, n_jobs = -1,use_label_encoder=False, eval_metric = 'logloss')"
   ]
  },
  {
   "cell_type": "code",
   "execution_count": 165,
   "metadata": {
    "colab": {
     "base_uri": "https://localhost:8080/",
     "height": 641
    },
    "executionInfo": {
     "elapsed": 21551,
     "status": "ok",
     "timestamp": 1627624090140,
     "user": {
      "displayName": "PREMCHAND R",
      "photoUrl": "",
      "userId": "03324294809057007804"
     },
     "user_tz": -330
    },
    "id": "ZBeBLLb0YvK_",
    "outputId": "5c1ff775-3e64-49b3-d723-de3c825b451f"
   },
   "outputs": [
    {
     "name": "stdout",
     "output_type": "stream",
     "text": [
      "Train set accuracy: 91.85%\n",
      "Validation set Accuracy: 92.90%\n",
      "Validation Classification report: \n",
      "               precision    recall  f1-score   support\n",
      "\n",
      "         0.0       0.95      0.96      0.96    196493\n",
      "         1.0       0.79      0.75      0.77     36553\n",
      "\n",
      "    accuracy                           0.93    233046\n",
      "   macro avg       0.87      0.86      0.86    233046\n",
      "weighted avg       0.93      0.93      0.93    233046\n",
      "\n",
      "roc auc score: 0.86\n"
     ]
    },
    {
     "data": {
      "image/png": "[encoded data removed]",
      "text/plain": [
       "<Figure size 720x432 with 2 Axes>"
      ]
     },
     "metadata": {
      "needs_background": "light"
     },
     "output_type": "display_data"
    }
   ],
   "source": [
    "model_performance(model_xgbc_best2, X_train, train_targets, X_val, val_targets)"
   ]
  },
  {
   "cell_type": "markdown",
   "metadata": {
    "id": "amRPG5EmHqII"
   },
   "source": [
    "## Making Predictions on New Inputs"
   ]
  },
  {
   "cell_type": "markdown",
   "metadata": {
    "id": "Zth9SpJtS5g7"
   },
   "source": [
    "To predict delay on arrival for a single input (details of a single trip) we can write a function as follows. The two dictionaries, origin_cat_dict and dest_cat_dict are used for getting corresponding category for origin and destination airports."
   ]
  },
  {
   "cell_type": "code",
   "execution_count": 166,
   "metadata": {
    "executionInfo": {
     "elapsed": 523,
     "status": "ok",
     "timestamp": 1627624170991,
     "user": {
      "displayName": "PREMCHAND R",
      "photoUrl": "",
      "userId": "03324294809057007804"
     },
     "user_tz": -330
    },
    "id": "UMxUsXsLLM8z"
   },
   "outputs": [],
   "source": [
    "# function to predict sample input\n",
    "def predict_input(model, single_input):\n",
    "    input_df = pd.DataFrame([single_input])\n",
    "    input_df['ORIGIN_CAT'] = origin_cat_dict[single_input['ORIGIN']]\n",
    "    input_df['DEST_CAT'] = dest_cat_dict[single_input['DEST']]\n",
    "    input_df[numeric_cols] = scaler.transform(input_df[numeric_cols])\n",
    "    input_df[encoded_cols] = encoder.transform(input_df[categorical_cols])\n",
    "    X_input = input_df[numeric_cols + encoded_cols]\n",
    "    pred = model.predict(X_input)[0]\n",
    "    prob = model.predict_proba(X_input)[0][list(model.classes_).index(pred)]\n",
    "    return pred, prob"
   ]
  },
  {
   "cell_type": "markdown",
   "metadata": {
    "id": "vzMAIx8XS2Ha"
   },
   "source": [
    "A single input by the name new_input is shown below."
   ]
  },
  {
   "cell_type": "code",
   "execution_count": 167,
   "metadata": {
    "executionInfo": {
     "elapsed": 531,
     "status": "ok",
     "timestamp": 1627624184095,
     "user": {
      "displayName": "PREMCHAND R",
      "photoUrl": "",
      "userId": "03324294809057007804"
     },
     "user_tz": -330
    },
    "id": "7KzcAhwXS25A"
   },
   "outputs": [],
   "source": [
    "new_input = {'DAY_OF_MONTH': 3,\n",
    "             'DAY_OF_WEEK': 2,\n",
    "             'OP_CARRIER': '9E',\n",
    "             'ORIGIN': 'ATL',\n",
    "             'DEST': 'LGA',\n",
    "             'DEP_TIME': 1225.0,\n",
    "             'DEP_DEL15': 0.0,\n",
    "             'DEP_TIME_BLK': '1200-1259',\n",
    "             'DISTANCE': 578.0 }"
   ]
  },
  {
   "cell_type": "markdown",
   "metadata": {
    "id": "n8VnZwF4TlXo"
   },
   "source": [
    "We use above function for prediction of arrival delay for the given input. We will use the logistic regression model named model_lr."
   ]
  },
  {
   "cell_type": "code",
   "execution_count": 168,
   "metadata": {
    "colab": {
     "base_uri": "https://localhost:8080/"
    },
    "executionInfo": {
     "elapsed": 520,
     "status": "ok",
     "timestamp": 1627624220246,
     "user": {
      "displayName": "PREMCHAND R",
      "photoUrl": "",
      "userId": "03324294809057007804"
     },
     "user_tz": -330
    },
    "id": "aN6JbmIYTiaA",
    "outputId": "3ff540f0-bf47-4012-84dc-bc1dcd90b369"
   },
   "outputs": [
    {
     "data": {
      "text/plain": [
       "(0.0, 0.9451716549447228)"
      ]
     },
     "execution_count": 168,
     "metadata": {},
     "output_type": "execute_result"
    }
   ],
   "source": [
    "predict_input(model_lr, new_input)"
   ]
  },
  {
   "cell_type": "markdown",
   "metadata": {
    "id": "lY3NmtDNUDB8"
   },
   "source": [
    "The model is predicting no delay (indicated by 0.0) with 0.94 probability."
   ]
  },
  {
   "cell_type": "markdown",
   "metadata": {
    "id": "UVFGVE2SUShZ"
   },
   "source": [
    "## Compare different models on Test Data"
   ]
  },
  {
   "cell_type": "code",
   "execution_count": 169,
   "metadata": {
    "executionInfo": {
     "elapsed": 823,
     "status": "ok",
     "timestamp": 1627624244102,
     "user": {
      "displayName": "PREMCHAND R",
      "photoUrl": "",
      "userId": "03324294809057007804"
     },
     "user_tz": -330
    },
    "id": "lv2epDOsNcfL"
   },
   "outputs": [],
   "source": [
    "model_lr = LogisticRegression(solver = 'liblinear', random_state = 42)\n",
    "model_dtc_best = DecisionTreeClassifier(max_depth = 7, max_leaf_nodes = 128, min_samples_leaf = 5, random_state=42)\n",
    "model_rfc_best = RandomForestClassifier(n_jobs = -1, random_state = 42, n_estimators = 20, min_samples_leaf = 8)\n",
    "model_xgbc_best = XGBClassifier(n_estimators = 50, max_depth = 7, learning_rate = 0.3, random_state=42, n_jobs = -1,\n",
    "                                use_label_encoder=False, eval_metric = 'logloss')\n",
    "model_xgbc_best2 = XGBClassifier(n_estimators = 10, learning_rate = 0.4, random_state=42, n_jobs = -1,use_label_encoder=False, eval_metric = 'logloss')\n"
   ]
  },
  {
   "cell_type": "code",
   "execution_count": 170,
   "metadata": {
    "executionInfo": {
     "elapsed": 659,
     "status": "ok",
     "timestamp": 1627624248572,
     "user": {
      "displayName": "PREMCHAND R",
      "photoUrl": "",
      "userId": "03324294809057007804"
     },
     "user_tz": -330
    },
    "id": "pn4fBiuKWG4B"
   },
   "outputs": [],
   "source": [
    "models = [model_lr, model_dtc_best, model_rfc_best, model_xgbc_best, model_xgbc_best2]\n",
    "accuracy_scores = []\n",
    "roc_auc_scores = []"
   ]
  },
  {
   "cell_type": "code",
   "execution_count": 171,
   "metadata": {
    "executionInfo": {
     "elapsed": 147544,
     "status": "ok",
     "timestamp": 1627624404663,
     "user": {
      "displayName": "PREMCHAND R",
      "photoUrl": "",
      "userId": "03324294809057007804"
     },
     "user_tz": -330
    },
    "id": "fLG-Xi6QSAiZ"
   },
   "outputs": [],
   "source": [
    "for model in models:\n",
    "  model.fit(X_train, train_targets)\n",
    "  test_preds = model.predict(X_test)\n",
    "  test_accuracy = accuracy_score(test_targets, test_preds)\n",
    "  roc_auc_score_test = roc_auc_score(test_targets, test_preds)\n",
    "  accuracy_scores.append(round(test_accuracy*100, 2))\n",
    "  roc_auc_scores.append(round(roc_auc_score_test, 3))\n"
   ]
  },
  {
   "cell_type": "code",
   "execution_count": 172,
   "metadata": {
    "executionInfo": {
     "elapsed": 413,
     "status": "ok",
     "timestamp": 1627624410089,
     "user": {
      "displayName": "PREMCHAND R",
      "photoUrl": "",
      "userId": "03324294809057007804"
     },
     "user_tz": -330
    },
    "id": "mXlgK4eSSVRH"
   },
   "outputs": [],
   "source": [
    "test_results_df = pd.DataFrame({\n",
    "    'Model' : ['Logistic Regression', 'Decision Tree Classifier', 'Random Forest Classifier', 'XGBoost Classifier_1', 'XGBoost Classifier_2'],\n",
    "    'Accuracy': accuracy_scores,\n",
    "    'roc_auc_score': roc_auc_scores\n",
    "})"
   ]
  },
  {
   "cell_type": "code",
   "execution_count": 173,
   "metadata": {
    "colab": {
     "base_uri": "https://localhost:8080/",
     "height": 206
    },
    "executionInfo": {
     "elapsed": 385,
     "status": "ok",
     "timestamp": 1627624419829,
     "user": {
      "displayName": "PREMCHAND R",
      "photoUrl": "",
      "userId": "03324294809057007804"
     },
     "user_tz": -330
    },
    "id": "edg-kT67SAIf",
    "outputId": "71306f6c-09d9-4974-8f37-76931dbcfc2f"
   },
   "outputs": [
    {
     "data": {
      "text/html": [
       "<div>\n",
       "<style scoped>\n",
       "    .dataframe tbody tr th:only-of-type {\n",
       "        vertical-align: middle;\n",
       "    }\n",
       "\n",
       "    .dataframe tbody tr th {\n",
       "        vertical-align: top;\n",
       "    }\n",
       "\n",
       "    .dataframe thead th {\n",
       "        text-align: right;\n",
       "    }\n",
       "</style>\n",
       "<table border=\"1\" class=\"dataframe\">\n",
       "  <thead>\n",
       "    <tr style=\"text-align: right;\">\n",
       "      <th></th>\n",
       "      <th>Model</th>\n",
       "      <th>Accuracy</th>\n",
       "      <th>roc_auc_score</th>\n",
       "    </tr>\n",
       "  </thead>\n",
       "  <tbody>\n",
       "    <tr>\n",
       "      <th>0</th>\n",
       "      <td>Logistic Regression</td>\n",
       "      <td>94.22</td>\n",
       "      <td>0.849</td>\n",
       "    </tr>\n",
       "    <tr>\n",
       "      <th>1</th>\n",
       "      <td>Decision Tree Classifier</td>\n",
       "      <td>94.25</td>\n",
       "      <td>0.850</td>\n",
       "    </tr>\n",
       "    <tr>\n",
       "      <th>2</th>\n",
       "      <td>Random Forest Classifier</td>\n",
       "      <td>94.25</td>\n",
       "      <td>0.850</td>\n",
       "    </tr>\n",
       "    <tr>\n",
       "      <th>3</th>\n",
       "      <td>XGBoost Classifier_1</td>\n",
       "      <td>94.40</td>\n",
       "      <td>0.843</td>\n",
       "    </tr>\n",
       "    <tr>\n",
       "      <th>4</th>\n",
       "      <td>XGBoost Classifier_2</td>\n",
       "      <td>94.29</td>\n",
       "      <td>0.850</td>\n",
       "    </tr>\n",
       "  </tbody>\n",
       "</table>\n",
       "</div>"
      ],
      "text/plain": [
       "                      Model  Accuracy  roc_auc_score\n",
       "0       Logistic Regression     94.22          0.849\n",
       "1  Decision Tree Classifier     94.25          0.850\n",
       "2  Random Forest Classifier     94.25          0.850\n",
       "3      XGBoost Classifier_1     94.40          0.843\n",
       "4      XGBoost Classifier_2     94.29          0.850"
      ]
     },
     "execution_count": 173,
     "metadata": {},
     "output_type": "execute_result"
    }
   ],
   "source": [
    "test_results_df"
   ]
  },
  {
   "cell_type": "markdown",
   "metadata": {
    "id": "8nLFz6KUU95Y"
   },
   "source": [
    "Let's also add the model which predicts arrival delay purely by copying departure delay to the above dataframe to compare with our models."
   ]
  },
  {
   "cell_type": "code",
   "execution_count": 174,
   "metadata": {
    "executionInfo": {
     "elapsed": 471,
     "status": "ok",
     "timestamp": 1627624455003,
     "user": {
      "displayName": "PREMCHAND R",
      "photoUrl": "",
      "userId": "03324294809057007804"
     },
     "user_tz": -330
    },
    "id": "Xz1GpON7WKTG"
   },
   "outputs": [],
   "source": [
    "test_dep_delay = test_df['DEP_DEL15']"
   ]
  },
  {
   "cell_type": "code",
   "execution_count": 175,
   "metadata": {
    "executionInfo": {
     "elapsed": 625,
     "status": "ok",
     "timestamp": 1627624458733,
     "user": {
      "displayName": "PREMCHAND R",
      "photoUrl": "",
      "userId": "03324294809057007804"
     },
     "user_tz": -330
    },
    "id": "_djukjnWWKWz"
   },
   "outputs": [],
   "source": [
    "accuracy_copy_model = round(accuracy_score(test_targets, test_dep_delay)*100, 2)"
   ]
  },
  {
   "cell_type": "code",
   "execution_count": 176,
   "metadata": {
    "executionInfo": {
     "elapsed": 631,
     "status": "ok",
     "timestamp": 1627624461204,
     "user": {
      "displayName": "PREMCHAND R",
      "photoUrl": "",
      "userId": "03324294809057007804"
     },
     "user_tz": -330
    },
    "id": "N0n1kF-pWKd-"
   },
   "outputs": [],
   "source": [
    "roc_auc_copy_model = round(roc_auc_score(test_targets, test_dep_delay), 3)"
   ]
  },
  {
   "cell_type": "code",
   "execution_count": 177,
   "metadata": {
    "executionInfo": {
     "elapsed": 774,
     "status": "ok",
     "timestamp": 1627624464879,
     "user": {
      "displayName": "PREMCHAND R",
      "photoUrl": "",
      "userId": "03324294809057007804"
     },
     "user_tz": -330
    },
    "id": "wFopKu_-Wl8V"
   },
   "outputs": [],
   "source": [
    "test_results_df.loc[5] = ['Departure Delay Copy Model', accuracy_copy_model, roc_auc_copy_model]"
   ]
  },
  {
   "cell_type": "code",
   "execution_count": 178,
   "metadata": {
    "colab": {
     "base_uri": "https://localhost:8080/",
     "height": 237
    },
    "executionInfo": {
     "elapsed": 502,
     "status": "ok",
     "timestamp": 1627624467035,
     "user": {
      "displayName": "PREMCHAND R",
      "photoUrl": "",
      "userId": "03324294809057007804"
     },
     "user_tz": -330
    },
    "id": "E_7jERoLW9yn",
    "outputId": "3043490a-065e-4b61-cc86-2c81f72293a7"
   },
   "outputs": [
    {
     "data": {
      "text/html": [
       "<div>\n",
       "<style scoped>\n",
       "    .dataframe tbody tr th:only-of-type {\n",
       "        vertical-align: middle;\n",
       "    }\n",
       "\n",
       "    .dataframe tbody tr th {\n",
       "        vertical-align: top;\n",
       "    }\n",
       "\n",
       "    .dataframe thead th {\n",
       "        text-align: right;\n",
       "    }\n",
       "</style>\n",
       "<table border=\"1\" class=\"dataframe\">\n",
       "  <thead>\n",
       "    <tr style=\"text-align: right;\">\n",
       "      <th></th>\n",
       "      <th>Model</th>\n",
       "      <th>Accuracy</th>\n",
       "      <th>roc_auc_score</th>\n",
       "    </tr>\n",
       "  </thead>\n",
       "  <tbody>\n",
       "    <tr>\n",
       "      <th>0</th>\n",
       "      <td>Logistic Regression</td>\n",
       "      <td>94.22</td>\n",
       "      <td>0.849</td>\n",
       "    </tr>\n",
       "    <tr>\n",
       "      <th>1</th>\n",
       "      <td>Decision Tree Classifier</td>\n",
       "      <td>94.25</td>\n",
       "      <td>0.850</td>\n",
       "    </tr>\n",
       "    <tr>\n",
       "      <th>2</th>\n",
       "      <td>Random Forest Classifier</td>\n",
       "      <td>94.25</td>\n",
       "      <td>0.850</td>\n",
       "    </tr>\n",
       "    <tr>\n",
       "      <th>3</th>\n",
       "      <td>XGBoost Classifier_1</td>\n",
       "      <td>94.40</td>\n",
       "      <td>0.843</td>\n",
       "    </tr>\n",
       "    <tr>\n",
       "      <th>4</th>\n",
       "      <td>XGBoost Classifier_2</td>\n",
       "      <td>94.29</td>\n",
       "      <td>0.850</td>\n",
       "    </tr>\n",
       "    <tr>\n",
       "      <th>5</th>\n",
       "      <td>Departure Delay Copy Model</td>\n",
       "      <td>94.24</td>\n",
       "      <td>0.850</td>\n",
       "    </tr>\n",
       "  </tbody>\n",
       "</table>\n",
       "</div>"
      ],
      "text/plain": [
       "                        Model  Accuracy  roc_auc_score\n",
       "0         Logistic Regression     94.22          0.849\n",
       "1    Decision Tree Classifier     94.25          0.850\n",
       "2    Random Forest Classifier     94.25          0.850\n",
       "3        XGBoost Classifier_1     94.40          0.843\n",
       "4        XGBoost Classifier_2     94.29          0.850\n",
       "5  Departure Delay Copy Model     94.24          0.850"
      ]
     },
     "execution_count": 178,
     "metadata": {},
     "output_type": "execute_result"
    }
   ],
   "source": [
    "test_results_df"
   ]
  },
  {
   "cell_type": "markdown",
   "metadata": {
    "id": "0hLbKxpvXJf-"
   },
   "source": [
    "It turns out that the XGBoost classifier model performs the best in terms of accuracy compared to other models.And this model loses roc_auc_score by a small value compared to others. "
   ]
  },
  {
   "cell_type": "markdown",
   "metadata": {
    "id": "xalAcdQhZ8Tl"
   },
   "source": [
    "## Saving and Loading Trained Models"
   ]
  },
  {
   "cell_type": "markdown",
   "metadata": {
    "id": "8HBUmuJ1Xzef"
   },
   "source": [
    "Now we will save check performance of our best model and save the model weights and other required items for future use,"
   ]
  },
  {
   "cell_type": "code",
   "execution_count": 179,
   "metadata": {
    "executionInfo": {
     "elapsed": 600,
     "status": "ok",
     "timestamp": 1627624660169,
     "user": {
      "displayName": "PREMCHAND R",
      "photoUrl": "",
      "userId": "03324294809057007804"
     },
     "user_tz": -330
    },
    "id": "IP1K7Mj2Sqjz"
   },
   "outputs": [],
   "source": [
    "model_best = XGBClassifier(n_estimators = 50, max_depth = 7, learning_rate = 0.3, random_state=42, n_jobs = -1,\n",
    "                                use_label_encoder=False, eval_metric = 'logloss')"
   ]
  },
  {
   "cell_type": "code",
   "execution_count": 180,
   "metadata": {
    "colab": {
     "base_uri": "https://localhost:8080/"
    },
    "executionInfo": {
     "elapsed": 97896,
     "status": "ok",
     "timestamp": 1627624766548,
     "user": {
      "displayName": "PREMCHAND R",
      "photoUrl": "",
      "userId": "03324294809057007804"
     },
     "user_tz": -330
    },
    "id": "1hQ6tIP3YRk5",
    "outputId": "63702617-5f93-45ee-9d6b-a94b2a2543bc"
   },
   "outputs": [
    {
     "data": {
      "text/html": [
       "<style>#sk-container-id-2 {color: black;background-color: white;}#sk-container-id-2 pre{padding: 0;}#sk-container-id-2 div.sk-toggleable {background-color: white;}#sk-container-id-2 label.sk-toggleable__label {cursor: pointer;display: block;width: 100%;margin-bottom: 0;padding: 0.3em;box-sizing: border-box;text-align: center;}#sk-container-id-2 label.sk-toggleable__label-arrow:before {content: \"▸\";float: left;margin-right: 0.25em;color: #696969;}#sk-container-id-2 label.sk-toggleable__label-arrow:hover:before {color: black;}#sk-container-id-2 div.sk-estimator:hover label.sk-toggleable__label-arrow:before {color: black;}#sk-container-id-2 div.sk-toggleable__content {max-height: 0;max-width: 0;overflow: hidden;text-align: left;background-color: #f0f8ff;}#sk-container-id-2 div.sk-toggleable__content pre {margin: 0.2em;color: black;border-radius: 0.25em;background-color: #f0f8ff;}#sk-container-id-2 input.sk-toggleable__control:checked~div.sk-toggleable__content {max-height: 200px;max-width: 100%;overflow: auto;}#sk-container-id-2 input.sk-toggleable__control:checked~label.sk-toggleable__label-arrow:before {content: \"▾\";}#sk-container-id-2 div.sk-estimator input.sk-toggleable__control:checked~label.sk-toggleable__label {background-color: #d4ebff;}#sk-container-id-2 div.sk-label input.sk-toggleable__control:checked~label.sk-toggleable__label {background-color: #d4ebff;}#sk-container-id-2 input.sk-hidden--visually {border: 0;clip: rect(1px 1px 1px 1px);clip: rect(1px, 1px, 1px, 1px);height: 1px;margin: -1px;overflow: hidden;padding: 0;position: absolute;width: 1px;}#sk-container-id-2 div.sk-estimator {font-family: monospace;background-color: #f0f8ff;border: 1px dotted black;border-radius: 0.25em;box-sizing: border-box;margin-bottom: 0.5em;}#sk-container-id-2 div.sk-estimator:hover {background-color: #d4ebff;}#sk-container-id-2 div.sk-parallel-item::after {content: \"\";width: 100%;border-bottom: 1px solid gray;flex-grow: 1;}#sk-container-id-2 div.sk-label:hover label.sk-toggleable__label {background-color: #d4ebff;}#sk-container-id-2 div.sk-serial::before {content: \"\";position: absolute;border-left: 1px solid gray;box-sizing: border-box;top: 0;bottom: 0;left: 50%;z-index: 0;}#sk-container-id-2 div.sk-serial {display: flex;flex-direction: column;align-items: center;background-color: white;padding-right: 0.2em;padding-left: 0.2em;position: relative;}#sk-container-id-2 div.sk-item {position: relative;z-index: 1;}#sk-container-id-2 div.sk-parallel {display: flex;align-items: stretch;justify-content: center;background-color: white;position: relative;}#sk-container-id-2 div.sk-item::before, #sk-container-id-2 div.sk-parallel-item::before {content: \"\";position: absolute;border-left: 1px solid gray;box-sizing: border-box;top: 0;bottom: 0;left: 50%;z-index: -1;}#sk-container-id-2 div.sk-parallel-item {display: flex;flex-direction: column;z-index: 1;position: relative;background-color: white;}#sk-container-id-2 div.sk-parallel-item:first-child::after {align-self: flex-end;width: 50%;}#sk-container-id-2 div.sk-parallel-item:last-child::after {align-self: flex-start;width: 50%;}#sk-container-id-2 div.sk-parallel-item:only-child::after {width: 0;}#sk-container-id-2 div.sk-dashed-wrapped {border: 1px dashed gray;margin: 0 0.4em 0.5em 0.4em;box-sizing: border-box;padding-bottom: 0.4em;background-color: white;}#sk-container-id-2 div.sk-label label {font-family: monospace;font-weight: bold;display: inline-block;line-height: 1.2em;}#sk-container-id-2 div.sk-label-container {text-align: center;}#sk-container-id-2 div.sk-container {/* jupyter's `normalize.less` sets `[hidden] { display: none; }` but bootstrap.min.css set `[hidden] { display: none !important; }` so we also need the `!important` here to be able to override the default hidden behavior on the sphinx rendered scikit-learn.org. See: https://github.com/scikit-learn/scikit-learn/issues/21755 */display: inline-block !important;position: relative;}#sk-container-id-2 div.sk-text-repr-fallback {display: none;}</style><div id=\"sk-container-id-2\" class=\"sk-top-container\"><div class=\"sk-text-repr-fallback\"><pre>XGBClassifier(base_score=0.5, booster=&#x27;gbtree&#x27;, callbacks=None,\n",
       "              colsample_bylevel=1, colsample_bynode=1, colsample_bytree=1,\n",
       "              early_stopping_rounds=None, enable_categorical=False,\n",
       "              eval_metric=&#x27;logloss&#x27;, gamma=0, gpu_id=-1,\n",
       "              grow_policy=&#x27;depthwise&#x27;, importance_type=None,\n",
       "              interaction_constraints=&#x27;&#x27;, learning_rate=0.3, max_bin=256,\n",
       "              max_cat_to_onehot=4, max_delta_step=0, max_depth=7, max_leaves=0,\n",
       "              min_child_weight=1, missing=nan, monotone_constraints=&#x27;()&#x27;,\n",
       "              n_estimators=50, n_jobs=-1, num_parallel_tree=1, predictor=&#x27;auto&#x27;,\n",
       "              random_state=42, reg_alpha=0, reg_lambda=1, ...)</pre><b>In a Jupyter environment, please rerun this cell to show the HTML representation or trust the notebook. <br />On GitHub, the HTML representation is unable to render, please try loading this page with nbviewer.org.</b></div><div class=\"sk-container\" hidden><div class=\"sk-item\"><div class=\"sk-estimator sk-toggleable\"><input class=\"sk-toggleable__control sk-hidden--visually\" id=\"sk-estimator-id-2\" type=\"checkbox\" checked><label for=\"sk-estimator-id-2\" class=\"sk-toggleable__label sk-toggleable__label-arrow\">XGBClassifier</label><div class=\"sk-toggleable__content\"><pre>XGBClassifier(base_score=0.5, booster=&#x27;gbtree&#x27;, callbacks=None,\n",
       "              colsample_bylevel=1, colsample_bynode=1, colsample_bytree=1,\n",
       "              early_stopping_rounds=None, enable_categorical=False,\n",
       "              eval_metric=&#x27;logloss&#x27;, gamma=0, gpu_id=-1,\n",
       "              grow_policy=&#x27;depthwise&#x27;, importance_type=None,\n",
       "              interaction_constraints=&#x27;&#x27;, learning_rate=0.3, max_bin=256,\n",
       "              max_cat_to_onehot=4, max_delta_step=0, max_depth=7, max_leaves=0,\n",
       "              min_child_weight=1, missing=nan, monotone_constraints=&#x27;()&#x27;,\n",
       "              n_estimators=50, n_jobs=-1, num_parallel_tree=1, predictor=&#x27;auto&#x27;,\n",
       "              random_state=42, reg_alpha=0, reg_lambda=1, ...)</pre></div></div></div></div></div>"
      ],
      "text/plain": [
       "XGBClassifier(base_score=0.5, booster='gbtree', callbacks=None,\n",
       "              colsample_bylevel=1, colsample_bynode=1, colsample_bytree=1,\n",
       "              early_stopping_rounds=None, enable_categorical=False,\n",
       "              eval_metric='logloss', gamma=0, gpu_id=-1,\n",
       "              grow_policy='depthwise', importance_type=None,\n",
       "              interaction_constraints='', learning_rate=0.3, max_bin=256,\n",
       "              max_cat_to_onehot=4, max_delta_step=0, max_depth=7, max_leaves=0,\n",
       "              min_child_weight=1, missing=nan, monotone_constraints='()',\n",
       "              n_estimators=50, n_jobs=-1, num_parallel_tree=1, predictor='auto',\n",
       "              random_state=42, reg_alpha=0, reg_lambda=1, ...)"
      ]
     },
     "execution_count": 180,
     "metadata": {},
     "output_type": "execute_result"
    }
   ],
   "source": [
    "model_best.fit(X_train, train_targets)"
   ]
  },
  {
   "cell_type": "code",
   "execution_count": 181,
   "metadata": {
    "colab": {
     "base_uri": "https://localhost:8080/",
     "height": 473
    },
    "executionInfo": {
     "elapsed": 3394,
     "status": "ok",
     "timestamp": 1627624776077,
     "user": {
      "displayName": "PREMCHAND R",
      "photoUrl": "",
      "userId": "03324294809057007804"
     },
     "user_tz": -330
    },
    "id": "bWR-NPejYZUU",
    "outputId": "fe88ec4f-809c-4ebd-b492-b828cdb5aee4"
   },
   "outputs": [
    {
     "name": "stdout",
     "output_type": "stream",
     "text": [
      "Train set Accuracy: 92.20%\n",
      "Validation set Accuracy: 92.96%\n",
      "Test set Accuracy: 94.40%\n",
      "roc auc score on Test data: 0.84\n"
     ]
    },
    {
     "data": {
      "image/png": "[encoded data removed]",
      "text/plain": [
       "<Figure size 720x432 with 2 Axes>"
      ]
     },
     "metadata": {
      "needs_background": "light"
     },
     "output_type": "display_data"
    }
   ],
   "source": [
    "train_preds = model_best.predict(X_train)\n",
    "val_preds = model_best.predict(X_val)\n",
    "test_preds = model_best.predict(X_test)\n",
    "train_accuracy = accuracy_score(train_targets, train_preds)\n",
    "val_accuracy = accuracy_score(val_targets, val_preds)\n",
    "test_accuracy = accuracy_score(test_targets, test_preds)\n",
    "print('Train set Accuracy: {:.2f}%'.format(train_accuracy*100))\n",
    "print('Validation set Accuracy: {:.2f}%'.format(val_accuracy* 100))\n",
    "print('Test set Accuracy: {:.2f}%'.format(test_accuracy* 100))\n",
    "print('roc auc score on Test data: {:.2f}'.format(roc_auc_score(test_targets, test_preds)))  \n",
    "conf_matrix =  confusion_matrix(test_targets, test_preds, normalize = 'true')\n",
    "plt.figure()\n",
    "plt.title('Test Confusion Matrix')\n",
    "sns.heatmap(conf_matrix, annot = True);"
   ]
  },
  {
   "cell_type": "markdown",
   "metadata": {
    "id": "CmVAr9vRZ9IU"
   },
   "source": [
    "We can use the joblib module to save and load Python objects on the disk."
   ]
  },
  {
   "cell_type": "code",
   "execution_count": 182,
   "metadata": {
    "executionInfo": {
     "elapsed": 560,
     "status": "ok",
     "timestamp": 1627624794233,
     "user": {
      "displayName": "PREMCHAND R",
      "photoUrl": "",
      "userId": "03324294809057007804"
     },
     "user_tz": -330
    },
    "id": "WtS3pRDoaFsN"
   },
   "outputs": [],
   "source": [
    "import joblib"
   ]
  },
  {
   "cell_type": "code",
   "execution_count": 183,
   "metadata": {
    "executionInfo": {
     "elapsed": 9,
     "status": "ok",
     "timestamp": 1627624796242,
     "user": {
      "displayName": "PREMCHAND R",
      "photoUrl": "",
      "userId": "03324294809057007804"
     },
     "user_tz": -330
    },
    "id": "4Xcg0FhaZ_8Y"
   },
   "outputs": [],
   "source": [
    "flight_arrival_delay_prediction = {\n",
    "    'model': model_best,\n",
    "    'origin_cat': origin_cat_dict,\n",
    "    'dest_cat': dest_cat_dict,\n",
    "    'scaler': scaler,\n",
    "    'encoder': encoder,\n",
    "    'input_cols': input_cols,\n",
    "    'target_col': target_col,\n",
    "    'numeric_cols': numeric_cols,\n",
    "    'categorical_cols': categorical_cols,\n",
    "    'encoded_cols': encoded_cols\n",
    "}\n"
   ]
  },
  {
   "cell_type": "code",
   "execution_count": 184,
   "metadata": {
    "colab": {
     "base_uri": "https://localhost:8080/"
    },
    "executionInfo": {
     "elapsed": 724,
     "status": "ok",
     "timestamp": 1627624802797,
     "user": {
      "displayName": "PREMCHAND R",
      "photoUrl": "",
      "userId": "03324294809057007804"
     },
     "user_tz": -330
    },
    "id": "HEjM-GLAa1dz",
    "outputId": "29342371-1481-4668-fea5-65bab02b4581"
   },
   "outputs": [
    {
     "data": {
      "text/plain": [
       "['flight_arrival_delay_prediction.joblib']"
      ]
     },
     "execution_count": 184,
     "metadata": {},
     "output_type": "execute_result"
    }
   ],
   "source": [
    "joblib.dump(flight_arrival_delay_prediction, 'flight_arrival_delay_prediction.joblib')"
   ]
  },
  {
   "cell_type": "markdown",
   "metadata": {
    "id": "SQpLk8u6bKri"
   },
   "source": [
    "Now let's load this model and check on new_input"
   ]
  },
  {
   "cell_type": "code",
   "execution_count": 185,
   "metadata": {
    "executionInfo": {
     "elapsed": 666,
     "status": "ok",
     "timestamp": 1627624823489,
     "user": {
      "displayName": "PREMCHAND R",
      "photoUrl": "",
      "userId": "03324294809057007804"
     },
     "user_tz": -330
    },
    "id": "NTpM9sEVbQU4"
   },
   "outputs": [],
   "source": [
    "flight_delay_2 = joblib.load('flight_arrival_delay_prediction.joblib')"
   ]
  },
  {
   "cell_type": "code",
   "execution_count": 186,
   "metadata": {
    "colab": {
     "base_uri": "https://localhost:8080/"
    },
    "executionInfo": {
     "elapsed": 419,
     "status": "ok",
     "timestamp": 1627624832800,
     "user": {
      "displayName": "PREMCHAND R",
      "photoUrl": "",
      "userId": "03324294809057007804"
     },
     "user_tz": -330
    },
    "id": "eybJek1lbfCi",
    "outputId": "7bb59429-ee1b-450f-ef34-7d9da956197d"
   },
   "outputs": [
    {
     "data": {
      "text/plain": [
       "(0, 0.9535309)"
      ]
     },
     "execution_count": 186,
     "metadata": {},
     "output_type": "execute_result"
    }
   ],
   "source": [
    "predict_input(flight_delay_2['model'], new_input)"
   ]
  },
  {
   "cell_type": "markdown",
   "metadata": {
    "id": "6cvkRaWXcQCP"
   },
   "source": [
    "So our loaded best model is predicting no delay on arrival airport for single input with 0.95 probability."
   ]
  },
  {
   "cell_type": "markdown",
   "metadata": {
    "id": "uIv5RPE3clcn"
   },
   "source": [
    "## Summary, References and Future Work"
   ]
  },
  {
   "cell_type": "markdown",
   "metadata": {
    "id": "4dWpp6akemZT"
   },
   "source": [
    "### Summary"
   ]
  },
  {
   "cell_type": "markdown",
   "metadata": {
    "id": "h0Pr7jFjcyrO"
   },
   "source": [
    "As part of this project the following tasks are performed:\n",
    "\n",
    "- Downloaded a real-world dataset from a Kaggle competition and  identified a problem to work on with the dataset, stated the modeling objective with clarity.\n",
    "- Performed exploratory data analysis to gather insights, perform feature engineering, created a training, validation & test split, and prepared the data for modeling.\n",
    "- Trained and evaluated different machine learning models such as Logistic Regression, Decision Tree, Random Forest and XGBoost, tuned hyperparameters to improve models.\n",
    "- The final performance of best models are evaluated with an unseen test data and also compared models with dump models created from good understanding of data.\n",
    "- Implemented function for sample predictions, and saved model weights and loaded back and tested."
   ]
  },
  {
   "cell_type": "markdown",
   "metadata": {
    "id": "kffpVoRDepPA"
   },
   "source": [
    "### References"
   ]
  },
  {
   "cell_type": "markdown",
   "metadata": {
    "id": "pKiXfg9Yes45"
   },
   "source": [
    "1. The dataset used for project is obtaned from Kaggle and can be found at https://www.kaggle.com/divyansh22/flight-delay-prediction"
   ]
  }
 ],
 "metadata": {
  "colab": {
   "collapsed_sections": [],
   "name": "flight-delay-prediction.ipynb",
   "provenance": []
  },
  "kernelspec": {
   "display_name": "Python 3",
   "language": "python",
   "name": "python3"
  },
  "language_info": {
   "codemirror_mode": {
    "name": "ipython",
    "version": 3
   },
   "file_extension": ".py",
   "mimetype": "text/x-python",
   "name": "python",
   "nbconvert_exporter": "python",
   "pygments_lexer": "ipython3",
   "version": "3.8.8"
  }
 },
 "nbformat": 4,
 "nbformat_minor": 1
}
